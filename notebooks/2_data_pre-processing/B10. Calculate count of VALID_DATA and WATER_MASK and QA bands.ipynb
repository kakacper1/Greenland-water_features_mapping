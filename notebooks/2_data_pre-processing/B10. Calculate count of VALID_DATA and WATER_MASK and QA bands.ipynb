{
 "cells": [
  {
   "cell_type": "markdown",
   "metadata": {},
   "source": [
    "## B10. Calculate count of VALID_DATA and WATER_MASK and QA bands\n",
    "\n",
    "#### 0. Load required libraries, site dependant constants and utility functions."
   ]
  },
  {
   "cell_type": "code",
   "execution_count": 2,
   "metadata": {},
   "outputs": [],
   "source": [
    "from os import listdir\n",
    "from os.path import isfile, join\n",
    "import numpy as np\n",
    "import seaborn as sns\n",
    "\n",
    "# EOLearn libraries:\n",
    "from eolearn.core import EOTask, EOPatch, LinearWorkflow, LoadTask, SaveTask, FeatureType, EOExecutor\n",
    "from eolearn.core import OverwritePermission\n",
    "\n",
    "# Add to python path parent dictionary (to have acces to the data and util catalogue)\n",
    "import sys\n",
    "sys.path.append(\"../../\")\n",
    "\n",
    "# load site dependant constants (HERE YOU CAN CHOOSE DIFFERENT LOCATION)\n",
    "from aoi_sites import upe_promice_area as site\n",
    "\n",
    "# load utility functions\n",
    "from utils import io_functions as io_utils\n",
    "from utils import plot_functions as plot_utils\n",
    "\n",
    "from scipy import ndimage"
   ]
  },
  {
   "cell_type": "markdown",
   "metadata": {},
   "source": [
    "#### 1. Create  necessary EOTasks"
   ]
  },
  {
   "cell_type": "code",
   "execution_count": 26,
   "metadata": {},
   "outputs": [],
   "source": [
    "# define counting mask calculation task:\n",
    "\n",
    "class CountTruePixelsFromMask(EOTask):   \n",
    "    \"\"\"\n",
    "    The task counts number of valid observations in time-series and stores the results in the timeless mask.\n",
    "    \"\"\"\n",
    "    def __init__(self, count_what, feature_name):\n",
    "        self.what = count_what\n",
    "        self.name = feature_name\n",
    "        \n",
    "    def execute(self, eopatch):\n",
    "        eopatch.add_feature(FeatureType.MASK_TIMELESS, self.name, np.count_nonzero(eopatch.mask[self.what],axis=0))\n",
    "        \n",
    "        return eopatch\n",
    "    \n",
    "class CountTruePixelsFromLandsat8QABands(EOTask):   \n",
    "    \"\"\"\n",
    "    The task counts number of valid observations in time-series and stores the results in the timeless mask.\n",
    "    \"\"\"\n",
    "    def __init__(self, input_data_name , band_idx , output_data_name):\n",
    "        self.input_data_name = input_data_name\n",
    "        self.band_idx = band_idx\n",
    "        self.output_data_name = output_data_name\n",
    "        \n",
    "    def execute(self, eopatch):\n",
    "        data_to_check = eopatch.data[self.input_data_name][..., self.band_idx]\n",
    "        eopatch.add_feature(FeatureType.MASK_TIMELESS, self.output_data_name, np.count_nonzero(data_to_check,axis=0)[..., np.newaxis])\n",
    "        \n",
    "        return eopatch"
   ]
  },
  {
   "cell_type": "markdown",
   "metadata": {},
   "source": [
    "#### 2. Create and execute EOWorkflow"
   ]
  },
  {
   "cell_type": "code",
   "execution_count": null,
   "metadata": {},
   "outputs": [
    {
     "name": "stdout",
     "output_type": "stream",
     "text": [
      "Reading EOPatches from: ('2013-05-01', '2013-10-31')\n"
     ]
    },
    {
     "data": {
      "application/vnd.jupyter.widget-view+json": {
       "model_id": "c62fb386318e4efcac37620cf0a78dc6",
       "version_major": 2,
       "version_minor": 0
      },
      "text/plain": [
       "HBox(children=(IntProgress(value=0, max=55), HTML(value='')))"
      ]
     },
     "metadata": {},
     "output_type": "display_data"
    },
    {
     "name": "stdout",
     "output_type": "stream",
     "text": [
      "\n",
      "Reading EOPatches from: ('2014-05-01', '2014-10-31')\n"
     ]
    },
    {
     "data": {
      "application/vnd.jupyter.widget-view+json": {
       "model_id": "fb639d6365504afcbc1bc3831595ff69",
       "version_major": 2,
       "version_minor": 0
      },
      "text/plain": [
       "HBox(children=(IntProgress(value=0, max=55), HTML(value='')))"
      ]
     },
     "metadata": {},
     "output_type": "display_data"
    },
    {
     "name": "stdout",
     "output_type": "stream",
     "text": [
      "\n",
      "Reading EOPatches from: ('2015-05-01', '2015-10-31')\n"
     ]
    },
    {
     "data": {
      "application/vnd.jupyter.widget-view+json": {
       "model_id": "ca5a0ab7e590476194eb1891ccf63d76",
       "version_major": 2,
       "version_minor": 0
      },
      "text/plain": [
       "HBox(children=(IntProgress(value=0, max=55), HTML(value='')))"
      ]
     },
     "metadata": {},
     "output_type": "display_data"
    },
    {
     "name": "stdout",
     "output_type": "stream",
     "text": [
      "\n",
      "Reading EOPatches from: ('2016-05-01', '2016-10-31')\n"
     ]
    },
    {
     "data": {
      "application/vnd.jupyter.widget-view+json": {
       "model_id": "6a8d690089db44d4bff5ed0e9fef5dbf",
       "version_major": 2,
       "version_minor": 0
      },
      "text/plain": [
       "HBox(children=(IntProgress(value=0, max=55), HTML(value='')))"
      ]
     },
     "metadata": {},
     "output_type": "display_data"
    },
    {
     "name": "stdout",
     "output_type": "stream",
     "text": [
      "\n",
      "Reading EOPatches from: ('2017-05-01', '2017-10-31')\n"
     ]
    },
    {
     "data": {
      "application/vnd.jupyter.widget-view+json": {
       "model_id": "6431aae8d8f649ca819058cec0dca608",
       "version_major": 2,
       "version_minor": 0
      },
      "text/plain": [
       "HBox(children=(IntProgress(value=0, max=55), HTML(value='')))"
      ]
     },
     "metadata": {},
     "output_type": "display_data"
    },
    {
     "name": "stdout",
     "output_type": "stream",
     "text": [
      "\n",
      "Reading EOPatches from: ('2018-05-01', '2018-10-31')\n"
     ]
    },
    {
     "data": {
      "application/vnd.jupyter.widget-view+json": {
       "model_id": "e5802da70fd14dc0b3a242d8f359b7c0",
       "version_major": 2,
       "version_minor": 0
      },
      "text/plain": [
       "HBox(children=(IntProgress(value=0, max=55), HTML(value='')))"
      ]
     },
     "metadata": {},
     "output_type": "display_data"
    }
   ],
   "source": [
    "landsat_count_valid_eotask = CountTruePixelsFromMask('IS_DATA', 'IS_DATA_COUNT') # name of output scalar\n",
    "modis_count_valid_eotask = CountTruePixelsFromMask('MODIS_IS_DATA_DAY_0', 'MODIS_IS_DATA_DAY_0_COUNT') # name of output scalar\n",
    "count_water_eotask = CountTruePixelsFromMask('WATER_MASK_ST_025', 'WATER_MASK_ST_025_COUNT') # name of output scalar\n",
    "count_cloud_eotask = CountTruePixelsFromMask('CLOUD_MASK_SWIR-1_150_dil_6_str2', 'CLOUD_MASK_SWIR-1_150_dil_6_str2_COUNT') # name of output scalar\n",
    "\n",
    "count_qa_band_clouds = CountTruePixelsFromLandsat8QABands( input_data_name='LANDSAT_QA_LAYERS' , band_idx=0, output_data_name='LANDSAT_QA_CLOUD_COUNT')\n",
    "count_qa_band_clouds_and_around = CountTruePixelsFromLandsat8QABands( input_data_name='LANDSAT_QA_LAYERS' , band_idx=1, output_data_name='LANDSAT_QA_CLOUD_AND_AROUND_COUNT')\n",
    "count_qa_band_clouds_shadow = CountTruePixelsFromLandsat8QABands( input_data_name='LANDSAT_QA_LAYERS' , band_idx=2, output_data_name='LANDSAT_QA_CLOUDS_SHADOW_COUNT')\n",
    "count_qa_band_cirrus = CountTruePixelsFromLandsat8QABands( input_data_name='LANDSAT_QA_LAYERS' , band_idx=3, output_data_name='LANDSAT_QA_CIRRUS_COUNT')\n",
    "count_qa_band_snow_ice = CountTruePixelsFromLandsat8QABands( input_data_name='LANDSAT_QA_LAYERS' , band_idx=4, output_data_name='LANDSAT_QA_SNOW_ICE_COUNT')\n",
    "\n",
    "# application of all eotasks for all eopatches in the a eoworkflow\n",
    "for date_range_landsat in site.DATE_RANGES_LANDSAT_8 :\n",
    "    print('Reading EOPatches from:', date_range_landsat)\n",
    "    eopatches_filepath = io_utils.get_eopatches_dir(site.DATA_PRODUCTS[1], site.SITE_NAME, site.AVAILABLE_CRSs[0], date_range_landsat)\n",
    "    # TASK TO LOAD AND SAVE EXISTING EOPATCHES HAS TO BE CREATED YEARLY (different directories)\n",
    "    load_eotask = LoadTask(eopatches_filepath)\n",
    "    save_eotask = SaveTask(eopatches_filepath, overwrite_permission=OverwritePermission.OVERWRITE_PATCH, compress_level=1)\n",
    "    \n",
    "    # Define the workflow\n",
    "    workflow = LinearWorkflow(\n",
    "    load_eotask,\n",
    "    landsat_count_valid_eotask,\n",
    "    modis_count_valid_eotask,\n",
    "    count_water_eotask,\n",
    "    count_cloud_eotask,\n",
    "    count_qa_band_clouds,\n",
    "    count_qa_band_clouds_and_around,\n",
    "    count_qa_band_clouds_shadow,\n",
    "    count_qa_band_cirrus,\n",
    "    count_qa_band_snow_ice,\n",
    "    save_eotask\n",
    "    )\n",
    "                      \n",
    "    list_of_available_patches = io_utils.get_list_of_eopatches(eopatches_filepath)\n",
    "    execution_args = []\n",
    "    for eopatch_name in list_of_available_patches:\n",
    "        execution_args.append({\n",
    "        load_eotask: {'eopatch_folder': eopatch_name},\n",
    "        save_eotask: {'eopatch_folder': eopatch_name}\n",
    "        })\n",
    "    \n",
    "    #print(execution_args)                            \n",
    "    executor = EOExecutor(workflow, execution_args, save_logs=True)\n",
    "    executor.run(workers=1, multiprocess=False)\n",
    "\n",
    "    executor.make_report()\n"
   ]
  },
  {
   "cell_type": "code",
   "execution_count": 19,
   "metadata": {},
   "outputs": [
    {
     "data": {
      "image/svg+xml": [
       "<?xml version=\"1.0\" encoding=\"UTF-8\" standalone=\"no\"?>\r\n",
       "<!DOCTYPE svg PUBLIC \"-//W3C//DTD SVG 1.1//EN\"\r\n",
       " \"http://www.w3.org/Graphics/SVG/1.1/DTD/svg11.dtd\">\r\n",
       "<!-- Generated by graphviz version 2.38.0 (20140413.2041)\r\n",
       " -->\r\n",
       "<!-- Title: %3 Pages: 1 -->\r\n",
       "<svg width=\"2869pt\" height=\"44pt\"\r\n",
       " viewBox=\"0.00 0.00 2869.37 44.00\" xmlns=\"http://www.w3.org/2000/svg\" xmlns:xlink=\"http://www.w3.org/1999/xlink\">\r\n",
       "<g id=\"graph0\" class=\"graph\" transform=\"scale(1 1) rotate(0) translate(4 40)\">\r\n",
       "<title>%3</title>\r\n",
       "<polygon fill=\"white\" stroke=\"none\" points=\"-4,4 -4,-40 2865.37,-40 2865.37,4 -4,4\"/>\r\n",
       "<!-- LoadTask -->\r\n",
       "<g id=\"node1\" class=\"node\"><title>LoadTask</title>\r\n",
       "<ellipse fill=\"none\" stroke=\"black\" cx=\"48.0957\" cy=\"-18\" rx=\"48.1917\" ry=\"18\"/>\r\n",
       "<text text-anchor=\"middle\" x=\"48.0957\" y=\"-14.3\" font-family=\"Times New Roman,serif\" font-size=\"14.00\">LoadTask</text>\r\n",
       "</g>\r\n",
       "<!-- CountTruePixelsFromMask0 -->\r\n",
       "<g id=\"node2\" class=\"node\"><title>CountTruePixelsFromMask0</title>\r\n",
       "<ellipse fill=\"none\" stroke=\"black\" cx=\"248.531\" cy=\"-18\" rx=\"116.18\" ry=\"18\"/>\r\n",
       "<text text-anchor=\"middle\" x=\"248.531\" y=\"-14.3\" font-family=\"Times New Roman,serif\" font-size=\"14.00\">CountTruePixelsFromMask0</text>\r\n",
       "</g>\r\n",
       "<!-- LoadTask&#45;&gt;CountTruePixelsFromMask0 -->\r\n",
       "<g id=\"edge1\" class=\"edge\"><title>LoadTask&#45;&gt;CountTruePixelsFromMask0</title>\r\n",
       "<path fill=\"none\" stroke=\"black\" d=\"M96.3738,-18C104.37,-18 112.992,-18 121.922,-18\"/>\r\n",
       "<polygon fill=\"black\" stroke=\"black\" points=\"122.118,-21.5001 132.118,-18 122.118,-14.5001 122.118,-21.5001\"/>\r\n",
       "</g>\r\n",
       "<!-- CountTruePixelsFromMask1 -->\r\n",
       "<g id=\"node3\" class=\"node\"><title>CountTruePixelsFromMask1</title>\r\n",
       "<ellipse fill=\"none\" stroke=\"black\" cx=\"517.21\" cy=\"-18\" rx=\"116.18\" ry=\"18\"/>\r\n",
       "<text text-anchor=\"middle\" x=\"517.21\" y=\"-14.3\" font-family=\"Times New Roman,serif\" font-size=\"14.00\">CountTruePixelsFromMask1</text>\r\n",
       "</g>\r\n",
       "<!-- CountTruePixelsFromMask0&#45;&gt;CountTruePixelsFromMask1 -->\r\n",
       "<g id=\"edge2\" class=\"edge\"><title>CountTruePixelsFromMask0&#45;&gt;CountTruePixelsFromMask1</title>\r\n",
       "<path fill=\"none\" stroke=\"black\" d=\"M364.95,-18C373.448,-18 382.046,-18 390.601,-18\"/>\r\n",
       "<polygon fill=\"black\" stroke=\"black\" points=\"390.617,-21.5001 400.616,-18 390.616,-14.5001 390.617,-21.5001\"/>\r\n",
       "</g>\r\n",
       "<!-- CountTruePixelsFromMask2 -->\r\n",
       "<g id=\"node4\" class=\"node\"><title>CountTruePixelsFromMask2</title>\r\n",
       "<ellipse fill=\"none\" stroke=\"black\" cx=\"785.89\" cy=\"-18\" rx=\"116.18\" ry=\"18\"/>\r\n",
       "<text text-anchor=\"middle\" x=\"785.89\" y=\"-14.3\" font-family=\"Times New Roman,serif\" font-size=\"14.00\">CountTruePixelsFromMask2</text>\r\n",
       "</g>\r\n",
       "<!-- CountTruePixelsFromMask1&#45;&gt;CountTruePixelsFromMask2 -->\r\n",
       "<g id=\"edge3\" class=\"edge\"><title>CountTruePixelsFromMask1&#45;&gt;CountTruePixelsFromMask2</title>\r\n",
       "<path fill=\"none\" stroke=\"black\" d=\"M633.629,-18C642.128,-18 650.726,-18 659.281,-18\"/>\r\n",
       "<polygon fill=\"black\" stroke=\"black\" points=\"659.296,-21.5001 669.296,-18 659.296,-14.5001 659.296,-21.5001\"/>\r\n",
       "</g>\r\n",
       "<!-- CountTruePixelsFromLandsat8QABands0 -->\r\n",
       "<g id=\"node5\" class=\"node\"><title>CountTruePixelsFromLandsat8QABands0</title>\r\n",
       "<ellipse fill=\"none\" stroke=\"black\" cx=\"1103.31\" cy=\"-18\" rx=\"165.171\" ry=\"18\"/>\r\n",
       "<text text-anchor=\"middle\" x=\"1103.31\" y=\"-14.3\" font-family=\"Times New Roman,serif\" font-size=\"14.00\">CountTruePixelsFromLandsat8QABands0</text>\r\n",
       "</g>\r\n",
       "<!-- CountTruePixelsFromMask2&#45;&gt;CountTruePixelsFromLandsat8QABands0 -->\r\n",
       "<g id=\"edge4\" class=\"edge\"><title>CountTruePixelsFromMask2&#45;&gt;CountTruePixelsFromLandsat8QABands0</title>\r\n",
       "<path fill=\"none\" stroke=\"black\" d=\"M902.551,-18C910.892,-18 919.402,-18 927.978,-18\"/>\r\n",
       "<polygon fill=\"black\" stroke=\"black\" points=\"928.07,-21.5001 938.07,-18 928.07,-14.5001 928.07,-21.5001\"/>\r\n",
       "</g>\r\n",
       "<!-- CountTruePixelsFromLandsat8QABands1 -->\r\n",
       "<g id=\"node6\" class=\"node\"><title>CountTruePixelsFromLandsat8QABands1</title>\r\n",
       "<ellipse fill=\"none\" stroke=\"black\" cx=\"1469.49\" cy=\"-18\" rx=\"165.171\" ry=\"18\"/>\r\n",
       "<text text-anchor=\"middle\" x=\"1469.49\" y=\"-14.3\" font-family=\"Times New Roman,serif\" font-size=\"14.00\">CountTruePixelsFromLandsat8QABands1</text>\r\n",
       "</g>\r\n",
       "<!-- CountTruePixelsFromLandsat8QABands0&#45;&gt;CountTruePixelsFromLandsat8QABands1 -->\r\n",
       "<g id=\"edge5\" class=\"edge\"><title>CountTruePixelsFromLandsat8QABands0&#45;&gt;CountTruePixelsFromLandsat8QABands1</title>\r\n",
       "<path fill=\"none\" stroke=\"black\" d=\"M1268.56,-18C1277.1,-18 1285.69,-18 1294.26,-18\"/>\r\n",
       "<polygon fill=\"black\" stroke=\"black\" points=\"1294.31,-21.5001 1304.31,-18 1294.31,-14.5001 1294.31,-21.5001\"/>\r\n",
       "</g>\r\n",
       "<!-- CountTruePixelsFromLandsat8QABands2 -->\r\n",
       "<g id=\"node7\" class=\"node\"><title>CountTruePixelsFromLandsat8QABands2</title>\r\n",
       "<ellipse fill=\"none\" stroke=\"black\" cx=\"1835.66\" cy=\"-18\" rx=\"165.171\" ry=\"18\"/>\r\n",
       "<text text-anchor=\"middle\" x=\"1835.66\" y=\"-14.3\" font-family=\"Times New Roman,serif\" font-size=\"14.00\">CountTruePixelsFromLandsat8QABands2</text>\r\n",
       "</g>\r\n",
       "<!-- CountTruePixelsFromLandsat8QABands1&#45;&gt;CountTruePixelsFromLandsat8QABands2 -->\r\n",
       "<g id=\"edge6\" class=\"edge\"><title>CountTruePixelsFromLandsat8QABands1&#45;&gt;CountTruePixelsFromLandsat8QABands2</title>\r\n",
       "<path fill=\"none\" stroke=\"black\" d=\"M1634.73,-18C1643.27,-18 1651.86,-18 1660.43,-18\"/>\r\n",
       "<polygon fill=\"black\" stroke=\"black\" points=\"1660.48,-21.5001 1670.48,-18 1660.48,-14.5001 1660.48,-21.5001\"/>\r\n",
       "</g>\r\n",
       "<!-- CountTruePixelsFromLandsat8QABands3 -->\r\n",
       "<g id=\"node8\" class=\"node\"><title>CountTruePixelsFromLandsat8QABands3</title>\r\n",
       "<ellipse fill=\"none\" stroke=\"black\" cx=\"2201.83\" cy=\"-18\" rx=\"165.171\" ry=\"18\"/>\r\n",
       "<text text-anchor=\"middle\" x=\"2201.83\" y=\"-14.3\" font-family=\"Times New Roman,serif\" font-size=\"14.00\">CountTruePixelsFromLandsat8QABands3</text>\r\n",
       "</g>\r\n",
       "<!-- CountTruePixelsFromLandsat8QABands2&#45;&gt;CountTruePixelsFromLandsat8QABands3 -->\r\n",
       "<g id=\"edge7\" class=\"edge\"><title>CountTruePixelsFromLandsat8QABands2&#45;&gt;CountTruePixelsFromLandsat8QABands3</title>\r\n",
       "<path fill=\"none\" stroke=\"black\" d=\"M2000.9,-18C2009.44,-18 2018.03,-18 2026.6,-18\"/>\r\n",
       "<polygon fill=\"black\" stroke=\"black\" points=\"2026.65,-21.5001 2036.65,-18 2026.65,-14.5001 2026.65,-21.5001\"/>\r\n",
       "</g>\r\n",
       "<!-- CountTruePixelsFromLandsat8QABands4 -->\r\n",
       "<g id=\"node9\" class=\"node\"><title>CountTruePixelsFromLandsat8QABands4</title>\r\n",
       "<ellipse fill=\"none\" stroke=\"black\" cx=\"2568\" cy=\"-18\" rx=\"165.171\" ry=\"18\"/>\r\n",
       "<text text-anchor=\"middle\" x=\"2568\" y=\"-14.3\" font-family=\"Times New Roman,serif\" font-size=\"14.00\">CountTruePixelsFromLandsat8QABands4</text>\r\n",
       "</g>\r\n",
       "<!-- CountTruePixelsFromLandsat8QABands3&#45;&gt;CountTruePixelsFromLandsat8QABands4 -->\r\n",
       "<g id=\"edge8\" class=\"edge\"><title>CountTruePixelsFromLandsat8QABands3&#45;&gt;CountTruePixelsFromLandsat8QABands4</title>\r\n",
       "<path fill=\"none\" stroke=\"black\" d=\"M2367.07,-18C2375.61,-18 2384.2,-18 2392.78,-18\"/>\r\n",
       "<polygon fill=\"black\" stroke=\"black\" points=\"2392.82,-21.5001 2402.82,-18 2392.82,-14.5001 2392.82,-21.5001\"/>\r\n",
       "</g>\r\n",
       "<!-- SaveTask -->\r\n",
       "<g id=\"node10\" class=\"node\"><title>SaveTask</title>\r\n",
       "<ellipse fill=\"none\" stroke=\"black\" cx=\"2815.23\" cy=\"-18\" rx=\"46.2923\" ry=\"18\"/>\r\n",
       "<text text-anchor=\"middle\" x=\"2815.23\" y=\"-14.3\" font-family=\"Times New Roman,serif\" font-size=\"14.00\">SaveTask</text>\r\n",
       "</g>\r\n",
       "<!-- CountTruePixelsFromLandsat8QABands4&#45;&gt;SaveTask -->\r\n",
       "<g id=\"edge9\" class=\"edge\"><title>CountTruePixelsFromLandsat8QABands4&#45;&gt;SaveTask</title>\r\n",
       "<path fill=\"none\" stroke=\"black\" d=\"M2733.25,-18C2742.11,-18 2750.64,-18 2758.62,-18\"/>\r\n",
       "<polygon fill=\"black\" stroke=\"black\" points=\"2758.78,-21.5001 2768.78,-18 2758.78,-14.5001 2758.78,-21.5001\"/>\r\n",
       "</g>\r\n",
       "</g>\r\n",
       "</svg>\r\n"
      ],
      "text/plain": [
       "<graphviz.dot.Digraph at 0x20685774978>"
      ]
     },
     "execution_count": 19,
     "metadata": {},
     "output_type": "execute_result"
    }
   ],
   "source": [
    "# Let's visualize it\n",
    "workflow.dependency_graph()"
   ]
  },
  {
   "cell_type": "markdown",
   "metadata": {},
   "source": [
    "#### 3. Visualize data\n",
    "Plot the map of valid pixel counts"
   ]
  },
  {
   "cell_type": "code",
   "execution_count": 24,
   "metadata": {},
   "outputs": [
    {
     "data": {
      "text/plain": [
       "EOPatch(\n",
       "  data: {\n",
       "    LANDSAT_EUC_NORM_RAW_BANDS: numpy.ndarray(shape=(7, 333, 333, 1), dtype=float32)\n",
       "    LANDSAT_NDWI: numpy.ndarray(shape=(7, 333, 333, 1), dtype=float32)\n",
       "    LANDSAT_NDWI_GREEN_NIR: numpy.ndarray(shape=(7, 333, 333, 1), dtype=float32)\n",
       "    LANDSAT_NDWI_ICE: numpy.ndarray(shape=(7, 333, 333, 1), dtype=float32)\n",
       "    LANDSAT_NDWI_NIR_SWIR_1: numpy.ndarray(shape=(7, 333, 333, 1), dtype=float32)\n",
       "    LANDSAT_NDWI_NIR_SWIR_2: numpy.ndarray(shape=(7, 333, 333, 1), dtype=float32)\n",
       "    LANDSAT_QA_LAYERS: numpy.ndarray(shape=(7, 333, 333, 5), dtype=float32)\n",
       "    LANDSAT_RAW_BANDS: numpy.ndarray(shape=(7, 333, 333, 11), dtype=float32)\n",
       "    MODIS_EUC_NORM_RAW_BANDS: numpy.ndarray(shape=(7, 333, 333, 1), dtype=float32)\n",
       "    MODIS_NDWI: numpy.ndarray(shape=(7, 333, 333, 1), dtype=float32)\n",
       "    MODIS_NRB: numpy.ndarray(shape=(7, 333, 333, 1), dtype=float32)\n",
       "    MODIS_RAW_BANDS_DAY_0: numpy.ndarray(shape=(7, 333, 333, 7), dtype=float32)\n",
       "    MODIS_RAW_BANDS_DAY_AFTER: numpy.ndarray(shape=(7, 333, 333, 7), dtype=float32)\n",
       "    MODIS_RAW_BANDS_DAY_BEFORE: numpy.ndarray(shape=(7, 333, 333, 7), dtype=float32)\n",
       "  }\n",
       "  mask: {\n",
       "    CLOUD_MASK_SWIR-1_090: numpy.ndarray(shape=(7, 333, 333, 1), dtype=bool)\n",
       "    CLOUD_MASK_SWIR-1_100: numpy.ndarray(shape=(7, 333, 333, 1), dtype=bool)\n",
       "    CLOUD_MASK_SWIR-1_100_dil_6_str1: numpy.ndarray(shape=(7, 333, 333, 1), dtype=bool)\n",
       "    CLOUD_MASK_SWIR-1_100_dil_6_str2: numpy.ndarray(shape=(7, 333, 333, 1), dtype=bool)\n",
       "    CLOUD_MASK_SWIR-1_150: numpy.ndarray(shape=(7, 333, 333, 1), dtype=bool)\n",
       "    CLOUD_MASK_SWIR-1_150_dil_6_str1: numpy.ndarray(shape=(7, 333, 333, 1), dtype=bool)\n",
       "    CLOUD_MASK_SWIR-1_150_dil_6_str2: numpy.ndarray(shape=(7, 333, 333, 1), dtype=bool)\n",
       "    CLOUD_MASK_SWIR-1_200: numpy.ndarray(shape=(7, 333, 333, 1), dtype=bool)\n",
       "    CLOUD_MASK_SWIR-1_300: numpy.ndarray(shape=(7, 333, 333, 1), dtype=bool)\n",
       "    IS_DATA: numpy.ndarray(shape=(7, 333, 333, 1), dtype=bool)\n",
       "    MODIS_IS_DATA_DAY_0: numpy.ndarray(shape=(7, 333, 333, 1), dtype=bool)\n",
       "    MODIS_IS_DATA_DAY_AFTER: numpy.ndarray(shape=(7, 333, 333, 1), dtype=bool)\n",
       "    MODIS_IS_DATA_DAY_BEFORE: numpy.ndarray(shape=(7, 333, 333, 1), dtype=bool)\n",
       "    WATER_MASK_ICE_ST_010: numpy.ndarray(shape=(7, 333, 333, 1), dtype=bool)\n",
       "    WATER_MASK_ICE_ST_015: numpy.ndarray(shape=(7, 333, 333, 1), dtype=bool)\n",
       "    WATER_MASK_ICE_ST_020: numpy.ndarray(shape=(7, 333, 333, 1), dtype=bool)\n",
       "    WATER_MASK_ICE_ST_025: numpy.ndarray(shape=(7, 333, 333, 1), dtype=bool)\n",
       "    WATER_MASK_ICE_ST_030: numpy.ndarray(shape=(7, 333, 333, 1), dtype=bool)\n",
       "    WATER_MASK_ST_010: numpy.ndarray(shape=(7, 333, 333, 1), dtype=bool)\n",
       "    WATER_MASK_ST_015: numpy.ndarray(shape=(7, 333, 333, 1), dtype=bool)\n",
       "    WATER_MASK_ST_020: numpy.ndarray(shape=(7, 333, 333, 1), dtype=bool)\n",
       "    WATER_MASK_ST_025: numpy.ndarray(shape=(7, 333, 333, 1), dtype=bool)\n",
       "    WATER_MASK_ST_030: numpy.ndarray(shape=(7, 333, 333, 1), dtype=bool)\n",
       "  }\n",
       "  scalar: {}\n",
       "  label: {}\n",
       "  vector: {}\n",
       "  data_timeless: {\n",
       "    DEM_RAW_LAYER: numpy.ndarray(shape=(333, 333, 1), dtype=float32)\n",
       "    DEM_SLOPE_LAYER: numpy.ndarray(shape=(333, 333, 1), dtype=float32)\n",
       "  }\n",
       "  mask_timeless: {\n",
       "    DEM_SLOPE_MASK: numpy.ndarray(shape=(333, 333, 1), dtype=bool)\n",
       "    IS_DATA_COUNT: numpy.ndarray(shape=(333, 333, 1), dtype=int64)\n",
       "    LANDSAT_QA_CIRRUS_COUNT: numpy.ndarray(shape=(333, 333, 1), dtype=int64)\n",
       "    LANDSAT_QA_CLOUDS_SHADOW_COUNT: numpy.ndarray(shape=(333, 333, 1), dtype=int64)\n",
       "    LANDSAT_QA_CLOUD_AND_AROUND_COUNT: numpy.ndarray(shape=(333, 333, 1), dtype=int64)\n",
       "    LANDSAT_QA_CLOUD_COUNT: numpy.ndarray(shape=(333, 333, 1), dtype=int64)\n",
       "    LANDSAT_QA_SNOW_ICE_COUNT: numpy.ndarray(shape=(333, 333, 1), dtype=int64)\n",
       "    MODIS_IS_DATA_DAY_0_COUNT: numpy.ndarray(shape=(333, 333, 1), dtype=int64)\n",
       "    WATER_MASK_ST_025_COUNT: numpy.ndarray(shape=(333, 333, 1), dtype=int64)\n",
       "  }\n",
       "  scalar_timeless: {}\n",
       "  label_timeless: {}\n",
       "  vector_timeless: {}\n",
       "  meta_info: {\n",
       "    index_x: 3\n",
       "    index_y: 130\n",
       "    maxcc: '0.05'\n",
       "    patch_index: 2969\n",
       "    service_type: 'wcs'\n",
       "    site_name: 'UPE_PROMICE'\n",
       "    size_x: '30m'\n",
       "    size_y: '30m'\n",
       "    time_difference: datetime.timedelta(seconds=7200)\n",
       "    time_interval: ('2013-05-01', '2013-10-31')\n",
       "  }\n",
       "  bbox: BBox(((400000.0, 8030000.0), (410000.0, 8040000.0)), crs=EPSG:32622)\n",
       "  timestamp: [datetime.datetime(2013, 5, 25, 15, 26, 35), ..., datetime.datetime(2013, 9, 30, 15, 26, 24)], length=7\n",
       ")"
      ]
     },
     "execution_count": 24,
     "metadata": {},
     "output_type": "execute_result"
    }
   ],
   "source": [
    "eo_patch = EOPatch.load('../../data/EOPatches/LANDSAT_8/UPE_PROMICE/UTM_22N/2013_05-2013_10/2969_maxcc_0.05_x-3_y-130')\n",
    "eo_patch"
   ]
  }
 ],
 "metadata": {
  "kernelspec": {
   "display_name": "Python 3",
   "language": "python",
   "name": "python3"
  },
  "language_info": {
   "codemirror_mode": {
    "name": "ipython",
    "version": 3
   },
   "file_extension": ".py",
   "mimetype": "text/x-python",
   "name": "python",
   "nbconvert_exporter": "python",
   "pygments_lexer": "ipython3",
   "version": "3.7.3"
  }
 },
 "nbformat": 4,
 "nbformat_minor": 2
}
