{
 "cells": [
  {
   "cell_type": "markdown",
   "metadata": {},
   "source": [
    "## B11. Calculate basic statistics for DEM (std,avg,var,max,min, med) "
   ]
  },
  {
   "cell_type": "markdown",
   "metadata": {},
   "source": [
    "#### 0. Load required libraries, site dependant constants and utility functions."
   ]
  },
  {
   "cell_type": "code",
   "execution_count": 2,
   "metadata": {},
   "outputs": [],
   "source": [
    "from os import listdir\n",
    "from os.path import isfile, join\n",
    "import numpy as np\n",
    "import seaborn as sns\n",
    "\n",
    "# EOLearn libraries:\n",
    "from eolearn.core import EOTask, EOPatch, LinearWorkflow, LoadTask, SaveTask, FeatureType, EOExecutor\n",
    "from eolearn.core import OverwritePermission\n",
    "\n",
    "# Add to python path parent dictionary (to have acces to the data and util catalogue)\n",
    "import sys\n",
    "sys.path.append(\"../../\")\n",
    "\n",
    "# load site dependant constants (HERE YOU CAN CHOOSE DIFFERENT LOCATION)\n",
    "from aoi_sites import upe_promice_area as site\n",
    "\n",
    "# load utility functions\n",
    "from utils import io_functions as io_utils\n",
    "from utils import plot_functions as plot_utils"
   ]
  },
  {
   "cell_type": "markdown",
   "metadata": {},
   "source": [
    "#### 1. Create  necessary EOTasks"
   ]
  },
  {
   "cell_type": "code",
   "execution_count": 9,
   "metadata": {},
   "outputs": [],
   "source": [
    "# define basic statistics calculation task:\n",
    "\n",
    "class CalculateBasicStatisticsFromDataTimeless(EOTask): \n",
    "    \n",
    "    \"\"\"\n",
    "    The task calculates avg, med, max, min, std, var from the timeless data.\n",
    "    print(np.max(data))\n",
    "    print(np.min(data))\n",
    "    print(np.average(data))\n",
    "    print(np.var(data))\n",
    "    \"\"\"\n",
    "    \n",
    "    def __init__(self, input_data_name, output_scalar_name, mode):\n",
    "        self.input_data_name = input_data_name\n",
    "        self.output_scalar_name = output_scalar_name\n",
    "        self.mode = mode\n",
    "        \n",
    "    def execute(self, eopatch):\n",
    "        \n",
    "        data = eopatch.data_timeless[self.input_data_name].squeeze().reshape(333*333)\n",
    "\n",
    "        if self.mode == 'min':\n",
    "            scalar = np.min(data)\n",
    "        elif self.mode == 'max':\n",
    "            scalar = np.max(data)\n",
    "        elif self.mode == 'avg':\n",
    "            scalar = np.average(data)\n",
    "        elif self.mode == 'med':\n",
    "            scalar = np.median(data)\n",
    "        elif self.mode == 'std':\n",
    "            scalar = np.std(data)\n",
    "        elif self.mode == 'var':\n",
    "            scalar = np.var(data)\n",
    "        else:\n",
    "            print('No such a mode')\n",
    "            \n",
    "        eopatch.add_feature(FeatureType.META_INFO, self.output_scalar_name, scalar )\n",
    "        \n",
    "        return eopatch"
   ]
  },
  {
   "cell_type": "markdown",
   "metadata": {},
   "source": [
    "#### 2. Create and execute EOWorkflow"
   ]
  },
  {
   "cell_type": "code",
   "execution_count": 11,
   "metadata": {},
   "outputs": [
    {
     "name": "stdout",
     "output_type": "stream",
     "text": [
      "Reading EOPatches from: ('2013-05-01', '2013-10-31')\n"
     ]
    },
    {
     "data": {
      "application/vnd.jupyter.widget-view+json": {
       "model_id": "30009127b0a64ebd8260287a7e6408f7",
       "version_major": 2,
       "version_minor": 0
      },
      "text/plain": [
       "HBox(children=(IntProgress(value=0, max=55), HTML(value='')))"
      ]
     },
     "metadata": {},
     "output_type": "display_data"
    },
    {
     "name": "stdout",
     "output_type": "stream",
     "text": [
      "\n",
      "Reading EOPatches from: ('2014-05-01', '2014-10-31')\n"
     ]
    },
    {
     "data": {
      "application/vnd.jupyter.widget-view+json": {
       "model_id": "b771ad23e4e643f98f33a0cff2a5cc64",
       "version_major": 2,
       "version_minor": 0
      },
      "text/plain": [
       "HBox(children=(IntProgress(value=0, max=55), HTML(value='')))"
      ]
     },
     "metadata": {},
     "output_type": "display_data"
    },
    {
     "name": "stdout",
     "output_type": "stream",
     "text": [
      "\n",
      "Reading EOPatches from: ('2015-05-01', '2015-10-31')\n"
     ]
    },
    {
     "data": {
      "application/vnd.jupyter.widget-view+json": {
       "model_id": "162315239fce45cd9c90f9622e95a746",
       "version_major": 2,
       "version_minor": 0
      },
      "text/plain": [
       "HBox(children=(IntProgress(value=0, max=55), HTML(value='')))"
      ]
     },
     "metadata": {},
     "output_type": "display_data"
    },
    {
     "name": "stdout",
     "output_type": "stream",
     "text": [
      "\n",
      "Reading EOPatches from: ('2016-05-01', '2016-10-31')\n"
     ]
    },
    {
     "data": {
      "application/vnd.jupyter.widget-view+json": {
       "model_id": "433739fc9e454374b06f887746e1a24e",
       "version_major": 2,
       "version_minor": 0
      },
      "text/plain": [
       "HBox(children=(IntProgress(value=0, max=55), HTML(value='')))"
      ]
     },
     "metadata": {},
     "output_type": "display_data"
    },
    {
     "name": "stdout",
     "output_type": "stream",
     "text": [
      "\n",
      "Reading EOPatches from: ('2017-05-01', '2017-10-31')\n"
     ]
    },
    {
     "data": {
      "application/vnd.jupyter.widget-view+json": {
       "model_id": "2f483f1c4a1444e4b1e219c6056bfa2c",
       "version_major": 2,
       "version_minor": 0
      },
      "text/plain": [
       "HBox(children=(IntProgress(value=0, max=55), HTML(value='')))"
      ]
     },
     "metadata": {},
     "output_type": "display_data"
    },
    {
     "name": "stdout",
     "output_type": "stream",
     "text": [
      "\n",
      "Reading EOPatches from: ('2018-05-01', '2018-10-31')\n"
     ]
    },
    {
     "data": {
      "application/vnd.jupyter.widget-view+json": {
       "model_id": "f6728f8d40c54399bfd4eca909a583c7",
       "version_major": 2,
       "version_minor": 0
      },
      "text/plain": [
       "HBox(children=(IntProgress(value=0, max=55), HTML(value='')))"
      ]
     },
     "metadata": {},
     "output_type": "display_data"
    },
    {
     "name": "stdout",
     "output_type": "stream",
     "text": [
      "\n",
      "Reading EOPatches from: ('2019-05-01', '2019-10-31')\n"
     ]
    },
    {
     "data": {
      "application/vnd.jupyter.widget-view+json": {
       "model_id": "da26fa0aa026472e9315d9a0518ab541",
       "version_major": 2,
       "version_minor": 0
      },
      "text/plain": [
       "HBox(children=(IntProgress(value=0, max=55), HTML(value='')))"
      ]
     },
     "metadata": {},
     "output_type": "display_data"
    },
    {
     "name": "stdout",
     "output_type": "stream",
     "text": [
      "\n"
     ]
    }
   ],
   "source": [
    "dem_min_eotask = CalculateBasicStatisticsFromDataTimeless('DEM_RAW_LAYER', 'DEM_RAW_MIN', 'min') # name of output scalar\n",
    "dem_max_eotask = CalculateBasicStatisticsFromDataTimeless('DEM_RAW_LAYER', 'DEM_RAW_MAX', 'max') # name of output scalar\n",
    "dem_avg_eotask = CalculateBasicStatisticsFromDataTimeless('DEM_RAW_LAYER', 'DEM_RAW_AVG', 'avg') # name of output scalar\n",
    "dem_med_eotask = CalculateBasicStatisticsFromDataTimeless('DEM_RAW_LAYER', 'DEM_RAW_MED', 'med') # name of output scalar\n",
    "dem_std_eotask = CalculateBasicStatisticsFromDataTimeless('DEM_RAW_LAYER', 'DEM_RAW_STD', 'std') # name of output scalar\n",
    "dem_var_eotask = CalculateBasicStatisticsFromDataTimeless('DEM_RAW_LAYER', 'DEM_RAW_VAR', 'var') # name of output scalar\n",
    "\n",
    "# application of all eotasks for all eopatches in the a eoworkflow\n",
    "for date_range_landsat in site.DATE_RANGES_LANDSAT_8 :\n",
    "    print('Reading EOPatches from:', date_range_landsat)\n",
    "    eopatches_filepath = io_utils.get_eopatches_dir(site.DATA_PRODUCTS[1], site.SITE_NAME, site.AVAILABLE_CRSs[0], date_range_landsat)\n",
    "    # TASK TO LOAD AND SAVE EXISTING EOPATCHES HAS TO BE CREATED YEARLY (different directories)\n",
    "    load_eotask = LoadTask(eopatches_filepath)\n",
    "    save_eotask = SaveTask(eopatches_filepath, overwrite_permission=OverwritePermission.OVERWRITE_PATCH, compress_level=1)\n",
    "    \n",
    "    # Define the workflow\n",
    "    workflow = LinearWorkflow(\n",
    "    load_eotask,\n",
    "    dem_min_eotask,\n",
    "    dem_max_eotask,\n",
    "    dem_avg_eotask,\n",
    "    dem_med_eotask,\n",
    "    dem_std_eotask,\n",
    "    dem_var_eotask,\n",
    "    save_eotask\n",
    "    )\n",
    "                      \n",
    "    list_of_available_patches = io_utils.get_list_of_eopatches(eopatches_filepath)\n",
    "    execution_args = []\n",
    "    for eopatch_name in list_of_available_patches:\n",
    "        execution_args.append({\n",
    "        load_eotask: {'eopatch_folder': eopatch_name},\n",
    "        save_eotask: {'eopatch_folder': eopatch_name}\n",
    "        })\n",
    "    \n",
    "    #print(execution_args)                            \n",
    "    executor = EOExecutor(workflow, execution_args, save_logs=True)\n",
    "    executor.run(workers=1, multiprocess=False)\n",
    "\n",
    "    executor.make_report()\n",
    "    "
   ]
  },
  {
   "cell_type": "markdown",
   "metadata": {},
   "source": [
    "## Check the variables"
   ]
  },
  {
   "cell_type": "code",
   "execution_count": 16,
   "metadata": {},
   "outputs": [
    {
     "data": {
      "text/plain": [
       "EOPatch(\n",
       "  data: {\n",
       "    LANDSAT_EUC_NORM_RAW_BANDS: numpy.ndarray(shape=(23, 333, 333, 1), dtype=float32)\n",
       "    LANDSAT_NDWI: numpy.ndarray(shape=(23, 333, 333, 1), dtype=float32)\n",
       "    LANDSAT_NDWI_GREEN_NIR: numpy.ndarray(shape=(23, 333, 333, 1), dtype=float32)\n",
       "    LANDSAT_NDWI_ICE: numpy.ndarray(shape=(23, 333, 333, 1), dtype=float32)\n",
       "    LANDSAT_NDWI_NIR_SWIR_1: numpy.ndarray(shape=(23, 333, 333, 1), dtype=float32)\n",
       "    LANDSAT_NDWI_NIR_SWIR_2: numpy.ndarray(shape=(23, 333, 333, 1), dtype=float32)\n",
       "    LANDSAT_QA_LAYERS: numpy.ndarray(shape=(23, 333, 333, 5), dtype=float32)\n",
       "    LANDSAT_RAW_BANDS: numpy.ndarray(shape=(23, 333, 333, 11), dtype=float32)\n",
       "    MODIS_EUC_NORM_RAW_BANDS: numpy.ndarray(shape=(23, 333, 333, 1), dtype=float32)\n",
       "    MODIS_NDWI: numpy.ndarray(shape=(23, 333, 333, 1), dtype=float32)\n",
       "    MODIS_NRB: numpy.ndarray(shape=(23, 333, 333, 1), dtype=float32)\n",
       "    MODIS_RAW_BANDS_DAY_0: numpy.ndarray(shape=(23, 333, 333, 7), dtype=float32)\n",
       "    MODIS_RAW_BANDS_DAY_AFTER: numpy.ndarray(shape=(23, 333, 333, 7), dtype=float32)\n",
       "    MODIS_RAW_BANDS_DAY_BEFORE: numpy.ndarray(shape=(23, 333, 333, 7), dtype=float32)\n",
       "  }\n",
       "  mask: {\n",
       "    CLOUD_MASK_SWIR-1_090: numpy.ndarray(shape=(23, 333, 333, 1), dtype=bool)\n",
       "    CLOUD_MASK_SWIR-1_100: numpy.ndarray(shape=(23, 333, 333, 1), dtype=bool)\n",
       "    CLOUD_MASK_SWIR-1_100_dil_6_str1: numpy.ndarray(shape=(23, 333, 333, 1), dtype=bool)\n",
       "    CLOUD_MASK_SWIR-1_100_dil_6_str2: numpy.ndarray(shape=(23, 333, 333, 1), dtype=bool)\n",
       "    CLOUD_MASK_SWIR-1_150: numpy.ndarray(shape=(23, 333, 333, 1), dtype=bool)\n",
       "    CLOUD_MASK_SWIR-1_150_dil_6_str1: numpy.ndarray(shape=(23, 333, 333, 1), dtype=bool)\n",
       "    CLOUD_MASK_SWIR-1_150_dil_6_str2: numpy.ndarray(shape=(23, 333, 333, 1), dtype=bool)\n",
       "    CLOUD_MASK_SWIR-1_200: numpy.ndarray(shape=(23, 333, 333, 1), dtype=bool)\n",
       "    CLOUD_MASK_SWIR-1_300: numpy.ndarray(shape=(23, 333, 333, 1), dtype=bool)\n",
       "    IS_DATA: numpy.ndarray(shape=(23, 333, 333, 1), dtype=bool)\n",
       "    MODIS_IS_DATA_DAY_0: numpy.ndarray(shape=(23, 333, 333, 1), dtype=bool)\n",
       "    MODIS_IS_DATA_DAY_AFTER: numpy.ndarray(shape=(23, 333, 333, 1), dtype=bool)\n",
       "    MODIS_IS_DATA_DAY_BEFORE: numpy.ndarray(shape=(23, 333, 333, 1), dtype=bool)\n",
       "    WATER_MASK_ICE_ST_010: numpy.ndarray(shape=(23, 333, 333, 1), dtype=bool)\n",
       "    WATER_MASK_ICE_ST_015: numpy.ndarray(shape=(23, 333, 333, 1), dtype=bool)\n",
       "    WATER_MASK_ICE_ST_020: numpy.ndarray(shape=(23, 333, 333, 1), dtype=bool)\n",
       "    WATER_MASK_ICE_ST_025: numpy.ndarray(shape=(23, 333, 333, 1), dtype=bool)\n",
       "    WATER_MASK_ICE_ST_030: numpy.ndarray(shape=(23, 333, 333, 1), dtype=bool)\n",
       "    WATER_MASK_ST_010: numpy.ndarray(shape=(23, 333, 333, 1), dtype=bool)\n",
       "    WATER_MASK_ST_015: numpy.ndarray(shape=(23, 333, 333, 1), dtype=bool)\n",
       "    WATER_MASK_ST_020: numpy.ndarray(shape=(23, 333, 333, 1), dtype=bool)\n",
       "    WATER_MASK_ST_025: numpy.ndarray(shape=(23, 333, 333, 1), dtype=bool)\n",
       "    WATER_MASK_ST_030: numpy.ndarray(shape=(23, 333, 333, 1), dtype=bool)\n",
       "  }\n",
       "  scalar: {}\n",
       "  label: {}\n",
       "  vector: {}\n",
       "  data_timeless: {\n",
       "    DEM_RAW_LAYER: numpy.ndarray(shape=(333, 333, 1), dtype=float32)\n",
       "    DEM_SLOPE_LAYER: numpy.ndarray(shape=(333, 333, 1), dtype=float32)\n",
       "  }\n",
       "  mask_timeless: {\n",
       "    CLOUD_MASK_SWIR-1_150_dil_6_str2_COUNT: numpy.ndarray(shape=(333, 333, 1), dtype=int64)\n",
       "    DEM_SLOPE_MASK: numpy.ndarray(shape=(333, 333, 1), dtype=bool)\n",
       "    IS_DATA_COUNT: numpy.ndarray(shape=(333, 333, 1), dtype=int64)\n",
       "    LANDSAT_QA_CIRRUS_COUNT: numpy.ndarray(shape=(333, 333, 1), dtype=int64)\n",
       "    LANDSAT_QA_CLOUDS_SHADOW_COUNT: numpy.ndarray(shape=(333, 333, 1), dtype=int64)\n",
       "    LANDSAT_QA_CLOUD_AND_AROUND_COUNT: numpy.ndarray(shape=(333, 333, 1), dtype=int64)\n",
       "    LANDSAT_QA_CLOUD_COUNT: numpy.ndarray(shape=(333, 333, 1), dtype=int64)\n",
       "    LANDSAT_QA_SNOW_ICE_COUNT: numpy.ndarray(shape=(333, 333, 1), dtype=int64)\n",
       "    MODIS_IS_DATA_DAY_0_COUNT: numpy.ndarray(shape=(333, 333, 1), dtype=int64)\n",
       "    WATER_MASK_ST_025_COUNT: numpy.ndarray(shape=(333, 333, 1), dtype=int64)\n",
       "  }\n",
       "  scalar_timeless: {}\n",
       "  label_timeless: {}\n",
       "  vector_timeless: {}\n",
       "  meta_info: {\n",
       "    DEM_RAW_AVG: 624.9419\n",
       "    DEM_RAW_MAX: 1234.0\n",
       "    DEM_RAW_MED: 598.0\n",
       "    DEM_RAW_MIN: 27.0\n",
       "    DEM_RAW_STD: 327.25894\n",
       "    DEM_RAW_VAR: 107098.41\n",
       "    index_x: 3\n",
       "    index_y: 130\n",
       "    maxcc: '0.05'\n",
       "    patch_index: 2969\n",
       "    service_type: 'wcs'\n",
       "    site_name: 'UPE_PROMICE'\n",
       "    size_x: '30m'\n",
       "    size_y: '30m'\n",
       "    time_difference: datetime.timedelta(seconds=7200)\n",
       "    time_interval: ('2019-05-01', '2019-10-31')\n",
       "  }\n",
       "  bbox: BBox(((400000.0, 8030000.0), (410000.0, 8040000.0)), crs=EPSG:32622)\n",
       "  timestamp: [datetime.datetime(2019, 5, 1, 15, 30, 8), ..., datetime.datetime(2019, 10, 8, 15, 31, 5)], length=23\n",
       ")"
      ]
     },
     "execution_count": 16,
     "metadata": {},
     "output_type": "execute_result"
    }
   ],
   "source": [
    "eo_patch = EOPatch.load('../../data/EOPatches/LANDSAT_8/UPE_PROMICE/UTM_22N/2019_05-2019_10/2969_maxcc_0.05_x-3_y-130')\n",
    "eo_patch"
   ]
  }
 ],
 "metadata": {
  "kernelspec": {
   "display_name": "Python 3",
   "language": "python",
   "name": "python3"
  },
  "language_info": {
   "codemirror_mode": {
    "name": "ipython",
    "version": 3
   },
   "file_extension": ".py",
   "mimetype": "text/x-python",
   "name": "python",
   "nbconvert_exporter": "python",
   "pygments_lexer": "ipython3",
   "version": "3.7.3"
  }
 },
 "nbformat": 4,
 "nbformat_minor": 2
}
