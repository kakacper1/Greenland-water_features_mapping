{
 "cells": [
  {
   "cell_type": "markdown",
   "metadata": {},
   "source": [
    "## B6. Extract water mask"
   ]
  },
  {
   "cell_type": "markdown",
   "metadata": {},
   "source": [
    "#### 0. Load required libraries,  area dependant constants and utility functions:"
   ]
  },
  {
   "cell_type": "code",
   "execution_count": 6,
   "metadata": {},
   "outputs": [],
   "source": [
    "from os import listdir\n",
    "from os.path import isfile, join\n",
    "import numpy as np\n",
    "import seaborn as sns\n",
    "\n",
    "# EOLearn libraries:\n",
    "from eolearn.core import EOTask, EOPatch, LinearWorkflow, LoadTask, SaveTask, FeatureType, EOExecutor\n",
    "from eolearn.core import OverwritePermission\n",
    "\n",
    "# Add to python path parent dictionary\n",
    "import sys\n",
    "sys.path.append(\"../../\")\n",
    "\n",
    "# load site dependant constants (HERE YOU CAN CHOOSE DIFFERENT LOCATION)\n",
    "from aoi_sites import upe_promice_area as site\n",
    "\n",
    "# load utility functions\n",
    "from utils import io_functions as io_utils\n",
    "from utils import plot_functions as plot_utils"
   ]
  },
  {
   "cell_type": "markdown",
   "metadata": {},
   "source": [
    "#### 1. Set up and execute EOWorkflow"
   ]
  },
  {
   "cell_type": "code",
   "execution_count": 7,
   "metadata": {},
   "outputs": [],
   "source": [
    "# defining eo_task for water feature extraction\n",
    "import numpy.ma as ma\n",
    "class StaticThreshiolding(EOTask):   \n",
    "    \"\"\"\n",
    "    The tasks applies a static threshold to produce a data mask:\n",
    "    MASK = 1 if > x else 0\n",
    "    \"\"\"\n",
    "    def __init__(self, mask_name, feature_name, threshold):\n",
    "        self.feature_name = feature_name\n",
    "        self.mask_name = mask_name\n",
    "        self.threshold = threshold\n",
    "        \n",
    "    def execute(self, eopatch):\n",
    "        band_a = eopatch.data[self.feature_name][..., 0]\n",
    "        mask = ma.masked_where(self.threshold <= band_a , band_a)\n",
    "        # if the mask is empty it produces an one value False - it is beeter to have a matrix of False for consistency\n",
    "        if mask.mask.any() == False:\n",
    "            new_mask = np.zeros(mask.shape, dtype=bool)\n",
    "            mask.mask = new_mask\n",
    "            print('Created new mask of zeros, bc there was no water feature detected')\n",
    "            \n",
    "        eopatch.add_feature(FeatureType.MASK, self.mask_name, mask.mask[..., np.newaxis])\n",
    "        return eopatch"
   ]
  },
  {
   "cell_type": "markdown",
   "metadata": {},
   "source": [
    "#### 2. Set up and execute EOWorkflow"
   ]
  },
  {
   "cell_type": "code",
   "execution_count": 8,
   "metadata": {},
   "outputs": [
    {
     "name": "stdout",
     "output_type": "stream",
     "text": [
      "Reading EOPatches from: ('2013-05-01', '2013-10-31')\n"
     ]
    },
    {
     "data": {
      "application/vnd.jupyter.widget-view+json": {
       "model_id": "0a16a4c10c274bdc9139389b8612a178",
       "version_major": 2,
       "version_minor": 0
      },
      "text/plain": [
       "HBox(children=(IntProgress(value=0, max=55), HTML(value='')))"
      ]
     },
     "metadata": {},
     "output_type": "display_data"
    },
    {
     "name": "stderr",
     "output_type": "stream",
     "text": [
      "C:\\Users\\Kamil\\Anaconda3\\lib\\site-packages\\ipykernel_launcher.py:15: RuntimeWarning: invalid value encountered in greater_equal\n",
      "  from ipykernel import kernelapp as app\n"
     ]
    },
    {
     "name": "stdout",
     "output_type": "stream",
     "text": [
      "Created new mask of zeros, bc there was no water feature detected\n",
      "Created new mask of zeros, bc there was no water feature detected\n",
      "Created new mask of zeros, bc there was no water feature detected\n",
      "Created new mask of zeros, bc there was no water feature detected\n",
      "Created new mask of zeros, bc there was no water feature detected\n",
      "Created new mask of zeros, bc there was no water feature detected\n",
      "Created new mask of zeros, bc there was no water feature detected\n",
      "Created new mask of zeros, bc there was no water feature detected\n",
      "Created new mask of zeros, bc there was no water feature detected\n",
      "Created new mask of zeros, bc there was no water feature detected\n",
      "Created new mask of zeros, bc there was no water feature detected\n",
      "Created new mask of zeros, bc there was no water feature detected\n",
      "Created new mask of zeros, bc there was no water feature detected\n",
      "Created new mask of zeros, bc there was no water feature detected\n",
      "Created new mask of zeros, bc there was no water feature detected\n",
      "Created new mask of zeros, bc there was no water feature detected\n",
      "Created new mask of zeros, bc there was no water feature detected\n",
      "Created new mask of zeros, bc there was no water feature detected\n",
      "Created new mask of zeros, bc there was no water feature detected\n",
      "Created new mask of zeros, bc there was no water feature detected\n",
      "Created new mask of zeros, bc there was no water feature detected\n",
      "Created new mask of zeros, bc there was no water feature detected\n",
      "Created new mask of zeros, bc there was no water feature detected\n",
      "Created new mask of zeros, bc there was no water feature detected\n",
      "Created new mask of zeros, bc there was no water feature detected\n",
      "Created new mask of zeros, bc there was no water feature detected\n",
      "Created new mask of zeros, bc there was no water feature detected\n",
      "Created new mask of zeros, bc there was no water feature detected\n",
      "Created new mask of zeros, bc there was no water feature detected\n",
      "Created new mask of zeros, bc there was no water feature detected\n",
      "Created new mask of zeros, bc there was no water feature detected\n",
      "Created new mask of zeros, bc there was no water feature detected\n",
      "Created new mask of zeros, bc there was no water feature detected\n",
      "Created new mask of zeros, bc there was no water feature detected\n",
      "Created new mask of zeros, bc there was no water feature detected\n",
      "Created new mask of zeros, bc there was no water feature detected\n",
      "Created new mask of zeros, bc there was no water feature detected\n",
      "Created new mask of zeros, bc there was no water feature detected\n",
      "Created new mask of zeros, bc there was no water feature detected\n",
      "Created new mask of zeros, bc there was no water feature detected\n",
      "Created new mask of zeros, bc there was no water feature detected\n",
      "Created new mask of zeros, bc there was no water feature detected\n",
      "Created new mask of zeros, bc there was no water feature detected\n",
      "Created new mask of zeros, bc there was no water feature detected\n",
      "Created new mask of zeros, bc there was no water feature detected\n",
      "Created new mask of zeros, bc there was no water feature detected\n",
      "Created new mask of zeros, bc there was no water feature detected\n",
      "Created new mask of zeros, bc there was no water feature detected\n",
      "Created new mask of zeros, bc there was no water feature detected\n",
      "Created new mask of zeros, bc there was no water feature detected\n",
      "Created new mask of zeros, bc there was no water feature detected\n",
      "Created new mask of zeros, bc there was no water feature detected\n",
      "Created new mask of zeros, bc there was no water feature detected\n",
      "Created new mask of zeros, bc there was no water feature detected\n",
      "Created new mask of zeros, bc there was no water feature detected\n",
      "Created new mask of zeros, bc there was no water feature detected\n",
      "Created new mask of zeros, bc there was no water feature detected\n",
      "Created new mask of zeros, bc there was no water feature detected\n",
      "Created new mask of zeros, bc there was no water feature detected\n",
      "Created new mask of zeros, bc there was no water feature detected\n",
      "Created new mask of zeros, bc there was no water feature detected\n",
      "\n",
      "Reading EOPatches from: ('2014-05-01', '2014-10-31')\n"
     ]
    },
    {
     "data": {
      "application/vnd.jupyter.widget-view+json": {
       "model_id": "60490af3666d427684c4a6653edeab86",
       "version_major": 2,
       "version_minor": 0
      },
      "text/plain": [
       "HBox(children=(IntProgress(value=0, max=55), HTML(value='')))"
      ]
     },
     "metadata": {},
     "output_type": "display_data"
    },
    {
     "name": "stdout",
     "output_type": "stream",
     "text": [
      "Created new mask of zeros, bc there was no water feature detected\n",
      "Created new mask of zeros, bc there was no water feature detected\n",
      "Created new mask of zeros, bc there was no water feature detected\n",
      "Created new mask of zeros, bc there was no water feature detected\n",
      "Created new mask of zeros, bc there was no water feature detected\n",
      "Created new mask of zeros, bc there was no water feature detected\n",
      "Created new mask of zeros, bc there was no water feature detected\n",
      "Created new mask of zeros, bc there was no water feature detected\n",
      "Created new mask of zeros, bc there was no water feature detected\n",
      "Created new mask of zeros, bc there was no water feature detected\n",
      "Created new mask of zeros, bc there was no water feature detected\n",
      "Created new mask of zeros, bc there was no water feature detected\n",
      "Created new mask of zeros, bc there was no water feature detected\n",
      "\n",
      "Reading EOPatches from: ('2015-05-01', '2015-10-31')\n"
     ]
    },
    {
     "data": {
      "application/vnd.jupyter.widget-view+json": {
       "model_id": "e666d6d53e0247fc93e6cf62740d7467",
       "version_major": 2,
       "version_minor": 0
      },
      "text/plain": [
       "HBox(children=(IntProgress(value=0, max=55), HTML(value='')))"
      ]
     },
     "metadata": {},
     "output_type": "display_data"
    },
    {
     "name": "stdout",
     "output_type": "stream",
     "text": [
      "Created new mask of zeros, bc there was no water feature detected\n",
      "Created new mask of zeros, bc there was no water feature detected\n",
      "\n",
      "Reading EOPatches from: ('2016-05-01', '2016-10-31')\n"
     ]
    },
    {
     "data": {
      "application/vnd.jupyter.widget-view+json": {
       "model_id": "e0fecacf57a14806b8cb6b484b669bdc",
       "version_major": 2,
       "version_minor": 0
      },
      "text/plain": [
       "HBox(children=(IntProgress(value=0, max=55), HTML(value='')))"
      ]
     },
     "metadata": {},
     "output_type": "display_data"
    },
    {
     "name": "stdout",
     "output_type": "stream",
     "text": [
      "Created new mask of zeros, bc there was no water feature detected\n",
      "\n",
      "Reading EOPatches from: ('2017-05-01', '2017-10-31')\n"
     ]
    },
    {
     "data": {
      "application/vnd.jupyter.widget-view+json": {
       "model_id": "a1b8126662ce4862a9ca52a45828dfa9",
       "version_major": 2,
       "version_minor": 0
      },
      "text/plain": [
       "HBox(children=(IntProgress(value=0, max=55), HTML(value='')))"
      ]
     },
     "metadata": {},
     "output_type": "display_data"
    },
    {
     "name": "stdout",
     "output_type": "stream",
     "text": [
      "Created new mask of zeros, bc there was no water feature detected\n",
      "Created new mask of zeros, bc there was no water feature detected\n",
      "Created new mask of zeros, bc there was no water feature detected\n",
      "Created new mask of zeros, bc there was no water feature detected\n",
      "Created new mask of zeros, bc there was no water feature detected\n",
      "Created new mask of zeros, bc there was no water feature detected\n",
      "\n",
      "Reading EOPatches from: ('2018-05-01', '2018-10-31')\n"
     ]
    },
    {
     "data": {
      "application/vnd.jupyter.widget-view+json": {
       "model_id": "6e58b2247244445893c1b04d3a3b0e21",
       "version_major": 2,
       "version_minor": 0
      },
      "text/plain": [
       "HBox(children=(IntProgress(value=0, max=55), HTML(value='')))"
      ]
     },
     "metadata": {},
     "output_type": "display_data"
    },
    {
     "name": "stdout",
     "output_type": "stream",
     "text": [
      "Created new mask of zeros, bc there was no water feature detected\n",
      "Created new mask of zeros, bc there was no water feature detected\n",
      "Created new mask of zeros, bc there was no water feature detected\n",
      "Created new mask of zeros, bc there was no water feature detected\n",
      "Created new mask of zeros, bc there was no water feature detected\n",
      "Created new mask of zeros, bc there was no water feature detected\n",
      "Created new mask of zeros, bc there was no water feature detected\n",
      "Created new mask of zeros, bc there was no water feature detected\n",
      "Created new mask of zeros, bc there was no water feature detected\n",
      "Created new mask of zeros, bc there was no water feature detected\n",
      "\n",
      "Reading EOPatches from: ('2019-05-01', '2019-10-31')\n"
     ]
    },
    {
     "data": {
      "application/vnd.jupyter.widget-view+json": {
       "model_id": "0e81b278f4b841f0b039b21855e7fe61",
       "version_major": 2,
       "version_minor": 0
      },
      "text/plain": [
       "HBox(children=(IntProgress(value=0, max=55), HTML(value='')))"
      ]
     },
     "metadata": {},
     "output_type": "display_data"
    },
    {
     "name": "stdout",
     "output_type": "stream",
     "text": [
      "Created new mask of zeros, bc there was no water feature detected\n",
      "Created new mask of zeros, bc there was no water feature detected\n",
      "Created new mask of zeros, bc there was no water feature detected\n",
      "Created new mask of zeros, bc there was no water feature detected\n",
      "\n"
     ]
    }
   ],
   "source": [
    "# creating eo tasks producing water mask from NDWI_ICE (based on blue/red NDI)\n",
    "static_threshol_30_eotask = StaticThreshiolding('WATER_MASK_ICE_ST_030', 'LANDSAT_NDWI_ICE', 0.30)\n",
    "static_threshol_25_eotask = StaticThreshiolding('WATER_MASK_ICE_ST_025', 'LANDSAT_NDWI_ICE', 0.25)\n",
    "static_threshol_20_eotask = StaticThreshiolding('WATER_MASK_ICE_ST_020', 'LANDSAT_NDWI_ICE', 0.20)\n",
    "static_threshol_15_eotask = StaticThreshiolding('WATER_MASK_ICE_ST_015', 'LANDSAT_NDWI_ICE', 0.15)\n",
    "static_threshol_10_eotask = StaticThreshiolding('WATER_MASK_ICE_ST_010', 'LANDSAT_NDWI_ICE', 0.10)\n",
    "\n",
    "\n",
    "for date_range_landsat in site.DATE_RANGES_LANDSAT_8 :\n",
    "    print('Reading EOPatches from:', date_range_landsat )\n",
    "    eopatches_filepath = io_utils.get_eopatches_dir(site.DATA_PRODUCTS[1], site.SITE_NAME, site.AVAILABLE_CRSs[0], date_range_landsat)\n",
    "    # TASK TO LOAD AND SAVE EXISTING EOPATCHES HAS TO BE CREATED YEARLY (different directories)\n",
    "    load_eotask = LoadTask(eopatches_filepath)\n",
    "    save_eotask = SaveTask(eopatches_filepath, overwrite_permission=OverwritePermission.OVERWRITE_PATCH, compress_level=1)\n",
    "    \n",
    "    # Define the workflow\n",
    "    workflow = LinearWorkflow(\n",
    "    load_eotask,\n",
    "    static_threshol_30_eotask,\n",
    "    static_threshol_25_eotask,\n",
    "    static_threshol_20_eotask,\n",
    "    static_threshol_15_eotask,\n",
    "    static_threshol_10_eotask,\n",
    "    save_eotask\n",
    "    )\n",
    "                      \n",
    "    list_of_available_patches = io_utils.get_list_of_eopatches(eopatches_filepath)\n",
    "    execution_args = []\n",
    "    for eopatch_name in list_of_available_patches:\n",
    "        execution_args.append({\n",
    "        load_eotask: {'eopatch_folder': eopatch_name},\n",
    "        save_eotask: {'eopatch_folder': eopatch_name}\n",
    "        })\n",
    "    \n",
    "    #print(execution_args)                            \n",
    "    executor = EOExecutor(workflow, execution_args, save_logs=True)\n",
    "    executor.run(workers=1, multiprocess=False)\n",
    "\n",
    "    executor.make_report()"
   ]
  },
  {
   "cell_type": "code",
   "execution_count": 9,
   "metadata": {},
   "outputs": [
    {
     "name": "stdout",
     "output_type": "stream",
     "text": [
      "Reading EOPatches from: ('2013-05-01', '2013-10-31')\n"
     ]
    },
    {
     "data": {
      "application/vnd.jupyter.widget-view+json": {
       "model_id": "029760e37f544009852027d4574d0f31",
       "version_major": 2,
       "version_minor": 0
      },
      "text/plain": [
       "HBox(children=(IntProgress(value=0, max=55), HTML(value='')))"
      ]
     },
     "metadata": {},
     "output_type": "display_data"
    },
    {
     "name": "stdout",
     "output_type": "stream",
     "text": [
      "Created new mask of zeros, bc there was no water feature detected\n",
      "Created new mask of zeros, bc there was no water feature detected\n",
      "Created new mask of zeros, bc there was no water feature detected\n",
      "Created new mask of zeros, bc there was no water feature detected\n",
      "Created new mask of zeros, bc there was no water feature detected\n",
      "Created new mask of zeros, bc there was no water feature detected\n",
      "Created new mask of zeros, bc there was no water feature detected\n",
      "Created new mask of zeros, bc there was no water feature detected\n",
      "Created new mask of zeros, bc there was no water feature detected\n",
      "Created new mask of zeros, bc there was no water feature detected\n",
      "Created new mask of zeros, bc there was no water feature detected\n",
      "Created new mask of zeros, bc there was no water feature detected\n",
      "Created new mask of zeros, bc there was no water feature detected\n",
      "Created new mask of zeros, bc there was no water feature detected\n",
      "Created new mask of zeros, bc there was no water feature detected\n",
      "Created new mask of zeros, bc there was no water feature detected\n",
      "Created new mask of zeros, bc there was no water feature detected\n",
      "Created new mask of zeros, bc there was no water feature detected\n",
      "Created new mask of zeros, bc there was no water feature detected\n",
      "Created new mask of zeros, bc there was no water feature detected\n",
      "Created new mask of zeros, bc there was no water feature detected\n",
      "Created new mask of zeros, bc there was no water feature detected\n",
      "Created new mask of zeros, bc there was no water feature detected\n",
      "Created new mask of zeros, bc there was no water feature detected\n",
      "Created new mask of zeros, bc there was no water feature detected\n",
      "Created new mask of zeros, bc there was no water feature detected\n",
      "Created new mask of zeros, bc there was no water feature detected\n",
      "Created new mask of zeros, bc there was no water feature detected\n",
      "Created new mask of zeros, bc there was no water feature detected\n",
      "Created new mask of zeros, bc there was no water feature detected\n",
      "Created new mask of zeros, bc there was no water feature detected\n",
      "Created new mask of zeros, bc there was no water feature detected\n",
      "Created new mask of zeros, bc there was no water feature detected\n",
      "Created new mask of zeros, bc there was no water feature detected\n",
      "Created new mask of zeros, bc there was no water feature detected\n",
      "Created new mask of zeros, bc there was no water feature detected\n",
      "Created new mask of zeros, bc there was no water feature detected\n",
      "Created new mask of zeros, bc there was no water feature detected\n",
      "Created new mask of zeros, bc there was no water feature detected\n",
      "Created new mask of zeros, bc there was no water feature detected\n",
      "Created new mask of zeros, bc there was no water feature detected\n",
      "Created new mask of zeros, bc there was no water feature detected\n",
      "Created new mask of zeros, bc there was no water feature detected\n",
      "Created new mask of zeros, bc there was no water feature detected\n",
      "Created new mask of zeros, bc there was no water feature detected\n",
      "Created new mask of zeros, bc there was no water feature detected\n",
      "Created new mask of zeros, bc there was no water feature detected\n",
      "Created new mask of zeros, bc there was no water feature detected\n",
      "Created new mask of zeros, bc there was no water feature detected\n",
      "Created new mask of zeros, bc there was no water feature detected\n",
      "\n",
      "Reading EOPatches from: ('2014-05-01', '2014-10-31')\n"
     ]
    },
    {
     "data": {
      "application/vnd.jupyter.widget-view+json": {
       "model_id": "2993ae776ec74a01815ae0de0a1b5f30",
       "version_major": 2,
       "version_minor": 0
      },
      "text/plain": [
       "HBox(children=(IntProgress(value=0, max=55), HTML(value='')))"
      ]
     },
     "metadata": {},
     "output_type": "display_data"
    },
    {
     "name": "stdout",
     "output_type": "stream",
     "text": [
      "Created new mask of zeros, bc there was no water feature detected\n",
      "Created new mask of zeros, bc there was no water feature detected\n",
      "Created new mask of zeros, bc there was no water feature detected\n",
      "Created new mask of zeros, bc there was no water feature detected\n",
      "Created new mask of zeros, bc there was no water feature detected\n",
      "Created new mask of zeros, bc there was no water feature detected\n",
      "Created new mask of zeros, bc there was no water feature detected\n",
      "Created new mask of zeros, bc there was no water feature detected\n",
      "Created new mask of zeros, bc there was no water feature detected\n",
      "\n",
      "Reading EOPatches from: ('2015-05-01', '2015-10-31')\n"
     ]
    },
    {
     "data": {
      "application/vnd.jupyter.widget-view+json": {
       "model_id": "0b7b4ab9783647f7957054af3cdadbd8",
       "version_major": 2,
       "version_minor": 0
      },
      "text/plain": [
       "HBox(children=(IntProgress(value=0, max=55), HTML(value='')))"
      ]
     },
     "metadata": {},
     "output_type": "display_data"
    },
    {
     "name": "stdout",
     "output_type": "stream",
     "text": [
      "\n",
      "Reading EOPatches from: ('2016-05-01', '2016-10-31')\n"
     ]
    },
    {
     "data": {
      "application/vnd.jupyter.widget-view+json": {
       "model_id": "b05904045759478ea89535ab35c84805",
       "version_major": 2,
       "version_minor": 0
      },
      "text/plain": [
       "HBox(children=(IntProgress(value=0, max=55), HTML(value='')))"
      ]
     },
     "metadata": {},
     "output_type": "display_data"
    },
    {
     "name": "stdout",
     "output_type": "stream",
     "text": [
      "Created new mask of zeros, bc there was no water feature detected\n",
      "Created new mask of zeros, bc there was no water feature detected\n",
      "\n",
      "Reading EOPatches from: ('2017-05-01', '2017-10-31')\n"
     ]
    },
    {
     "data": {
      "application/vnd.jupyter.widget-view+json": {
       "model_id": "4736a44893a947b28c18e9027a538938",
       "version_major": 2,
       "version_minor": 0
      },
      "text/plain": [
       "HBox(children=(IntProgress(value=0, max=55), HTML(value='')))"
      ]
     },
     "metadata": {},
     "output_type": "display_data"
    },
    {
     "name": "stdout",
     "output_type": "stream",
     "text": [
      "Created new mask of zeros, bc there was no water feature detected\n",
      "Created new mask of zeros, bc there was no water feature detected\n",
      "Created new mask of zeros, bc there was no water feature detected\n",
      "\n",
      "Reading EOPatches from: ('2018-05-01', '2018-10-31')\n"
     ]
    },
    {
     "data": {
      "application/vnd.jupyter.widget-view+json": {
       "model_id": "b7cef8b5c6954d1d8ddabe09c3a0731b",
       "version_major": 2,
       "version_minor": 0
      },
      "text/plain": [
       "HBox(children=(IntProgress(value=0, max=55), HTML(value='')))"
      ]
     },
     "metadata": {},
     "output_type": "display_data"
    },
    {
     "name": "stdout",
     "output_type": "stream",
     "text": [
      "Created new mask of zeros, bc there was no water feature detected\n",
      "Created new mask of zeros, bc there was no water feature detected\n",
      "\n",
      "Reading EOPatches from: ('2019-05-01', '2019-10-31')\n"
     ]
    },
    {
     "data": {
      "application/vnd.jupyter.widget-view+json": {
       "model_id": "cb176c86f62c40b6a05c4b7144d6bd9f",
       "version_major": 2,
       "version_minor": 0
      },
      "text/plain": [
       "HBox(children=(IntProgress(value=0, max=55), HTML(value='')))"
      ]
     },
     "metadata": {},
     "output_type": "display_data"
    },
    {
     "name": "stdout",
     "output_type": "stream",
     "text": [
      "Created new mask of zeros, bc there was no water feature detected\n",
      "\n"
     ]
    }
   ],
   "source": [
    "# creating eo tasks producing water mask from NDWI (based on green/NIR NDI)\n",
    "static_threshol_30_eotask = StaticThreshiolding('WATER_MASK_ST_030', 'LANDSAT_NDWI', 0.30)\n",
    "static_threshol_25_eotask = StaticThreshiolding('WATER_MASK_ST_025', 'LANDSAT_NDWI', 0.25)\n",
    "static_threshol_20_eotask = StaticThreshiolding('WATER_MASK_ST_020', 'LANDSAT_NDWI', 0.20)\n",
    "static_threshol_15_eotask = StaticThreshiolding('WATER_MASK_ST_015', 'LANDSAT_NDWI', 0.15)\n",
    "static_threshol_10_eotask = StaticThreshiolding('WATER_MASK_ST_010', 'LANDSAT_NDWI', 0.10)\n",
    "\n",
    "\n",
    "for date_range_landsat in site.DATE_RANGES_LANDSAT_8 :\n",
    "    print('Reading EOPatches from:', date_range_landsat )\n",
    "    eopatches_filepath = io_utils.get_eopatches_dir(site.DATA_PRODUCTS[1], site.SITE_NAME, site.AVAILABLE_CRSs[0], date_range_landsat)\n",
    "    # TASK TO LOAD AND SAVE EXISTING EOPATCHES HAS TO BE CREATED YEARLY (different directories)\n",
    "    load_eotask = LoadTask(eopatches_filepath)\n",
    "    save_eotask = SaveTask(eopatches_filepath, overwrite_permission=OverwritePermission.OVERWRITE_PATCH, compress_level=1)\n",
    "    \n",
    "    # Define the workflow\n",
    "    workflow = LinearWorkflow(\n",
    "    load_eotask,\n",
    "    static_threshol_30_eotask,\n",
    "    static_threshol_25_eotask,\n",
    "    static_threshol_20_eotask,\n",
    "    static_threshol_15_eotask,\n",
    "    static_threshol_10_eotask,\n",
    "    save_eotask\n",
    "    )\n",
    "                      \n",
    "    list_of_available_patches = io_utils.get_list_of_eopatches(eopatches_filepath)\n",
    "    execution_args = []\n",
    "    for eopatch_name in list_of_available_patches:\n",
    "        execution_args.append({\n",
    "        load_eotask: {'eopatch_folder': eopatch_name},\n",
    "        save_eotask: {'eopatch_folder': eopatch_name}\n",
    "        })\n",
    "    \n",
    "    #print(execution_args)                            \n",
    "    executor = EOExecutor(workflow, execution_args, save_logs=True)\n",
    "    executor.run(workers=1, multiprocess=False)\n",
    "\n",
    "    executor.make_report()"
   ]
  }
 ],
 "metadata": {
  "kernelspec": {
   "display_name": "Python 3",
   "language": "python",
   "name": "python3"
  },
  "language_info": {
   "codemirror_mode": {
    "name": "ipython",
    "version": 3
   },
   "file_extension": ".py",
   "mimetype": "text/x-python",
   "name": "python",
   "nbconvert_exporter": "python",
   "pygments_lexer": "ipython3",
   "version": "3.7.3"
  }
 },
 "nbformat": 4,
 "nbformat_minor": 2
}
