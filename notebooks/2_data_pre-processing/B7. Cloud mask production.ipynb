{
 "cells": [
  {
   "cell_type": "markdown",
   "metadata": {},
   "source": [
    "##  B7. Cloud mask production"
   ]
  },
  {
   "cell_type": "markdown",
   "metadata": {},
   "source": [
    "#### 0. Load required libraries,  area dependant constants and utility functions:"
   ]
  },
  {
   "cell_type": "code",
   "execution_count": 2,
   "metadata": {},
   "outputs": [],
   "source": [
    "from os import listdir\n",
    "from os.path import isfile, join\n",
    "import numpy as np\n",
    "import seaborn as sns\n",
    "\n",
    "# EOLearn libraries:\n",
    "from eolearn.core import EOTask, EOPatch, LinearWorkflow, LoadTask, SaveTask, FeatureType, EOExecutor\n",
    "from eolearn.core import OverwritePermission\n",
    "\n",
    "# Add to python path parent dictionary (to have acces to the data and util catalogue)\n",
    "import sys\n",
    "sys.path.append(\"../../\")\n",
    "\n",
    "# load site dependant constants (HERE YOU CAN CHOOSE DIFFERENT LOCATION)\n",
    "from aoi_sites import upe_promice_area as site\n",
    "\n",
    "# load utility functions\n",
    "from utils import io_functions as io_utils\n",
    "from utils import plot_functions as plot_utils"
   ]
  },
  {
   "cell_type": "markdown",
   "metadata": {},
   "source": [
    "#### 1. Set up and execute EOWorkflow"
   ]
  },
  {
   "cell_type": "code",
   "execution_count": 7,
   "metadata": {},
   "outputs": [],
   "source": [
    "# defining eo_task for water feature extraction\n",
    "import numpy.ma as ma\n",
    "class StaticThreshioldingForClouds(EOTask):   \n",
    "    \"\"\"\n",
    "    The tasks applies a static threshold to produce a data mask:\n",
    "    MASK = 1 if > x else 0\n",
    "    \"\"\"\n",
    "    def __init__(self, data_name, band_no, feature_name, threshold):\n",
    "        self.feature_name = feature_name\n",
    "        self.data_name = data_name\n",
    "        self.band_no = band_no\n",
    "        self.threshold = threshold\n",
    "        \n",
    "    def execute(self, eopatch):\n",
    "        band_a = eopatch.data[self.feature_name][..., self.band_no]\n",
    "        mask = ma.masked_where(self.threshold <= band_a , band_a)\n",
    "        #any will return True if there's any truth value in the iterable.\n",
    "        #print(mask.mask)\n",
    "        #print(mask.mask.any())\n",
    "        #print(np.isnan(mask.mask).any())\n",
    "        if mask.mask.any() == False:\n",
    "            new_mask = np.zeros(mask.shape, dtype=bool)\n",
    "            mask.mask = new_mask\n",
    "            print('Created new mask of zeros, bc there was no water feature detected')\n",
    "            \n",
    "        eopatch.add_feature(FeatureType.MASK, self.data_name, mask.mask[..., np.newaxis])\n",
    "        return eopatch"
   ]
  },
  {
   "cell_type": "markdown",
   "metadata": {},
   "source": [
    "#### 2. Set up and execute EOWorkflow"
   ]
  },
  {
   "cell_type": "code",
   "execution_count": 11,
   "metadata": {},
   "outputs": [
    {
     "name": "stdout",
     "output_type": "stream",
     "text": [
      "Reading EOPatches from: ('2013-05-01', '2013-10-31')\n"
     ]
    },
    {
     "data": {
      "application/vnd.jupyter.widget-view+json": {
       "model_id": "230a8572378946c9a2edf73dd843807f",
       "version_major": 2,
       "version_minor": 0
      },
      "text/plain": [
       "HBox(children=(IntProgress(value=0, max=55), HTML(value='')))"
      ]
     },
     "metadata": {},
     "output_type": "display_data"
    },
    {
     "name": "stdout",
     "output_type": "stream",
     "text": [
      "Created new mask of zeros, bc there was no water feature detected\n",
      "Created new mask of zeros, bc there was no water feature detected\n",
      "Created new mask of zeros, bc there was no water feature detected\n",
      "Created new mask of zeros, bc there was no water feature detected\n",
      "Created new mask of zeros, bc there was no water feature detected\n",
      "Created new mask of zeros, bc there was no water feature detected\n",
      "Created new mask of zeros, bc there was no water feature detected\n",
      "Created new mask of zeros, bc there was no water feature detected\n",
      "Created new mask of zeros, bc there was no water feature detected\n",
      "Created new mask of zeros, bc there was no water feature detected\n",
      "Created new mask of zeros, bc there was no water feature detected\n",
      "\n",
      "Reading EOPatches from: ('2014-05-01', '2014-10-31')\n"
     ]
    },
    {
     "data": {
      "application/vnd.jupyter.widget-view+json": {
       "model_id": "0fecbc34fabb412783a627a94e780f96",
       "version_major": 2,
       "version_minor": 0
      },
      "text/plain": [
       "HBox(children=(IntProgress(value=0, max=55), HTML(value='')))"
      ]
     },
     "metadata": {},
     "output_type": "display_data"
    },
    {
     "name": "stdout",
     "output_type": "stream",
     "text": [
      "Created new mask of zeros, bc there was no water feature detected\n",
      "Created new mask of zeros, bc there was no water feature detected\n",
      "Created new mask of zeros, bc there was no water feature detected\n",
      "Created new mask of zeros, bc there was no water feature detected\n",
      "Created new mask of zeros, bc there was no water feature detected\n",
      "Created new mask of zeros, bc there was no water feature detected\n",
      "Created new mask of zeros, bc there was no water feature detected\n",
      "Created new mask of zeros, bc there was no water feature detected\n",
      "Created new mask of zeros, bc there was no water feature detected\n",
      "Created new mask of zeros, bc there was no water feature detected\n",
      "Created new mask of zeros, bc there was no water feature detected\n",
      "Created new mask of zeros, bc there was no water feature detected\n",
      "Created new mask of zeros, bc there was no water feature detected\n",
      "Created new mask of zeros, bc there was no water feature detected\n",
      "Created new mask of zeros, bc there was no water feature detected\n",
      "Created new mask of zeros, bc there was no water feature detected\n",
      "Created new mask of zeros, bc there was no water feature detected\n",
      "Created new mask of zeros, bc there was no water feature detected\n",
      "Created new mask of zeros, bc there was no water feature detected\n",
      "Created new mask of zeros, bc there was no water feature detected\n",
      "Created new mask of zeros, bc there was no water feature detected\n",
      "Created new mask of zeros, bc there was no water feature detected\n",
      "Created new mask of zeros, bc there was no water feature detected\n",
      "Created new mask of zeros, bc there was no water feature detected\n",
      "Created new mask of zeros, bc there was no water feature detected\n",
      "Created new mask of zeros, bc there was no water feature detected\n",
      "Created new mask of zeros, bc there was no water feature detected\n",
      "Created new mask of zeros, bc there was no water feature detected\n",
      "Created new mask of zeros, bc there was no water feature detected\n",
      "Created new mask of zeros, bc there was no water feature detected\n",
      "Created new mask of zeros, bc there was no water feature detected\n",
      "Created new mask of zeros, bc there was no water feature detected\n",
      "Created new mask of zeros, bc there was no water feature detected\n",
      "Created new mask of zeros, bc there was no water feature detected\n",
      "Created new mask of zeros, bc there was no water feature detected\n",
      "Created new mask of zeros, bc there was no water feature detected\n",
      "Created new mask of zeros, bc there was no water feature detected\n",
      "Created new mask of zeros, bc there was no water feature detected\n",
      "Created new mask of zeros, bc there was no water feature detected\n",
      "Created new mask of zeros, bc there was no water feature detected\n",
      "Created new mask of zeros, bc there was no water feature detected\n",
      "Created new mask of zeros, bc there was no water feature detected\n",
      "Created new mask of zeros, bc there was no water feature detected\n",
      "Created new mask of zeros, bc there was no water feature detected\n",
      "Created new mask of zeros, bc there was no water feature detected\n",
      "Created new mask of zeros, bc there was no water feature detected\n",
      "Created new mask of zeros, bc there was no water feature detected\n",
      "Created new mask of zeros, bc there was no water feature detected\n",
      "Created new mask of zeros, bc there was no water feature detected\n",
      "Created new mask of zeros, bc there was no water feature detected\n",
      "Created new mask of zeros, bc there was no water feature detected\n",
      "Created new mask of zeros, bc there was no water feature detected\n",
      "Created new mask of zeros, bc there was no water feature detected\n",
      "Created new mask of zeros, bc there was no water feature detected\n",
      "Created new mask of zeros, bc there was no water feature detected\n",
      "Created new mask of zeros, bc there was no water feature detected\n",
      "Created new mask of zeros, bc there was no water feature detected\n",
      "Created new mask of zeros, bc there was no water feature detected\n",
      "Created new mask of zeros, bc there was no water feature detected\n",
      "Created new mask of zeros, bc there was no water feature detected\n",
      "Created new mask of zeros, bc there was no water feature detected\n",
      "Created new mask of zeros, bc there was no water feature detected\n",
      "Created new mask of zeros, bc there was no water feature detected\n",
      "Created new mask of zeros, bc there was no water feature detected\n",
      "Created new mask of zeros, bc there was no water feature detected\n",
      "Created new mask of zeros, bc there was no water feature detected\n",
      "Created new mask of zeros, bc there was no water feature detected\n",
      "Created new mask of zeros, bc there was no water feature detected\n",
      "Created new mask of zeros, bc there was no water feature detected\n",
      "Created new mask of zeros, bc there was no water feature detected\n",
      "Created new mask of zeros, bc there was no water feature detected\n",
      "Created new mask of zeros, bc there was no water feature detected\n",
      "Created new mask of zeros, bc there was no water feature detected\n",
      "Created new mask of zeros, bc there was no water feature detected\n",
      "Created new mask of zeros, bc there was no water feature detected\n",
      "Created new mask of zeros, bc there was no water feature detected\n",
      "Created new mask of zeros, bc there was no water feature detected\n",
      "Created new mask of zeros, bc there was no water feature detected\n",
      "Created new mask of zeros, bc there was no water feature detected\n",
      "\n",
      "Reading EOPatches from: ('2015-05-01', '2015-10-31')\n"
     ]
    },
    {
     "data": {
      "application/vnd.jupyter.widget-view+json": {
       "model_id": "16937ba81d304fe394fa29526e108a7f",
       "version_major": 2,
       "version_minor": 0
      },
      "text/plain": [
       "HBox(children=(IntProgress(value=0, max=55), HTML(value='')))"
      ]
     },
     "metadata": {},
     "output_type": "display_data"
    },
    {
     "name": "stdout",
     "output_type": "stream",
     "text": [
      "Created new mask of zeros, bc there was no water feature detected\n",
      "Created new mask of zeros, bc there was no water feature detected\n",
      "Created new mask of zeros, bc there was no water feature detected\n",
      "Created new mask of zeros, bc there was no water feature detected\n",
      "Created new mask of zeros, bc there was no water feature detected\n",
      "Created new mask of zeros, bc there was no water feature detected\n",
      "Created new mask of zeros, bc there was no water feature detected\n",
      "Created new mask of zeros, bc there was no water feature detected\n",
      "Created new mask of zeros, bc there was no water feature detected\n",
      "Created new mask of zeros, bc there was no water feature detected\n",
      "Created new mask of zeros, bc there was no water feature detected\n",
      "Created new mask of zeros, bc there was no water feature detected\n",
      "Created new mask of zeros, bc there was no water feature detected\n",
      "Created new mask of zeros, bc there was no water feature detected\n",
      "Created new mask of zeros, bc there was no water feature detected\n",
      "Created new mask of zeros, bc there was no water feature detected\n",
      "Created new mask of zeros, bc there was no water feature detected\n",
      "Created new mask of zeros, bc there was no water feature detected\n",
      "Created new mask of zeros, bc there was no water feature detected\n",
      "Created new mask of zeros, bc there was no water feature detected\n",
      "Created new mask of zeros, bc there was no water feature detected\n",
      "Created new mask of zeros, bc there was no water feature detected\n",
      "Created new mask of zeros, bc there was no water feature detected\n",
      "Created new mask of zeros, bc there was no water feature detected\n",
      "\n",
      "Reading EOPatches from: ('2016-05-01', '2016-10-31')\n"
     ]
    },
    {
     "data": {
      "application/vnd.jupyter.widget-view+json": {
       "model_id": "8473f2f9051e4eb08fae7b964739d2db",
       "version_major": 2,
       "version_minor": 0
      },
      "text/plain": [
       "HBox(children=(IntProgress(value=0, max=55), HTML(value='')))"
      ]
     },
     "metadata": {},
     "output_type": "display_data"
    },
    {
     "name": "stdout",
     "output_type": "stream",
     "text": [
      "Created new mask of zeros, bc there was no water feature detected\n",
      "\n",
      "Reading EOPatches from: ('2017-05-01', '2017-10-31')\n"
     ]
    },
    {
     "data": {
      "application/vnd.jupyter.widget-view+json": {
       "model_id": "a6628976a05b4e34a363a020c6104ee0",
       "version_major": 2,
       "version_minor": 0
      },
      "text/plain": [
       "HBox(children=(IntProgress(value=0, max=55), HTML(value='')))"
      ]
     },
     "metadata": {},
     "output_type": "display_data"
    },
    {
     "name": "stdout",
     "output_type": "stream",
     "text": [
      "Created new mask of zeros, bc there was no water feature detected\n",
      "Created new mask of zeros, bc there was no water feature detected\n",
      "Created new mask of zeros, bc there was no water feature detected\n",
      "Created new mask of zeros, bc there was no water feature detected\n",
      "Created new mask of zeros, bc there was no water feature detected\n",
      "Created new mask of zeros, bc there was no water feature detected\n",
      "Created new mask of zeros, bc there was no water feature detected\n",
      "Created new mask of zeros, bc there was no water feature detected\n",
      "Created new mask of zeros, bc there was no water feature detected\n",
      "Created new mask of zeros, bc there was no water feature detected\n",
      "Created new mask of zeros, bc there was no water feature detected\n",
      "Created new mask of zeros, bc there was no water feature detected\n",
      "Created new mask of zeros, bc there was no water feature detected\n",
      "Created new mask of zeros, bc there was no water feature detected\n",
      "Created new mask of zeros, bc there was no water feature detected\n",
      "Created new mask of zeros, bc there was no water feature detected\n",
      "Created new mask of zeros, bc there was no water feature detected\n",
      "Created new mask of zeros, bc there was no water feature detected\n",
      "Created new mask of zeros, bc there was no water feature detected\n",
      "Created new mask of zeros, bc there was no water feature detected\n",
      "Created new mask of zeros, bc there was no water feature detected\n",
      "Created new mask of zeros, bc there was no water feature detected\n",
      "Created new mask of zeros, bc there was no water feature detected\n",
      "Created new mask of zeros, bc there was no water feature detected\n",
      "Created new mask of zeros, bc there was no water feature detected\n",
      "Created new mask of zeros, bc there was no water feature detected\n",
      "Created new mask of zeros, bc there was no water feature detected\n",
      "Created new mask of zeros, bc there was no water feature detected\n",
      "Created new mask of zeros, bc there was no water feature detected\n",
      "Created new mask of zeros, bc there was no water feature detected\n",
      "Created new mask of zeros, bc there was no water feature detected\n",
      "Created new mask of zeros, bc there was no water feature detected\n",
      "Created new mask of zeros, bc there was no water feature detected\n",
      "Created new mask of zeros, bc there was no water feature detected\n",
      "Created new mask of zeros, bc there was no water feature detected\n",
      "Created new mask of zeros, bc there was no water feature detected\n",
      "Created new mask of zeros, bc there was no water feature detected\n",
      "Created new mask of zeros, bc there was no water feature detected\n",
      "Created new mask of zeros, bc there was no water feature detected\n",
      "Created new mask of zeros, bc there was no water feature detected\n",
      "Created new mask of zeros, bc there was no water feature detected\n",
      "Created new mask of zeros, bc there was no water feature detected\n",
      "Created new mask of zeros, bc there was no water feature detected\n",
      "Created new mask of zeros, bc there was no water feature detected\n",
      "Created new mask of zeros, bc there was no water feature detected\n",
      "Created new mask of zeros, bc there was no water feature detected\n",
      "Created new mask of zeros, bc there was no water feature detected\n",
      "Created new mask of zeros, bc there was no water feature detected\n",
      "Created new mask of zeros, bc there was no water feature detected\n",
      "Created new mask of zeros, bc there was no water feature detected\n",
      "Created new mask of zeros, bc there was no water feature detected\n",
      "Created new mask of zeros, bc there was no water feature detected\n",
      "Created new mask of zeros, bc there was no water feature detected\n",
      "Created new mask of zeros, bc there was no water feature detected\n",
      "Created new mask of zeros, bc there was no water feature detected\n",
      "Created new mask of zeros, bc there was no water feature detected\n",
      "Created new mask of zeros, bc there was no water feature detected\n",
      "Created new mask of zeros, bc there was no water feature detected\n",
      "Created new mask of zeros, bc there was no water feature detected\n",
      "\n",
      "Reading EOPatches from: ('2018-05-01', '2018-10-31')\n"
     ]
    },
    {
     "data": {
      "application/vnd.jupyter.widget-view+json": {
       "model_id": "859892c018ba4783b52487598cf4c7ef",
       "version_major": 2,
       "version_minor": 0
      },
      "text/plain": [
       "HBox(children=(IntProgress(value=0, max=55), HTML(value='')))"
      ]
     },
     "metadata": {},
     "output_type": "display_data"
    },
    {
     "name": "stdout",
     "output_type": "stream",
     "text": [
      "Created new mask of zeros, bc there was no water feature detected\n",
      "Created new mask of zeros, bc there was no water feature detected\n",
      "\n",
      "Reading EOPatches from: ('2019-05-01', '2019-10-31')\n"
     ]
    },
    {
     "data": {
      "application/vnd.jupyter.widget-view+json": {
       "model_id": "b2819d6cb5c7413c85dcef09e36eafaf",
       "version_major": 2,
       "version_minor": 0
      },
      "text/plain": [
       "HBox(children=(IntProgress(value=0, max=55), HTML(value='')))"
      ]
     },
     "metadata": {},
     "output_type": "display_data"
    },
    {
     "name": "stdout",
     "output_type": "stream",
     "text": [
      "Created new mask of zeros, bc there was no water feature detected\n",
      "Created new mask of zeros, bc there was no water feature detected\n",
      "Created new mask of zeros, bc there was no water feature detected\n",
      "Created new mask of zeros, bc there was no water feature detected\n",
      "Created new mask of zeros, bc there was no water feature detected\n",
      "Created new mask of zeros, bc there was no water feature detected\n",
      "\n"
     ]
    }
   ],
   "source": [
    "# creating different eo tasks  producing Clouds mask - for sanity check\n",
    "static_threshol_090_eotask = StaticThreshioldingForClouds('CLOUD_MASK_SWIR-1_090', 6, 'LANDSAT_RAW_BANDS', 0.090)\n",
    "static_threshol_100_eotask = StaticThreshioldingForClouds('CLOUD_MASK_SWIR-1_100', 6, 'LANDSAT_RAW_BANDS', 0.100)\n",
    "static_threshol_150_eotask = StaticThreshioldingForClouds('CLOUD_MASK_SWIR-1_150', 6, 'LANDSAT_RAW_BANDS', 0.150)\n",
    "static_threshol_200_eotask = StaticThreshioldingForClouds('CLOUD_MASK_SWIR-1_200', 6, 'LANDSAT_RAW_BANDS', 0.200)\n",
    "static_threshol_300_eotask = StaticThreshioldingForClouds('CLOUD_MASK_SWIR-1_300', 6, 'LANDSAT_RAW_BANDS', 0.300)\n",
    "\n",
    "# application of all eotasks for all eopatches in the a eoworkflow\n",
    "for date_range_landsat in site.DATE_RANGES_LANDSAT_8 :\n",
    "    print('Reading EOPatches from:', date_range_landsat)\n",
    "    eopatches_filepath = io_utils.get_eopatches_dir(site.DATA_PRODUCTS[1], site.SITE_NAME, site.AVAILABLE_CRSs[0], date_range_landsat)\n",
    "    # TASK TO LOAD AND SAVE EXISTING EOPATCHES HAS TO BE CREATED YEARLY (different directories)\n",
    "    load_eotask = LoadTask(eopatches_filepath)\n",
    "    save_eotask = SaveTask(eopatches_filepath, overwrite_permission=OverwritePermission.OVERWRITE_PATCH, compress_level=1)\n",
    "    \n",
    "    # Define the workflow\n",
    "    workflow = LinearWorkflow(\n",
    "    load_eotask,\n",
    "    static_threshol_090_eotask,\n",
    "    static_threshol_100_eotask,\n",
    "    static_threshol_150_eotask,\n",
    "    static_threshol_200_eotask,\n",
    "    static_threshol_300_eotask,\n",
    "    save_eotask\n",
    "    )\n",
    "                      \n",
    "    list_of_available_patches = io_utils.get_list_of_eopatches(eopatches_filepath)\n",
    "    execution_args = []\n",
    "    for eopatch_name in list_of_available_patches:\n",
    "        execution_args.append({\n",
    "        load_eotask: {'eopatch_folder': eopatch_name},\n",
    "        save_eotask: {'eopatch_folder': eopatch_name}\n",
    "        })\n",
    "    \n",
    "    #print(execution_args)                            \n",
    "    executor = EOExecutor(workflow, execution_args, save_logs=True)\n",
    "    executor.run(workers=1, multiprocess=False)\n",
    "\n",
    "    executor.make_report()"
   ]
  }
 ],
 "metadata": {
  "kernelspec": {
   "display_name": "Python 3",
   "language": "python",
   "name": "python3"
  },
  "language_info": {
   "codemirror_mode": {
    "name": "ipython",
    "version": 3
   },
   "file_extension": ".py",
   "mimetype": "text/x-python",
   "name": "python",
   "nbconvert_exporter": "python",
   "pygments_lexer": "ipython3",
   "version": "3.7.3"
  }
 },
 "nbformat": 4,
 "nbformat_minor": 2
}
