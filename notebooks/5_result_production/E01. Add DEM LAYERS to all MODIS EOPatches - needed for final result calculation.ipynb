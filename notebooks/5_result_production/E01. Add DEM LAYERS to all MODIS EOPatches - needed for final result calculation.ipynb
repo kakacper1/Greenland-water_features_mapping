{
 "cells": [
  {
   "cell_type": "markdown",
   "metadata": {},
   "source": [
    "### E01. Add DEM LAYERS to all MODIS EOPatches - needed for final result calculation\n",
    "\n",
    "0. Load required libraries, site dependant constants and utility functions.\n",
    "2. Create EOTasks\n",
    "3. Create and execute EOWorkflow"
   ]
  },
  {
   "cell_type": "markdown",
   "metadata": {},
   "source": [
    "#### 0. Load required libraries, site dependant constants and utility functions."
   ]
  },
  {
   "cell_type": "code",
   "execution_count": 2,
   "metadata": {},
   "outputs": [],
   "source": [
    "from os import listdir\n",
    "from os.path import isfile, join\n",
    "import numpy as np\n",
    "import datetime\n",
    "\n",
    "# EOLearn libraries:\n",
    "from eolearn.core import EOTask, EOPatch, LinearWorkflow, LoadTask, SaveTask, FeatureType, EOExecutor\n",
    "from eolearn.core import OverwritePermission\n",
    "\n",
    "# Add to python path parent dictionary\n",
    "import sys\n",
    "sys.path.append(\"../../\")\n",
    "\n",
    "# load site dependant constants (HERE YOU CAN CHOOSE DIFFERENT LOCATION)\n",
    "from aoi_sites import upe_promice_area as site\n",
    "\n",
    "# load utility functions\n",
    "from utils import io_functions as io_utils\n",
    "from utils import plot_functions as plot_utils"
   ]
  },
  {
   "cell_type": "code",
   "execution_count": 3,
   "metadata": {},
   "outputs": [
    {
     "name": "stdout",
     "output_type": "stream",
     "text": [
      "LANDSAT_8\n",
      "MODIS\n",
      "('2013-05-01', '2013-10-31')\n",
      "('2013-04-26', '2013-11-05')\n"
     ]
    }
   ],
   "source": [
    "LANDSAT_PRODUCT =  site.DATA_PRODUCTS[1]\n",
    "print(LANDSAT_PRODUCT)\n",
    "MODIS_PRODUCT = site.DATA_PRODUCTS[0]\n",
    "print(MODIS_PRODUCT)\n",
    "LANDSAT_DATE_RANGE = site.DATE_RANGES_LANDSAT_8[0]\n",
    "print(LANDSAT_DATE_RANGE)\n",
    "MODIS_DATE_RANGE = site.DATE_RANGES_MODIS[0]\n",
    "print(MODIS_DATE_RANGE)"
   ]
  },
  {
   "cell_type": "code",
   "execution_count": 4,
   "metadata": {},
   "outputs": [],
   "source": [
    "exemplary_landsat = EOPatch.load(io_utils.get_eopatches_dir(LANDSAT_PRODUCT, site.SITE_NAME, site.AVAILABLE_CRSs[0], LANDSAT_DATE_RANGE)+'2969_maxcc_0.05_x-3_y-130')\n",
    "exemplary_modis = EOPatch.load(io_utils.get_eopatches_dir(MODIS_PRODUCT, site.SITE_NAME, site.AVAILABLE_CRSs[0], MODIS_DATE_RANGE)+'2969_maxcc_0.05_x-3_y-130')"
   ]
  },
  {
   "cell_type": "code",
   "execution_count": 5,
   "metadata": {},
   "outputs": [
    {
     "data": {
      "text/plain": [
       "EOPatch(\n",
       "  data: {\n",
       "    DATASET_CLD_200_dil_6_str2: numpy.ndarray(shape=(7, 333, 333, 11), dtype=float32)\n",
       "    LANDSAT_EUC_NORM_RAW_BANDS: numpy.ndarray(shape=(7, 333, 333, 1), dtype=float32)\n",
       "    LANDSAT_NDWI: numpy.ndarray(shape=(7, 333, 333, 1), dtype=float32)\n",
       "    LANDSAT_NDWI_GREEN_NIR: numpy.ndarray(shape=(7, 333, 333, 1), dtype=float32)\n",
       "    LANDSAT_NDWI_ICE: numpy.ndarray(shape=(7, 333, 333, 1), dtype=float32)\n",
       "    LANDSAT_NDWI_NIR_SWIR_1: numpy.ndarray(shape=(7, 333, 333, 1), dtype=float32)\n",
       "    LANDSAT_NDWI_NIR_SWIR_2: numpy.ndarray(shape=(7, 333, 333, 1), dtype=float32)\n",
       "    LANDSAT_QA_LAYERS: numpy.ndarray(shape=(7, 333, 333, 5), dtype=float32)\n",
       "    LANDSAT_RAW_BANDS: numpy.ndarray(shape=(7, 333, 333, 11), dtype=float32)\n",
       "    MODIS_EUC_NORM_RAW_BANDS: numpy.ndarray(shape=(7, 333, 333, 1), dtype=float32)\n",
       "    MODIS_NDWI: numpy.ndarray(shape=(7, 333, 333, 1), dtype=float32)\n",
       "    MODIS_NRB: numpy.ndarray(shape=(7, 333, 333, 1), dtype=float32)\n",
       "    MODIS_RAW_BANDS_DAY_0: numpy.ndarray(shape=(7, 333, 333, 7), dtype=float32)\n",
       "    MODIS_RAW_BANDS_DAY_AFTER: numpy.ndarray(shape=(7, 333, 333, 7), dtype=float32)\n",
       "    MODIS_RAW_BANDS_DAY_BEFORE: numpy.ndarray(shape=(7, 333, 333, 7), dtype=float32)\n",
       "  }\n",
       "  mask: {\n",
       "    CLOUD_MASK_SWIR-1_090: numpy.ndarray(shape=(7, 333, 333, 1), dtype=bool)\n",
       "    CLOUD_MASK_SWIR-1_100: numpy.ndarray(shape=(7, 333, 333, 1), dtype=bool)\n",
       "    CLOUD_MASK_SWIR-1_100_dil_6_str1: numpy.ndarray(shape=(7, 333, 333, 1), dtype=bool)\n",
       "    CLOUD_MASK_SWIR-1_100_dil_6_str2: numpy.ndarray(shape=(7, 333, 333, 1), dtype=bool)\n",
       "    CLOUD_MASK_SWIR-1_150: numpy.ndarray(shape=(7, 333, 333, 1), dtype=bool)\n",
       "    CLOUD_MASK_SWIR-1_150_dil_6_str1: numpy.ndarray(shape=(7, 333, 333, 1), dtype=bool)\n",
       "    CLOUD_MASK_SWIR-1_150_dil_6_str2: numpy.ndarray(shape=(7, 333, 333, 1), dtype=bool)\n",
       "    CLOUD_MASK_SWIR-1_200: numpy.ndarray(shape=(7, 333, 333, 1), dtype=bool)\n",
       "    CLOUD_MASK_SWIR-1_200_dil_6_str1: numpy.ndarray(shape=(7, 333, 333, 1), dtype=bool)\n",
       "    CLOUD_MASK_SWIR-1_200_dil_6_str2: numpy.ndarray(shape=(7, 333, 333, 1), dtype=bool)\n",
       "    CLOUD_MASK_SWIR-1_300: numpy.ndarray(shape=(7, 333, 333, 1), dtype=bool)\n",
       "    CLOUD_MASK_SWIR-1_300_dil_10_str2: numpy.ndarray(shape=(7, 333, 333, 1), dtype=bool)\n",
       "    CLOUD_MASK_SWIR-1_300_dil_6_str1: numpy.ndarray(shape=(7, 333, 333, 1), dtype=bool)\n",
       "    CLOUD_MASK_SWIR-1_300_dil_6_str2: numpy.ndarray(shape=(7, 333, 333, 1), dtype=bool)\n",
       "    INVALID_DATA_MASK_CLD_150_STR1-IS_LDS-IS_MDS: numpy.ndarray(shape=(7, 333, 333, 1), dtype=bool)\n",
       "    INVALID_DATA_MASK_CLD_150_STR2-IS_LDS-IS_MDS: numpy.ndarray(shape=(7, 333, 333, 1), dtype=bool)\n",
       "    INVALID_DATA_MASK_CLD_200_STR2-IS_LDS-IS_MDS: numpy.ndarray(shape=(7, 333, 333, 1), dtype=bool)\n",
       "    IS_DATA: numpy.ndarray(shape=(7, 333, 333, 1), dtype=bool)\n",
       "    MODIS_IS_DATA_DAY_0: numpy.ndarray(shape=(7, 333, 333, 1), dtype=bool)\n",
       "    MODIS_IS_DATA_DAY_AFTER: numpy.ndarray(shape=(7, 333, 333, 1), dtype=bool)\n",
       "    MODIS_IS_DATA_DAY_BEFORE: numpy.ndarray(shape=(7, 333, 333, 1), dtype=bool)\n",
       "    WATER_MASK_ICE_ST_010: numpy.ndarray(shape=(7, 333, 333, 1), dtype=bool)\n",
       "    WATER_MASK_ICE_ST_015: numpy.ndarray(shape=(7, 333, 333, 1), dtype=bool)\n",
       "    WATER_MASK_ICE_ST_020: numpy.ndarray(shape=(7, 333, 333, 1), dtype=bool)\n",
       "    WATER_MASK_ICE_ST_025: numpy.ndarray(shape=(7, 333, 333, 1), dtype=bool)\n",
       "    WATER_MASK_ICE_ST_030: numpy.ndarray(shape=(7, 333, 333, 1), dtype=bool)\n",
       "    WATER_MASK_ST_010: numpy.ndarray(shape=(7, 333, 333, 1), dtype=bool)\n",
       "    WATER_MASK_ST_015: numpy.ndarray(shape=(7, 333, 333, 1), dtype=bool)\n",
       "    WATER_MASK_ST_020: numpy.ndarray(shape=(7, 333, 333, 1), dtype=bool)\n",
       "    WATER_MASK_ST_025: numpy.ndarray(shape=(7, 333, 333, 1), dtype=bool)\n",
       "    WATER_MASK_ST_030: numpy.ndarray(shape=(7, 333, 333, 1), dtype=bool)\n",
       "  }\n",
       "  scalar: {}\n",
       "  label: {}\n",
       "  vector: {}\n",
       "  data_timeless: {\n",
       "    DEM_RAW_LAYER: numpy.ndarray(shape=(333, 333, 1), dtype=float32)\n",
       "    DEM_SLOPE_LAYER: numpy.ndarray(shape=(333, 333, 1), dtype=float32)\n",
       "  }\n",
       "  mask_timeless: {\n",
       "    CLOUD_MASK_SWIR-1_150_dil_6_str2_COUNT: numpy.ndarray(shape=(333, 333, 1), dtype=int64)\n",
       "    DEM_SLOPE_MASK: numpy.ndarray(shape=(333, 333, 1), dtype=bool)\n",
       "    IS_DATA_COUNT: numpy.ndarray(shape=(333, 333, 1), dtype=int64)\n",
       "    LANDSAT_QA_CIRRUS_COUNT: numpy.ndarray(shape=(333, 333, 1), dtype=int64)\n",
       "    LANDSAT_QA_CLOUDS_SHADOW_COUNT: numpy.ndarray(shape=(333, 333, 1), dtype=int64)\n",
       "    LANDSAT_QA_CLOUD_AND_AROUND_COUNT: numpy.ndarray(shape=(333, 333, 1), dtype=int64)\n",
       "    LANDSAT_QA_CLOUD_COUNT: numpy.ndarray(shape=(333, 333, 1), dtype=int64)\n",
       "    LANDSAT_QA_SNOW_ICE_COUNT: numpy.ndarray(shape=(333, 333, 1), dtype=int64)\n",
       "    MODIS_IS_DATA_DAY_0_COUNT: numpy.ndarray(shape=(333, 333, 1), dtype=int64)\n",
       "    WATER_MASK_ST_025_COUNT: numpy.ndarray(shape=(333, 333, 1), dtype=int64)\n",
       "    WATER_MASK_ST_025_COUNT_FR_1: numpy.ndarray(shape=(333, 333, 1), dtype=int32)\n",
       "    WATER_MASK_ST_025_FR_1_MAPPED_1: numpy.ndarray(shape=(333, 333, 1), dtype=int32)\n",
       "    WATER_MASK_ST_025_FR_1_MAPPED_2: numpy.ndarray(shape=(333, 333, 1), dtype=int32)\n",
       "    WATER_MASK_ST_025_FR_1_MAPPED_3: numpy.ndarray(shape=(333, 333, 1), dtype=int32)\n",
       "    WATER_MASK_ST_025_FR_1_MAPPED_4: numpy.ndarray(shape=(333, 333, 1), dtype=int32)\n",
       "    WATER_MASK_ST_025_FR_1_MAPPED_5: numpy.ndarray(shape=(333, 333, 1), dtype=int32)\n",
       "  }\n",
       "  scalar_timeless: {\n",
       "    COVERAGE_CLD_150_STR1-IS_LDS-IS_MDS: numpy.ndarray(shape=(7,), dtype=float64)\n",
       "    COVERAGE_CLD_150_STR2-IS_LDS-IS_MDS: numpy.ndarray(shape=(7,), dtype=float64)\n",
       "    COVERAGE_CLD_200_STR2-IS_LDS-IS_MDS: numpy.ndarray(shape=(7,), dtype=float64)\n",
       "    WATER_MASK_ICE_ST_025_COVERAGE: numpy.ndarray(shape=(7,), dtype=uint32)\n",
       "    WATER_MASK_ST_010_COVERAGE: numpy.ndarray(shape=(7,), dtype=uint32)\n",
       "    WATER_MASK_ST_025_COVERAGE: numpy.ndarray(shape=(7,), dtype=uint32)\n",
       "  }\n",
       "  label_timeless: {}\n",
       "  vector_timeless: {}\n",
       "  meta_info: {\n",
       "    DEM_RAW_AVG: 624.9419\n",
       "    DEM_RAW_MAX: 1234.0\n",
       "    DEM_RAW_MED: 598.0\n",
       "    DEM_RAW_MIN: 27.0\n",
       "    DEM_RAW_STD: 327.25894\n",
       "    DEM_RAW_VAR: 107098.41\n",
       "    index_x: 3\n",
       "    index_y: 130\n",
       "    maxcc: '0.05'\n",
       "    patch_index: 2969\n",
       "    service_type: 'wcs'\n",
       "    site_name: 'UPE_PROMICE'\n",
       "    size_x: '30m'\n",
       "    size_y: '30m'\n",
       "    time_difference: datetime.timedelta(seconds=7200)\n",
       "    time_interval: ('2013-05-01', '2013-10-31')\n",
       "  }\n",
       "  bbox: BBox(((400000.0, 8030000.0), (410000.0, 8040000.0)), crs=EPSG:32622)\n",
       "  timestamp: [datetime.datetime(2013, 5, 25, 15, 26, 35), ..., datetime.datetime(2013, 9, 30, 15, 26, 24)], length=7\n",
       ")"
      ]
     },
     "execution_count": 5,
     "metadata": {},
     "output_type": "execute_result"
    }
   ],
   "source": [
    "exemplary_landsat"
   ]
  },
  {
   "cell_type": "code",
   "execution_count": 6,
   "metadata": {},
   "outputs": [
    {
     "data": {
      "text/plain": [
       "EOPatch(\n",
       "  data: {\n",
       "    MODIS_EUC_NORM_RAW_BANDS: numpy.ndarray(shape=(194, 333, 333, 1), dtype=float32)\n",
       "    MODIS_NDWI: numpy.ndarray(shape=(194, 333, 333, 1), dtype=float32)\n",
       "    MODIS_NRB: numpy.ndarray(shape=(194, 333, 333, 1), dtype=float32)\n",
       "    MODIS_RAW_BANDS: numpy.ndarray(shape=(194, 333, 333, 7), dtype=float32)\n",
       "  }\n",
       "  mask: {\n",
       "    IS_DATA: numpy.ndarray(shape=(194, 333, 333, 1), dtype=bool)\n",
       "  }\n",
       "  scalar: {}\n",
       "  label: {}\n",
       "  vector: {}\n",
       "  data_timeless: {}\n",
       "  mask_timeless: {}\n",
       "  scalar_timeless: {}\n",
       "  label_timeless: {}\n",
       "  vector_timeless: {}\n",
       "  meta_info: {\n",
       "    index_x: 3\n",
       "    index_y: 130\n",
       "    maxcc: '0.05'\n",
       "    patch_index: 2969\n",
       "    service_type: 'wcs'\n",
       "    site_name: 'UPE_PROMICE'\n",
       "    size_x: '30m'\n",
       "    size_y: '30m'\n",
       "    time_difference: datetime.timedelta(seconds=7200)\n",
       "    time_interval: ('2013-04-26', '2013-11-05')\n",
       "  }\n",
       "  bbox: BBox(((400000.0, 8030000.0), (410000.0, 8040000.0)), crs=EPSG:32622)\n",
       "  timestamp: [datetime.datetime(2013, 4, 26, 12, 0), ..., datetime.datetime(2013, 11, 5, 12, 0)], length=194\n",
       ")"
      ]
     },
     "execution_count": 6,
     "metadata": {},
     "output_type": "execute_result"
    }
   ],
   "source": [
    "exemplary_modis"
   ]
  },
  {
   "cell_type": "markdown",
   "metadata": {},
   "source": [
    "#### 1. Create EOTasks:"
   ]
  },
  {
   "cell_type": "code",
   "execution_count": 24,
   "metadata": {},
   "outputs": [],
   "source": [
    "# define second merge task for masks:\n",
    "\n",
    "class AppendCorrespondingDataTimeless(EOTask):   \n",
    "    \"\"\"\n",
    "    The task extracts one layer from data of one eopatch and appends it on the other eopatch\n",
    "    \"\"\"\n",
    "    def __init__(self, exported_feature_name, new_feature_name ):\n",
    "        self.exported_feature_name = exported_feature_name\n",
    "        self.new_feature_name = new_feature_name\n",
    "        \n",
    "    def execute(self, eopatch, second_eopatch ):\n",
    "        \n",
    "        # extract mask:\n",
    "        extracted_mask = second_eopatch.data_timeless[self.exported_feature_name]\n",
    "        #print(extracted_mask.shape)\n",
    "        # append data:add_feature(FeatureType.DATA, 'MODIS_RAW_DAY_0', data)\n",
    "        eopatch.add_feature(FeatureType.DATA_TIMELESS, self.new_feature_name, extracted_mask)\n",
    "        \n",
    "        return eopatch"
   ]
  },
  {
   "cell_type": "code",
   "execution_count": 25,
   "metadata": {},
   "outputs": [],
   "source": [
    "append_data_dem_raw = AppendCorrespondingDataTimeless('DEM_RAW_LAYER', 'DEM_RAW_LAYER')\n",
    "append_data_slope  = AppendCorrespondingDataTimeless('DEM_SLOPE_LAYER', 'DEM_SLOPE_LAYER')"
   ]
  },
  {
   "cell_type": "markdown",
   "metadata": {},
   "source": [
    "#### 2. Create and execute EOWorkflow"
   ]
  },
  {
   "cell_type": "code",
   "execution_count": 26,
   "metadata": {},
   "outputs": [],
   "source": [
    "# define a function to chunk the indexes, when applysing all at once, there are problems.\n",
    "def chunkIt(seq, num):\n",
    "    avg = len(seq) / float(num)\n",
    "    out = []\n",
    "    last = 0.0\n",
    "\n",
    "    while last < len(seq):\n",
    "        out.append(seq[int(last):int(last + avg)])\n",
    "        last += avg\n",
    "\n",
    "    return out"
   ]
  },
  {
   "cell_type": "code",
   "execution_count": 27,
   "metadata": {},
   "outputs": [
    {
     "name": "stdout",
     "output_type": "stream",
     "text": [
      "0\n",
      "1\n",
      "2\n",
      "3\n",
      "4\n",
      "5\n",
      "6\n"
     ]
    },
    {
     "data": {
      "text/plain": [
       "[None, None, None, None, None, None, None]"
      ]
     },
     "execution_count": 27,
     "metadata": {},
     "output_type": "execute_result"
    }
   ],
   "source": [
    "[print(i)for i in range(7) ]"
   ]
  },
  {
   "cell_type": "code",
   "execution_count": 28,
   "metadata": {},
   "outputs": [],
   "source": [
    "date_ranges_tuple = [(site.DATE_RANGES_LANDSAT_8[i],site.DATE_RANGES_MODIS[i] )for i in range(7)]"
   ]
  },
  {
   "cell_type": "code",
   "execution_count": 29,
   "metadata": {},
   "outputs": [
    {
     "data": {
      "text/plain": [
       "[(('2013-05-01', '2013-10-31'), ('2013-04-26', '2013-11-05')),\n",
       " (('2014-05-01', '2014-10-31'), ('2014-04-26', '2014-11-05')),\n",
       " (('2015-05-01', '2015-10-31'), ('2015-04-26', '2015-11-05')),\n",
       " (('2016-05-01', '2016-10-31'), ('2016-04-26', '2016-11-05')),\n",
       " (('2017-05-01', '2017-10-31'), ('2017-04-26', '2017-11-05')),\n",
       " (('2018-05-01', '2018-10-31'), ('2018-04-26', '2018-11-05')),\n",
       " (('2019-05-01', '2019-10-31'), ('2019-04-26', '2019-11-05'))]"
      ]
     },
     "execution_count": 29,
     "metadata": {},
     "output_type": "execute_result"
    }
   ],
   "source": [
    "date_ranges_tuple"
   ]
  },
  {
   "cell_type": "code",
   "execution_count": 43,
   "metadata": {},
   "outputs": [
    {
     "name": "stdout",
     "output_type": "stream",
     "text": [
      "Reading EOPatches from: ('2013-05-01', '2013-10-31')\n",
      "Doing now following indexes: ['2969_maxcc_0.05_x-3_y-130', '2970_maxcc_0.05_x-3_y-131', '2971_maxcc_0.05_x-3_y-132', '2972_maxcc_0.05_x-3_y-133', '2973_maxcc_0.05_x-3_y-134', '2974_maxcc_0.05_x-3_y-135', '2975_maxcc_0.05_x-3_y-136', '2976_maxcc_0.05_x-3_y-137', '2977_maxcc_0.05_x-3_y-138', '2978_maxcc_0.05_x-3_y-139', '2979_maxcc_0.05_x-3_y-140']\n",
      "currently_loaded 2969_maxcc_0.05_x-3_y-130\n",
      "currently_loaded 2970_maxcc_0.05_x-3_y-131\n",
      "currently_loaded 2971_maxcc_0.05_x-3_y-132\n",
      "currently_loaded 2972_maxcc_0.05_x-3_y-133\n",
      "currently_loaded 2973_maxcc_0.05_x-3_y-134\n",
      "currently_loaded 2974_maxcc_0.05_x-3_y-135\n",
      "currently_loaded 2975_maxcc_0.05_x-3_y-136\n",
      "currently_loaded 2976_maxcc_0.05_x-3_y-137\n",
      "currently_loaded 2977_maxcc_0.05_x-3_y-138\n",
      "currently_loaded 2978_maxcc_0.05_x-3_y-139\n",
      "currently_loaded 2979_maxcc_0.05_x-3_y-140\n"
     ]
    },
    {
     "data": {
      "application/vnd.jupyter.widget-view+json": {
       "model_id": "015eaffe22d94eb1a7240bd654b2d6c1",
       "version_major": 2,
       "version_minor": 0
      },
      "text/plain": [
       "HBox(children=(IntProgress(value=0, max=11), HTML(value='')))"
      ]
     },
     "metadata": {},
     "output_type": "display_data"
    },
    {
     "name": "stdout",
     "output_type": "stream",
     "text": [
      "\n",
      "Doing now following indexes: ['3059_maxcc_0.05_x-4_y-130', '3060_maxcc_0.05_x-4_y-131', '3061_maxcc_0.05_x-4_y-132', '3062_maxcc_0.05_x-4_y-133', '3063_maxcc_0.05_x-4_y-134', '3064_maxcc_0.05_x-4_y-135', '3065_maxcc_0.05_x-4_y-136', '3066_maxcc_0.05_x-4_y-137', '3067_maxcc_0.05_x-4_y-138', '3068_maxcc_0.05_x-4_y-139', '3069_maxcc_0.05_x-4_y-140']\n",
      "currently_loaded 3059_maxcc_0.05_x-4_y-130\n",
      "currently_loaded 3060_maxcc_0.05_x-4_y-131\n",
      "currently_loaded 3061_maxcc_0.05_x-4_y-132\n",
      "currently_loaded 3062_maxcc_0.05_x-4_y-133\n",
      "currently_loaded 3063_maxcc_0.05_x-4_y-134\n",
      "currently_loaded 3064_maxcc_0.05_x-4_y-135\n",
      "currently_loaded 3065_maxcc_0.05_x-4_y-136\n",
      "currently_loaded 3066_maxcc_0.05_x-4_y-137\n",
      "currently_loaded 3067_maxcc_0.05_x-4_y-138\n",
      "currently_loaded 3068_maxcc_0.05_x-4_y-139\n",
      "currently_loaded 3069_maxcc_0.05_x-4_y-140\n"
     ]
    },
    {
     "data": {
      "application/vnd.jupyter.widget-view+json": {
       "model_id": "e83ed96fb3784a678fd2c84c44b8e79e",
       "version_major": 2,
       "version_minor": 0
      },
      "text/plain": [
       "HBox(children=(IntProgress(value=0, max=11), HTML(value='')))"
      ]
     },
     "metadata": {},
     "output_type": "display_data"
    },
    {
     "name": "stdout",
     "output_type": "stream",
     "text": [
      "\n",
      "Doing now following indexes: ['3172_maxcc_0.05_x-5_y-130', '3173_maxcc_0.05_x-5_y-131', '3174_maxcc_0.05_x-5_y-132', '3175_maxcc_0.05_x-5_y-133', '3176_maxcc_0.05_x-5_y-134', '3177_maxcc_0.05_x-5_y-135', '3178_maxcc_0.05_x-5_y-136', '3179_maxcc_0.05_x-5_y-137', '3180_maxcc_0.05_x-5_y-138', '3181_maxcc_0.05_x-5_y-139', '3182_maxcc_0.05_x-5_y-140']\n",
      "currently_loaded 3172_maxcc_0.05_x-5_y-130\n",
      "currently_loaded 3173_maxcc_0.05_x-5_y-131\n",
      "currently_loaded 3174_maxcc_0.05_x-5_y-132\n",
      "currently_loaded 3175_maxcc_0.05_x-5_y-133\n",
      "currently_loaded 3176_maxcc_0.05_x-5_y-134\n",
      "currently_loaded 3177_maxcc_0.05_x-5_y-135\n",
      "currently_loaded 3178_maxcc_0.05_x-5_y-136\n",
      "currently_loaded 3179_maxcc_0.05_x-5_y-137\n",
      "currently_loaded 3180_maxcc_0.05_x-5_y-138\n",
      "currently_loaded 3181_maxcc_0.05_x-5_y-139\n",
      "currently_loaded 3182_maxcc_0.05_x-5_y-140\n"
     ]
    },
    {
     "data": {
      "application/vnd.jupyter.widget-view+json": {
       "model_id": "505bc7d372a24388993f4e77e08290f2",
       "version_major": 2,
       "version_minor": 0
      },
      "text/plain": [
       "HBox(children=(IntProgress(value=0, max=11), HTML(value='')))"
      ]
     },
     "metadata": {},
     "output_type": "display_data"
    },
    {
     "name": "stdout",
     "output_type": "stream",
     "text": [
      "\n",
      "Doing now following indexes: ['3306_maxcc_0.05_x-6_y-130', '3307_maxcc_0.05_x-6_y-131', '3308_maxcc_0.05_x-6_y-132', '3309_maxcc_0.05_x-6_y-133', '3310_maxcc_0.05_x-6_y-134', '3311_maxcc_0.05_x-6_y-135', '3312_maxcc_0.05_x-6_y-136', '3313_maxcc_0.05_x-6_y-137', '3314_maxcc_0.05_x-6_y-138', '3315_maxcc_0.05_x-6_y-139', '3316_maxcc_0.05_x-6_y-140']\n",
      "currently_loaded 3306_maxcc_0.05_x-6_y-130\n",
      "currently_loaded 3307_maxcc_0.05_x-6_y-131\n",
      "currently_loaded 3308_maxcc_0.05_x-6_y-132\n",
      "currently_loaded 3309_maxcc_0.05_x-6_y-133\n",
      "currently_loaded 3310_maxcc_0.05_x-6_y-134\n",
      "currently_loaded 3311_maxcc_0.05_x-6_y-135\n",
      "currently_loaded 3312_maxcc_0.05_x-6_y-136\n",
      "currently_loaded 3313_maxcc_0.05_x-6_y-137\n",
      "currently_loaded 3314_maxcc_0.05_x-6_y-138\n",
      "currently_loaded 3315_maxcc_0.05_x-6_y-139\n",
      "currently_loaded 3316_maxcc_0.05_x-6_y-140\n"
     ]
    },
    {
     "data": {
      "application/vnd.jupyter.widget-view+json": {
       "model_id": "8b4cd3af2e9540518cc8d17d5e24bfe9",
       "version_major": 2,
       "version_minor": 0
      },
      "text/plain": [
       "HBox(children=(IntProgress(value=0, max=11), HTML(value='')))"
      ]
     },
     "metadata": {},
     "output_type": "display_data"
    },
    {
     "name": "stdout",
     "output_type": "stream",
     "text": [
      "\n",
      "Doing now following indexes: ['3469_maxcc_0.05_x-7_y-130', '3470_maxcc_0.05_x-7_y-131', '3471_maxcc_0.05_x-7_y-132', '3472_maxcc_0.05_x-7_y-133', '3473_maxcc_0.05_x-7_y-134', '3474_maxcc_0.05_x-7_y-135', '3475_maxcc_0.05_x-7_y-136', '3476_maxcc_0.05_x-7_y-137', '3477_maxcc_0.05_x-7_y-138', '3478_maxcc_0.05_x-7_y-139', '3479_maxcc_0.05_x-7_y-140']\n",
      "currently_loaded 3469_maxcc_0.05_x-7_y-130\n",
      "currently_loaded 3470_maxcc_0.05_x-7_y-131\n",
      "currently_loaded 3471_maxcc_0.05_x-7_y-132\n",
      "currently_loaded 3472_maxcc_0.05_x-7_y-133\n",
      "currently_loaded 3473_maxcc_0.05_x-7_y-134\n",
      "currently_loaded 3474_maxcc_0.05_x-7_y-135\n",
      "currently_loaded 3475_maxcc_0.05_x-7_y-136\n",
      "currently_loaded 3476_maxcc_0.05_x-7_y-137\n",
      "currently_loaded 3477_maxcc_0.05_x-7_y-138\n",
      "currently_loaded 3478_maxcc_0.05_x-7_y-139\n",
      "currently_loaded 3479_maxcc_0.05_x-7_y-140\n"
     ]
    },
    {
     "data": {
      "application/vnd.jupyter.widget-view+json": {
       "model_id": "ba0c0fc43c584ad4a9105b042a35ea36",
       "version_major": 2,
       "version_minor": 0
      },
      "text/plain": [
       "HBox(children=(IntProgress(value=0, max=11), HTML(value='')))"
      ]
     },
     "metadata": {},
     "output_type": "display_data"
    },
    {
     "name": "stdout",
     "output_type": "stream",
     "text": [
      "\n",
      "Reading EOPatches from: ('2014-05-01', '2014-10-31')\n",
      "Doing now following indexes: ['2969_maxcc_0.05_x-3_y-130', '2970_maxcc_0.05_x-3_y-131', '2971_maxcc_0.05_x-3_y-132', '2972_maxcc_0.05_x-3_y-133', '2973_maxcc_0.05_x-3_y-134', '2974_maxcc_0.05_x-3_y-135', '2975_maxcc_0.05_x-3_y-136', '2976_maxcc_0.05_x-3_y-137', '2977_maxcc_0.05_x-3_y-138', '2978_maxcc_0.05_x-3_y-139', '2979_maxcc_0.05_x-3_y-140']\n",
      "currently_loaded 2969_maxcc_0.05_x-3_y-130\n",
      "currently_loaded 2970_maxcc_0.05_x-3_y-131\n",
      "currently_loaded 2971_maxcc_0.05_x-3_y-132\n",
      "currently_loaded 2972_maxcc_0.05_x-3_y-133\n",
      "currently_loaded 2973_maxcc_0.05_x-3_y-134\n",
      "currently_loaded 2974_maxcc_0.05_x-3_y-135\n",
      "currently_loaded 2975_maxcc_0.05_x-3_y-136\n",
      "currently_loaded 2976_maxcc_0.05_x-3_y-137\n",
      "currently_loaded 2977_maxcc_0.05_x-3_y-138\n",
      "currently_loaded 2978_maxcc_0.05_x-3_y-139\n",
      "currently_loaded 2979_maxcc_0.05_x-3_y-140\n"
     ]
    },
    {
     "data": {
      "application/vnd.jupyter.widget-view+json": {
       "model_id": "a2609494feb046d995a47794caac34a3",
       "version_major": 2,
       "version_minor": 0
      },
      "text/plain": [
       "HBox(children=(IntProgress(value=0, max=11), HTML(value='')))"
      ]
     },
     "metadata": {},
     "output_type": "display_data"
    },
    {
     "name": "stdout",
     "output_type": "stream",
     "text": [
      "\n",
      "Doing now following indexes: ['3059_maxcc_0.05_x-4_y-130', '3060_maxcc_0.05_x-4_y-131', '3061_maxcc_0.05_x-4_y-132', '3062_maxcc_0.05_x-4_y-133', '3063_maxcc_0.05_x-4_y-134', '3064_maxcc_0.05_x-4_y-135', '3065_maxcc_0.05_x-4_y-136', '3066_maxcc_0.05_x-4_y-137', '3067_maxcc_0.05_x-4_y-138', '3068_maxcc_0.05_x-4_y-139', '3069_maxcc_0.05_x-4_y-140']\n",
      "currently_loaded 3059_maxcc_0.05_x-4_y-130\n",
      "currently_loaded 3060_maxcc_0.05_x-4_y-131\n",
      "currently_loaded 3061_maxcc_0.05_x-4_y-132\n",
      "currently_loaded 3062_maxcc_0.05_x-4_y-133\n",
      "currently_loaded 3063_maxcc_0.05_x-4_y-134\n",
      "currently_loaded 3064_maxcc_0.05_x-4_y-135\n",
      "currently_loaded 3065_maxcc_0.05_x-4_y-136\n",
      "currently_loaded 3066_maxcc_0.05_x-4_y-137\n",
      "currently_loaded 3067_maxcc_0.05_x-4_y-138\n",
      "currently_loaded 3068_maxcc_0.05_x-4_y-139\n",
      "currently_loaded 3069_maxcc_0.05_x-4_y-140\n"
     ]
    },
    {
     "data": {
      "application/vnd.jupyter.widget-view+json": {
       "model_id": "472e701f586d491bb69d0f6d10a0e5ef",
       "version_major": 2,
       "version_minor": 0
      },
      "text/plain": [
       "HBox(children=(IntProgress(value=0, max=11), HTML(value='')))"
      ]
     },
     "metadata": {},
     "output_type": "display_data"
    },
    {
     "name": "stdout",
     "output_type": "stream",
     "text": [
      "\n",
      "Doing now following indexes: ['3172_maxcc_0.05_x-5_y-130', '3173_maxcc_0.05_x-5_y-131', '3174_maxcc_0.05_x-5_y-132', '3175_maxcc_0.05_x-5_y-133', '3176_maxcc_0.05_x-5_y-134', '3177_maxcc_0.05_x-5_y-135', '3178_maxcc_0.05_x-5_y-136', '3179_maxcc_0.05_x-5_y-137', '3180_maxcc_0.05_x-5_y-138', '3181_maxcc_0.05_x-5_y-139', '3182_maxcc_0.05_x-5_y-140']\n",
      "currently_loaded 3172_maxcc_0.05_x-5_y-130\n",
      "currently_loaded 3173_maxcc_0.05_x-5_y-131\n",
      "currently_loaded 3174_maxcc_0.05_x-5_y-132\n",
      "currently_loaded 3175_maxcc_0.05_x-5_y-133\n",
      "currently_loaded 3176_maxcc_0.05_x-5_y-134\n",
      "currently_loaded 3177_maxcc_0.05_x-5_y-135\n",
      "currently_loaded 3178_maxcc_0.05_x-5_y-136\n",
      "currently_loaded 3179_maxcc_0.05_x-5_y-137\n",
      "currently_loaded 3180_maxcc_0.05_x-5_y-138\n",
      "currently_loaded 3181_maxcc_0.05_x-5_y-139\n",
      "currently_loaded 3182_maxcc_0.05_x-5_y-140\n"
     ]
    },
    {
     "data": {
      "application/vnd.jupyter.widget-view+json": {
       "model_id": "a8ae3eb0821d4d699e4526fe0c20200d",
       "version_major": 2,
       "version_minor": 0
      },
      "text/plain": [
       "HBox(children=(IntProgress(value=0, max=11), HTML(value='')))"
      ]
     },
     "metadata": {},
     "output_type": "display_data"
    },
    {
     "name": "stdout",
     "output_type": "stream",
     "text": [
      "\n",
      "Doing now following indexes: ['3306_maxcc_0.05_x-6_y-130', '3307_maxcc_0.05_x-6_y-131', '3308_maxcc_0.05_x-6_y-132', '3309_maxcc_0.05_x-6_y-133', '3310_maxcc_0.05_x-6_y-134', '3311_maxcc_0.05_x-6_y-135', '3312_maxcc_0.05_x-6_y-136', '3313_maxcc_0.05_x-6_y-137', '3314_maxcc_0.05_x-6_y-138', '3315_maxcc_0.05_x-6_y-139', '3316_maxcc_0.05_x-6_y-140']\n",
      "currently_loaded 3306_maxcc_0.05_x-6_y-130\n",
      "currently_loaded 3307_maxcc_0.05_x-6_y-131\n",
      "currently_loaded 3308_maxcc_0.05_x-6_y-132\n",
      "currently_loaded 3309_maxcc_0.05_x-6_y-133\n",
      "currently_loaded 3310_maxcc_0.05_x-6_y-134\n",
      "currently_loaded 3311_maxcc_0.05_x-6_y-135\n",
      "currently_loaded 3312_maxcc_0.05_x-6_y-136\n",
      "currently_loaded 3313_maxcc_0.05_x-6_y-137\n",
      "currently_loaded 3314_maxcc_0.05_x-6_y-138\n",
      "currently_loaded 3315_maxcc_0.05_x-6_y-139\n",
      "currently_loaded 3316_maxcc_0.05_x-6_y-140\n"
     ]
    },
    {
     "data": {
      "application/vnd.jupyter.widget-view+json": {
       "model_id": "af4cc9ec5d8048c78c10b8dc5577ac47",
       "version_major": 2,
       "version_minor": 0
      },
      "text/plain": [
       "HBox(children=(IntProgress(value=0, max=11), HTML(value='')))"
      ]
     },
     "metadata": {},
     "output_type": "display_data"
    },
    {
     "name": "stdout",
     "output_type": "stream",
     "text": [
      "\n",
      "Doing now following indexes: ['3469_maxcc_0.05_x-7_y-130', '3470_maxcc_0.05_x-7_y-131', '3471_maxcc_0.05_x-7_y-132', '3472_maxcc_0.05_x-7_y-133', '3473_maxcc_0.05_x-7_y-134', '3474_maxcc_0.05_x-7_y-135', '3475_maxcc_0.05_x-7_y-136', '3476_maxcc_0.05_x-7_y-137', '3477_maxcc_0.05_x-7_y-138', '3478_maxcc_0.05_x-7_y-139', '3479_maxcc_0.05_x-7_y-140']\n",
      "currently_loaded 3469_maxcc_0.05_x-7_y-130\n",
      "currently_loaded 3470_maxcc_0.05_x-7_y-131\n",
      "currently_loaded 3471_maxcc_0.05_x-7_y-132\n",
      "currently_loaded 3472_maxcc_0.05_x-7_y-133\n",
      "currently_loaded 3473_maxcc_0.05_x-7_y-134\n",
      "currently_loaded 3474_maxcc_0.05_x-7_y-135\n",
      "currently_loaded 3475_maxcc_0.05_x-7_y-136\n",
      "currently_loaded 3476_maxcc_0.05_x-7_y-137\n",
      "currently_loaded 3477_maxcc_0.05_x-7_y-138\n",
      "currently_loaded 3478_maxcc_0.05_x-7_y-139\n",
      "currently_loaded 3479_maxcc_0.05_x-7_y-140\n"
     ]
    },
    {
     "data": {
      "application/vnd.jupyter.widget-view+json": {
       "model_id": "c2e5db18763d4849bd3695235e2485f3",
       "version_major": 2,
       "version_minor": 0
      },
      "text/plain": [
       "HBox(children=(IntProgress(value=0, max=11), HTML(value='')))"
      ]
     },
     "metadata": {},
     "output_type": "display_data"
    },
    {
     "name": "stdout",
     "output_type": "stream",
     "text": [
      "\n",
      "Reading EOPatches from: ('2015-05-01', '2015-10-31')\n",
      "Doing now following indexes: ['2969_maxcc_0.05_x-3_y-130', '2970_maxcc_0.05_x-3_y-131', '2971_maxcc_0.05_x-3_y-132', '2972_maxcc_0.05_x-3_y-133', '2973_maxcc_0.05_x-3_y-134', '2974_maxcc_0.05_x-3_y-135', '2975_maxcc_0.05_x-3_y-136', '2976_maxcc_0.05_x-3_y-137', '2977_maxcc_0.05_x-3_y-138', '2978_maxcc_0.05_x-3_y-139', '2979_maxcc_0.05_x-3_y-140']\n",
      "currently_loaded 2969_maxcc_0.05_x-3_y-130\n",
      "currently_loaded 2970_maxcc_0.05_x-3_y-131\n",
      "currently_loaded 2971_maxcc_0.05_x-3_y-132\n",
      "currently_loaded 2972_maxcc_0.05_x-3_y-133\n",
      "currently_loaded 2973_maxcc_0.05_x-3_y-134\n",
      "currently_loaded 2974_maxcc_0.05_x-3_y-135\n",
      "currently_loaded 2975_maxcc_0.05_x-3_y-136\n",
      "currently_loaded 2976_maxcc_0.05_x-3_y-137\n",
      "currently_loaded 2977_maxcc_0.05_x-3_y-138\n",
      "currently_loaded 2978_maxcc_0.05_x-3_y-139\n",
      "currently_loaded 2979_maxcc_0.05_x-3_y-140\n"
     ]
    },
    {
     "data": {
      "application/vnd.jupyter.widget-view+json": {
       "model_id": "0777315a775d4f61a1add1e6b412999f",
       "version_major": 2,
       "version_minor": 0
      },
      "text/plain": [
       "HBox(children=(IntProgress(value=0, max=11), HTML(value='')))"
      ]
     },
     "metadata": {},
     "output_type": "display_data"
    },
    {
     "name": "stdout",
     "output_type": "stream",
     "text": [
      "\n",
      "Doing now following indexes: ['3059_maxcc_0.05_x-4_y-130', '3060_maxcc_0.05_x-4_y-131', '3061_maxcc_0.05_x-4_y-132', '3062_maxcc_0.05_x-4_y-133', '3063_maxcc_0.05_x-4_y-134', '3064_maxcc_0.05_x-4_y-135', '3065_maxcc_0.05_x-4_y-136', '3066_maxcc_0.05_x-4_y-137', '3067_maxcc_0.05_x-4_y-138', '3068_maxcc_0.05_x-4_y-139', '3069_maxcc_0.05_x-4_y-140']\n",
      "currently_loaded 3059_maxcc_0.05_x-4_y-130\n",
      "currently_loaded 3060_maxcc_0.05_x-4_y-131\n",
      "currently_loaded 3061_maxcc_0.05_x-4_y-132\n",
      "currently_loaded 3062_maxcc_0.05_x-4_y-133\n",
      "currently_loaded 3063_maxcc_0.05_x-4_y-134\n",
      "currently_loaded 3064_maxcc_0.05_x-4_y-135\n",
      "currently_loaded 3065_maxcc_0.05_x-4_y-136\n",
      "currently_loaded 3066_maxcc_0.05_x-4_y-137\n",
      "currently_loaded 3067_maxcc_0.05_x-4_y-138\n",
      "currently_loaded 3068_maxcc_0.05_x-4_y-139\n",
      "currently_loaded 3069_maxcc_0.05_x-4_y-140\n"
     ]
    },
    {
     "data": {
      "application/vnd.jupyter.widget-view+json": {
       "model_id": "9232732d20ea484793e900b02e3c4251",
       "version_major": 2,
       "version_minor": 0
      },
      "text/plain": [
       "HBox(children=(IntProgress(value=0, max=11), HTML(value='')))"
      ]
     },
     "metadata": {},
     "output_type": "display_data"
    },
    {
     "name": "stdout",
     "output_type": "stream",
     "text": [
      "\n",
      "Doing now following indexes: ['3172_maxcc_0.05_x-5_y-130', '3173_maxcc_0.05_x-5_y-131', '3174_maxcc_0.05_x-5_y-132', '3175_maxcc_0.05_x-5_y-133', '3176_maxcc_0.05_x-5_y-134', '3177_maxcc_0.05_x-5_y-135', '3178_maxcc_0.05_x-5_y-136', '3179_maxcc_0.05_x-5_y-137', '3180_maxcc_0.05_x-5_y-138', '3181_maxcc_0.05_x-5_y-139', '3182_maxcc_0.05_x-5_y-140']\n",
      "currently_loaded 3172_maxcc_0.05_x-5_y-130\n",
      "currently_loaded 3173_maxcc_0.05_x-5_y-131\n",
      "currently_loaded 3174_maxcc_0.05_x-5_y-132\n",
      "currently_loaded 3175_maxcc_0.05_x-5_y-133\n",
      "currently_loaded 3176_maxcc_0.05_x-5_y-134\n",
      "currently_loaded 3177_maxcc_0.05_x-5_y-135\n",
      "currently_loaded 3178_maxcc_0.05_x-5_y-136\n",
      "currently_loaded 3179_maxcc_0.05_x-5_y-137\n",
      "currently_loaded 3180_maxcc_0.05_x-5_y-138\n",
      "currently_loaded 3181_maxcc_0.05_x-5_y-139\n",
      "currently_loaded 3182_maxcc_0.05_x-5_y-140\n"
     ]
    },
    {
     "data": {
      "application/vnd.jupyter.widget-view+json": {
       "model_id": "4a6b8370196c4743b311c34883185fb9",
       "version_major": 2,
       "version_minor": 0
      },
      "text/plain": [
       "HBox(children=(IntProgress(value=0, max=11), HTML(value='')))"
      ]
     },
     "metadata": {},
     "output_type": "display_data"
    },
    {
     "name": "stdout",
     "output_type": "stream",
     "text": [
      "\n",
      "Doing now following indexes: ['3306_maxcc_0.05_x-6_y-130', '3307_maxcc_0.05_x-6_y-131', '3308_maxcc_0.05_x-6_y-132', '3309_maxcc_0.05_x-6_y-133', '3310_maxcc_0.05_x-6_y-134', '3311_maxcc_0.05_x-6_y-135', '3312_maxcc_0.05_x-6_y-136', '3313_maxcc_0.05_x-6_y-137', '3314_maxcc_0.05_x-6_y-138', '3315_maxcc_0.05_x-6_y-139', '3316_maxcc_0.05_x-6_y-140']\n",
      "currently_loaded 3306_maxcc_0.05_x-6_y-130\n",
      "currently_loaded 3307_maxcc_0.05_x-6_y-131\n",
      "currently_loaded 3308_maxcc_0.05_x-6_y-132\n",
      "currently_loaded 3309_maxcc_0.05_x-6_y-133\n",
      "currently_loaded 3310_maxcc_0.05_x-6_y-134\n",
      "currently_loaded 3311_maxcc_0.05_x-6_y-135\n",
      "currently_loaded 3312_maxcc_0.05_x-6_y-136\n",
      "currently_loaded 3313_maxcc_0.05_x-6_y-137\n",
      "currently_loaded 3314_maxcc_0.05_x-6_y-138\n",
      "currently_loaded 3315_maxcc_0.05_x-6_y-139\n",
      "currently_loaded 3316_maxcc_0.05_x-6_y-140\n"
     ]
    },
    {
     "data": {
      "application/vnd.jupyter.widget-view+json": {
       "model_id": "e932bb95fca847dcbf87da2ae287c43b",
       "version_major": 2,
       "version_minor": 0
      },
      "text/plain": [
       "HBox(children=(IntProgress(value=0, max=11), HTML(value='')))"
      ]
     },
     "metadata": {},
     "output_type": "display_data"
    },
    {
     "name": "stdout",
     "output_type": "stream",
     "text": [
      "\n",
      "Doing now following indexes: ['3469_maxcc_0.05_x-7_y-130', '3470_maxcc_0.05_x-7_y-131', '3471_maxcc_0.05_x-7_y-132', '3472_maxcc_0.05_x-7_y-133', '3473_maxcc_0.05_x-7_y-134', '3474_maxcc_0.05_x-7_y-135', '3475_maxcc_0.05_x-7_y-136', '3476_maxcc_0.05_x-7_y-137', '3477_maxcc_0.05_x-7_y-138', '3478_maxcc_0.05_x-7_y-139', '3479_maxcc_0.05_x-7_y-140']\n",
      "currently_loaded 3469_maxcc_0.05_x-7_y-130\n",
      "currently_loaded 3470_maxcc_0.05_x-7_y-131\n",
      "currently_loaded 3471_maxcc_0.05_x-7_y-132\n",
      "currently_loaded 3472_maxcc_0.05_x-7_y-133\n",
      "currently_loaded 3473_maxcc_0.05_x-7_y-134\n",
      "currently_loaded 3474_maxcc_0.05_x-7_y-135\n",
      "currently_loaded 3475_maxcc_0.05_x-7_y-136\n",
      "currently_loaded 3476_maxcc_0.05_x-7_y-137\n",
      "currently_loaded 3477_maxcc_0.05_x-7_y-138\n",
      "currently_loaded 3478_maxcc_0.05_x-7_y-139\n",
      "currently_loaded 3479_maxcc_0.05_x-7_y-140\n"
     ]
    },
    {
     "data": {
      "application/vnd.jupyter.widget-view+json": {
       "model_id": "8ec22d492cf4431bacfa560799ef15a8",
       "version_major": 2,
       "version_minor": 0
      },
      "text/plain": [
       "HBox(children=(IntProgress(value=0, max=11), HTML(value='')))"
      ]
     },
     "metadata": {},
     "output_type": "display_data"
    },
    {
     "name": "stdout",
     "output_type": "stream",
     "text": [
      "\n",
      "Reading EOPatches from: ('2016-05-01', '2016-10-31')\n",
      "Doing now following indexes: ['2969_maxcc_0.05_x-3_y-130', '2970_maxcc_0.05_x-3_y-131', '2971_maxcc_0.05_x-3_y-132', '2972_maxcc_0.05_x-3_y-133', '2973_maxcc_0.05_x-3_y-134', '2974_maxcc_0.05_x-3_y-135', '2975_maxcc_0.05_x-3_y-136', '2976_maxcc_0.05_x-3_y-137', '2977_maxcc_0.05_x-3_y-138', '2978_maxcc_0.05_x-3_y-139', '2979_maxcc_0.05_x-3_y-140']\n",
      "currently_loaded 2969_maxcc_0.05_x-3_y-130\n",
      "currently_loaded 2970_maxcc_0.05_x-3_y-131\n",
      "currently_loaded 2971_maxcc_0.05_x-3_y-132\n",
      "currently_loaded 2972_maxcc_0.05_x-3_y-133\n",
      "currently_loaded 2973_maxcc_0.05_x-3_y-134\n",
      "currently_loaded 2974_maxcc_0.05_x-3_y-135\n",
      "currently_loaded 2975_maxcc_0.05_x-3_y-136\n",
      "currently_loaded 2976_maxcc_0.05_x-3_y-137\n",
      "currently_loaded 2977_maxcc_0.05_x-3_y-138\n",
      "currently_loaded 2978_maxcc_0.05_x-3_y-139\n",
      "currently_loaded 2979_maxcc_0.05_x-3_y-140\n"
     ]
    },
    {
     "data": {
      "application/vnd.jupyter.widget-view+json": {
       "model_id": "2d79e9b881df4ae79c9d1929fee0c811",
       "version_major": 2,
       "version_minor": 0
      },
      "text/plain": [
       "HBox(children=(IntProgress(value=0, max=11), HTML(value='')))"
      ]
     },
     "metadata": {},
     "output_type": "display_data"
    },
    {
     "name": "stdout",
     "output_type": "stream",
     "text": [
      "\n",
      "Doing now following indexes: ['3059_maxcc_0.05_x-4_y-130', '3060_maxcc_0.05_x-4_y-131', '3061_maxcc_0.05_x-4_y-132', '3062_maxcc_0.05_x-4_y-133', '3063_maxcc_0.05_x-4_y-134', '3064_maxcc_0.05_x-4_y-135', '3065_maxcc_0.05_x-4_y-136', '3066_maxcc_0.05_x-4_y-137', '3067_maxcc_0.05_x-4_y-138', '3068_maxcc_0.05_x-4_y-139', '3069_maxcc_0.05_x-4_y-140']\n",
      "currently_loaded 3059_maxcc_0.05_x-4_y-130\n",
      "currently_loaded 3060_maxcc_0.05_x-4_y-131\n",
      "currently_loaded 3061_maxcc_0.05_x-4_y-132\n",
      "currently_loaded 3062_maxcc_0.05_x-4_y-133\n",
      "currently_loaded 3063_maxcc_0.05_x-4_y-134\n",
      "currently_loaded 3064_maxcc_0.05_x-4_y-135\n",
      "currently_loaded 3065_maxcc_0.05_x-4_y-136\n",
      "currently_loaded 3066_maxcc_0.05_x-4_y-137\n",
      "currently_loaded 3067_maxcc_0.05_x-4_y-138\n",
      "currently_loaded 3068_maxcc_0.05_x-4_y-139\n",
      "currently_loaded 3069_maxcc_0.05_x-4_y-140\n"
     ]
    },
    {
     "data": {
      "application/vnd.jupyter.widget-view+json": {
       "model_id": "6fe72d5b137f416eaafaf4722a8b4f9d",
       "version_major": 2,
       "version_minor": 0
      },
      "text/plain": [
       "HBox(children=(IntProgress(value=0, max=11), HTML(value='')))"
      ]
     },
     "metadata": {},
     "output_type": "display_data"
    },
    {
     "name": "stdout",
     "output_type": "stream",
     "text": [
      "\n",
      "Doing now following indexes: ['3172_maxcc_0.05_x-5_y-130', '3173_maxcc_0.05_x-5_y-131', '3174_maxcc_0.05_x-5_y-132', '3175_maxcc_0.05_x-5_y-133', '3176_maxcc_0.05_x-5_y-134', '3177_maxcc_0.05_x-5_y-135', '3178_maxcc_0.05_x-5_y-136', '3179_maxcc_0.05_x-5_y-137', '3180_maxcc_0.05_x-5_y-138', '3181_maxcc_0.05_x-5_y-139', '3182_maxcc_0.05_x-5_y-140']\n",
      "currently_loaded 3172_maxcc_0.05_x-5_y-130\n",
      "currently_loaded 3173_maxcc_0.05_x-5_y-131\n",
      "currently_loaded 3174_maxcc_0.05_x-5_y-132\n",
      "currently_loaded 3175_maxcc_0.05_x-5_y-133\n",
      "currently_loaded 3176_maxcc_0.05_x-5_y-134\n",
      "currently_loaded 3177_maxcc_0.05_x-5_y-135\n",
      "currently_loaded 3178_maxcc_0.05_x-5_y-136\n",
      "currently_loaded 3179_maxcc_0.05_x-5_y-137\n",
      "currently_loaded 3180_maxcc_0.05_x-5_y-138\n",
      "currently_loaded 3181_maxcc_0.05_x-5_y-139\n",
      "currently_loaded 3182_maxcc_0.05_x-5_y-140\n"
     ]
    },
    {
     "data": {
      "application/vnd.jupyter.widget-view+json": {
       "model_id": "791f35fac9bd49d1a74484ff123451f1",
       "version_major": 2,
       "version_minor": 0
      },
      "text/plain": [
       "HBox(children=(IntProgress(value=0, max=11), HTML(value='')))"
      ]
     },
     "metadata": {},
     "output_type": "display_data"
    },
    {
     "name": "stdout",
     "output_type": "stream",
     "text": [
      "\n",
      "Doing now following indexes: ['3306_maxcc_0.05_x-6_y-130', '3307_maxcc_0.05_x-6_y-131', '3308_maxcc_0.05_x-6_y-132', '3309_maxcc_0.05_x-6_y-133', '3310_maxcc_0.05_x-6_y-134', '3311_maxcc_0.05_x-6_y-135', '3312_maxcc_0.05_x-6_y-136', '3313_maxcc_0.05_x-6_y-137', '3314_maxcc_0.05_x-6_y-138', '3315_maxcc_0.05_x-6_y-139', '3316_maxcc_0.05_x-6_y-140']\n",
      "currently_loaded 3306_maxcc_0.05_x-6_y-130\n",
      "currently_loaded 3307_maxcc_0.05_x-6_y-131\n",
      "currently_loaded 3308_maxcc_0.05_x-6_y-132\n",
      "currently_loaded 3309_maxcc_0.05_x-6_y-133\n",
      "currently_loaded 3310_maxcc_0.05_x-6_y-134\n",
      "currently_loaded 3311_maxcc_0.05_x-6_y-135\n",
      "currently_loaded 3312_maxcc_0.05_x-6_y-136\n",
      "currently_loaded 3313_maxcc_0.05_x-6_y-137\n",
      "currently_loaded 3314_maxcc_0.05_x-6_y-138\n",
      "currently_loaded 3315_maxcc_0.05_x-6_y-139\n",
      "currently_loaded 3316_maxcc_0.05_x-6_y-140\n"
     ]
    },
    {
     "data": {
      "application/vnd.jupyter.widget-view+json": {
       "model_id": "6c23a2669b95453eb82f8ccddb2d8de4",
       "version_major": 2,
       "version_minor": 0
      },
      "text/plain": [
       "HBox(children=(IntProgress(value=0, max=11), HTML(value='')))"
      ]
     },
     "metadata": {},
     "output_type": "display_data"
    },
    {
     "name": "stdout",
     "output_type": "stream",
     "text": [
      "\n",
      "Doing now following indexes: ['3469_maxcc_0.05_x-7_y-130', '3470_maxcc_0.05_x-7_y-131', '3471_maxcc_0.05_x-7_y-132', '3472_maxcc_0.05_x-7_y-133', '3473_maxcc_0.05_x-7_y-134', '3474_maxcc_0.05_x-7_y-135', '3475_maxcc_0.05_x-7_y-136', '3476_maxcc_0.05_x-7_y-137', '3477_maxcc_0.05_x-7_y-138', '3478_maxcc_0.05_x-7_y-139', '3479_maxcc_0.05_x-7_y-140']\n",
      "currently_loaded 3469_maxcc_0.05_x-7_y-130\n",
      "currently_loaded 3470_maxcc_0.05_x-7_y-131\n",
      "currently_loaded 3471_maxcc_0.05_x-7_y-132\n",
      "currently_loaded 3472_maxcc_0.05_x-7_y-133\n",
      "currently_loaded 3473_maxcc_0.05_x-7_y-134\n",
      "currently_loaded 3474_maxcc_0.05_x-7_y-135\n",
      "currently_loaded 3475_maxcc_0.05_x-7_y-136\n",
      "currently_loaded 3476_maxcc_0.05_x-7_y-137\n",
      "currently_loaded 3477_maxcc_0.05_x-7_y-138\n",
      "currently_loaded 3478_maxcc_0.05_x-7_y-139\n",
      "currently_loaded 3479_maxcc_0.05_x-7_y-140\n"
     ]
    },
    {
     "data": {
      "application/vnd.jupyter.widget-view+json": {
       "model_id": "e3f0735ba8974984a95d6f44be3e09e7",
       "version_major": 2,
       "version_minor": 0
      },
      "text/plain": [
       "HBox(children=(IntProgress(value=0, max=11), HTML(value='')))"
      ]
     },
     "metadata": {},
     "output_type": "display_data"
    },
    {
     "name": "stdout",
     "output_type": "stream",
     "text": [
      "\n",
      "Reading EOPatches from: ('2017-05-01', '2017-10-31')\n",
      "Doing now following indexes: ['2969_maxcc_0.05_x-3_y-130', '2970_maxcc_0.05_x-3_y-131', '2971_maxcc_0.05_x-3_y-132', '2972_maxcc_0.05_x-3_y-133', '2973_maxcc_0.05_x-3_y-134', '2974_maxcc_0.05_x-3_y-135', '2975_maxcc_0.05_x-3_y-136', '2976_maxcc_0.05_x-3_y-137', '2977_maxcc_0.05_x-3_y-138', '2978_maxcc_0.05_x-3_y-139', '2979_maxcc_0.05_x-3_y-140']\n",
      "currently_loaded 2969_maxcc_0.05_x-3_y-130\n",
      "currently_loaded 2970_maxcc_0.05_x-3_y-131\n",
      "currently_loaded 2971_maxcc_0.05_x-3_y-132\n",
      "currently_loaded 2972_maxcc_0.05_x-3_y-133\n",
      "currently_loaded 2973_maxcc_0.05_x-3_y-134\n",
      "currently_loaded 2974_maxcc_0.05_x-3_y-135\n",
      "currently_loaded 2975_maxcc_0.05_x-3_y-136\n",
      "currently_loaded 2976_maxcc_0.05_x-3_y-137\n",
      "currently_loaded 2977_maxcc_0.05_x-3_y-138\n",
      "currently_loaded 2978_maxcc_0.05_x-3_y-139\n",
      "currently_loaded 2979_maxcc_0.05_x-3_y-140\n"
     ]
    },
    {
     "data": {
      "application/vnd.jupyter.widget-view+json": {
       "model_id": "91a7da6bc4c341b09f8208057f7936be",
       "version_major": 2,
       "version_minor": 0
      },
      "text/plain": [
       "HBox(children=(IntProgress(value=0, max=11), HTML(value='')))"
      ]
     },
     "metadata": {},
     "output_type": "display_data"
    },
    {
     "name": "stdout",
     "output_type": "stream",
     "text": [
      "\n",
      "Doing now following indexes: ['3059_maxcc_0.05_x-4_y-130', '3060_maxcc_0.05_x-4_y-131', '3061_maxcc_0.05_x-4_y-132', '3062_maxcc_0.05_x-4_y-133', '3063_maxcc_0.05_x-4_y-134', '3064_maxcc_0.05_x-4_y-135', '3065_maxcc_0.05_x-4_y-136', '3066_maxcc_0.05_x-4_y-137', '3067_maxcc_0.05_x-4_y-138', '3068_maxcc_0.05_x-4_y-139', '3069_maxcc_0.05_x-4_y-140']\n",
      "currently_loaded 3059_maxcc_0.05_x-4_y-130\n",
      "currently_loaded 3060_maxcc_0.05_x-4_y-131\n",
      "currently_loaded 3061_maxcc_0.05_x-4_y-132\n",
      "currently_loaded 3062_maxcc_0.05_x-4_y-133\n",
      "currently_loaded 3063_maxcc_0.05_x-4_y-134\n",
      "currently_loaded 3064_maxcc_0.05_x-4_y-135\n",
      "currently_loaded 3065_maxcc_0.05_x-4_y-136\n",
      "currently_loaded 3066_maxcc_0.05_x-4_y-137\n",
      "currently_loaded 3067_maxcc_0.05_x-4_y-138\n",
      "currently_loaded 3068_maxcc_0.05_x-4_y-139\n",
      "currently_loaded 3069_maxcc_0.05_x-4_y-140\n"
     ]
    },
    {
     "data": {
      "application/vnd.jupyter.widget-view+json": {
       "model_id": "2dfcd88d86b241b6b811c436350aa565",
       "version_major": 2,
       "version_minor": 0
      },
      "text/plain": [
       "HBox(children=(IntProgress(value=0, max=11), HTML(value='')))"
      ]
     },
     "metadata": {},
     "output_type": "display_data"
    },
    {
     "name": "stdout",
     "output_type": "stream",
     "text": [
      "\n",
      "Doing now following indexes: ['3172_maxcc_0.05_x-5_y-130', '3173_maxcc_0.05_x-5_y-131', '3174_maxcc_0.05_x-5_y-132', '3175_maxcc_0.05_x-5_y-133', '3176_maxcc_0.05_x-5_y-134', '3177_maxcc_0.05_x-5_y-135', '3178_maxcc_0.05_x-5_y-136', '3179_maxcc_0.05_x-5_y-137', '3180_maxcc_0.05_x-5_y-138', '3181_maxcc_0.05_x-5_y-139', '3182_maxcc_0.05_x-5_y-140']\n",
      "currently_loaded 3172_maxcc_0.05_x-5_y-130\n",
      "currently_loaded 3173_maxcc_0.05_x-5_y-131\n",
      "currently_loaded 3174_maxcc_0.05_x-5_y-132\n",
      "currently_loaded 3175_maxcc_0.05_x-5_y-133\n",
      "currently_loaded 3176_maxcc_0.05_x-5_y-134\n",
      "currently_loaded 3177_maxcc_0.05_x-5_y-135\n",
      "currently_loaded 3178_maxcc_0.05_x-5_y-136\n",
      "currently_loaded 3179_maxcc_0.05_x-5_y-137\n",
      "currently_loaded 3180_maxcc_0.05_x-5_y-138\n",
      "currently_loaded 3181_maxcc_0.05_x-5_y-139\n",
      "currently_loaded 3182_maxcc_0.05_x-5_y-140\n"
     ]
    },
    {
     "data": {
      "application/vnd.jupyter.widget-view+json": {
       "model_id": "db5fd19ddd2e4d6a94cc374dc5659d2b",
       "version_major": 2,
       "version_minor": 0
      },
      "text/plain": [
       "HBox(children=(IntProgress(value=0, max=11), HTML(value='')))"
      ]
     },
     "metadata": {},
     "output_type": "display_data"
    },
    {
     "name": "stdout",
     "output_type": "stream",
     "text": [
      "\n",
      "Doing now following indexes: ['3306_maxcc_0.05_x-6_y-130', '3307_maxcc_0.05_x-6_y-131', '3308_maxcc_0.05_x-6_y-132', '3309_maxcc_0.05_x-6_y-133', '3310_maxcc_0.05_x-6_y-134', '3311_maxcc_0.05_x-6_y-135', '3312_maxcc_0.05_x-6_y-136', '3313_maxcc_0.05_x-6_y-137', '3314_maxcc_0.05_x-6_y-138', '3315_maxcc_0.05_x-6_y-139', '3316_maxcc_0.05_x-6_y-140']\n",
      "currently_loaded 3306_maxcc_0.05_x-6_y-130\n",
      "currently_loaded 3307_maxcc_0.05_x-6_y-131\n",
      "currently_loaded 3308_maxcc_0.05_x-6_y-132\n",
      "currently_loaded 3309_maxcc_0.05_x-6_y-133\n",
      "currently_loaded 3310_maxcc_0.05_x-6_y-134\n",
      "currently_loaded 3311_maxcc_0.05_x-6_y-135\n",
      "currently_loaded 3312_maxcc_0.05_x-6_y-136\n",
      "currently_loaded 3313_maxcc_0.05_x-6_y-137\n",
      "currently_loaded 3314_maxcc_0.05_x-6_y-138\n",
      "currently_loaded 3315_maxcc_0.05_x-6_y-139\n",
      "currently_loaded 3316_maxcc_0.05_x-6_y-140\n"
     ]
    },
    {
     "data": {
      "application/vnd.jupyter.widget-view+json": {
       "model_id": "baaf3445f48145e9838851ef883d8936",
       "version_major": 2,
       "version_minor": 0
      },
      "text/plain": [
       "HBox(children=(IntProgress(value=0, max=11), HTML(value='')))"
      ]
     },
     "metadata": {},
     "output_type": "display_data"
    },
    {
     "name": "stdout",
     "output_type": "stream",
     "text": [
      "\n",
      "Doing now following indexes: ['3469_maxcc_0.05_x-7_y-130', '3470_maxcc_0.05_x-7_y-131', '3471_maxcc_0.05_x-7_y-132', '3472_maxcc_0.05_x-7_y-133', '3473_maxcc_0.05_x-7_y-134', '3474_maxcc_0.05_x-7_y-135', '3475_maxcc_0.05_x-7_y-136', '3476_maxcc_0.05_x-7_y-137', '3477_maxcc_0.05_x-7_y-138', '3478_maxcc_0.05_x-7_y-139', '3479_maxcc_0.05_x-7_y-140']\n",
      "currently_loaded 3469_maxcc_0.05_x-7_y-130\n",
      "currently_loaded 3470_maxcc_0.05_x-7_y-131\n",
      "currently_loaded 3471_maxcc_0.05_x-7_y-132\n",
      "currently_loaded 3472_maxcc_0.05_x-7_y-133\n",
      "currently_loaded 3473_maxcc_0.05_x-7_y-134\n",
      "currently_loaded 3474_maxcc_0.05_x-7_y-135\n",
      "currently_loaded 3475_maxcc_0.05_x-7_y-136\n",
      "currently_loaded 3476_maxcc_0.05_x-7_y-137\n",
      "currently_loaded 3477_maxcc_0.05_x-7_y-138\n",
      "currently_loaded 3478_maxcc_0.05_x-7_y-139\n",
      "currently_loaded 3479_maxcc_0.05_x-7_y-140\n"
     ]
    },
    {
     "data": {
      "application/vnd.jupyter.widget-view+json": {
       "model_id": "8ed71c8e6ffc40e4a7276d39fa4bde12",
       "version_major": 2,
       "version_minor": 0
      },
      "text/plain": [
       "HBox(children=(IntProgress(value=0, max=11), HTML(value='')))"
      ]
     },
     "metadata": {},
     "output_type": "display_data"
    },
    {
     "name": "stdout",
     "output_type": "stream",
     "text": [
      "\n",
      "Reading EOPatches from: ('2018-05-01', '2018-10-31')\n",
      "Doing now following indexes: ['2969_maxcc_0.05_x-3_y-130', '2970_maxcc_0.05_x-3_y-131', '2971_maxcc_0.05_x-3_y-132', '2972_maxcc_0.05_x-3_y-133', '2973_maxcc_0.05_x-3_y-134', '2974_maxcc_0.05_x-3_y-135', '2975_maxcc_0.05_x-3_y-136', '2976_maxcc_0.05_x-3_y-137', '2977_maxcc_0.05_x-3_y-138', '2978_maxcc_0.05_x-3_y-139', '2979_maxcc_0.05_x-3_y-140']\n",
      "currently_loaded 2969_maxcc_0.05_x-3_y-130\n",
      "currently_loaded 2970_maxcc_0.05_x-3_y-131\n",
      "currently_loaded 2971_maxcc_0.05_x-3_y-132\n",
      "currently_loaded 2972_maxcc_0.05_x-3_y-133\n",
      "currently_loaded 2973_maxcc_0.05_x-3_y-134\n",
      "currently_loaded 2974_maxcc_0.05_x-3_y-135\n",
      "currently_loaded 2975_maxcc_0.05_x-3_y-136\n",
      "currently_loaded 2976_maxcc_0.05_x-3_y-137\n",
      "currently_loaded 2977_maxcc_0.05_x-3_y-138\n",
      "currently_loaded 2978_maxcc_0.05_x-3_y-139\n",
      "currently_loaded 2979_maxcc_0.05_x-3_y-140\n"
     ]
    },
    {
     "data": {
      "application/vnd.jupyter.widget-view+json": {
       "model_id": "3f07c8e09f9a4eb5a21706794fe37177",
       "version_major": 2,
       "version_minor": 0
      },
      "text/plain": [
       "HBox(children=(IntProgress(value=0, max=11), HTML(value='')))"
      ]
     },
     "metadata": {},
     "output_type": "display_data"
    },
    {
     "name": "stdout",
     "output_type": "stream",
     "text": [
      "\n",
      "Doing now following indexes: ['3059_maxcc_0.05_x-4_y-130', '3060_maxcc_0.05_x-4_y-131', '3061_maxcc_0.05_x-4_y-132', '3062_maxcc_0.05_x-4_y-133', '3063_maxcc_0.05_x-4_y-134', '3064_maxcc_0.05_x-4_y-135', '3065_maxcc_0.05_x-4_y-136', '3066_maxcc_0.05_x-4_y-137', '3067_maxcc_0.05_x-4_y-138', '3068_maxcc_0.05_x-4_y-139', '3069_maxcc_0.05_x-4_y-140']\n",
      "currently_loaded 3059_maxcc_0.05_x-4_y-130\n",
      "currently_loaded 3060_maxcc_0.05_x-4_y-131\n",
      "currently_loaded 3061_maxcc_0.05_x-4_y-132\n",
      "currently_loaded 3062_maxcc_0.05_x-4_y-133\n",
      "currently_loaded 3063_maxcc_0.05_x-4_y-134\n",
      "currently_loaded 3064_maxcc_0.05_x-4_y-135\n",
      "currently_loaded 3065_maxcc_0.05_x-4_y-136\n",
      "currently_loaded 3066_maxcc_0.05_x-4_y-137\n",
      "currently_loaded 3067_maxcc_0.05_x-4_y-138\n",
      "currently_loaded 3068_maxcc_0.05_x-4_y-139\n",
      "currently_loaded 3069_maxcc_0.05_x-4_y-140\n"
     ]
    },
    {
     "data": {
      "application/vnd.jupyter.widget-view+json": {
       "model_id": "add2a1450aee416a9f9c7056b43d1040",
       "version_major": 2,
       "version_minor": 0
      },
      "text/plain": [
       "HBox(children=(IntProgress(value=0, max=11), HTML(value='')))"
      ]
     },
     "metadata": {},
     "output_type": "display_data"
    },
    {
     "name": "stdout",
     "output_type": "stream",
     "text": [
      "\n",
      "Doing now following indexes: ['3172_maxcc_0.05_x-5_y-130', '3173_maxcc_0.05_x-5_y-131', '3174_maxcc_0.05_x-5_y-132', '3175_maxcc_0.05_x-5_y-133', '3176_maxcc_0.05_x-5_y-134', '3177_maxcc_0.05_x-5_y-135', '3178_maxcc_0.05_x-5_y-136', '3179_maxcc_0.05_x-5_y-137', '3180_maxcc_0.05_x-5_y-138', '3181_maxcc_0.05_x-5_y-139', '3182_maxcc_0.05_x-5_y-140']\n",
      "currently_loaded 3172_maxcc_0.05_x-5_y-130\n",
      "currently_loaded 3173_maxcc_0.05_x-5_y-131\n",
      "currently_loaded 3174_maxcc_0.05_x-5_y-132\n",
      "currently_loaded 3175_maxcc_0.05_x-5_y-133\n",
      "currently_loaded 3176_maxcc_0.05_x-5_y-134\n",
      "currently_loaded 3177_maxcc_0.05_x-5_y-135\n",
      "currently_loaded 3178_maxcc_0.05_x-5_y-136\n",
      "currently_loaded 3179_maxcc_0.05_x-5_y-137\n",
      "currently_loaded 3180_maxcc_0.05_x-5_y-138\n",
      "currently_loaded 3181_maxcc_0.05_x-5_y-139\n",
      "currently_loaded 3182_maxcc_0.05_x-5_y-140\n"
     ]
    },
    {
     "data": {
      "application/vnd.jupyter.widget-view+json": {
       "model_id": "192093318b0a448d9f029572ab35a681",
       "version_major": 2,
       "version_minor": 0
      },
      "text/plain": [
       "HBox(children=(IntProgress(value=0, max=11), HTML(value='')))"
      ]
     },
     "metadata": {},
     "output_type": "display_data"
    },
    {
     "name": "stdout",
     "output_type": "stream",
     "text": [
      "\n",
      "Doing now following indexes: ['3306_maxcc_0.05_x-6_y-130', '3307_maxcc_0.05_x-6_y-131', '3308_maxcc_0.05_x-6_y-132', '3309_maxcc_0.05_x-6_y-133', '3310_maxcc_0.05_x-6_y-134', '3311_maxcc_0.05_x-6_y-135', '3312_maxcc_0.05_x-6_y-136', '3313_maxcc_0.05_x-6_y-137', '3314_maxcc_0.05_x-6_y-138', '3315_maxcc_0.05_x-6_y-139', '3316_maxcc_0.05_x-6_y-140']\n",
      "currently_loaded 3306_maxcc_0.05_x-6_y-130\n",
      "currently_loaded 3307_maxcc_0.05_x-6_y-131\n",
      "currently_loaded 3308_maxcc_0.05_x-6_y-132\n",
      "currently_loaded 3309_maxcc_0.05_x-6_y-133\n",
      "currently_loaded 3310_maxcc_0.05_x-6_y-134\n",
      "currently_loaded 3311_maxcc_0.05_x-6_y-135\n",
      "currently_loaded 3312_maxcc_0.05_x-6_y-136\n",
      "currently_loaded 3313_maxcc_0.05_x-6_y-137\n",
      "currently_loaded 3314_maxcc_0.05_x-6_y-138\n",
      "currently_loaded 3315_maxcc_0.05_x-6_y-139\n",
      "currently_loaded 3316_maxcc_0.05_x-6_y-140\n"
     ]
    },
    {
     "data": {
      "application/vnd.jupyter.widget-view+json": {
       "model_id": "b193fd8bd7e34187a3866aeee9198463",
       "version_major": 2,
       "version_minor": 0
      },
      "text/plain": [
       "HBox(children=(IntProgress(value=0, max=11), HTML(value='')))"
      ]
     },
     "metadata": {},
     "output_type": "display_data"
    },
    {
     "name": "stdout",
     "output_type": "stream",
     "text": [
      "\n",
      "Doing now following indexes: ['3469_maxcc_0.05_x-7_y-130', '3470_maxcc_0.05_x-7_y-131', '3471_maxcc_0.05_x-7_y-132', '3472_maxcc_0.05_x-7_y-133', '3473_maxcc_0.05_x-7_y-134', '3474_maxcc_0.05_x-7_y-135', '3475_maxcc_0.05_x-7_y-136', '3476_maxcc_0.05_x-7_y-137', '3477_maxcc_0.05_x-7_y-138', '3478_maxcc_0.05_x-7_y-139', '3479_maxcc_0.05_x-7_y-140']\n",
      "currently_loaded 3469_maxcc_0.05_x-7_y-130\n",
      "currently_loaded 3470_maxcc_0.05_x-7_y-131\n",
      "currently_loaded 3471_maxcc_0.05_x-7_y-132\n",
      "currently_loaded 3472_maxcc_0.05_x-7_y-133\n",
      "currently_loaded 3473_maxcc_0.05_x-7_y-134\n",
      "currently_loaded 3474_maxcc_0.05_x-7_y-135\n",
      "currently_loaded 3475_maxcc_0.05_x-7_y-136\n",
      "currently_loaded 3476_maxcc_0.05_x-7_y-137\n",
      "currently_loaded 3477_maxcc_0.05_x-7_y-138\n",
      "currently_loaded 3478_maxcc_0.05_x-7_y-139\n",
      "currently_loaded 3479_maxcc_0.05_x-7_y-140\n"
     ]
    },
    {
     "data": {
      "application/vnd.jupyter.widget-view+json": {
       "model_id": "fe9655a4dc4b4a14bf5ff17defd7146c",
       "version_major": 2,
       "version_minor": 0
      },
      "text/plain": [
       "HBox(children=(IntProgress(value=0, max=11), HTML(value='')))"
      ]
     },
     "metadata": {},
     "output_type": "display_data"
    },
    {
     "name": "stdout",
     "output_type": "stream",
     "text": [
      "\n",
      "Reading EOPatches from: ('2019-05-01', '2019-10-31')\n",
      "Doing now following indexes: ['2969_maxcc_0.05_x-3_y-130', '2970_maxcc_0.05_x-3_y-131', '2971_maxcc_0.05_x-3_y-132', '2972_maxcc_0.05_x-3_y-133', '2973_maxcc_0.05_x-3_y-134', '2974_maxcc_0.05_x-3_y-135', '2975_maxcc_0.05_x-3_y-136', '2976_maxcc_0.05_x-3_y-137', '2977_maxcc_0.05_x-3_y-138', '2978_maxcc_0.05_x-3_y-139', '2979_maxcc_0.05_x-3_y-140']\n",
      "currently_loaded 2969_maxcc_0.05_x-3_y-130\n",
      "currently_loaded 2970_maxcc_0.05_x-3_y-131\n",
      "currently_loaded 2971_maxcc_0.05_x-3_y-132\n",
      "currently_loaded 2972_maxcc_0.05_x-3_y-133\n",
      "currently_loaded 2973_maxcc_0.05_x-3_y-134\n",
      "currently_loaded 2974_maxcc_0.05_x-3_y-135\n",
      "currently_loaded 2975_maxcc_0.05_x-3_y-136\n",
      "currently_loaded 2976_maxcc_0.05_x-3_y-137\n",
      "currently_loaded 2977_maxcc_0.05_x-3_y-138\n",
      "currently_loaded 2978_maxcc_0.05_x-3_y-139\n",
      "currently_loaded 2979_maxcc_0.05_x-3_y-140\n"
     ]
    },
    {
     "data": {
      "application/vnd.jupyter.widget-view+json": {
       "model_id": "6f02f7a90c524985bb18709cac6eab49",
       "version_major": 2,
       "version_minor": 0
      },
      "text/plain": [
       "HBox(children=(IntProgress(value=0, max=11), HTML(value='')))"
      ]
     },
     "metadata": {},
     "output_type": "display_data"
    },
    {
     "name": "stdout",
     "output_type": "stream",
     "text": [
      "\n",
      "Doing now following indexes: ['3059_maxcc_0.05_x-4_y-130', '3060_maxcc_0.05_x-4_y-131', '3061_maxcc_0.05_x-4_y-132', '3062_maxcc_0.05_x-4_y-133', '3063_maxcc_0.05_x-4_y-134', '3064_maxcc_0.05_x-4_y-135', '3065_maxcc_0.05_x-4_y-136', '3066_maxcc_0.05_x-4_y-137', '3067_maxcc_0.05_x-4_y-138', '3068_maxcc_0.05_x-4_y-139', '3069_maxcc_0.05_x-4_y-140']\n",
      "currently_loaded 3059_maxcc_0.05_x-4_y-130\n",
      "currently_loaded 3060_maxcc_0.05_x-4_y-131\n",
      "currently_loaded 3061_maxcc_0.05_x-4_y-132\n",
      "currently_loaded 3062_maxcc_0.05_x-4_y-133\n",
      "currently_loaded 3063_maxcc_0.05_x-4_y-134\n",
      "currently_loaded 3064_maxcc_0.05_x-4_y-135\n",
      "currently_loaded 3065_maxcc_0.05_x-4_y-136\n",
      "currently_loaded 3066_maxcc_0.05_x-4_y-137\n",
      "currently_loaded 3067_maxcc_0.05_x-4_y-138\n",
      "currently_loaded 3068_maxcc_0.05_x-4_y-139\n",
      "currently_loaded 3069_maxcc_0.05_x-4_y-140\n"
     ]
    },
    {
     "data": {
      "application/vnd.jupyter.widget-view+json": {
       "model_id": "e1d8ea7ebb654e0490f9e35cb24a506e",
       "version_major": 2,
       "version_minor": 0
      },
      "text/plain": [
       "HBox(children=(IntProgress(value=0, max=11), HTML(value='')))"
      ]
     },
     "metadata": {},
     "output_type": "display_data"
    },
    {
     "name": "stdout",
     "output_type": "stream",
     "text": [
      "\n",
      "Doing now following indexes: ['3172_maxcc_0.05_x-5_y-130', '3173_maxcc_0.05_x-5_y-131', '3174_maxcc_0.05_x-5_y-132', '3175_maxcc_0.05_x-5_y-133', '3176_maxcc_0.05_x-5_y-134', '3177_maxcc_0.05_x-5_y-135', '3178_maxcc_0.05_x-5_y-136', '3179_maxcc_0.05_x-5_y-137', '3180_maxcc_0.05_x-5_y-138', '3181_maxcc_0.05_x-5_y-139', '3182_maxcc_0.05_x-5_y-140']\n",
      "currently_loaded 3172_maxcc_0.05_x-5_y-130\n",
      "currently_loaded 3173_maxcc_0.05_x-5_y-131\n",
      "currently_loaded 3174_maxcc_0.05_x-5_y-132\n",
      "currently_loaded 3175_maxcc_0.05_x-5_y-133\n",
      "currently_loaded 3176_maxcc_0.05_x-5_y-134\n",
      "currently_loaded 3177_maxcc_0.05_x-5_y-135\n",
      "currently_loaded 3178_maxcc_0.05_x-5_y-136\n",
      "currently_loaded 3179_maxcc_0.05_x-5_y-137\n",
      "currently_loaded 3180_maxcc_0.05_x-5_y-138\n",
      "currently_loaded 3181_maxcc_0.05_x-5_y-139\n",
      "currently_loaded 3182_maxcc_0.05_x-5_y-140\n"
     ]
    },
    {
     "data": {
      "application/vnd.jupyter.widget-view+json": {
       "model_id": "3ef9d5f661624aa0baa536b76c222b72",
       "version_major": 2,
       "version_minor": 0
      },
      "text/plain": [
       "HBox(children=(IntProgress(value=0, max=11), HTML(value='')))"
      ]
     },
     "metadata": {},
     "output_type": "display_data"
    },
    {
     "name": "stdout",
     "output_type": "stream",
     "text": [
      "\n",
      "Doing now following indexes: ['3306_maxcc_0.05_x-6_y-130', '3307_maxcc_0.05_x-6_y-131', '3308_maxcc_0.05_x-6_y-132', '3309_maxcc_0.05_x-6_y-133', '3310_maxcc_0.05_x-6_y-134', '3311_maxcc_0.05_x-6_y-135', '3312_maxcc_0.05_x-6_y-136', '3313_maxcc_0.05_x-6_y-137', '3314_maxcc_0.05_x-6_y-138', '3315_maxcc_0.05_x-6_y-139', '3316_maxcc_0.05_x-6_y-140']\n",
      "currently_loaded 3306_maxcc_0.05_x-6_y-130\n",
      "currently_loaded 3307_maxcc_0.05_x-6_y-131\n",
      "currently_loaded 3308_maxcc_0.05_x-6_y-132\n",
      "currently_loaded 3309_maxcc_0.05_x-6_y-133\n",
      "currently_loaded 3310_maxcc_0.05_x-6_y-134\n",
      "currently_loaded 3311_maxcc_0.05_x-6_y-135\n",
      "currently_loaded 3312_maxcc_0.05_x-6_y-136\n",
      "currently_loaded 3313_maxcc_0.05_x-6_y-137\n",
      "currently_loaded 3314_maxcc_0.05_x-6_y-138\n",
      "currently_loaded 3315_maxcc_0.05_x-6_y-139\n",
      "currently_loaded 3316_maxcc_0.05_x-6_y-140\n"
     ]
    },
    {
     "data": {
      "application/vnd.jupyter.widget-view+json": {
       "model_id": "fe0f9a3e24294b85aed223671804fb0a",
       "version_major": 2,
       "version_minor": 0
      },
      "text/plain": [
       "HBox(children=(IntProgress(value=0, max=11), HTML(value='')))"
      ]
     },
     "metadata": {},
     "output_type": "display_data"
    },
    {
     "name": "stdout",
     "output_type": "stream",
     "text": [
      "\n",
      "Doing now following indexes: ['3469_maxcc_0.05_x-7_y-130', '3470_maxcc_0.05_x-7_y-131', '3471_maxcc_0.05_x-7_y-132', '3472_maxcc_0.05_x-7_y-133', '3473_maxcc_0.05_x-7_y-134', '3474_maxcc_0.05_x-7_y-135', '3475_maxcc_0.05_x-7_y-136', '3476_maxcc_0.05_x-7_y-137', '3477_maxcc_0.05_x-7_y-138', '3478_maxcc_0.05_x-7_y-139', '3479_maxcc_0.05_x-7_y-140']\n",
      "currently_loaded 3469_maxcc_0.05_x-7_y-130\n",
      "currently_loaded 3470_maxcc_0.05_x-7_y-131\n",
      "currently_loaded 3471_maxcc_0.05_x-7_y-132\n",
      "currently_loaded 3472_maxcc_0.05_x-7_y-133\n",
      "currently_loaded 3473_maxcc_0.05_x-7_y-134\n",
      "currently_loaded 3474_maxcc_0.05_x-7_y-135\n",
      "currently_loaded 3475_maxcc_0.05_x-7_y-136\n",
      "currently_loaded 3476_maxcc_0.05_x-7_y-137\n",
      "currently_loaded 3477_maxcc_0.05_x-7_y-138\n",
      "currently_loaded 3478_maxcc_0.05_x-7_y-139\n",
      "currently_loaded 3479_maxcc_0.05_x-7_y-140\n"
     ]
    },
    {
     "data": {
      "application/vnd.jupyter.widget-view+json": {
       "model_id": "b52ccd1332c44c98ad92953c1bf3ba89",
       "version_major": 2,
       "version_minor": 0
      },
      "text/plain": [
       "HBox(children=(IntProgress(value=0, max=11), HTML(value='')))"
      ]
     },
     "metadata": {},
     "output_type": "display_data"
    },
    {
     "name": "stdout",
     "output_type": "stream",
     "text": [
      "\n"
     ]
    }
   ],
   "source": [
    "# run workflow\n",
    "for date_ranges in date_ranges_tuple:\n",
    "    print('Reading EOPatches from:', date_ranges[0] )\n",
    "    modis_eopatches_filepath = io_utils.get_eopatches_dir(MODIS_PRODUCT, site.SITE_NAME, site.AVAILABLE_CRSs[0], date_ranges[1])\n",
    "    landsat_eopatches_filepath = io_utils.get_eopatches_dir(LANDSAT_PRODUCT, site.SITE_NAME, site.AVAILABLE_CRSs[0], date_ranges[0])\n",
    "    # TASK TO LOAD AND SAVE EXISTING EOPATCHES HAS TO BE CREATED YEARLY (different directories)\n",
    "    load_eotask = LoadTask(modis_eopatches_filepath)\n",
    "    save_eotask = SaveTask(modis_eopatches_filepath, overwrite_permission=OverwritePermission.OVERWRITE_PATCH, compress_level=1)\n",
    "    \n",
    "    # Define the workflow\n",
    "    workflow = LinearWorkflow(\n",
    "    load_eotask,\n",
    "    append_data_dem_raw,\n",
    "    append_data_slope,  \n",
    "    save_eotask\n",
    "    )\n",
    "                      \n",
    "    list_of_available_patches = io_utils.get_list_of_eopatches(modis_eopatches_filepath)\n",
    "    list_in_chunks = chunkIt(list_of_available_patches, 5 )\n",
    "    for element in list_in_chunks:\n",
    "        print('Doing now following indexes:', element )\n",
    "        execution_args = []\n",
    "        for eopatch_name in element:\n",
    "            print('currently_loaded',eopatch_name)\n",
    "            landsat_eo_patch = EOPatch.load(landsat_eopatches_filepath+eopatch_name)\n",
    "            execution_args.append({\n",
    "            load_eotask:                    {'eopatch_folder': eopatch_name},\n",
    "            append_data_dem_raw:            {'second_eopatch': landsat_eo_patch},\n",
    "            append_data_slope:              {'second_eopatch': landsat_eo_patch},\n",
    "            save_eotask:                    {'eopatch_folder': eopatch_name}\n",
    "            })\n",
    "            #del modis_eo_patch\n",
    "                                       \n",
    "        executor = EOExecutor(workflow, execution_args, save_logs=True)\n",
    "        executor.run(workers=1, multiprocess=False)\n",
    "\n",
    "        executor.make_report()\n",
    "        "
   ]
  },
  {
   "cell_type": "markdown",
   "metadata": {},
   "source": [
    "#### 4. Visualize co-located data"
   ]
  },
  {
   "cell_type": "code",
   "execution_count": 32,
   "metadata": {},
   "outputs": [
    {
     "data": {
      "text/plain": [
       "'../../data/EOPatches/MODIS/UPE_PROMICE/UTM_22N/2019_04-2019_11/'"
      ]
     },
     "execution_count": 32,
     "metadata": {},
     "output_type": "execute_result"
    }
   ],
   "source": [
    "modis_eopatches_filepath # '../../data/EOPatches/MODIS/UPE_PROMICE/UTM_22N/2019_04-2019_11/' "
   ]
  },
  {
   "cell_type": "code",
   "execution_count": 41,
   "metadata": {},
   "outputs": [],
   "source": [
    "file_patch = io_utils.get_eopatches_dir(MODIS_PRODUCT, site.SITE_NAME, site.AVAILABLE_CRSs[0], site.DATE_RANGES_MODIS[5])+'3176_maxcc_0.05_x-5_y-134'\n",
    "exemplary_landsat = EOPatch.load('../../data/EOPatches/MODIS/UPE_PROMICE/UTM_22N/2019_04-2019_11/2969_maxcc_0.05_x-3_y-130' )"
   ]
  },
  {
   "cell_type": "code",
   "execution_count": 42,
   "metadata": {},
   "outputs": [
    {
     "data": {
      "text/plain": [
       "EOPatch(\n",
       "  data: {\n",
       "    MODIS_EUC_NORM_RAW_BANDS: numpy.ndarray(shape=(194, 333, 333, 1), dtype=float32)\n",
       "    MODIS_NDWI: numpy.ndarray(shape=(194, 333, 333, 1), dtype=float32)\n",
       "    MODIS_NRB: numpy.ndarray(shape=(194, 333, 333, 1), dtype=float32)\n",
       "    MODIS_RAW_BANDS: numpy.ndarray(shape=(194, 333, 333, 7), dtype=float32)\n",
       "  }\n",
       "  mask: {\n",
       "    IS_DATA: numpy.ndarray(shape=(194, 333, 333, 1), dtype=bool)\n",
       "  }\n",
       "  scalar: {}\n",
       "  label: {}\n",
       "  vector: {}\n",
       "  data_timeless: {\n",
       "    DEM_RAW_LAYER: numpy.ndarray(shape=(333, 333, 1), dtype=float32)\n",
       "    DEM_SLOPE_LAYER: numpy.ndarray(shape=(333, 333, 1), dtype=float32)\n",
       "  }\n",
       "  mask_timeless: {}\n",
       "  scalar_timeless: {}\n",
       "  label_timeless: {}\n",
       "  vector_timeless: {}\n",
       "  meta_info: {\n",
       "    index_x: 3\n",
       "    index_y: 130\n",
       "    maxcc: '0.05'\n",
       "    patch_index: 2969\n",
       "    service_type: 'wcs'\n",
       "    site_name: 'UPE_PROMICE'\n",
       "    size_x: '30m'\n",
       "    size_y: '30m'\n",
       "    time_difference: datetime.timedelta(seconds=7200)\n",
       "    time_interval: ('2019-04-26', '2019-11-05')\n",
       "  }\n",
       "  bbox: BBox(((400000.0, 8030000.0), (410000.0, 8040000.0)), crs=EPSG:32622)\n",
       "  timestamp: [datetime.datetime(2019, 4, 26, 12, 0), ..., datetime.datetime(2019, 11, 5, 12, 0)], length=194\n",
       ")"
      ]
     },
     "execution_count": 42,
     "metadata": {},
     "output_type": "execute_result"
    }
   ],
   "source": [
    "exemplary_landsat"
   ]
  },
  {
   "cell_type": "code",
   "execution_count": 37,
   "metadata": {},
   "outputs": [
    {
     "name": "stdout",
     "output_type": "stream",
     "text": [
      "2018-07-06 23:54:02\n"
     ]
    },
    {
     "data": {
      "image/png": "[encoded data removed]",
      "text/plain": [
       "<Figure size 1440x1440 with 1 Axes>"
      ]
     },
     "metadata": {},
     "output_type": "display_data"
    }
   ],
   "source": [
    "plot_utils.plot_RGB_LANDSAT_8_image(exemplary_landsat, datetime_idx=10)"
   ]
  },
  {
   "cell_type": "code",
   "execution_count": 40,
   "metadata": {},
   "outputs": [
    {
     "name": "stdout",
     "output_type": "stream",
     "text": [
      "2018-07-06 23:54:02\n"
     ]
    },
    {
     "data": {
      "image/png": "[encoded data removed]",
      "text/plain": [
       "<Figure size 720x720 with 1 Axes>"
      ]
     },
     "metadata": {},
     "output_type": "display_data"
    }
   ],
   "source": [
    "plot_utils.plot_RGB_MODIS_image(exemplary_landsat, data_acces_name='MODIS_RAW_BANDS_DAY_0', datetime_idx=10)"
   ]
  },
  {
   "cell_type": "code",
   "execution_count": 41,
   "metadata": {},
   "outputs": [
    {
     "name": "stdout",
     "output_type": "stream",
     "text": [
      "2018-07-06 23:54:02\n"
     ]
    },
    {
     "data": {
      "image/png": "[encoded data removed]",
      "text/plain": [
       "<Figure size 720x720 with 1 Axes>"
      ]
     },
     "metadata": {},
     "output_type": "display_data"
    }
   ],
   "source": [
    "plot_utils.plot_RGB_MODIS_image(exemplary_landsat, data_acces_name='MODIS_RAW_BANDS_DAY_BEFORE', datetime_idx=10)"
   ]
  },
  {
   "cell_type": "code",
   "execution_count": 42,
   "metadata": {},
   "outputs": [
    {
     "name": "stdout",
     "output_type": "stream",
     "text": [
      "2018-07-06 23:54:02\n"
     ]
    },
    {
     "name": "stderr",
     "output_type": "stream",
     "text": [
      "Clipping input data to the valid range for imshow with RGB data ([0..1] for floats or [0..255] for integers).\n"
     ]
    },
    {
     "data": {
      "image/png": "[encoded data removed]",
      "text/plain": [
       "<Figure size 720x720 with 1 Axes>"
      ]
     },
     "metadata": {},
     "output_type": "display_data"
    }
   ],
   "source": [
    "plot_utils.plot_RGB_MODIS_image(exemplary_landsat, data_acces_name='MODIS_RAW_BANDS_DAY_AFTER', datetime_idx=10)"
   ]
  },
  {
   "cell_type": "code",
   "execution_count": 44,
   "metadata": {},
   "outputs": [
    {
     "data": {
      "image/png": "[encoded data removed]",
      "text/plain": [
       "<Figure size 720x720 with 1 Axes>"
      ]
     },
     "metadata": {},
     "output_type": "display_data"
    }
   ],
   "source": [
    "plot_utils.plot_timeless_mask_LANDSAT_8(exemplary_landsat, band_idx=0)"
   ]
  },
  {
   "cell_type": "code",
   "execution_count": 45,
   "metadata": {},
   "outputs": [
    {
     "name": "stdout",
     "output_type": "stream",
     "text": [
      "2018-07-06 23:54:02\n"
     ]
    },
    {
     "data": {
      "image/png": "[encoded data removed]",
      "text/plain": [
       "<Figure size 720x720 with 1 Axes>"
      ]
     },
     "metadata": {},
     "output_type": "display_data"
    }
   ],
   "source": [
    "plot_utils.plot_single_band_LANDSAT_8(exemplary_landsat, band_idx=0, data_acces_name='MODIS_NRB' , datetime_idx =10 )"
   ]
  },
  {
   "cell_type": "code",
   "execution_count": 46,
   "metadata": {},
   "outputs": [
    {
     "name": "stdout",
     "output_type": "stream",
     "text": [
      "2018-07-06 23:54:02\n"
     ]
    },
    {
     "data": {
      "image/png": "[encoded data removed]",
      "text/plain": [
       "<Figure size 720x720 with 1 Axes>"
      ]
     },
     "metadata": {},
     "output_type": "display_data"
    }
   ],
   "source": [
    "plot_utils.plot_single_band_LANDSAT_8(exemplary_landsat, band_idx=0, data_acces_name='MODIS_NDWI' , datetime_idx =10 )"
   ]
  },
  {
   "cell_type": "code",
   "execution_count": 47,
   "metadata": {},
   "outputs": [
    {
     "name": "stdout",
     "output_type": "stream",
     "text": [
      "2018-07-06 23:54:02\n"
     ]
    },
    {
     "data": {
      "image/png": "[encoded data removed]",
      "text/plain": [
       "<Figure size 720x720 with 1 Axes>"
      ]
     },
     "metadata": {},
     "output_type": "display_data"
    }
   ],
   "source": [
    "plot_utils.plot_single_band_LANDSAT_8(exemplary_landsat, band_idx=0, data_acces_name='MODIS_EUC_NORM_RAW_BANDS' , datetime_idx =10 ) "
   ]
  }
 ],
 "metadata": {
  "kernelspec": {
   "display_name": "Python 3",
   "language": "python",
   "name": "python3"
  },
  "language_info": {
   "codemirror_mode": {
    "name": "ipython",
    "version": 3
   },
   "file_extension": ".py",
   "mimetype": "text/x-python",
   "name": "python",
   "nbconvert_exporter": "python",
   "pygments_lexer": "ipython3",
   "version": "3.7.3"
  }
 },
 "nbformat": 4,
 "nbformat_minor": 2
}
