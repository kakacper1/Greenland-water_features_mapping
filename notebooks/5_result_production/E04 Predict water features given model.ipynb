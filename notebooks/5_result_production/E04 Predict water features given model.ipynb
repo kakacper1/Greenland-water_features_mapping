{
 "cells": [
  {
   "cell_type": "markdown",
   "metadata": {},
   "source": [
    "## E03 Predict water features given model\n",
    "#### 0. Load required libraries, site dependant constants and utility functions."
   ]
  },
  {
   "cell_type": "code",
   "execution_count": 2,
   "metadata": {},
   "outputs": [],
   "source": [
    "from os import listdir\n",
    "from os.path import isfile, join\n",
    "import numpy as np\n",
    "import seaborn as sns\n",
    "import joblib\n",
    "from sklearn import metrics\n",
    "\n",
    "# EOLearn libraries:\n",
    "from eolearn.core import EOTask, EOPatch, LinearWorkflow, LoadTask, SaveTask, FeatureType, EOExecutor\n",
    "from eolearn.core import OverwritePermission\n",
    "\n",
    "# Add to python path parent dictionary\n",
    "import sys\n",
    "sys.path.append(\"../../\")\n",
    "\n",
    "# load site dependant constants (HERE YOU CAN CHOOSE DIFFERENT LOCATION)\n",
    "from aoi_sites import upe_promice_area as site\n",
    "\n",
    "# load utility functions\n",
    "from utils import io_functions as io_utils\n",
    "from utils import plot_functions as plot_utils"
   ]
  },
  {
   "cell_type": "markdown",
   "metadata": {},
   "source": [
    "#### 1. Load model"
   ]
  },
  {
   "cell_type": "code",
   "execution_count": 7,
   "metadata": {},
   "outputs": [],
   "source": [
    "# uncomment to load the model and replace with your file, usually just correct the date\n",
    "model_path = './LGBMClassifier_model_20000_unbalanced_WATER_only_MODIS_test_0_fixed_lr_01_min_wat_50.pkl'\n",
    "model = joblib.load(model_path)\n",
    "\n",
    "# predict the test labels\n",
    "#plabels_test = model.predict(features_test)"
   ]
  },
  {
   "cell_type": "markdown",
   "metadata": {},
   "source": [
    "#### 2. Define EOTask"
   ]
  },
  {
   "cell_type": "code",
   "execution_count": null,
   "metadata": {},
   "outputs": [],
   "source": [
    "class PredictPatch(EOTask):\n",
    "    \"\"\"\n",
    "    Task to make model predictions on a patch. Provide the model and the feature, \n",
    "    and the output names of labels and scores (optional)\n",
    "    \"\"\"\n",
    "    def __init__(self, model, features_feature, predicted_labels_name, return_eopatch=True):\n",
    "        self.model = model\n",
    "        self.features_feature = features_feature\n",
    "        self.predicted_labels_name = predicted_labels_name\n",
    "        self.return_eopatch = return_eopatch\n",
    "        \n",
    "    def execute(self, eopatch):\n",
    "        ftrs = eopatch[self.features_feature[0]][self.features_feature[1]]\n",
    "        \n",
    "        t, w, h, f = ftrs.shape\n",
    "        ftrs = ftrs.reshape(t * w * h, f)\n",
    "        \n",
    "        plabels = self.model.predict(ftrs)\n",
    "        plabels = plabels.reshape(t, w, h )\n",
    "        plabels = plabels[..., np.newaxis]\n",
    "        eopatch.add_feature(FeatureType.MASK, self.predicted_labels_name, plabels)\n",
    "        \n",
    "        #if self.predicted_scores_name:\n",
    "        #    pscores = self.model.predict_proba(ftrs)\n",
    "        #    _, d = pscores.shape\n",
    "        #    pscores = pscores.reshape(w, h, d)\n",
    "        #    eopatch.add_feature(FeatureType.DATA_TIMELESS, self.predicted_scores_name, pscores)\n",
    "        \n",
    "        if self.return_eopatch == True:\n",
    "            return eopatch\n",
    "        else:\n",
    "            return plabels"
   ]
  },
  {
   "cell_type": "code",
   "execution_count": null,
   "metadata": {},
   "outputs": [],
   "source": [
    "class CountMaskCoverage(EOTask):\n",
    "    \n",
    "    def __init__(self, input_mask_name, output_scalar_name ):\n",
    "        self.input_mask_name = input_mask_name\n",
    "        self.output_scalar_name = output_scalar_name\n",
    "        \n",
    "    def execute(self, eopatch):\n",
    "        ultimate_masks = eopatch.mask[self.input_mask_name]\n",
    "        mask_shape = ultimate_masks.shape\n",
    "        #print(mask_shape)\n",
    "        coverage_list = []\n",
    "        \n",
    "        for i in range(mask_shape[0]):\n",
    "            array = ultimate_masks[i].squeeze()\n",
    "            #print(array.shape)\n",
    "            coverage = np.sum(array.astype(np.uint8)) #/ np.prod(array.shape)\n",
    "            coverage_list.append(coverage)\n",
    "        \n",
    "        \n",
    "        eopatch.add_feature(FeatureType.SCALAR_TIMELESS, self.output_scalar_name, np.asarray(coverage_list))\n",
    "        return eopatch"
   ]
  },
  {
   "cell_type": "code",
   "execution_count": null,
   "metadata": {},
   "outputs": [],
   "source": [
    "# TASK FOR PREDICTION\n",
    "predict_patch = PredictPatch(model, (FeatureType.DATA, 'DATASET'), 'PREDICTED_WATER_FEATURES')\n",
    "\n",
    "calculate_water_mask_coverage = CountMaskCoverage(input_mask_name='PREDICTED_WATER_FEATURES',\n",
    "                                                            output_scalar_name='PREDICTED_WATER_MASK_COVERAGE')\n"
   ]
  },
  {
   "cell_type": "markdown",
   "metadata": {},
   "source": [
    "#### 3. Check out EOTasks:"
   ]
  },
  {
   "cell_type": "code",
   "execution_count": 4,
   "metadata": {},
   "outputs": [
    {
     "name": "stdout",
     "output_type": "stream",
     "text": [
      "Loaded from ../../data/EOPatches/MODIS/UPE_PROMICE/UTM_22N/2013_04-2013_11/2975_maxcc_0.05_x-3_y-136\n"
     ]
    }
   ],
   "source": [
    "file = io_utils.get_eopatches_dir(site.DATA_PRODUCTS[0], site.SITE_NAME, site.AVAILABLE_CRSs[0], site.DATE_RANGES_MODIS[0])\n",
    "eo_patch = io_utils.load_exemplary_eopatch_from_file(file)"
   ]
  },
  {
   "cell_type": "code",
   "execution_count": 5,
   "metadata": {},
   "outputs": [
    {
     "ename": "NameError",
     "evalue": "name 'predict_patch' is not defined",
     "output_type": "error",
     "traceback": [
      "\u001b[1;31m---------------------------------------------------------------------------\u001b[0m",
      "\u001b[1;31mNameError\u001b[0m                                 Traceback (most recent call last)",
      "\u001b[1;32m<ipython-input-5-4c316d271161>\u001b[0m in \u001b[0;36m<module>\u001b[1;34m\u001b[0m\n\u001b[1;32m----> 1\u001b[1;33m \u001b[0meo_patch\u001b[0m \u001b[1;33m=\u001b[0m \u001b[0mpredict_patch\u001b[0m\u001b[1;33m.\u001b[0m\u001b[0mexecute\u001b[0m\u001b[1;33m(\u001b[0m\u001b[0meo_patch\u001b[0m\u001b[1;33m)\u001b[0m\u001b[1;33m\u001b[0m\u001b[1;33m\u001b[0m\u001b[0m\n\u001b[0m\u001b[0;32m      2\u001b[0m \u001b[0mcalculate_water_mask_coverage\u001b[0m\u001b[1;33m(\u001b[0m\u001b[0meo_patch\u001b[0m\u001b[1;33m)\u001b[0m\u001b[1;33m\u001b[0m\u001b[1;33m\u001b[0m\u001b[0m\n",
      "\u001b[1;31mNameError\u001b[0m: name 'predict_patch' is not defined"
     ]
    }
   ],
   "source": [
    "eo_patch = predict_patch.execute(eo_patch)\n",
    "calculate_water_mask_coverage(eo_patch)"
   ]
  },
  {
   "cell_type": "code",
   "execution_count": null,
   "metadata": {},
   "outputs": [],
   "source": [
    "plot_utils.plot_RGB_MODIS_image(eo_patch, datetime_idx=99)"
   ]
  },
  {
   "cell_type": "code",
   "execution_count": null,
   "metadata": {},
   "outputs": [],
   "source": [
    "plot_utils.plot_RGB_MODIS_image(eo_patch, datetime_idx=100)"
   ]
  },
  {
   "cell_type": "code",
   "execution_count": null,
   "metadata": {},
   "outputs": [],
   "source": [
    "data = eo_patch.mask['PREDICTED_WATER_FEATURES']"
   ]
  },
  {
   "cell_type": "code",
   "execution_count": null,
   "metadata": {},
   "outputs": [],
   "source": [
    "data.shape"
   ]
  },
  {
   "cell_type": "code",
   "execution_count": null,
   "metadata": {},
   "outputs": [],
   "source": [
    "plot_utils.plot_matrix(data[99])"
   ]
  },
  {
   "cell_type": "code",
   "execution_count": null,
   "metadata": {},
   "outputs": [],
   "source": [
    "plot_utils.plot_matrix(data[100])"
   ]
  },
  {
   "cell_type": "code",
   "execution_count": 70,
   "metadata": {},
   "outputs": [
    {
     "data": {
      "text/plain": [
       "array([    0,     0,     0,     0,     0,     0,     0,     0,     0,\n",
       "           0,     0,     0,     0,     0,     0,     0,     0,     0,\n",
       "           0,     0,     0,     0,     0,     0,     0,     0,     0,\n",
       "           0,     0,     0,     0,     0,     0,     0,     0,     0,\n",
       "           0,     0,     0,     0,     0,     0,     0,     0,     0,\n",
       "           0,     0,     0,     0,     0,  4779,    31,     0,   472,\n",
       "           3,   458,   808,  1320,  1308,   697,   352,   308,   317,\n",
       "         290,   290,   828,   305,   113,   116,    90,     0,     0,\n",
       "           0,    22,     4,   253,   200,   284,   349,   108,   108,\n",
       "          64,   173,   140,   136,   166,     0,    24,    56,     0,\n",
       "          26,    13,     9,   663,    92,   260,   191,   174,   180,\n",
       "           0,     0,     0,     0,     0,     0,     0,     0,   431,\n",
       "         686,   868,     1,     1,     1,     1,     0,     0,     0,\n",
       "           0,     0,     0,     0,     0,     0,     0,     0,    32,\n",
       "           0,     0,     0,     0,   101,   101,    82,   241,   372,\n",
       "        7965, 12689,    45,     3,   430,   702,  7797,   168,   284,\n",
       "          89,   608,    58,   359,     8,   240,     0,     0,   166,\n",
       "           0,     0,     0,     0,    87,     0,    50,    50,   631,\n",
       "         660,    16,  1825,    33,    17,    30,    34,    58,   146,\n",
       "         270,   443,   314,     0,     0,     0,     0,     0,     0,\n",
       "           0,     0,     0,     0,     0,     0,     0,     0,     0,\n",
       "           0,     0,     0,     0,     0], dtype=uint32)"
      ]
     },
     "execution_count": 70,
     "metadata": {},
     "output_type": "execute_result"
    }
   ],
   "source": [
    "eo_patch.scalar_timeless['PREDICTED_WATER_MASK_COVERAGE']"
   ]
  },
  {
   "cell_type": "markdown",
   "metadata": {},
   "source": [
    "#### 2. Create and execute EOWorkflow"
   ]
  },
  {
   "cell_type": "code",
   "execution_count": 6,
   "metadata": {},
   "outputs": [
    {
     "data": {
      "text/plain": [
       "[('2000-04-26', '2000-11-05'),\n",
       " ('2001-04-26', '2001-11-05'),\n",
       " ('2002-04-26', '2002-11-05'),\n",
       " ('2003-04-26', '2003-11-05'),\n",
       " ('2004-04-26', '2004-11-05'),\n",
       " ('2005-04-26', '2005-11-05'),\n",
       " ('2006-04-26', '2006-11-05'),\n",
       " ('2007-04-26', '2007-11-05'),\n",
       " ('2008-04-26', '2008-11-05'),\n",
       " ('2009-04-26', '2009-11-05'),\n",
       " ('2010-04-26', '2010-11-05')]"
      ]
     },
     "execution_count": 6,
     "metadata": {},
     "output_type": "execute_result"
    }
   ],
   "source": [
    "site.DATE_RANGES_MODIS[7:-2]"
   ]
  },
  {
   "cell_type": "code",
   "execution_count": 78,
   "metadata": {},
   "outputs": [
    {
     "name": "stdout",
     "output_type": "stream",
     "text": [
      "Reading EOPatches from: ('2000-04-26', '2000-11-05')\n"
     ]
    },
    {
     "data": {
      "application/vnd.jupyter.widget-view+json": {
       "model_id": "eb62e4b90e2e485b9ffeae911f6fd724",
       "version_major": 2,
       "version_minor": 0
      },
      "text/plain": [
       "HBox(children=(IntProgress(value=0, max=55), HTML(value='')))"
      ]
     },
     "metadata": {},
     "output_type": "display_data"
    },
    {
     "name": "stdout",
     "output_type": "stream",
     "text": [
      "\n",
      "Reading EOPatches from: ('2001-04-26', '2001-11-05')\n"
     ]
    },
    {
     "data": {
      "application/vnd.jupyter.widget-view+json": {
       "model_id": "e127b8a05efb4d8aac311be7c482c6e1",
       "version_major": 2,
       "version_minor": 0
      },
      "text/plain": [
       "HBox(children=(IntProgress(value=0, max=55), HTML(value='')))"
      ]
     },
     "metadata": {},
     "output_type": "display_data"
    },
    {
     "name": "stdout",
     "output_type": "stream",
     "text": [
      "\n",
      "Reading EOPatches from: ('2002-04-26', '2002-11-05')\n"
     ]
    },
    {
     "data": {
      "application/vnd.jupyter.widget-view+json": {
       "model_id": "ee0eb0d27f4c4c5686621b0504a46d72",
       "version_major": 2,
       "version_minor": 0
      },
      "text/plain": [
       "HBox(children=(IntProgress(value=0, max=55), HTML(value='')))"
      ]
     },
     "metadata": {},
     "output_type": "display_data"
    },
    {
     "name": "stdout",
     "output_type": "stream",
     "text": [
      "\n",
      "Reading EOPatches from: ('2003-04-26', '2003-11-05')\n"
     ]
    },
    {
     "data": {
      "application/vnd.jupyter.widget-view+json": {
       "model_id": "6031e2014fe944ccab74348283fa8e4b",
       "version_major": 2,
       "version_minor": 0
      },
      "text/plain": [
       "HBox(children=(IntProgress(value=0, max=55), HTML(value='')))"
      ]
     },
     "metadata": {},
     "output_type": "display_data"
    },
    {
     "name": "stdout",
     "output_type": "stream",
     "text": [
      "\n",
      "Reading EOPatches from: ('2004-04-26', '2004-11-05')\n"
     ]
    },
    {
     "data": {
      "application/vnd.jupyter.widget-view+json": {
       "model_id": "8508538c99cd4ecd996cfd19fd97252d",
       "version_major": 2,
       "version_minor": 0
      },
      "text/plain": [
       "HBox(children=(IntProgress(value=0, max=55), HTML(value='')))"
      ]
     },
     "metadata": {},
     "output_type": "display_data"
    },
    {
     "name": "stdout",
     "output_type": "stream",
     "text": [
      "\n",
      "Reading EOPatches from: ('2005-04-26', '2005-11-05')\n"
     ]
    },
    {
     "data": {
      "application/vnd.jupyter.widget-view+json": {
       "model_id": "bf8f6340e9c943159d28258f2315ab91",
       "version_major": 2,
       "version_minor": 0
      },
      "text/plain": [
       "HBox(children=(IntProgress(value=0, max=55), HTML(value='')))"
      ]
     },
     "metadata": {},
     "output_type": "display_data"
    },
    {
     "name": "stdout",
     "output_type": "stream",
     "text": [
      "\n",
      "Reading EOPatches from: ('2006-04-26', '2006-11-05')\n"
     ]
    },
    {
     "data": {
      "application/vnd.jupyter.widget-view+json": {
       "model_id": "bd5bd6fae8c94eeb957992e2b4445c50",
       "version_major": 2,
       "version_minor": 0
      },
      "text/plain": [
       "HBox(children=(IntProgress(value=0, max=55), HTML(value='')))"
      ]
     },
     "metadata": {},
     "output_type": "display_data"
    },
    {
     "name": "stdout",
     "output_type": "stream",
     "text": [
      "\n",
      "Reading EOPatches from: ('2007-04-26', '2007-11-05')\n"
     ]
    },
    {
     "data": {
      "application/vnd.jupyter.widget-view+json": {
       "model_id": "1afda07af8ac44128b1ea9c63a2216e2",
       "version_major": 2,
       "version_minor": 0
      },
      "text/plain": [
       "HBox(children=(IntProgress(value=0, max=55), HTML(value='')))"
      ]
     },
     "metadata": {},
     "output_type": "display_data"
    },
    {
     "name": "stdout",
     "output_type": "stream",
     "text": [
      "\n",
      "Reading EOPatches from: ('2008-04-26', '2008-11-05')\n"
     ]
    },
    {
     "data": {
      "application/vnd.jupyter.widget-view+json": {
       "model_id": "69269caf4169446eaf99436f68c42b8a",
       "version_major": 2,
       "version_minor": 0
      },
      "text/plain": [
       "HBox(children=(IntProgress(value=0, max=55), HTML(value='')))"
      ]
     },
     "metadata": {},
     "output_type": "display_data"
    },
    {
     "name": "stdout",
     "output_type": "stream",
     "text": [
      "\n",
      "Reading EOPatches from: ('2009-04-26', '2009-11-05')\n"
     ]
    },
    {
     "data": {
      "application/vnd.jupyter.widget-view+json": {
       "model_id": "51189544eea14031b9eb87120bc85566",
       "version_major": 2,
       "version_minor": 0
      },
      "text/plain": [
       "HBox(children=(IntProgress(value=0, max=55), HTML(value='')))"
      ]
     },
     "metadata": {},
     "output_type": "display_data"
    },
    {
     "name": "stdout",
     "output_type": "stream",
     "text": [
      "\n",
      "Reading EOPatches from: ('2010-04-26', '2010-11-05')\n"
     ]
    },
    {
     "data": {
      "application/vnd.jupyter.widget-view+json": {
       "model_id": "49086d97eb6441d2936d0d5276f341c2",
       "version_major": 2,
       "version_minor": 0
      },
      "text/plain": [
       "HBox(children=(IntProgress(value=0, max=55), HTML(value='')))"
      ]
     },
     "metadata": {},
     "output_type": "display_data"
    },
    {
     "name": "stdout",
     "output_type": "stream",
     "text": [
      "\n",
      "Wall time: 5h 39min 43s\n"
     ]
    }
   ],
   "source": [
    "%%time\n",
    "# application dataset building eotasks for all aval eopatches in the a eoworkflow\n",
    "for date_range_modis in site.DATE_RANGES_MODIS[7:-2]:\n",
    "    print('Reading EOPatches from:', date_range_modis)\n",
    "    eopatches_filepath = io_utils.get_eopatches_dir(site.DATA_PRODUCTS[0], site.SITE_NAME, site.AVAILABLE_CRSs[0], date_range_modis)\n",
    "    # TASK TO LOAD AND SAVE EXISTING EOPATCHES HAS TO BE CREATED YEARLY (different directories)\n",
    "    load_eotask = LoadTask(eopatches_filepath)\n",
    "    save_eotask = SaveTask(eopatches_filepath, overwrite_permission=OverwritePermission.OVERWRITE_PATCH, compress_level=1)\n",
    "    \n",
    "    # Define the workflow\n",
    "    workflow = LinearWorkflow(\n",
    "    load_eotask,\n",
    "    predict_patch,\n",
    "    calculate_water_mask_coverage,\n",
    "    save_eotask\n",
    "    )\n",
    "                      \n",
    "    list_of_available_patches = io_utils.get_list_of_eopatches(eopatches_filepath)\n",
    "    execution_args = []\n",
    "    for eopatch_name in list_of_available_patches:\n",
    "        execution_args.append({\n",
    "        load_eotask: {'eopatch_folder': eopatch_name},\n",
    "        save_eotask: {'eopatch_folder': eopatch_name}\n",
    "        })\n",
    "    \n",
    "    #print(execution_args)                            \n",
    "    executor = EOExecutor(workflow, execution_args, save_logs=True)\n",
    "    executor.run(workers=1, multiprocess=False)\n",
    "\n",
    "    executor.make_report()"
   ]
  },
  {
   "cell_type": "markdown",
   "metadata": {},
   "source": [
    "**History:** Wall time: 8h 33min 55s"
   ]
  }
 ],
 "metadata": {
  "kernelspec": {
   "display_name": "Python 3",
   "language": "python",
   "name": "python3"
  },
  "language_info": {
   "codemirror_mode": {
    "name": "ipython",
    "version": 3
   },
   "file_extension": ".py",
   "mimetype": "text/x-python",
   "name": "python",
   "nbconvert_exporter": "python",
   "pygments_lexer": "ipython3",
   "version": "3.7.3"
  }
 },
 "nbformat": 4,
 "nbformat_minor": 2
}
