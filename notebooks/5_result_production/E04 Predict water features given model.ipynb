{
 "cells": [
  {
   "cell_type": "markdown",
   "metadata": {},
   "source": [
    "## E03 Predict water features given model\n",
    "#### 0. Load required libraries, site dependant constants and utility functions."
   ]
  },
  {
   "cell_type": "code",
   "execution_count": 1,
   "metadata": {},
   "outputs": [],
   "source": [
    "from os import listdir\n",
    "from os.path import isfile, join\n",
    "import numpy as np\n",
    "import seaborn as sns\n",
    "import joblib\n",
    "from sklearn import metrics\n",
    "\n",
    "# EOLearn libraries:\n",
    "from eolearn.core import EOTask, EOPatch, LinearWorkflow, LoadTask, SaveTask, FeatureType, EOExecutor\n",
    "from eolearn.core import OverwritePermission\n",
    "\n",
    "# Add to python path parent dictionary\n",
    "import sys\n",
    "sys.path.append(\"../../\")\n",
    "\n",
    "# load site dependant constants (HERE YOU CAN CHOOSE DIFFERENT LOCATION)\n",
    "from aoi_sites import upe_promice_area as site\n",
    "\n",
    "# load utility functions\n",
    "from utils import io_functions as io_utils\n",
    "from utils import plot_functions as plot_utils"
   ]
  },
  {
   "cell_type": "markdown",
   "metadata": {},
   "source": [
    "#### 1. Load model"
   ]
  },
  {
   "cell_type": "code",
   "execution_count": 2,
   "metadata": {},
   "outputs": [],
   "source": [
    "# uncomment to load the model and replace with your file, usually just correct the date\n",
    "model_path = './LGBMClassifier_model_20000_unbalanced_WATER_only_MODIS_test_0_fixed_lr_01_min_wat_50.pkl'\n",
    "model = joblib.load(model_path)\n",
    "\n",
    "# predict the test labels\n",
    "#plabels_test = model.predict(features_test)"
   ]
  },
  {
   "cell_type": "markdown",
   "metadata": {},
   "source": [
    "#### 2. Define EOTask"
   ]
  },
  {
   "cell_type": "code",
   "execution_count": 15,
   "metadata": {},
   "outputs": [],
   "source": [
    "class PredictPatch(EOTask):\n",
    "    \"\"\"\n",
    "    Task to make model predictions on a patch. Provide the model and the feature, \n",
    "    and the output names of labels and scores (optional)\n",
    "    \"\"\"\n",
    "    def __init__(self, model, features_feature, predicted_labels_name, predicted_scores_name=None):\n",
    "        self.model = model\n",
    "        self.features_feature = features_feature\n",
    "        self.predicted_labels_name = predicted_labels_name\n",
    "        self.predicted_scores_name = predicted_scores_name\n",
    "        \n",
    "    def execute(self, eopatch):\n",
    "        ftrs = eopatch[self.features_feature[0]][self.features_feature[1]]\n",
    "        \n",
    "        t, w, h, f = ftrs.shape\n",
    "        ftrs = ftrs.reshape(t * w * h, f)\n",
    "        \n",
    "        plabels = self.model.predict(ftrs)\n",
    "        plabels = plabels.reshape(t, w, h )\n",
    "        plabels = plabels[..., np.newaxis]\n",
    "        eopatch.add_feature(FeatureType.MASK, self.predicted_labels_name, plabels)\n",
    "        \n",
    "        #if self.predicted_scores_name:\n",
    "        #    pscores = self.model.predict_proba(ftrs)\n",
    "        #    _, d = pscores.shape\n",
    "        #    pscores = pscores.reshape(w, h, d)\n",
    "        #    eopatch.add_feature(FeatureType.DATA_TIMELESS, self.predicted_scores_name, pscores)\n",
    "        \n",
    "        return plabels"
   ]
  },
  {
   "cell_type": "code",
   "execution_count": 16,
   "metadata": {},
   "outputs": [],
   "source": [
    "# TASK FOR PREDICTION\n",
    "predict_patch = PredictPatch(model, (FeatureType.DATA, 'DATASET'), 'PREDICTED_WATER_FEATURES', predicted_scores_name ='predicted_scores_name')"
   ]
  },
  {
   "cell_type": "markdown",
   "metadata": {},
   "source": [
    "#### 3. Check out EOTask:"
   ]
  },
  {
   "cell_type": "code",
   "execution_count": 17,
   "metadata": {},
   "outputs": [
    {
     "name": "stdout",
     "output_type": "stream",
     "text": [
      "Loaded from ../../data/EOPatches/MODIS/UPE_PROMICE/UTM_22N/2013_04-2013_11/3313_maxcc_0.05_x-6_y-137\n"
     ]
    }
   ],
   "source": [
    "file = io_utils.get_eopatches_dir(site.DATA_PRODUCTS[0], site.SITE_NAME, site.AVAILABLE_CRSs[0], site.DATE_RANGES_MODIS[0])\n",
    "eo_patch = io_utils.load_exemplary_eopatch_from_file(file)"
   ]
  },
  {
   "cell_type": "code",
   "execution_count": 18,
   "metadata": {},
   "outputs": [
    {
     "data": {
      "text/plain": [
       "array([[[[False],\n",
       "         [False],\n",
       "         [False],\n",
       "         ...,\n",
       "         [False],\n",
       "         [False],\n",
       "         [False]],\n",
       "\n",
       "        [[False],\n",
       "         [False],\n",
       "         [False],\n",
       "         ...,\n",
       "         [False],\n",
       "         [False],\n",
       "         [False]],\n",
       "\n",
       "        [[False],\n",
       "         [False],\n",
       "         [False],\n",
       "         ...,\n",
       "         [False],\n",
       "         [False],\n",
       "         [False]],\n",
       "\n",
       "        ...,\n",
       "\n",
       "        [[False],\n",
       "         [False],\n",
       "         [False],\n",
       "         ...,\n",
       "         [False],\n",
       "         [False],\n",
       "         [False]],\n",
       "\n",
       "        [[False],\n",
       "         [False],\n",
       "         [False],\n",
       "         ...,\n",
       "         [False],\n",
       "         [False],\n",
       "         [False]],\n",
       "\n",
       "        [[False],\n",
       "         [False],\n",
       "         [False],\n",
       "         ...,\n",
       "         [False],\n",
       "         [False],\n",
       "         [False]]],\n",
       "\n",
       "\n",
       "       [[[False],\n",
       "         [False],\n",
       "         [False],\n",
       "         ...,\n",
       "         [False],\n",
       "         [False],\n",
       "         [False]],\n",
       "\n",
       "        [[False],\n",
       "         [False],\n",
       "         [False],\n",
       "         ...,\n",
       "         [False],\n",
       "         [False],\n",
       "         [False]],\n",
       "\n",
       "        [[False],\n",
       "         [False],\n",
       "         [False],\n",
       "         ...,\n",
       "         [False],\n",
       "         [False],\n",
       "         [False]],\n",
       "\n",
       "        ...,\n",
       "\n",
       "        [[False],\n",
       "         [False],\n",
       "         [False],\n",
       "         ...,\n",
       "         [False],\n",
       "         [False],\n",
       "         [False]],\n",
       "\n",
       "        [[False],\n",
       "         [False],\n",
       "         [False],\n",
       "         ...,\n",
       "         [False],\n",
       "         [False],\n",
       "         [False]],\n",
       "\n",
       "        [[False],\n",
       "         [False],\n",
       "         [False],\n",
       "         ...,\n",
       "         [False],\n",
       "         [False],\n",
       "         [False]]],\n",
       "\n",
       "\n",
       "       [[[False],\n",
       "         [False],\n",
       "         [False],\n",
       "         ...,\n",
       "         [False],\n",
       "         [False],\n",
       "         [False]],\n",
       "\n",
       "        [[False],\n",
       "         [False],\n",
       "         [False],\n",
       "         ...,\n",
       "         [False],\n",
       "         [False],\n",
       "         [False]],\n",
       "\n",
       "        [[False],\n",
       "         [False],\n",
       "         [False],\n",
       "         ...,\n",
       "         [False],\n",
       "         [False],\n",
       "         [False]],\n",
       "\n",
       "        ...,\n",
       "\n",
       "        [[False],\n",
       "         [False],\n",
       "         [False],\n",
       "         ...,\n",
       "         [False],\n",
       "         [False],\n",
       "         [False]],\n",
       "\n",
       "        [[False],\n",
       "         [False],\n",
       "         [False],\n",
       "         ...,\n",
       "         [False],\n",
       "         [False],\n",
       "         [False]],\n",
       "\n",
       "        [[False],\n",
       "         [False],\n",
       "         [False],\n",
       "         ...,\n",
       "         [False],\n",
       "         [False],\n",
       "         [False]]],\n",
       "\n",
       "\n",
       "       ...,\n",
       "\n",
       "\n",
       "       [[[False],\n",
       "         [False],\n",
       "         [False],\n",
       "         ...,\n",
       "         [False],\n",
       "         [False],\n",
       "         [False]],\n",
       "\n",
       "        [[False],\n",
       "         [False],\n",
       "         [False],\n",
       "         ...,\n",
       "         [False],\n",
       "         [False],\n",
       "         [False]],\n",
       "\n",
       "        [[False],\n",
       "         [False],\n",
       "         [False],\n",
       "         ...,\n",
       "         [False],\n",
       "         [False],\n",
       "         [False]],\n",
       "\n",
       "        ...,\n",
       "\n",
       "        [[False],\n",
       "         [False],\n",
       "         [False],\n",
       "         ...,\n",
       "         [False],\n",
       "         [False],\n",
       "         [False]],\n",
       "\n",
       "        [[False],\n",
       "         [False],\n",
       "         [False],\n",
       "         ...,\n",
       "         [False],\n",
       "         [False],\n",
       "         [False]],\n",
       "\n",
       "        [[False],\n",
       "         [False],\n",
       "         [False],\n",
       "         ...,\n",
       "         [False],\n",
       "         [False],\n",
       "         [False]]],\n",
       "\n",
       "\n",
       "       [[[False],\n",
       "         [False],\n",
       "         [False],\n",
       "         ...,\n",
       "         [False],\n",
       "         [False],\n",
       "         [False]],\n",
       "\n",
       "        [[False],\n",
       "         [False],\n",
       "         [False],\n",
       "         ...,\n",
       "         [False],\n",
       "         [False],\n",
       "         [False]],\n",
       "\n",
       "        [[False],\n",
       "         [False],\n",
       "         [False],\n",
       "         ...,\n",
       "         [False],\n",
       "         [False],\n",
       "         [False]],\n",
       "\n",
       "        ...,\n",
       "\n",
       "        [[False],\n",
       "         [False],\n",
       "         [False],\n",
       "         ...,\n",
       "         [False],\n",
       "         [False],\n",
       "         [False]],\n",
       "\n",
       "        [[False],\n",
       "         [False],\n",
       "         [False],\n",
       "         ...,\n",
       "         [False],\n",
       "         [False],\n",
       "         [False]],\n",
       "\n",
       "        [[False],\n",
       "         [False],\n",
       "         [False],\n",
       "         ...,\n",
       "         [False],\n",
       "         [False],\n",
       "         [False]]],\n",
       "\n",
       "\n",
       "       [[[False],\n",
       "         [False],\n",
       "         [False],\n",
       "         ...,\n",
       "         [False],\n",
       "         [False],\n",
       "         [False]],\n",
       "\n",
       "        [[False],\n",
       "         [False],\n",
       "         [False],\n",
       "         ...,\n",
       "         [False],\n",
       "         [False],\n",
       "         [False]],\n",
       "\n",
       "        [[False],\n",
       "         [False],\n",
       "         [False],\n",
       "         ...,\n",
       "         [False],\n",
       "         [False],\n",
       "         [False]],\n",
       "\n",
       "        ...,\n",
       "\n",
       "        [[False],\n",
       "         [False],\n",
       "         [False],\n",
       "         ...,\n",
       "         [False],\n",
       "         [False],\n",
       "         [False]],\n",
       "\n",
       "        [[False],\n",
       "         [False],\n",
       "         [False],\n",
       "         ...,\n",
       "         [False],\n",
       "         [False],\n",
       "         [False]],\n",
       "\n",
       "        [[False],\n",
       "         [False],\n",
       "         [False],\n",
       "         ...,\n",
       "         [False],\n",
       "         [False],\n",
       "         [False]]]])"
      ]
     },
     "execution_count": 18,
     "metadata": {},
     "output_type": "execute_result"
    }
   ],
   "source": [
    "predict_patch.execute(eo_patch)"
   ]
  },
  {
   "cell_type": "code",
   "execution_count": 19,
   "metadata": {},
   "outputs": [
    {
     "data": {
      "text/plain": [
       "EOPatch(\n",
       "  data: {\n",
       "    DATASET: numpy.ndarray(shape=(194, 333, 333, 11), dtype=float32)\n",
       "    MODIS_EUC_NORM_RAW_BANDS: numpy.ndarray(shape=(194, 333, 333, 1), dtype=float32)\n",
       "    MODIS_NDWI: numpy.ndarray(shape=(194, 333, 333, 1), dtype=float32)\n",
       "    MODIS_NRB: numpy.ndarray(shape=(194, 333, 333, 1), dtype=float32)\n",
       "    MODIS_RAW_BANDS: numpy.ndarray(shape=(194, 333, 333, 7), dtype=float32)\n",
       "  }\n",
       "  mask: {\n",
       "    IS_DATA: numpy.ndarray(shape=(194, 333, 333, 1), dtype=bool)\n",
       "    PREDICTED_WATER_FEATURES: numpy.ndarray(shape=(194, 333, 333, 1), dtype=bool)\n",
       "  }\n",
       "  scalar: {}\n",
       "  label: {}\n",
       "  vector: {}\n",
       "  data_timeless: {\n",
       "    DEM_RAW_LAYER: numpy.ndarray(shape=(333, 333, 1), dtype=float32)\n",
       "    DEM_SLOPE_LAYER: numpy.ndarray(shape=(333, 333, 1), dtype=float32)\n",
       "  }\n",
       "  mask_timeless: {}\n",
       "  scalar_timeless: {}\n",
       "  label_timeless: {}\n",
       "  vector_timeless: {}\n",
       "  meta_info: {\n",
       "    index_x: 6\n",
       "    index_y: 137\n",
       "    maxcc: '0.05'\n",
       "    patch_index: 3313\n",
       "    service_type: 'wcs'\n",
       "    site_name: 'UPE_PROMICE'\n",
       "    size_x: '30m'\n",
       "    size_y: '30m'\n",
       "    time_difference: datetime.timedelta(seconds=7200)\n",
       "    time_interval: ('2013-04-26', '2013-11-05')\n",
       "  }\n",
       "  bbox: BBox(((430000.0, 8100000.0), (440000.0, 8110000.0)), crs=EPSG:32622)\n",
       "  timestamp: [datetime.datetime(2013, 4, 26, 12, 0), ..., datetime.datetime(2013, 11, 5, 12, 0)], length=194\n",
       ")"
      ]
     },
     "execution_count": 19,
     "metadata": {},
     "output_type": "execute_result"
    }
   ],
   "source": [
    "eo_patch"
   ]
  },
  {
   "cell_type": "code",
   "execution_count": 35,
   "metadata": {},
   "outputs": [
    {
     "name": "stdout",
     "output_type": "stream",
     "text": [
      "2013-08-03 12:00:00\n",
      "Ploting...\n"
     ]
    },
    {
     "data": {
      "image/png": "[encoded data removed]",
      "text/plain": [
       "<Figure size 720x720 with 1 Axes>"
      ]
     },
     "metadata": {
      "needs_background": "light"
     },
     "output_type": "display_data"
    }
   ],
   "source": [
    "plot_utils.plot_RGB_MODIS_image(eo_patch, datetime_idx=99)"
   ]
  },
  {
   "cell_type": "code",
   "execution_count": 37,
   "metadata": {},
   "outputs": [
    {
     "name": "stdout",
     "output_type": "stream",
     "text": [
      "2013-08-04 12:00:00\n",
      "Ploting...\n"
     ]
    },
    {
     "data": {
      "image/png": "[encoded data removed]",
      "text/plain": [
       "<Figure size 720x720 with 1 Axes>"
      ]
     },
     "metadata": {
      "needs_background": "light"
     },
     "output_type": "display_data"
    }
   ],
   "source": [
    "plot_utils.plot_RGB_MODIS_image(eo_patch, datetime_idx=100)"
   ]
  },
  {
   "cell_type": "code",
   "execution_count": 24,
   "metadata": {},
   "outputs": [],
   "source": [
    "data = eo_patch.mask['PREDICTED_WATER_FEATURES']"
   ]
  },
  {
   "cell_type": "code",
   "execution_count": 25,
   "metadata": {},
   "outputs": [
    {
     "data": {
      "text/plain": [
       "(194, 333, 333, 1)"
      ]
     },
     "execution_count": 25,
     "metadata": {},
     "output_type": "execute_result"
    }
   ],
   "source": [
    "data.shape"
   ]
  },
  {
   "cell_type": "code",
   "execution_count": 36,
   "metadata": {},
   "outputs": [
    {
     "data": {
      "image/png": "[encoded data removed]",
      "text/plain": [
       "<Figure size 720x720 with 1 Axes>"
      ]
     },
     "metadata": {},
     "output_type": "display_data"
    }
   ],
   "source": [
    "plot_utils.plot_matrix(data[99])"
   ]
  },
  {
   "cell_type": "code",
   "execution_count": 38,
   "metadata": {},
   "outputs": [
    {
     "data": {
      "image/png": "[encoded data removed]",
      "text/plain": [
       "<Figure size 720x720 with 1 Axes>"
      ]
     },
     "metadata": {},
     "output_type": "display_data"
    }
   ],
   "source": [
    "plot_utils.plot_matrix(data[100])"
   ]
  },
  {
   "cell_type": "code",
   "execution_count": 40,
   "metadata": {},
   "outputs": [],
   "source": [
    "class CountMaskCoverage(EOTask):\n",
    "    \n",
    "    def __init__(self, input_mask_name, output_scalar_name ):\n",
    "        self.input_mask_name = input_mask_name\n",
    "        self.output_scalar_name = output_scalar_name\n",
    "        \n",
    "    def execute(self, eopatch):\n",
    "        ultimate_masks = eopatch.mask[self.input_mask_name]\n",
    "        mask_shape = ultimate_masks.shape\n",
    "        #print(mask_shape)\n",
    "        coverage_list = []\n",
    "        \n",
    "        for i in range(mask_shape[0]):\n",
    "            array = ultimate_masks[i].squeeze()\n",
    "            #print(array.shape)\n",
    "            coverage = np.sum(array.astype(np.uint8)) #/ np.prod(array.shape)\n",
    "            coverage_list.append(coverage)\n",
    "        \n",
    "        \n",
    "        eopatch.add_feature(FeatureType.SCALAR_TIMELESS, self.output_scalar_name, np.asarray(coverage_list))\n",
    "        return eopatch"
   ]
  },
  {
   "cell_type": "code",
   "execution_count": 41,
   "metadata": {},
   "outputs": [],
   "source": [
    "calculate_water_mask_coverage = CountMaskCoverage(input_mask_name='PREDICTED_WATER_FEATURES',\n",
    "                                                            output_scalar_name='PREDICTED_WATER_MASK_COVERAGE')"
   ]
  },
  {
   "cell_type": "code",
   "execution_count": 42,
   "metadata": {},
   "outputs": [
    {
     "data": {
      "text/plain": [
       "EOPatch(\n",
       "  data: {\n",
       "    DATASET: numpy.ndarray(shape=(194, 333, 333, 11), dtype=float32)\n",
       "    MODIS_EUC_NORM_RAW_BANDS: numpy.ndarray(shape=(194, 333, 333, 1), dtype=float32)\n",
       "    MODIS_NDWI: numpy.ndarray(shape=(194, 333, 333, 1), dtype=float32)\n",
       "    MODIS_NRB: numpy.ndarray(shape=(194, 333, 333, 1), dtype=float32)\n",
       "    MODIS_RAW_BANDS: numpy.ndarray(shape=(194, 333, 333, 7), dtype=float32)\n",
       "  }\n",
       "  mask: {\n",
       "    IS_DATA: numpy.ndarray(shape=(194, 333, 333, 1), dtype=bool)\n",
       "    PREDICTED_WATER_FEATURES: numpy.ndarray(shape=(194, 333, 333, 1), dtype=bool)\n",
       "  }\n",
       "  scalar: {}\n",
       "  label: {}\n",
       "  vector: {}\n",
       "  data_timeless: {\n",
       "    DEM_RAW_LAYER: numpy.ndarray(shape=(333, 333, 1), dtype=float32)\n",
       "    DEM_SLOPE_LAYER: numpy.ndarray(shape=(333, 333, 1), dtype=float32)\n",
       "  }\n",
       "  mask_timeless: {}\n",
       "  scalar_timeless: {\n",
       "    PREDICTED_WATER_MASK_COVERAGE: numpy.ndarray(shape=(194,), dtype=uint32)\n",
       "  }\n",
       "  label_timeless: {}\n",
       "  vector_timeless: {}\n",
       "  meta_info: {\n",
       "    index_x: 6\n",
       "    index_y: 137\n",
       "    maxcc: '0.05'\n",
       "    patch_index: 3313\n",
       "    service_type: 'wcs'\n",
       "    site_name: 'UPE_PROMICE'\n",
       "    size_x: '30m'\n",
       "    size_y: '30m'\n",
       "    time_difference: datetime.timedelta(seconds=7200)\n",
       "    time_interval: ('2013-04-26', '2013-11-05')\n",
       "  }\n",
       "  bbox: BBox(((430000.0, 8100000.0), (440000.0, 8110000.0)), crs=EPSG:32622)\n",
       "  timestamp: [datetime.datetime(2013, 4, 26, 12, 0), ..., datetime.datetime(2013, 11, 5, 12, 0)], length=194\n",
       ")"
      ]
     },
     "execution_count": 42,
     "metadata": {},
     "output_type": "execute_result"
    }
   ],
   "source": [
    "calculate_water_mask_coverage.execute(eo_patch)"
   ]
  },
  {
   "cell_type": "code",
   "execution_count": 43,
   "metadata": {},
   "outputs": [
    {
     "data": {
      "text/plain": [
       "array([   0,    0,    0,    0,    0,    0,    0,    0,    0,    0,    0,\n",
       "          0,    0,    0,    0,    0,    0,    0,    0,    0,    0,    0,\n",
       "          0,    0,    0,    0,    0,    0,    0,    0,    0,    0,    0,\n",
       "          0,    0,    0,    0,    0,    0,    0,    0,    0,    0,    0,\n",
       "          0,    0,    0,    0,    0,    0,    0,    0,    0,    0,  561,\n",
       "          0,    0,    0,   20,   15,   12,  191,  100,  100,  249,  681,\n",
       "        644,  324,  220,  236,  337,  244,  360,  373,  398,  355,  269,\n",
       "        241, 1253,  195,  176,  141,   83,  236, 1045,  462,  462,  698,\n",
       "        508,  448,  320,   24,    0,    0,    0,    0,   51,   51,    0,\n",
       "        189,  189,    0,    0,    0,  171,  171,    0,    8,    0,    0,\n",
       "        242,    7,   80,   67,  269,   67,   80,    0,    0,    0,    1,\n",
       "          0,   19,   19,    0,  166,    0,    0,    0,  706,  221,  333,\n",
       "        580,  621,    0,  155,  822,    0,    0,    0,  367,  393,  687,\n",
       "         31,    0,   88,  159,   75,  283,   19,   70,   70,    0,    0,\n",
       "          0,    0,    0,    0,    0,    0,    0,    0,  137,  691,   34,\n",
       "          0,   51,  348, 1886, 1904, 1977, 2008, 2152,  835,    0,    0,\n",
       "          0,    0,    0,    0,    0,    0,    0,    0,    0,    0,    0,\n",
       "          0,    0,    0,    0,    0,    0,    0], dtype=uint32)"
      ]
     },
     "execution_count": 43,
     "metadata": {},
     "output_type": "execute_result"
    }
   ],
   "source": [
    "eo_patch.scalar_timeless['PREDICTED_WATER_MASK_COVERAGE']"
   ]
  },
  {
   "cell_type": "markdown",
   "metadata": {},
   "source": [
    "#### 2. Create and execute EOWorkflow"
   ]
  },
  {
   "cell_type": "code",
   "execution_count": null,
   "metadata": {},
   "outputs": [
    {
     "name": "stdout",
     "output_type": "stream",
     "text": [
      "Reading EOPatches from: ('2013-04-26', '2013-11-05')\n"
     ]
    },
    {
     "data": {
      "application/vnd.jupyter.widget-view+json": {
       "model_id": "c5827ff51614452c82f32ff196be5abf",
       "version_major": 2,
       "version_minor": 0
      },
      "text/plain": [
       "HBox(children=(IntProgress(value=0, max=55), HTML(value='')))"
      ]
     },
     "metadata": {},
     "output_type": "display_data"
    }
   ],
   "source": [
    "%%time\n",
    "# application dataset building eotasks for all aval eopatches in the a eoworkflow\n",
    "for date_range_modis in site.DATE_RANGES_MODIS:\n",
    "    print('Reading EOPatches from:', date_range_modis)\n",
    "    eopatches_filepath = io_utils.get_eopatches_dir(site.DATA_PRODUCTS[0], site.SITE_NAME, site.AVAILABLE_CRSs[0], date_range_modis)\n",
    "    # TASK TO LOAD AND SAVE EXISTING EOPATCHES HAS TO BE CREATED YEARLY (different directories)\n",
    "    load_eotask = LoadTask(eopatches_filepath)\n",
    "    save_eotask = SaveTask(eopatches_filepath, overwrite_permission=OverwritePermission.OVERWRITE_PATCH, compress_level=1)\n",
    "    \n",
    "    # Define the workflow\n",
    "    workflow = LinearWorkflow(\n",
    "    load_eotask,\n",
    "    predict_patch,\n",
    "    calculate_water_mask_coverage,\n",
    "    save_eotask\n",
    "    )\n",
    "                      \n",
    "    list_of_available_patches = io_utils.get_list_of_eopatches(eopatches_filepath)\n",
    "    execution_args = []\n",
    "    for eopatch_name in list_of_available_patches:\n",
    "        execution_args.append({\n",
    "        load_eotask: {'eopatch_folder': eopatch_name},\n",
    "        save_eotask: {'eopatch_folder': eopatch_name}\n",
    "        })\n",
    "    \n",
    "    #print(execution_args)                            \n",
    "    executor = EOExecutor(workflow, execution_args, save_logs=True)\n",
    "    executor.run(workers=1, multiprocess=False)\n",
    "\n",
    "    executor.make_report()"
   ]
  },
  {
   "cell_type": "code",
   "execution_count": null,
   "metadata": {},
   "outputs": [],
   "source": []
  }
 ],
 "metadata": {
  "kernelspec": {
   "display_name": "Python 3",
   "language": "python",
   "name": "python3"
  },
  "language_info": {
   "codemirror_mode": {
    "name": "ipython",
    "version": 3
   },
   "file_extension": ".py",
   "mimetype": "text/x-python",
   "name": "python",
   "nbconvert_exporter": "python",
   "pygments_lexer": "ipython3",
   "version": "3.7.3"
  }
 },
 "nbformat": 4,
 "nbformat_minor": 2
}
