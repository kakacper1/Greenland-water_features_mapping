{
 "cells": [
  {
   "cell_type": "markdown",
   "metadata": {},
   "source": [
    "#### C9. MODIS dataset statistics"
   ]
  },
  {
   "cell_type": "code",
   "execution_count": 7,
   "metadata": {},
   "outputs": [],
   "source": [
    "from os import listdir\n",
    "from os.path import isfile, join\n",
    "import numpy as np\n",
    "import seaborn as sns\n",
    "\n",
    "# EOLearn libraries:\n",
    "from eolearn.core import EOTask, EOPatch, LinearWorkflow, LoadTask, SaveTask, FeatureType, EOExecutor\n",
    "from eolearn.core import OverwritePermission\n",
    "\n",
    "# Add to python path parent dictionary (to have acces to the data and util catalogue)\n",
    "import sys\n",
    "sys.path.append(\"../../\")\n",
    "\n",
    "# load site dependant constants (HERE YOU CAN CHOOSE DIFFERENT LOCATION)\n",
    "from aoi_sites import upe_promice_area as site\n",
    "\n",
    "# load utility functions\n",
    "from utils import io_functions as io_utils\n",
    "from utils import plot_functions as plot_utils"
   ]
  },
  {
   "cell_type": "code",
   "execution_count": 8,
   "metadata": {},
   "outputs": [
    {
     "name": "stdout",
     "output_type": "stream",
     "text": [
      "Reading EOPatches from: ('2013-05-01', '2013-10-31')\n"
     ]
    },
    {
     "data": {
      "text/plain": [
       "'../../data/EOPatches/LANDSAT_8/UPE_PROMICE/UTM_22N/2013_05-2013_10/'"
      ]
     },
     "execution_count": 8,
     "metadata": {},
     "output_type": "execute_result"
    }
   ],
   "source": [
    "eopatches_filepath = io_utils.get_eopatches_dir(site.DATA_PRODUCTS[1], site.SITE_NAME, site.AVAILABLE_CRSs[0], site.DATE_RANGES_LANDSAT_8[0])\n",
    "print('Reading EOPatches from:', site.DATE_RANGES_LANDSAT_8[0])\n",
    "list_of_available_patches = io_utils.get_list_of_eopatches(eopatches_filepath)\n",
    "eopatches_filepath"
   ]
  },
  {
   "cell_type": "code",
   "execution_count": 10,
   "metadata": {},
   "outputs": [
    {
     "name": "stdout",
     "output_type": "stream",
     "text": [
      "2969_maxcc_0.05_x-3_y-130\n"
     ]
    }
   ],
   "source": [
    "all_slope = []\n",
    "for eo_patch_name in list_of_available_patches :\n",
    "    print(eo_patch_name)\n",
    "    eo_patch = EOPatch.load(eopatches_filepath+eo_patch_name)\n",
    "    #break\n",
    "    all_slope.append(eo_patch.data_timeless['DEM_SLOPE_LAYER'].squeeze()[1:332,1:332])"
   ]
  },
  {
   "cell_type": "code",
   "execution_count": 10,
   "metadata": {},
   "outputs": [
    {
     "data": {
      "text/plain": [
       "55"
      ]
     },
     "execution_count": 10,
     "metadata": {},
     "output_type": "execute_result"
    }
   ],
   "source": [
    "len(all_slope)"
   ]
  },
  {
   "cell_type": "code",
   "execution_count": 8,
   "metadata": {},
   "outputs": [],
   "source": [
    "arr = np.vstack(all_slope)"
   ]
  },
  {
   "cell_type": "code",
   "execution_count": 9,
   "metadata": {},
   "outputs": [
    {
     "data": {
      "text/plain": [
       "(18205, 331)"
      ]
     },
     "execution_count": 9,
     "metadata": {},
     "output_type": "execute_result"
    }
   ],
   "source": [
    "arr.shape # 6025855"
   ]
  },
  {
   "cell_type": "code",
   "execution_count": 13,
   "metadata": {},
   "outputs": [
    {
     "data": {
      "text/plain": [
       "array([10.024988, 29.205933, 21.568129,  0.      , 26.565052, 26.565052,\n",
       "        0.      , 26.565052, 26.565052, 26.565052, 26.565052,  0.      ,\n",
       "       26.565052, 26.565052, 21.568129, 29.205933, 10.024988, 26.565052,\n",
       "       26.565052,  0.      , 26.565052, 32.512516, 29.205933, 21.568129,\n",
       "       10.024988, 29.205933, 21.568129,  0.      , 26.565052, 26.565052,\n",
       "       10.024988, 27.938353, 27.938353, 10.024988, 10.024988, 27.938353,\n",
       "       27.938353, 10.024988, 21.568129, 27.938353, 21.568129, 10.024988,\n",
       "       10.024988, 27.938353, 29.205933, 21.568129, 10.024988,  0.      ,\n",
       "       10.024988, 21.568129, 29.205933, 29.205933, 21.568129, 10.024988,\n",
       "        0.      , 10.024988, 21.568129, 29.205933, 29.205933, 26.565052,\n",
       "       21.568129, 10.024988, 10.024988, 27.938353, 29.205933, 21.568129,\n",
       "       10.024988, 10.024988, 27.938353, 27.938353, 10.024988, 10.024988,\n",
       "       21.568129, 27.938353, 21.568129,  0.      ,  0.      , 10.024988,\n",
       "       29.205933, 21.568129,  0.      , 21.568129, 29.205933, 10.024988,\n",
       "       10.024988, 27.938353, 27.938353, 10.024988, 10.024988, 27.938353,\n",
       "       27.938353, 10.024988, 10.024988, 29.205933, 21.568129,  0.      ,\n",
       "       26.565052, 26.565052,  0.      , 21.568129, 29.205933, 10.024988,\n",
       "       21.568129, 29.205933, 19.47122 , 29.205933, 29.205933, 29.205933,\n",
       "       21.568129, 21.568129, 29.205933, 29.205933, 29.205933, 19.47122 ,\n",
       "       29.205933, 38.32882 , 29.205933, 32.512516, 32.512516, 29.205933,\n",
       "       41.472935, 26.565052, 26.565052, 45.      , 26.565052, 26.565052,\n",
       "       45.      , 26.565052, 26.565052, 45.      , 32.512516, 29.205933,\n",
       "       41.472935, 45.      , 32.512516, 29.205933, 41.472935, 41.472935,\n",
       "       29.205933, 32.512516, 45.      , 41.472935, 29.205933, 32.512516,\n",
       "       45.      , 26.565052, 26.565052, 45.      , 26.565052, 10.024988,\n",
       "       29.205933, 41.472935, 45.      , 26.565052, 26.565052, 32.512516,\n",
       "       29.205933, 21.568129, 26.565052, 32.512516, 29.205933, 41.472935,\n",
       "       26.565052, 26.565052, 26.565052,  0.      , 26.565052, 26.565052,\n",
       "        0.      , 26.565052, 26.565052, 21.568129, 29.205933, 10.024988,\n",
       "       26.565052, 26.565052,  0.      , 26.565052, 26.565052,  0.      ,\n",
       "        0.      , 10.024988, 29.205933, 21.568129,  0.      , 26.565052,\n",
       "       26.565052,  0.      ,  0.      , 26.565052, 26.565052,  0.      ,\n",
       "        0.      , 26.565052, 26.565052,  0.      ,  0.      , 26.565052,\n",
       "       26.565052,  0.      ,  0.      , 26.565052, 26.565052,  0.      ,\n",
       "       26.565052, 26.565052,  0.      ,  0.      , 21.568129, 29.205933,\n",
       "       10.024988,  0.      , 26.565052, 26.565052,  0.      ,  0.      ,\n",
       "       10.024988, 29.205933, 21.568129,  0.      ,  0.      ,  0.      ,\n",
       "       21.568129, 29.205933, 10.024988,  0.      ,  0.      ,  0.      ,\n",
       "        0.      , 26.565052, 26.565052, 10.024988, 14.036243, 10.024988,\n",
       "        0.      ,  0.      ,  0.      ,  0.      ,  0.      ,  0.      ,\n",
       "        0.      ,  0.      ,  0.      ,  0.      ,  0.      ,  0.      ,\n",
       "        0.      ,  0.      ,  0.      ,  0.      ,  0.      ,  0.      ,\n",
       "        0.      ,  0.      ,  0.      ,  0.      ,  0.      ,  0.      ,\n",
       "        0.      ,  0.      ,  0.      ,  0.      ,  0.      ,  0.      ,\n",
       "        0.      ,  0.      , 26.565052, 26.565052,  0.      ,  0.      ,\n",
       "        0.      ,  0.      ,  0.      ,  0.      ,  0.      ,  0.      ,\n",
       "        0.      ,  0.      ,  0.      ,  0.      ,  0.      ,  0.      ,\n",
       "        0.      , 26.565052, 26.565052,  0.      ,  0.      ,  0.      ,\n",
       "        0.      ,  0.      , 10.024988, 27.938353, 27.938353, 10.024988,\n",
       "        0.      , 10.024988, 29.205933, 21.568129,  0.      , 21.568129,\n",
       "       29.205933, 10.024988, 21.568129, 29.205933, 10.024988, 10.024988,\n",
       "       27.938353, 27.938353, 10.024988, 26.565052, 26.565052, 21.568129,\n",
       "       29.205933, 10.024988, 21.568129, 29.205933, 29.205933, 29.205933,\n",
       "       10.024988, 26.565052, 26.565052, 21.568129, 29.205933, 10.024988,\n",
       "       10.024988, 29.205933, 21.568129,  0.      ,  0.      ,  0.      ,\n",
       "       26.565052], dtype=float32)"
      ]
     },
     "execution_count": 13,
     "metadata": {},
     "output_type": "execute_result"
    }
   ],
   "source": [
    "arr[0]"
   ]
  },
  {
   "cell_type": "code",
   "execution_count": 12,
   "metadata": {},
   "outputs": [
    {
     "data": {
      "text/plain": [
       "<matplotlib.axes._subplots.AxesSubplot at 0x1d56ae96160>"
      ]
     },
     "execution_count": 12,
     "metadata": {},
     "output_type": "execute_result"
    },
    {
     "data": {
      "image/png": "[encoded data removed]",
      "text/plain": [
       "<Figure size 432x288 with 1 Axes>"
      ]
     },
     "metadata": {
      "needs_background": "light"
     },
     "output_type": "display_data"
    }
   ],
   "source": [
    "sns.distplot(arr.reshape( 18205 * 331))"
   ]
  },
  {
   "cell_type": "code",
   "execution_count": 14,
   "metadata": {},
   "outputs": [
    {
     "data": {
      "text/plain": [
       "57.688465"
      ]
     },
     "execution_count": 14,
     "metadata": {},
     "output_type": "execute_result"
    }
   ],
   "source": [
    "np.max(arr.reshape( 18205 * 331))"
   ]
  },
  {
   "cell_type": "code",
   "execution_count": 15,
   "metadata": {},
   "outputs": [
    {
     "data": {
      "text/plain": [
       "0.0"
      ]
     },
     "execution_count": 15,
     "metadata": {},
     "output_type": "execute_result"
    }
   ],
   "source": [
    "np.min(arr.reshape( 18205 * 331))"
   ]
  },
  {
   "cell_type": "code",
   "execution_count": 18,
   "metadata": {},
   "outputs": [
    {
     "data": {
      "text/plain": [
       "(10, 333, 333)"
      ]
     },
     "execution_count": 18,
     "metadata": {},
     "output_type": "execute_result"
    }
   ],
   "source": [
    "eo_patch.data['MODIS_RAW_BANDS_DAY_0'][..., 0].shape"
   ]
  },
  {
   "cell_type": "code",
   "execution_count": 22,
   "metadata": {},
   "outputs": [
    {
     "name": "stdout",
     "output_type": "stream",
     "text": [
      "3.2767\n",
      "0.771\n",
      "0.9183968\n",
      "0.020813366\n"
     ]
    },
    {
     "data": {
      "text/plain": [
       "<matplotlib.axes._subplots.AxesSubplot at 0x1d5028dbda0>"
      ]
     },
     "execution_count": 22,
     "metadata": {},
     "output_type": "execute_result"
    },
    {
     "data": {
      "image/png": "[encoded data removed]",
      "text/plain": [
       "<Figure size 432x288 with 1 Axes>"
      ]
     },
     "metadata": {
      "needs_background": "light"
     },
     "output_type": "display_data"
    }
   ],
   "source": [
    "data = eo_patch.data['MODIS_RAW_BANDS_DAY_0'][..., 0].reshape(10*333*333)\n",
    "print(np.max(data))\n",
    "print(np.min(data))\n",
    "print(np.average(data))\n",
    "print(np.var(data))\n",
    "sns.distplot(data)"
   ]
  },
  {
   "cell_type": "code",
   "execution_count": 23,
   "metadata": {},
   "outputs": [
    {
     "name": "stdout",
     "output_type": "stream",
     "text": [
      "3.2767\n",
      "0.6799\n",
      "0.8422911\n",
      "0.020485392\n"
     ]
    },
    {
     "data": {
      "text/plain": [
       "<matplotlib.axes._subplots.AxesSubplot at 0x1d502c798d0>"
      ]
     },
     "execution_count": 23,
     "metadata": {},
     "output_type": "execute_result"
    },
    {
     "data": {
      "image/png": "[encoded data removed]",
      "text/plain": [
       "<Figure size 432x288 with 1 Axes>"
      ]
     },
     "metadata": {
      "needs_background": "light"
     },
     "output_type": "display_data"
    }
   ],
   "source": [
    "data = eo_patch.data['MODIS_RAW_BANDS_DAY_0'][..., 1].reshape(10*333*333)\n",
    "print(np.max(data))\n",
    "print(np.min(data))\n",
    "print(np.average(data))\n",
    "print(np.var(data))\n",
    "sns.distplot(data)"
   ]
  },
  {
   "cell_type": "code",
   "execution_count": 24,
   "metadata": {},
   "outputs": [
    {
     "name": "stdout",
     "output_type": "stream",
     "text": [
      "3.2767\n",
      "0.8421\n",
      "0.98852795\n",
      "0.08526917\n"
     ]
    },
    {
     "data": {
      "text/plain": [
       "<matplotlib.axes._subplots.AxesSubplot at 0x1d502d5b8d0>"
      ]
     },
     "execution_count": 24,
     "metadata": {},
     "output_type": "execute_result"
    },
    {
     "data": {
      "image/png": "[encoded data removed]",
      "text/plain": [
       "<Figure size 432x288 with 1 Axes>"
      ]
     },
     "metadata": {
      "needs_background": "light"
     },
     "output_type": "display_data"
    }
   ],
   "source": [
    "data = eo_patch.data['MODIS_RAW_BANDS_DAY_0'][..., 2].reshape(10*333*333)\n",
    "print(np.max(data))\n",
    "print(np.min(data))\n",
    "print(np.average(data))\n",
    "print(np.var(data))\n",
    "sns.distplot(data)"
   ]
  },
  {
   "cell_type": "code",
   "execution_count": 25,
   "metadata": {},
   "outputs": [
    {
     "name": "stdout",
     "output_type": "stream",
     "text": [
      "3.2767\n",
      "0.809\n",
      "0.9475549\n",
      "0.034571715\n"
     ]
    },
    {
     "data": {
      "text/plain": [
       "<matplotlib.axes._subplots.AxesSubplot at 0x1d502e46f28>"
      ]
     },
     "execution_count": 25,
     "metadata": {},
     "output_type": "execute_result"
    },
    {
     "data": {
      "image/png": "[encoded data removed]",
      "text/plain": [
       "<Figure size 432x288 with 1 Axes>"
      ]
     },
     "metadata": {
      "needs_background": "light"
     },
     "output_type": "display_data"
    }
   ],
   "source": [
    "data = eo_patch.data['MODIS_RAW_BANDS_DAY_0'][..., 3].reshape(10*333*333)\n",
    "print(np.max(data))\n",
    "print(np.min(data))\n",
    "print(np.average(data))\n",
    "print(np.var(data))\n",
    "sns.distplot(data)"
   ]
  },
  {
   "cell_type": "code",
   "execution_count": 26,
   "metadata": {},
   "outputs": [
    {
     "name": "stdout",
     "output_type": "stream",
     "text": [
      "3.2767\n",
      "0.235\n",
      "0.41753066\n",
      "0.02488217\n"
     ]
    },
    {
     "data": {
      "text/plain": [
       "<matplotlib.axes._subplots.AxesSubplot at 0x1d502f23f98>"
      ]
     },
     "execution_count": 26,
     "metadata": {},
     "output_type": "execute_result"
    },
    {
     "data": {
      "image/png": "[encoded data removed]",
      "text/plain": [
       "<Figure size 432x288 with 1 Axes>"
      ]
     },
     "metadata": {
      "needs_background": "light"
     },
     "output_type": "display_data"
    }
   ],
   "source": [
    "data = eo_patch.data['MODIS_RAW_BANDS_DAY_0'][..., 4].reshape(10*333*333)\n",
    "print(np.max(data))\n",
    "print(np.min(data))\n",
    "print(np.average(data))\n",
    "print(np.var(data))\n",
    "sns.distplot(data)"
   ]
  },
  {
   "cell_type": "code",
   "execution_count": 27,
   "metadata": {},
   "outputs": [
    {
     "name": "stdout",
     "output_type": "stream",
     "text": [
      "3.2767\n",
      "0.0659\n",
      "0.12192057\n",
      "0.0599332\n"
     ]
    },
    {
     "data": {
      "text/plain": [
       "<matplotlib.axes._subplots.AxesSubplot at 0x1d5030172b0>"
      ]
     },
     "execution_count": 27,
     "metadata": {},
     "output_type": "execute_result"
    },
    {
     "data": {
      "image/png": "[encoded data removed]",
      "text/plain": [
       "<Figure size 432x288 with 1 Axes>"
      ]
     },
     "metadata": {
      "needs_background": "light"
     },
     "output_type": "display_data"
    }
   ],
   "source": [
    "data = eo_patch.data['MODIS_RAW_BANDS_DAY_0'][..., 5].reshape(10*333*333)\n",
    "print(np.max(data))\n",
    "print(np.min(data))\n",
    "print(np.average(data))\n",
    "print(np.var(data))\n",
    "sns.distplot(data)"
   ]
  },
  {
   "cell_type": "code",
   "execution_count": 29,
   "metadata": {},
   "outputs": [
    {
     "name": "stdout",
     "output_type": "stream",
     "text": [
      "3.2767\n",
      "0.0164\n",
      "0.053380504\n",
      "0.0307415\n"
     ]
    },
    {
     "data": {
      "text/plain": [
       "<matplotlib.axes._subplots.AxesSubplot at 0x1d502a3fb00>"
      ]
     },
     "execution_count": 29,
     "metadata": {},
     "output_type": "execute_result"
    },
    {
     "data": {
      "image/png": "[encoded data removed]",
      "text/plain": [
       "<Figure size 432x288 with 1 Axes>"
      ]
     },
     "metadata": {
      "needs_background": "light"
     },
     "output_type": "display_data"
    }
   ],
   "source": [
    "data = eo_patch.data['MODIS_RAW_BANDS_DAY_0'][..., 6].reshape(10*333*333)\n",
    "print(np.max(data))\n",
    "print(np.min(data))\n",
    "print(np.average(data))\n",
    "print(np.var(data))\n",
    "sns.distplot(data)"
   ]
  },
  {
   "cell_type": "code",
   "execution_count": 31,
   "metadata": {},
   "outputs": [
    {
     "name": "stdout",
     "output_type": "stream",
     "text": [
      "8.669333\n",
      "1.6121081\n",
      "1.92157\n",
      "0.20426518\n"
     ]
    },
    {
     "data": {
      "text/plain": [
       "<matplotlib.axes._subplots.AxesSubplot at 0x1d5031d8400>"
      ]
     },
     "execution_count": 31,
     "metadata": {},
     "output_type": "execute_result"
    },
    {
     "data": {
      "image/png": "[encoded data removed]",
      "text/plain": [
       "<Figure size 432x288 with 1 Axes>"
      ]
     },
     "metadata": {
      "needs_background": "light"
     },
     "output_type": "display_data"
    }
   ],
   "source": [
    "data = eo_patch.data['MODIS_EUC_NORM_RAW_BANDS'][..., 0].reshape(10*333*333)\n",
    "print(np.max(data))\n",
    "print(np.min(data))\n",
    "print(np.average(data))\n",
    "print(np.var(data))\n",
    "sns.distplot(data)"
   ]
  },
  {
   "cell_type": "code",
   "execution_count": 32,
   "metadata": {},
   "outputs": [
    {
     "name": "stdout",
     "output_type": "stream",
     "text": [
      "0.63231045\n",
      "-0.5637214\n",
      "0.05745596\n",
      "0.0010904188\n"
     ]
    },
    {
     "data": {
      "text/plain": [
       "<matplotlib.axes._subplots.AxesSubplot at 0x1d503100c50>"
      ]
     },
     "execution_count": 32,
     "metadata": {},
     "output_type": "execute_result"
    },
    {
     "data": {
      "image/png": "[encoded data removed]",
      "text/plain": [
       "<Figure size 432x288 with 1 Axes>"
      ]
     },
     "metadata": {
      "needs_background": "light"
     },
     "output_type": "display_data"
    }
   ],
   "source": [
    "data = eo_patch.data['MODIS_NDWI'][..., 0].reshape(10*333*333)\n",
    "print(np.max(data))\n",
    "print(np.min(data))\n",
    "print(np.average(data))\n",
    "print(np.var(data))\n",
    "sns.distplot(data)"
   ]
  },
  {
   "cell_type": "code",
   "execution_count": 33,
   "metadata": {},
   "outputs": [
    {
     "name": "stdout",
     "output_type": "stream",
     "text": [
      "0.59384197\n",
      "-0.564244\n",
      "0.02920013\n",
      "0.0039862585\n"
     ]
    },
    {
     "data": {
      "text/plain": [
       "<matplotlib.axes._subplots.AxesSubplot at 0x1d502c68c50>"
      ]
     },
     "execution_count": 33,
     "metadata": {},
     "output_type": "execute_result"
    },
    {
     "data": {
      "image/png": "[encoded data removed]",
      "text/plain": [
       "<Figure size 432x288 with 1 Axes>"
      ]
     },
     "metadata": {
      "needs_background": "light"
     },
     "output_type": "display_data"
    }
   ],
   "source": [
    "data = eo_patch.data['MODIS_NRB'][..., 0].reshape(10*333*333)\n",
    "print(np.max(data))\n",
    "print(np.min(data))\n",
    "print(np.average(data))\n",
    "print(np.var(data))\n",
    "sns.distplot(data)"
   ]
  },
  {
   "cell_type": "code",
   "execution_count": 13,
   "metadata": {},
   "outputs": [
    {
     "name": "stdout",
     "output_type": "stream",
     "text": [
      "1234.0\n",
      "27.0\n",
      "624.9419\n",
      "107098.41\n"
     ]
    },
    {
     "data": {
      "text/plain": [
       "<matplotlib.axes._subplots.AxesSubplot at 0x19920ba79b0>"
      ]
     },
     "execution_count": 13,
     "metadata": {},
     "output_type": "execute_result"
    },
    {
     "data": {
      "image/png": "[encoded data removed]",
      "text/plain": [
       "<Figure size 432x288 with 1 Axes>"
      ]
     },
     "metadata": {
      "needs_background": "light"
     },
     "output_type": "display_data"
    }
   ],
   "source": [
    "data = eo_patch.data_timeless['DEM_RAW_LAYER'][..., 0].reshape(1*333*333)\n",
    "print(np.max(data))\n",
    "print(np.min(data))\n",
    "print(np.average(data))\n",
    "print(np.var(data))\n",
    "sns.distplot(data)"
   ]
  },
  {
   "cell_type": "code",
   "execution_count": 16,
   "metadata": {},
   "outputs": [
    {
     "data": {
      "text/plain": [
       "()"
      ]
     },
     "execution_count": 16,
     "metadata": {},
     "output_type": "execute_result"
    }
   ],
   "source": [
    "np.array(42).shape"
   ]
  },
  {
   "cell_type": "code",
   "execution_count": null,
   "metadata": {},
   "outputs": [],
   "source": [
    "data = eo_patch.data_timeless['DEM_RAW_LAYER'][..., 0].reshape(1*333*333)\n",
    "print(np.max(data))\n",
    "print(np.min(data))\n",
    "print(np.average(data))\n",
    "print(np.var(data))\n",
    "sns.distplot(data)"
   ]
  },
  {
   "cell_type": "code",
   "execution_count": null,
   "metadata": {},
   "outputs": [],
   "source": []
  }
 ],
 "metadata": {
  "kernelspec": {
   "display_name": "Python 3",
   "language": "python",
   "name": "python3"
  },
  "language_info": {
   "codemirror_mode": {
    "name": "ipython",
    "version": 3
   },
   "file_extension": ".py",
   "mimetype": "text/x-python",
   "name": "python",
   "nbconvert_exporter": "python",
   "pygments_lexer": "ipython3",
   "version": "3.7.3"
  }
 },
 "nbformat": 4,
 "nbformat_minor": 2
}
