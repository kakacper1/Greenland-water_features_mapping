{
 "cells": [
  {
   "cell_type": "markdown",
   "metadata": {},
   "source": [
    "## C5. DEM statistics and distribution"
   ]
  },
  {
   "cell_type": "markdown",
   "metadata": {},
   "source": [
    "#### 0. Load required libraries, site dependant constants and utility functions."
   ]
  },
  {
   "cell_type": "code",
   "execution_count": 2,
   "metadata": {},
   "outputs": [],
   "source": [
    "from os import listdir\n",
    "from os.path import isfile, join\n",
    "import numpy as np\n",
    "import seaborn as sns\n",
    "\n",
    "# EOLearn libraries:\n",
    "from eolearn.core import EOTask, EOPatch, LinearWorkflow, LoadTask, SaveTask, FeatureType, EOExecutor\n",
    "from eolearn.core import OverwritePermission\n",
    "\n",
    "# Add to python path parent dictionary (to have acces to the data and util catalogue)\n",
    "import sys\n",
    "sys.path.append(\"../../\")\n",
    "\n",
    "# load site dependant constants (HERE YOU CAN CHOOSE DIFFERENT LOCATION)\n",
    "from aoi_sites import upe_promice_area as site\n",
    "\n",
    "# load utility functions\n",
    "from utils import io_functions as io_utils\n",
    "from utils import plot_functions as plot_utils"
   ]
  },
  {
   "cell_type": "markdown",
   "metadata": {},
   "source": [
    "#### 1. Check variables"
   ]
  },
  {
   "cell_type": "code",
   "execution_count": 3,
   "metadata": {},
   "outputs": [
    {
     "data": {
      "text/plain": [
       "EOPatch(\n",
       "  data: {\n",
       "    LANDSAT_EUC_NORM_RAW_BANDS: numpy.ndarray(shape=(23, 333, 333, 1), dtype=float32)\n",
       "    LANDSAT_NDWI: numpy.ndarray(shape=(23, 333, 333, 1), dtype=float32)\n",
       "    LANDSAT_NDWI_GREEN_NIR: numpy.ndarray(shape=(23, 333, 333, 1), dtype=float32)\n",
       "    LANDSAT_NDWI_ICE: numpy.ndarray(shape=(23, 333, 333, 1), dtype=float32)\n",
       "    LANDSAT_NDWI_NIR_SWIR_1: numpy.ndarray(shape=(23, 333, 333, 1), dtype=float32)\n",
       "    LANDSAT_NDWI_NIR_SWIR_2: numpy.ndarray(shape=(23, 333, 333, 1), dtype=float32)\n",
       "    LANDSAT_QA_LAYERS: numpy.ndarray(shape=(23, 333, 333, 5), dtype=float32)\n",
       "    LANDSAT_RAW_BANDS: numpy.ndarray(shape=(23, 333, 333, 11), dtype=float32)\n",
       "    MODIS_EUC_NORM_RAW_BANDS: numpy.ndarray(shape=(23, 333, 333, 1), dtype=float32)\n",
       "    MODIS_NDWI: numpy.ndarray(shape=(23, 333, 333, 1), dtype=float32)\n",
       "    MODIS_NRB: numpy.ndarray(shape=(23, 333, 333, 1), dtype=float32)\n",
       "    MODIS_RAW_BANDS_DAY_0: numpy.ndarray(shape=(23, 333, 333, 7), dtype=float32)\n",
       "    MODIS_RAW_BANDS_DAY_AFTER: numpy.ndarray(shape=(23, 333, 333, 7), dtype=float32)\n",
       "    MODIS_RAW_BANDS_DAY_BEFORE: numpy.ndarray(shape=(23, 333, 333, 7), dtype=float32)\n",
       "  }\n",
       "  mask: {\n",
       "    CLOUD_MASK_SWIR-1_090: numpy.ndarray(shape=(23, 333, 333, 1), dtype=bool)\n",
       "    CLOUD_MASK_SWIR-1_100: numpy.ndarray(shape=(23, 333, 333, 1), dtype=bool)\n",
       "    CLOUD_MASK_SWIR-1_100_dil_6_str1: numpy.ndarray(shape=(23, 333, 333, 1), dtype=bool)\n",
       "    CLOUD_MASK_SWIR-1_100_dil_6_str2: numpy.ndarray(shape=(23, 333, 333, 1), dtype=bool)\n",
       "    CLOUD_MASK_SWIR-1_150: numpy.ndarray(shape=(23, 333, 333, 1), dtype=bool)\n",
       "    CLOUD_MASK_SWIR-1_150_dil_6_str1: numpy.ndarray(shape=(23, 333, 333, 1), dtype=bool)\n",
       "    CLOUD_MASK_SWIR-1_150_dil_6_str2: numpy.ndarray(shape=(23, 333, 333, 1), dtype=bool)\n",
       "    CLOUD_MASK_SWIR-1_200: numpy.ndarray(shape=(23, 333, 333, 1), dtype=bool)\n",
       "    CLOUD_MASK_SWIR-1_300: numpy.ndarray(shape=(23, 333, 333, 1), dtype=bool)\n",
       "    IS_DATA: numpy.ndarray(shape=(23, 333, 333, 1), dtype=bool)\n",
       "    MODIS_IS_DATA_DAY_0: numpy.ndarray(shape=(23, 333, 333, 1), dtype=bool)\n",
       "    MODIS_IS_DATA_DAY_AFTER: numpy.ndarray(shape=(23, 333, 333, 1), dtype=bool)\n",
       "    MODIS_IS_DATA_DAY_BEFORE: numpy.ndarray(shape=(23, 333, 333, 1), dtype=bool)\n",
       "    WATER_MASK_ICE_ST_010: numpy.ndarray(shape=(23, 333, 333, 1), dtype=bool)\n",
       "    WATER_MASK_ICE_ST_015: numpy.ndarray(shape=(23, 333, 333, 1), dtype=bool)\n",
       "    WATER_MASK_ICE_ST_020: numpy.ndarray(shape=(23, 333, 333, 1), dtype=bool)\n",
       "    WATER_MASK_ICE_ST_025: numpy.ndarray(shape=(23, 333, 333, 1), dtype=bool)\n",
       "    WATER_MASK_ICE_ST_030: numpy.ndarray(shape=(23, 333, 333, 1), dtype=bool)\n",
       "    WATER_MASK_ST_010: numpy.ndarray(shape=(23, 333, 333, 1), dtype=bool)\n",
       "    WATER_MASK_ST_015: numpy.ndarray(shape=(23, 333, 333, 1), dtype=bool)\n",
       "    WATER_MASK_ST_020: numpy.ndarray(shape=(23, 333, 333, 1), dtype=bool)\n",
       "    WATER_MASK_ST_025: numpy.ndarray(shape=(23, 333, 333, 1), dtype=bool)\n",
       "    WATER_MASK_ST_030: numpy.ndarray(shape=(23, 333, 333, 1), dtype=bool)\n",
       "  }\n",
       "  scalar: {}\n",
       "  label: {}\n",
       "  vector: {}\n",
       "  data_timeless: {\n",
       "    DEM_RAW_LAYER: numpy.ndarray(shape=(333, 333, 1), dtype=float32)\n",
       "    DEM_SLOPE_LAYER: numpy.ndarray(shape=(333, 333, 1), dtype=float32)\n",
       "  }\n",
       "  mask_timeless: {\n",
       "    CLOUD_MASK_SWIR-1_150_dil_6_str2_COUNT: numpy.ndarray(shape=(333, 333, 1), dtype=int64)\n",
       "    DEM_SLOPE_MASK: numpy.ndarray(shape=(333, 333, 1), dtype=bool)\n",
       "    IS_DATA_COUNT: numpy.ndarray(shape=(333, 333, 1), dtype=int64)\n",
       "    LANDSAT_QA_CIRRUS_COUNT: numpy.ndarray(shape=(333, 333, 1), dtype=int64)\n",
       "    LANDSAT_QA_CLOUDS_SHADOW_COUNT: numpy.ndarray(shape=(333, 333, 1), dtype=int64)\n",
       "    LANDSAT_QA_CLOUD_AND_AROUND_COUNT: numpy.ndarray(shape=(333, 333, 1), dtype=int64)\n",
       "    LANDSAT_QA_CLOUD_COUNT: numpy.ndarray(shape=(333, 333, 1), dtype=int64)\n",
       "    LANDSAT_QA_SNOW_ICE_COUNT: numpy.ndarray(shape=(333, 333, 1), dtype=int64)\n",
       "    MODIS_IS_DATA_DAY_0_COUNT: numpy.ndarray(shape=(333, 333, 1), dtype=int64)\n",
       "    WATER_MASK_ST_025_COUNT: numpy.ndarray(shape=(333, 333, 1), dtype=int64)\n",
       "  }\n",
       "  scalar_timeless: {}\n",
       "  label_timeless: {}\n",
       "  vector_timeless: {}\n",
       "  meta_info: {\n",
       "    DEM_RAW_AVG: 624.9419\n",
       "    DEM_RAW_MAX: 1234.0\n",
       "    DEM_RAW_MED: 598.0\n",
       "    DEM_RAW_MIN: 27.0\n",
       "    DEM_RAW_STD: 327.25894\n",
       "    DEM_RAW_VAR: 107098.41\n",
       "    index_x: 3\n",
       "    index_y: 130\n",
       "    maxcc: '0.05'\n",
       "    patch_index: 2969\n",
       "    service_type: 'wcs'\n",
       "    site_name: 'UPE_PROMICE'\n",
       "    size_x: '30m'\n",
       "    size_y: '30m'\n",
       "    time_difference: datetime.timedelta(seconds=7200)\n",
       "    time_interval: ('2019-05-01', '2019-10-31')\n",
       "  }\n",
       "  bbox: BBox(((400000.0, 8030000.0), (410000.0, 8040000.0)), crs=EPSG:32622)\n",
       "  timestamp: [datetime.datetime(2019, 5, 1, 15, 30, 8), ..., datetime.datetime(2019, 10, 8, 15, 31, 5)], length=23\n",
       ")"
      ]
     },
     "execution_count": 3,
     "metadata": {},
     "output_type": "execute_result"
    }
   ],
   "source": [
    "eo_patch = EOPatch.load('../../data/EOPatches/LANDSAT_8/UPE_PROMICE/UTM_22N/2019_05-2019_10/2969_maxcc_0.05_x-3_y-130')\n",
    "eo_patch"
   ]
  },
  {
   "cell_type": "markdown",
   "metadata": {},
   "source": [
    "#### 2. Get all eo_patch names from one year to check DEM (same across all the years)"
   ]
  },
  {
   "cell_type": "code",
   "execution_count": 4,
   "metadata": {},
   "outputs": [
    {
     "name": "stdout",
     "output_type": "stream",
     "text": [
      "Reading EOPatches from: ('2013-05-01', '2013-10-31')\n"
     ]
    },
    {
     "data": {
      "text/plain": [
       "'../../data/EOPatches/LANDSAT_8/UPE_PROMICE/UTM_22N/2013_05-2013_10/'"
      ]
     },
     "execution_count": 4,
     "metadata": {},
     "output_type": "execute_result"
    }
   ],
   "source": [
    "eopatches_filepath = io_utils.get_eopatches_dir(site.DATA_PRODUCTS[1], site.SITE_NAME, site.AVAILABLE_CRSs[0], site.DATE_RANGES_LANDSAT_8[0])\n",
    "print('Reading EOPatches from:', site.DATE_RANGES_LANDSAT_8[0])\n",
    "list_of_available_patches = io_utils.get_list_of_eopatches(eopatches_filepath)\n",
    "eopatches_filepath"
   ]
  },
  {
   "cell_type": "code",
   "execution_count": 5,
   "metadata": {},
   "outputs": [
    {
     "name": "stdout",
     "output_type": "stream",
     "text": [
      "2969_maxcc_0.05_x-3_y-130\n",
      "2970_maxcc_0.05_x-3_y-131\n",
      "2971_maxcc_0.05_x-3_y-132\n",
      "2972_maxcc_0.05_x-3_y-133\n",
      "2973_maxcc_0.05_x-3_y-134\n",
      "2974_maxcc_0.05_x-3_y-135\n",
      "2975_maxcc_0.05_x-3_y-136\n",
      "2976_maxcc_0.05_x-3_y-137\n",
      "2977_maxcc_0.05_x-3_y-138\n",
      "2978_maxcc_0.05_x-3_y-139\n",
      "2979_maxcc_0.05_x-3_y-140\n",
      "3059_maxcc_0.05_x-4_y-130\n",
      "3060_maxcc_0.05_x-4_y-131\n",
      "3061_maxcc_0.05_x-4_y-132\n",
      "3062_maxcc_0.05_x-4_y-133\n",
      "3063_maxcc_0.05_x-4_y-134\n",
      "3064_maxcc_0.05_x-4_y-135\n",
      "3065_maxcc_0.05_x-4_y-136\n",
      "3066_maxcc_0.05_x-4_y-137\n",
      "3067_maxcc_0.05_x-4_y-138\n",
      "3068_maxcc_0.05_x-4_y-139\n",
      "3069_maxcc_0.05_x-4_y-140\n",
      "3172_maxcc_0.05_x-5_y-130\n",
      "3173_maxcc_0.05_x-5_y-131\n",
      "3174_maxcc_0.05_x-5_y-132\n",
      "3175_maxcc_0.05_x-5_y-133\n",
      "3176_maxcc_0.05_x-5_y-134\n",
      "3177_maxcc_0.05_x-5_y-135\n",
      "3178_maxcc_0.05_x-5_y-136\n",
      "3179_maxcc_0.05_x-5_y-137\n",
      "3180_maxcc_0.05_x-5_y-138\n",
      "3181_maxcc_0.05_x-5_y-139\n",
      "3182_maxcc_0.05_x-5_y-140\n",
      "3306_maxcc_0.05_x-6_y-130\n",
      "3307_maxcc_0.05_x-6_y-131\n",
      "3308_maxcc_0.05_x-6_y-132\n",
      "3309_maxcc_0.05_x-6_y-133\n",
      "3310_maxcc_0.05_x-6_y-134\n",
      "3311_maxcc_0.05_x-6_y-135\n",
      "3312_maxcc_0.05_x-6_y-136\n",
      "3313_maxcc_0.05_x-6_y-137\n",
      "3314_maxcc_0.05_x-6_y-138\n",
      "3315_maxcc_0.05_x-6_y-139\n",
      "3316_maxcc_0.05_x-6_y-140\n",
      "3469_maxcc_0.05_x-7_y-130\n",
      "3470_maxcc_0.05_x-7_y-131\n",
      "3471_maxcc_0.05_x-7_y-132\n",
      "3472_maxcc_0.05_x-7_y-133\n",
      "3473_maxcc_0.05_x-7_y-134\n",
      "3474_maxcc_0.05_x-7_y-135\n",
      "3475_maxcc_0.05_x-7_y-136\n",
      "3476_maxcc_0.05_x-7_y-137\n",
      "3477_maxcc_0.05_x-7_y-138\n",
      "3478_maxcc_0.05_x-7_y-139\n",
      "3479_maxcc_0.05_x-7_y-140\n"
     ]
    }
   ],
   "source": [
    "all_elevation = []\n",
    "all_slope = []\n",
    "all_std = []\n",
    "all_var = []\n",
    "\n",
    "for eo_patch_name in list_of_available_patches :\n",
    "    print(eo_patch_name)\n",
    "    eo_patch = EOPatch.load(eopatches_filepath+eo_patch_name)\n",
    "    \n",
    "    all_elevation.append(eo_patch.data_timeless['DEM_RAW_LAYER'].squeeze())\n",
    "    all_slope.append(eo_patch.data_timeless['DEM_SLOPE_LAYER'].squeeze()[1:332,1:332])\n",
    "    all_std.append(eo_patch.meta_info['DEM_RAW_STD'])\n",
    "    all_var.append(eo_patch.meta_info['DEM_RAW_VAR'])\n",
    "\n",
    "    \n",
    "all_elevation_arr = np.vstack(all_elevation)\n",
    "all_slope_arr = np.vstack(all_slope)\n",
    "all_std_arr = np.vstack(all_std)\n",
    "all_var_arr = np.vstack(all_var)"
   ]
  },
  {
   "cell_type": "markdown",
   "metadata": {},
   "source": [
    "#### 3.Plot  distribution of area elevation:"
   ]
  },
  {
   "cell_type": "code",
   "execution_count": 6,
   "metadata": {},
   "outputs": [
    {
     "data": {
      "text/plain": [
       "<matplotlib.axes._subplots.AxesSubplot at 0x22b808796a0>"
      ]
     },
     "execution_count": 6,
     "metadata": {},
     "output_type": "execute_result"
    },
    {
     "data": {
      "image/png": "[encoded data removed]",
      "text/plain": [
       "<Figure size 432x288 with 1 Axes>"
      ]
     },
     "metadata": {
      "needs_background": "light"
     },
     "output_type": "display_data"
    }
   ],
   "source": [
    "shape = all_elevation_arr.squeeze().shape\n",
    "sns.distplot(all_elevation_arr.reshape( shape[0]*shape[1]))"
   ]
  },
  {
   "cell_type": "markdown",
   "metadata": {},
   "source": [
    "#### 4.Plot distribution of slope:"
   ]
  },
  {
   "cell_type": "code",
   "execution_count": 7,
   "metadata": {},
   "outputs": [
    {
     "data": {
      "text/plain": [
       "<matplotlib.axes._subplots.AxesSubplot at 0x22ba55b5908>"
      ]
     },
     "execution_count": 7,
     "metadata": {},
     "output_type": "execute_result"
    },
    {
     "data": {
      "image/png": "[encoded data removed]",
      "text/plain": [
       "<Figure size 432x288 with 1 Axes>"
      ]
     },
     "metadata": {
      "needs_background": "light"
     },
     "output_type": "display_data"
    }
   ],
   "source": [
    "shape = all_slope_arr.squeeze().shape\n",
    "sns.distplot(all_slope_arr.reshape( shape[0]*shape[1]))"
   ]
  },
  {
   "cell_type": "markdown",
   "metadata": {},
   "source": [
    "####  5.Plot distribution of DEM_STD and DEM_VAR:"
   ]
  },
  {
   "cell_type": "code",
   "execution_count": 13,
   "metadata": {},
   "outputs": [
    {
     "name": "stdout",
     "output_type": "stream",
     "text": [
      "[ 30.778728  31.023779  33.109905  35.373405  38.24819   39.550064\n",
      "  39.861797  40.072155  40.494473  41.906322  42.525105  42.75588\n",
      "  44.00503   45.98734   46.598137  49.236927  49.267258  49.274815\n",
      "  49.314507  49.574226  50.56491   51.117905  51.43426   54.71707\n",
      "  54.777447  55.323982  57.07561   59.11761   60.618584  63.566597\n",
      "  68.04966   71.89633   72.22036   72.84604   73.7417    74.915634\n",
      "  79.55961   80.26808   80.54643   85.29642   94.54384   96.21709\n",
      " 101.6355   102.347176 112.20959  114.718346 115.83538  116.0569\n",
      " 116.40112  117.96497  145.06363  189.91554  301.36636  327.25894\n",
      " 349.71512 ]\n"
     ]
    },
    {
     "data": {
      "text/plain": [
       "<matplotlib.axes._subplots.AxesSubplot at 0x22ba5912eb8>"
      ]
     },
     "execution_count": 13,
     "metadata": {},
     "output_type": "execute_result"
    },
    {
     "data": {
      "image/png": "[encoded data removed]",
      "text/plain": [
       "<Figure size 432x288 with 1 Axes>"
      ]
     },
     "metadata": {
      "needs_background": "light"
     },
     "output_type": "display_data"
    }
   ],
   "source": [
    "shape = all_std_arr.squeeze().shape\n",
    "print(np.sort(all_std_arr, axis=None))\n",
    "sns.distplot(all_std_arr)"
   ]
  },
  {
   "cell_type": "code",
   "execution_count": 10,
   "metadata": {},
   "outputs": [
    {
     "data": {
      "text/plain": [
       "<matplotlib.axes._subplots.AxesSubplot at 0x22ba5792e48>"
      ]
     },
     "execution_count": 10,
     "metadata": {},
     "output_type": "execute_result"
    },
    {
     "data": {
      "image/png": "[encoded data removed]",
      "text/plain": [
       "<Figure size 432x288 with 1 Axes>"
      ]
     },
     "metadata": {
      "needs_background": "light"
     },
     "output_type": "display_data"
    }
   ],
   "source": [
    "shape = all_var_arr.squeeze().shape\n",
    "sns.distplot(all_var_arr)"
   ]
  },
  {
   "cell_type": "markdown",
   "metadata": {},
   "source": [
    "##### Takeaway:\n",
    "\n",
    "high std in area elevation can cause a lot of mountains shades (hillshades) - at this point we dont have angle of suen asd so on to calculate it so we should skip these eopatches. To avoid water that is classified wrong. "
   ]
  }
 ],
 "metadata": {
  "kernelspec": {
   "display_name": "Python 3",
   "language": "python",
   "name": "python3"
  },
  "language_info": {
   "codemirror_mode": {
    "name": "ipython",
    "version": 3
   },
   "file_extension": ".py",
   "mimetype": "text/x-python",
   "name": "python",
   "nbconvert_exporter": "python",
   "pygments_lexer": "ipython3",
   "version": "3.7.3"
  }
 },
 "nbformat": 4,
 "nbformat_minor": 2
}
