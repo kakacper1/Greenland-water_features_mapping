{
 "cells": [
  {
   "cell_type": "markdown",
   "metadata": {},
   "source": [
    "## D4. Dataset filtering and sampling"
   ]
  },
  {
   "cell_type": "markdown",
   "metadata": {},
   "source": [
    "#### 0. Load required libraries, site dependant constants and utility functions."
   ]
  },
  {
   "cell_type": "code",
   "execution_count": 1,
   "metadata": {},
   "outputs": [
    {
     "name": "stderr",
     "output_type": "stream",
     "text": [
      "C:\\Users\\Kamil\\Anaconda3\\lib\\site-packages\\pywt\\_utils.py:6: DeprecationWarning: Using or importing the ABCs from 'collections' instead of from 'collections.abc' is deprecated, and in 3.8 it will stop working\n",
      "  from collections import Iterable\n"
     ]
    }
   ],
   "source": [
    "import os\n",
    "from os import listdir\n",
    "from os.path import isfile, join\n",
    "import numpy as np\n",
    "import seaborn as sns\n",
    "import datetime\n",
    "from os import listdir\n",
    "from os.path import isfile, join\n",
    "\n",
    "# EOLearn libraries:\n",
    "from eolearn.core import EOTask, EOPatch, LinearWorkflow, LoadTask, SaveTask, FeatureType, EOExecutor\n",
    "from eolearn.core import OverwritePermission\n",
    "from eolearn.features.feature_manipulation import SimpleFilterTask\n",
    "from eolearn.geometry.sampling import PointSamplingTask\n",
    "\n",
    "# Add to python path parent dictionary\n",
    "import sys\n",
    "sys.path.append(\"../../\")\n",
    "\n",
    "# load site dependant constants (HERE YOU CAN CHOOSE DIFFERENT LOCATION)\n",
    "from aoi_sites import upe_promice_area as site\n",
    "\n",
    "# load utility functions\n",
    "from utils import io_functions as io_utils\n",
    "from utils import plot_functions as plot_utils"
   ]
  },
  {
   "cell_type": "markdown",
   "metadata": {},
   "source": [
    "#### 1. Define  EOTASKs"
   ]
  },
  {
   "cell_type": "code",
   "execution_count": 2,
   "metadata": {},
   "outputs": [],
   "source": [
    "\"\"\" Predicate that defines if a frame from EOPatch's time-series is valid or not.\n",
    "Frame is valid, if the valid mask fraction is below the specified threshold.\"\"\"    \n",
    "\n",
    "class InvalidDataFractionPredicate:\n",
    "    def __init__(self, threshold):\n",
    "        self.threshold = threshold\n",
    "        \n",
    "    def __call__(self, array):\n",
    "        mask_coverage = np.sum(array.astype(np.uint8)) / np.prod(array.shape)\n",
    "        return mask_coverage < self.threshold\n",
    "    \n",
    "\"\"\" Predicate that defines if a frame from EOPatch's time-series is valid or not.\n",
    "Frame is valid, if minimum extracted water feature exceeds the specified threshold.\"\"\"    \n",
    "\n",
    "class MinimumWaterFeaturePredicate:\n",
    "    def __init__(self, minimum_water_feature_count = 139 ): # 139 bc it is same what 0,125 km2\n",
    "        self.minimum_water_feature_count = minimum_water_feature_count\n",
    "        \n",
    "    def __call__(self, array):\n",
    "        cur_patch_water_feature_count = np.sum(array.astype(np.uint8))\n",
    "        return self.minimum_water_feature_count <= cur_patch_water_feature_count    \n"
   ]
  },
  {
   "cell_type": "markdown",
   "metadata": {},
   "source": [
    "#### History:\n",
    "1. min wat - 5 , sam 100 ref 1,0- 8% of water\n",
    "2. min wat- 5 , sam 200 ref 1,0- 8% of water\n",
    "3. min wat- 5 , sam 20000 ref 1,0- 8% of water\n",
    "4. min wat- 25 , sam 20000 ref 1,0- 9,7% of water\n",
    "5. min wat- 25 , sam 20k, ref 1 - 20, % of water features\n",
    "6. min wat- 50 , sam 80k, ref 0, 1 - real distribution d\n",
    "7. min wat- 25 , sam 25k, ref 1, 2 - "
   ]
  },
  {
   "cell_type": "code",
   "execution_count": 23,
   "metadata": {},
   "outputs": [
    {
     "data": {
      "text/plain": [
       "[1, 2]"
      ]
     },
     "execution_count": 23,
     "metadata": {},
     "output_type": "execute_result"
    }
   ],
   "source": [
    "list(range(1,3))"
   ]
  },
  {
   "cell_type": "code",
   "execution_count": 32,
   "metadata": {},
   "outputs": [],
   "source": [
    "# Defire filter eo_tasks,\n",
    "min_wat_threshold = 25\n",
    "max_cld_threshold = 0.01\n",
    "dem_std_threshold = 125\n",
    "n_samples = 25000 # no. of pixels to sample   50 000 / 110 224 = 0.45362171577 , every second pixel will be taken into account\n",
    "dataset_file_name = '_sptl_smpl_25k_pr_pic_ref_1_2_min_wat_25'\n",
    "# Define what kind of feature are going to be used:\n",
    "ref_labels = list(range(1,3)) # reference labels to take into account when sampling - \n",
    "                            # -1 - never to take - frame mask,  0 - never considered as water, 1, considered once or more\n",
    "\n",
    "invalid_data_predicate = InvalidDataFractionPredicate(max_cld_threshold)\n",
    "filter_ultimate_mask_eotask = SimpleFilterTask((FeatureType.MASK, 'INVALID_DATA_MASK_CLD_150_STR2-IS_LDS-IS_MDS'), invalid_data_predicate)\n",
    "\n",
    "minimum_water_predicate  = MinimumWaterFeaturePredicate(min_wat_threshold)\n",
    "filter_by_minimum_water_count_eotask = SimpleFilterTask((FeatureType.MASK, 'WATER_MASK_ST_025'), minimum_water_predicate)"
   ]
  },
  {
   "cell_type": "code",
   "execution_count": 33,
   "metadata": {},
   "outputs": [
    {
     "name": "stdout",
     "output_type": "stream",
     "text": [
      "Loaded from ../../data/EOPatches/LANDSAT_8/UPE_PROMICE/UTM_22N/2013_05-2013_10/2976_maxcc_0.05_x-3_y-137\n"
     ]
    },
    {
     "data": {
      "text/plain": [
       "EOPatch(\n",
       "  data: {\n",
       "    DATASET_CLD_200_dil_6_str2: numpy.ndarray(shape=(7, 333, 333, 11), dtype=float32)\n",
       "    DATASET_RAW_NDWI_NRB_19_NORM_SLOPE: numpy.ndarray(shape=(7, 333, 333, 13), dtype=float32)\n",
       "    LANDSAT_EUC_NORM_RAW_BANDS: numpy.ndarray(shape=(7, 333, 333, 1), dtype=float32)\n",
       "    LANDSAT_NDWI: numpy.ndarray(shape=(7, 333, 333, 1), dtype=float32)\n",
       "    LANDSAT_NDWI_GREEN_NIR: numpy.ndarray(shape=(7, 333, 333, 1), dtype=float32)\n",
       "    LANDSAT_NDWI_ICE: numpy.ndarray(shape=(7, 333, 333, 1), dtype=float32)\n",
       "    LANDSAT_NDWI_NIR_SWIR_1: numpy.ndarray(shape=(7, 333, 333, 1), dtype=float32)\n",
       "    LANDSAT_NDWI_NIR_SWIR_2: numpy.ndarray(shape=(7, 333, 333, 1), dtype=float32)\n",
       "    LANDSAT_QA_LAYERS: numpy.ndarray(shape=(7, 333, 333, 5), dtype=float32)\n",
       "    LANDSAT_RAW_BANDS: numpy.ndarray(shape=(7, 333, 333, 11), dtype=float32)\n",
       "    MODIS_AVG_NBR_19: numpy.ndarray(shape=(7, 333, 333, 1), dtype=float32)\n",
       "    MODIS_EUC_NORM_RAW_BANDS: numpy.ndarray(shape=(7, 333, 333, 1), dtype=float32)\n",
       "    MODIS_NDWI: numpy.ndarray(shape=(7, 333, 333, 1), dtype=float32)\n",
       "    MODIS_NRB: numpy.ndarray(shape=(7, 333, 333, 1), dtype=float32)\n",
       "    MODIS_RAW_BANDS_DAY_0: numpy.ndarray(shape=(7, 333, 333, 7), dtype=float32)\n",
       "    MODIS_RAW_BANDS_DAY_AFTER: numpy.ndarray(shape=(7, 333, 333, 7), dtype=float32)\n",
       "    MODIS_RAW_BANDS_DAY_BEFORE: numpy.ndarray(shape=(7, 333, 333, 7), dtype=float32)\n",
       "    MODIS_VAR_NBR_19: numpy.ndarray(shape=(7, 333, 333, 1), dtype=float32)\n",
       "  }\n",
       "  mask: {\n",
       "    CLOUD_MASK_SWIR-1_090: numpy.ndarray(shape=(7, 333, 333, 1), dtype=bool)\n",
       "    CLOUD_MASK_SWIR-1_100: numpy.ndarray(shape=(7, 333, 333, 1), dtype=bool)\n",
       "    CLOUD_MASK_SWIR-1_100_dil_6_str1: numpy.ndarray(shape=(7, 333, 333, 1), dtype=bool)\n",
       "    CLOUD_MASK_SWIR-1_100_dil_6_str2: numpy.ndarray(shape=(7, 333, 333, 1), dtype=bool)\n",
       "    CLOUD_MASK_SWIR-1_150: numpy.ndarray(shape=(7, 333, 333, 1), dtype=bool)\n",
       "    CLOUD_MASK_SWIR-1_150_dil_6_str1: numpy.ndarray(shape=(7, 333, 333, 1), dtype=bool)\n",
       "    CLOUD_MASK_SWIR-1_150_dil_6_str2: numpy.ndarray(shape=(7, 333, 333, 1), dtype=bool)\n",
       "    CLOUD_MASK_SWIR-1_200: numpy.ndarray(shape=(7, 333, 333, 1), dtype=bool)\n",
       "    CLOUD_MASK_SWIR-1_200_dil_6_str1: numpy.ndarray(shape=(7, 333, 333, 1), dtype=bool)\n",
       "    CLOUD_MASK_SWIR-1_200_dil_6_str2: numpy.ndarray(shape=(7, 333, 333, 1), dtype=bool)\n",
       "    CLOUD_MASK_SWIR-1_300: numpy.ndarray(shape=(7, 333, 333, 1), dtype=bool)\n",
       "    CLOUD_MASK_SWIR-1_300_dil_10_str2: numpy.ndarray(shape=(7, 333, 333, 1), dtype=bool)\n",
       "    CLOUD_MASK_SWIR-1_300_dil_6_str1: numpy.ndarray(shape=(7, 333, 333, 1), dtype=bool)\n",
       "    CLOUD_MASK_SWIR-1_300_dil_6_str2: numpy.ndarray(shape=(7, 333, 333, 1), dtype=bool)\n",
       "    INVALID_DATA_MASK_CLD_150_STR1-IS_LDS-IS_MDS: numpy.ndarray(shape=(7, 333, 333, 1), dtype=bool)\n",
       "    INVALID_DATA_MASK_CLD_150_STR2-IS_LDS-IS_MDS: numpy.ndarray(shape=(7, 333, 333, 1), dtype=bool)\n",
       "    INVALID_DATA_MASK_CLD_200_STR2-IS_LDS-IS_MDS: numpy.ndarray(shape=(7, 333, 333, 1), dtype=bool)\n",
       "    IS_DATA: numpy.ndarray(shape=(7, 333, 333, 1), dtype=bool)\n",
       "    MODIS_IS_DATA_DAY_0: numpy.ndarray(shape=(7, 333, 333, 1), dtype=bool)\n",
       "    MODIS_IS_DATA_DAY_AFTER: numpy.ndarray(shape=(7, 333, 333, 1), dtype=bool)\n",
       "    MODIS_IS_DATA_DAY_BEFORE: numpy.ndarray(shape=(7, 333, 333, 1), dtype=bool)\n",
       "    WATER_MASK_ICE_ST_010: numpy.ndarray(shape=(7, 333, 333, 1), dtype=bool)\n",
       "    WATER_MASK_ICE_ST_015: numpy.ndarray(shape=(7, 333, 333, 1), dtype=bool)\n",
       "    WATER_MASK_ICE_ST_020: numpy.ndarray(shape=(7, 333, 333, 1), dtype=bool)\n",
       "    WATER_MASK_ICE_ST_025: numpy.ndarray(shape=(7, 333, 333, 1), dtype=bool)\n",
       "    WATER_MASK_ICE_ST_030: numpy.ndarray(shape=(7, 333, 333, 1), dtype=bool)\n",
       "    WATER_MASK_ST_010: numpy.ndarray(shape=(7, 333, 333, 1), dtype=bool)\n",
       "    WATER_MASK_ST_015: numpy.ndarray(shape=(7, 333, 333, 1), dtype=bool)\n",
       "    WATER_MASK_ST_020: numpy.ndarray(shape=(7, 333, 333, 1), dtype=bool)\n",
       "    WATER_MASK_ST_025: numpy.ndarray(shape=(7, 333, 333, 1), dtype=bool)\n",
       "    WATER_MASK_ST_030: numpy.ndarray(shape=(7, 333, 333, 1), dtype=bool)\n",
       "  }\n",
       "  scalar: {}\n",
       "  label: {}\n",
       "  vector: {}\n",
       "  data_timeless: {\n",
       "    DEM_RAW_LAYER: numpy.ndarray(shape=(333, 333, 1), dtype=float32)\n",
       "    DEM_SLOPE_LAYER: numpy.ndarray(shape=(333, 333, 1), dtype=float32)\n",
       "  }\n",
       "  mask_timeless: {\n",
       "    CLOUD_MASK_SWIR-1_150_dil_6_str2_COUNT: numpy.ndarray(shape=(333, 333, 1), dtype=int64)\n",
       "    DEM_SLOPE_MASK: numpy.ndarray(shape=(333, 333, 1), dtype=bool)\n",
       "    IS_DATA_COUNT: numpy.ndarray(shape=(333, 333, 1), dtype=int64)\n",
       "    LANDSAT_QA_CIRRUS_COUNT: numpy.ndarray(shape=(333, 333, 1), dtype=int64)\n",
       "    LANDSAT_QA_CLOUDS_SHADOW_COUNT: numpy.ndarray(shape=(333, 333, 1), dtype=int64)\n",
       "    LANDSAT_QA_CLOUD_AND_AROUND_COUNT: numpy.ndarray(shape=(333, 333, 1), dtype=int64)\n",
       "    LANDSAT_QA_CLOUD_COUNT: numpy.ndarray(shape=(333, 333, 1), dtype=int64)\n",
       "    LANDSAT_QA_SNOW_ICE_COUNT: numpy.ndarray(shape=(333, 333, 1), dtype=int64)\n",
       "    MODIS_IS_DATA_DAY_0_COUNT: numpy.ndarray(shape=(333, 333, 1), dtype=int64)\n",
       "    WATER_MASK_ST_025_COUNT: numpy.ndarray(shape=(333, 333, 1), dtype=int64)\n",
       "    WATER_MASK_ST_025_COUNT_FR_1: numpy.ndarray(shape=(333, 333, 1), dtype=int32)\n",
       "    WATER_MASK_ST_025_FR_1_MAPPED_1: numpy.ndarray(shape=(333, 333, 1), dtype=int32)\n",
       "    WATER_MASK_ST_025_FR_1_MAPPED_2: numpy.ndarray(shape=(333, 333, 1), dtype=int32)\n",
       "    WATER_MASK_ST_025_FR_1_MAPPED_3: numpy.ndarray(shape=(333, 333, 1), dtype=int32)\n",
       "    WATER_MASK_ST_025_FR_1_MAPPED_4: numpy.ndarray(shape=(333, 333, 1), dtype=int32)\n",
       "    WATER_MASK_ST_025_FR_1_MAPPED_5: numpy.ndarray(shape=(333, 333, 1), dtype=int32)\n",
       "  }\n",
       "  scalar_timeless: {\n",
       "    COVERAGE_CLD_150_STR1-IS_LDS-IS_MDS: numpy.ndarray(shape=(7,), dtype=float64)\n",
       "    COVERAGE_CLD_150_STR2-IS_LDS-IS_MDS: numpy.ndarray(shape=(7,), dtype=float64)\n",
       "    COVERAGE_CLD_200_STR2-IS_LDS-IS_MDS: numpy.ndarray(shape=(7,), dtype=float64)\n",
       "    WATER_MASK_ICE_ST_025_COVERAGE: numpy.ndarray(shape=(7,), dtype=uint32)\n",
       "    WATER_MASK_ST_010_COVERAGE: numpy.ndarray(shape=(7,), dtype=uint32)\n",
       "    WATER_MASK_ST_025_COVERAGE: numpy.ndarray(shape=(7,), dtype=uint32)\n",
       "  }\n",
       "  label_timeless: {}\n",
       "  vector_timeless: {}\n",
       "  meta_info: {\n",
       "    DEM_RAW_AVG: 783.00415\n",
       "    DEM_RAW_MAX: 959.0\n",
       "    DEM_RAW_MED: 790.0\n",
       "    DEM_RAW_MIN: 492.0\n",
       "    DEM_RAW_STD: 72.22036\n",
       "    DEM_RAW_VAR: 5215.7803\n",
       "    index_x: 3\n",
       "    index_y: 137\n",
       "    maxcc: '0.05'\n",
       "    patch_index: 2976\n",
       "    service_type: 'wcs'\n",
       "    site_name: 'UPE_PROMICE'\n",
       "    size_x: '30m'\n",
       "    size_y: '30m'\n",
       "    time_difference: datetime.timedelta(seconds=7200)\n",
       "    time_interval: ('2013-05-01', '2013-10-31')\n",
       "  }\n",
       "  bbox: BBox(((400000.0, 8100000.0), (410000.0, 8110000.0)), crs=EPSG:32622)\n",
       "  timestamp: [datetime.datetime(2013, 5, 23, 15, 38, 32), ..., datetime.datetime(2013, 10, 7, 15, 32, 12)], length=7\n",
       ")"
      ]
     },
     "execution_count": 33,
     "metadata": {},
     "output_type": "execute_result"
    }
   ],
   "source": [
    "eo_patch = io_utils.load_exemplary_eopatch(date_range = site.DATE_RANGES_LANDSAT_8[0], patch_id=6, random_choice=True)\n",
    "eo_patch"
   ]
  },
  {
   "cell_type": "code",
   "execution_count": 34,
   "metadata": {},
   "outputs": [
    {
     "data": {
      "text/plain": [
       "array([  0,   0,   0,  38,   0, 104,   0], dtype=uint32)"
      ]
     },
     "execution_count": 34,
     "metadata": {},
     "output_type": "execute_result"
    }
   ],
   "source": [
    "eo_patch.scalar_timeless['WATER_MASK_ST_025_COVERAGE']"
   ]
  },
  {
   "cell_type": "code",
   "execution_count": 35,
   "metadata": {},
   "outputs": [
    {
     "data": {
      "text/plain": [
       "EOPatch(\n",
       "  data: {\n",
       "    DATASET_CLD_200_dil_6_str2: numpy.ndarray(shape=(2, 333, 333, 11), dtype=float32)\n",
       "    DATASET_RAW_NDWI_NRB_19_NORM_SLOPE: numpy.ndarray(shape=(2, 333, 333, 13), dtype=float32)\n",
       "    LANDSAT_EUC_NORM_RAW_BANDS: numpy.ndarray(shape=(2, 333, 333, 1), dtype=float32)\n",
       "    LANDSAT_NDWI: numpy.ndarray(shape=(2, 333, 333, 1), dtype=float32)\n",
       "    LANDSAT_NDWI_GREEN_NIR: numpy.ndarray(shape=(2, 333, 333, 1), dtype=float32)\n",
       "    LANDSAT_NDWI_ICE: numpy.ndarray(shape=(2, 333, 333, 1), dtype=float32)\n",
       "    LANDSAT_NDWI_NIR_SWIR_1: numpy.ndarray(shape=(2, 333, 333, 1), dtype=float32)\n",
       "    LANDSAT_NDWI_NIR_SWIR_2: numpy.ndarray(shape=(2, 333, 333, 1), dtype=float32)\n",
       "    LANDSAT_QA_LAYERS: numpy.ndarray(shape=(2, 333, 333, 5), dtype=float32)\n",
       "    LANDSAT_RAW_BANDS: numpy.ndarray(shape=(2, 333, 333, 11), dtype=float32)\n",
       "    MODIS_AVG_NBR_19: numpy.ndarray(shape=(2, 333, 333, 1), dtype=float32)\n",
       "    MODIS_EUC_NORM_RAW_BANDS: numpy.ndarray(shape=(2, 333, 333, 1), dtype=float32)\n",
       "    MODIS_NDWI: numpy.ndarray(shape=(2, 333, 333, 1), dtype=float32)\n",
       "    MODIS_NRB: numpy.ndarray(shape=(2, 333, 333, 1), dtype=float32)\n",
       "    MODIS_RAW_BANDS_DAY_0: numpy.ndarray(shape=(2, 333, 333, 7), dtype=float32)\n",
       "    MODIS_RAW_BANDS_DAY_AFTER: numpy.ndarray(shape=(2, 333, 333, 7), dtype=float32)\n",
       "    MODIS_RAW_BANDS_DAY_BEFORE: numpy.ndarray(shape=(2, 333, 333, 7), dtype=float32)\n",
       "    MODIS_VAR_NBR_19: numpy.ndarray(shape=(2, 333, 333, 1), dtype=float32)\n",
       "  }\n",
       "  mask: {\n",
       "    CLOUD_MASK_SWIR-1_090: numpy.ndarray(shape=(2, 333, 333, 1), dtype=bool)\n",
       "    CLOUD_MASK_SWIR-1_100: numpy.ndarray(shape=(2, 333, 333, 1), dtype=bool)\n",
       "    CLOUD_MASK_SWIR-1_100_dil_6_str1: numpy.ndarray(shape=(2, 333, 333, 1), dtype=bool)\n",
       "    CLOUD_MASK_SWIR-1_100_dil_6_str2: numpy.ndarray(shape=(2, 333, 333, 1), dtype=bool)\n",
       "    CLOUD_MASK_SWIR-1_150: numpy.ndarray(shape=(2, 333, 333, 1), dtype=bool)\n",
       "    CLOUD_MASK_SWIR-1_150_dil_6_str1: numpy.ndarray(shape=(2, 333, 333, 1), dtype=bool)\n",
       "    CLOUD_MASK_SWIR-1_150_dil_6_str2: numpy.ndarray(shape=(2, 333, 333, 1), dtype=bool)\n",
       "    CLOUD_MASK_SWIR-1_200: numpy.ndarray(shape=(2, 333, 333, 1), dtype=bool)\n",
       "    CLOUD_MASK_SWIR-1_200_dil_6_str1: numpy.ndarray(shape=(2, 333, 333, 1), dtype=bool)\n",
       "    CLOUD_MASK_SWIR-1_200_dil_6_str2: numpy.ndarray(shape=(2, 333, 333, 1), dtype=bool)\n",
       "    CLOUD_MASK_SWIR-1_300: numpy.ndarray(shape=(2, 333, 333, 1), dtype=bool)\n",
       "    CLOUD_MASK_SWIR-1_300_dil_10_str2: numpy.ndarray(shape=(2, 333, 333, 1), dtype=bool)\n",
       "    CLOUD_MASK_SWIR-1_300_dil_6_str1: numpy.ndarray(shape=(2, 333, 333, 1), dtype=bool)\n",
       "    CLOUD_MASK_SWIR-1_300_dil_6_str2: numpy.ndarray(shape=(2, 333, 333, 1), dtype=bool)\n",
       "    INVALID_DATA_MASK_CLD_150_STR1-IS_LDS-IS_MDS: numpy.ndarray(shape=(2, 333, 333, 1), dtype=bool)\n",
       "    INVALID_DATA_MASK_CLD_150_STR2-IS_LDS-IS_MDS: numpy.ndarray(shape=(2, 333, 333, 1), dtype=bool)\n",
       "    INVALID_DATA_MASK_CLD_200_STR2-IS_LDS-IS_MDS: numpy.ndarray(shape=(2, 333, 333, 1), dtype=bool)\n",
       "    IS_DATA: numpy.ndarray(shape=(2, 333, 333, 1), dtype=bool)\n",
       "    MODIS_IS_DATA_DAY_0: numpy.ndarray(shape=(2, 333, 333, 1), dtype=bool)\n",
       "    MODIS_IS_DATA_DAY_AFTER: numpy.ndarray(shape=(2, 333, 333, 1), dtype=bool)\n",
       "    MODIS_IS_DATA_DAY_BEFORE: numpy.ndarray(shape=(2, 333, 333, 1), dtype=bool)\n",
       "    WATER_MASK_ICE_ST_010: numpy.ndarray(shape=(2, 333, 333, 1), dtype=bool)\n",
       "    WATER_MASK_ICE_ST_015: numpy.ndarray(shape=(2, 333, 333, 1), dtype=bool)\n",
       "    WATER_MASK_ICE_ST_020: numpy.ndarray(shape=(2, 333, 333, 1), dtype=bool)\n",
       "    WATER_MASK_ICE_ST_025: numpy.ndarray(shape=(2, 333, 333, 1), dtype=bool)\n",
       "    WATER_MASK_ICE_ST_030: numpy.ndarray(shape=(2, 333, 333, 1), dtype=bool)\n",
       "    WATER_MASK_ST_010: numpy.ndarray(shape=(2, 333, 333, 1), dtype=bool)\n",
       "    WATER_MASK_ST_015: numpy.ndarray(shape=(2, 333, 333, 1), dtype=bool)\n",
       "    WATER_MASK_ST_020: numpy.ndarray(shape=(2, 333, 333, 1), dtype=bool)\n",
       "    WATER_MASK_ST_025: numpy.ndarray(shape=(2, 333, 333, 1), dtype=bool)\n",
       "    WATER_MASK_ST_030: numpy.ndarray(shape=(2, 333, 333, 1), dtype=bool)\n",
       "  }\n",
       "  scalar: {}\n",
       "  label: {}\n",
       "  vector: {}\n",
       "  data_timeless: {\n",
       "    DEM_RAW_LAYER: numpy.ndarray(shape=(333, 333, 1), dtype=float32)\n",
       "    DEM_SLOPE_LAYER: numpy.ndarray(shape=(333, 333, 1), dtype=float32)\n",
       "  }\n",
       "  mask_timeless: {\n",
       "    CLOUD_MASK_SWIR-1_150_dil_6_str2_COUNT: numpy.ndarray(shape=(333, 333, 1), dtype=int64)\n",
       "    DEM_SLOPE_MASK: numpy.ndarray(shape=(333, 333, 1), dtype=bool)\n",
       "    IS_DATA_COUNT: numpy.ndarray(shape=(333, 333, 1), dtype=int64)\n",
       "    LANDSAT_QA_CIRRUS_COUNT: numpy.ndarray(shape=(333, 333, 1), dtype=int64)\n",
       "    LANDSAT_QA_CLOUDS_SHADOW_COUNT: numpy.ndarray(shape=(333, 333, 1), dtype=int64)\n",
       "    LANDSAT_QA_CLOUD_AND_AROUND_COUNT: numpy.ndarray(shape=(333, 333, 1), dtype=int64)\n",
       "    LANDSAT_QA_CLOUD_COUNT: numpy.ndarray(shape=(333, 333, 1), dtype=int64)\n",
       "    LANDSAT_QA_SNOW_ICE_COUNT: numpy.ndarray(shape=(333, 333, 1), dtype=int64)\n",
       "    MODIS_IS_DATA_DAY_0_COUNT: numpy.ndarray(shape=(333, 333, 1), dtype=int64)\n",
       "    WATER_MASK_ST_025_COUNT: numpy.ndarray(shape=(333, 333, 1), dtype=int64)\n",
       "    WATER_MASK_ST_025_COUNT_FR_1: numpy.ndarray(shape=(333, 333, 1), dtype=int32)\n",
       "    WATER_MASK_ST_025_FR_1_MAPPED_1: numpy.ndarray(shape=(333, 333, 1), dtype=int32)\n",
       "    WATER_MASK_ST_025_FR_1_MAPPED_2: numpy.ndarray(shape=(333, 333, 1), dtype=int32)\n",
       "    WATER_MASK_ST_025_FR_1_MAPPED_3: numpy.ndarray(shape=(333, 333, 1), dtype=int32)\n",
       "    WATER_MASK_ST_025_FR_1_MAPPED_4: numpy.ndarray(shape=(333, 333, 1), dtype=int32)\n",
       "    WATER_MASK_ST_025_FR_1_MAPPED_5: numpy.ndarray(shape=(333, 333, 1), dtype=int32)\n",
       "  }\n",
       "  scalar_timeless: {\n",
       "    COVERAGE_CLD_150_STR1-IS_LDS-IS_MDS: numpy.ndarray(shape=(7,), dtype=float64)\n",
       "    COVERAGE_CLD_150_STR2-IS_LDS-IS_MDS: numpy.ndarray(shape=(7,), dtype=float64)\n",
       "    COVERAGE_CLD_200_STR2-IS_LDS-IS_MDS: numpy.ndarray(shape=(7,), dtype=float64)\n",
       "    WATER_MASK_ICE_ST_025_COVERAGE: numpy.ndarray(shape=(7,), dtype=uint32)\n",
       "    WATER_MASK_ST_010_COVERAGE: numpy.ndarray(shape=(7,), dtype=uint32)\n",
       "    WATER_MASK_ST_025_COVERAGE: numpy.ndarray(shape=(7,), dtype=uint32)\n",
       "  }\n",
       "  label_timeless: {}\n",
       "  vector_timeless: {}\n",
       "  meta_info: {\n",
       "    DEM_RAW_AVG: 783.00415\n",
       "    DEM_RAW_MAX: 959.0\n",
       "    DEM_RAW_MED: 790.0\n",
       "    DEM_RAW_MIN: 492.0\n",
       "    DEM_RAW_STD: 72.22036\n",
       "    DEM_RAW_VAR: 5215.7803\n",
       "    index_x: 3\n",
       "    index_y: 137\n",
       "    maxcc: '0.05'\n",
       "    patch_index: 2976\n",
       "    service_type: 'wcs'\n",
       "    site_name: 'UPE_PROMICE'\n",
       "    size_x: '30m'\n",
       "    size_y: '30m'\n",
       "    time_difference: datetime.timedelta(seconds=7200)\n",
       "    time_interval: ('2013-05-01', '2013-10-31')\n",
       "  }\n",
       "  bbox: BBox(((400000.0, 8100000.0), (410000.0, 8110000.0)), crs=EPSG:32622)\n",
       "  timestamp: [datetime.datetime(2013, 9, 19, 15, 44, 37), datetime.datetime(2013, 9, 28, 15, 38, 22)]\n",
       ")"
      ]
     },
     "execution_count": 35,
     "metadata": {},
     "output_type": "execute_result"
    }
   ],
   "source": [
    "filter_by_minimum_water_count_eotask.execute(eo_patch)"
   ]
  },
  {
   "cell_type": "code",
   "execution_count": 36,
   "metadata": {},
   "outputs": [
    {
     "data": {
      "text/plain": [
       "[1, 2]"
      ]
     },
     "execution_count": 36,
     "metadata": {},
     "output_type": "execute_result"
    }
   ],
   "source": [
    "ref_labels"
   ]
  },
  {
   "cell_type": "code",
   "execution_count": 37,
   "metadata": {},
   "outputs": [],
   "source": [
    "# TASK FOR SPATIAL SAMPLING\n",
    "# Uniformly sample about pixels from patches\n",
    "\n",
    "\n",
    "spatial_sampling_eotask = PointSamplingTask(\n",
    "    n_samples=n_samples, \n",
    "    ref_mask_feature='WATER_MASK_ST_025_FR_1_MAPPED_2', \n",
    "    ref_labels=ref_labels,\n",
    "    even_sampling=False,\n",
    "    return_new_eopatch=True,\n",
    "    sample_features=[  # tag fields to sample\n",
    "        (FeatureType.DATA, 'DATASET_RAW_NDWI_NRB_19_NORM_SLOPE'),\n",
    "        (FeatureType.MASK, 'WATER_MASK_ST_025')\n",
    "    ])"
   ]
  },
  {
   "cell_type": "code",
   "execution_count": 20,
   "metadata": {},
   "outputs": [
    {
     "data": {
      "text/plain": [
       "[('2016-05-01', '2016-10-31'),\n",
       " ('2017-05-01', '2017-10-31'),\n",
       " ('2018-05-01', '2018-10-31'),\n",
       " ('2019-05-01', '2019-10-31')]"
      ]
     },
     "execution_count": 20,
     "metadata": {},
     "output_type": "execute_result"
    }
   ],
   "source": [
    "site.DATE_RANGES_LANDSAT_8[3:]"
   ]
  },
  {
   "cell_type": "code",
   "execution_count": 38,
   "metadata": {},
   "outputs": [
    {
     "name": "stdout",
     "output_type": "stream",
     "text": [
      "Processing EOPatches from: ('2013-05-01', '2013-10-31')\n",
      "Reading EOPatches from: ../../data/EOPatches/LANDSAT_8/UPE_PROMICE/UTM_22N/2013_05-2013_10/\n",
      "Doing now following eopatches: ['2969_maxcc_0.05_x-3_y-130', '2970_maxcc_0.05_x-3_y-131', '2971_maxcc_0.05_x-3_y-132', '2972_maxcc_0.05_x-3_y-133', '2973_maxcc_0.05_x-3_y-134', '2974_maxcc_0.05_x-3_y-135', '2975_maxcc_0.05_x-3_y-136', '2976_maxcc_0.05_x-3_y-137', '2977_maxcc_0.05_x-3_y-138', '2978_maxcc_0.05_x-3_y-139', '2979_maxcc_0.05_x-3_y-140']\n"
     ]
    },
    {
     "data": {
      "application/vnd.jupyter.widget-view+json": {
       "model_id": "085d955d438042cfaea6c4e8814fb199",
       "version_major": 2,
       "version_minor": 0
      },
      "text/plain": [
       "HBox(children=(IntProgress(value=0, max=9), HTML(value='')))"
      ]
     },
     "metadata": {},
     "output_type": "display_data"
    },
    {
     "name": "stdout",
     "output_type": "stream",
     "text": [
      "\n",
      "Doing now following eopatches: ['3059_maxcc_0.05_x-4_y-130', '3060_maxcc_0.05_x-4_y-131', '3061_maxcc_0.05_x-4_y-132', '3062_maxcc_0.05_x-4_y-133', '3063_maxcc_0.05_x-4_y-134', '3064_maxcc_0.05_x-4_y-135', '3065_maxcc_0.05_x-4_y-136', '3066_maxcc_0.05_x-4_y-137', '3067_maxcc_0.05_x-4_y-138', '3068_maxcc_0.05_x-4_y-139', '3069_maxcc_0.05_x-4_y-140']\n"
     ]
    },
    {
     "data": {
      "application/vnd.jupyter.widget-view+json": {
       "model_id": "3921e93218b64b84a47fca00ba324b4f",
       "version_major": 2,
       "version_minor": 0
      },
      "text/plain": [
       "HBox(children=(IntProgress(value=0, max=9), HTML(value='')))"
      ]
     },
     "metadata": {},
     "output_type": "display_data"
    },
    {
     "name": "stdout",
     "output_type": "stream",
     "text": [
      "\n",
      "Doing now following eopatches: ['3172_maxcc_0.05_x-5_y-130', '3173_maxcc_0.05_x-5_y-131', '3174_maxcc_0.05_x-5_y-132', '3175_maxcc_0.05_x-5_y-133', '3176_maxcc_0.05_x-5_y-134', '3177_maxcc_0.05_x-5_y-135', '3178_maxcc_0.05_x-5_y-136', '3179_maxcc_0.05_x-5_y-137', '3180_maxcc_0.05_x-5_y-138', '3181_maxcc_0.05_x-5_y-139', '3182_maxcc_0.05_x-5_y-140']\n"
     ]
    },
    {
     "data": {
      "application/vnd.jupyter.widget-view+json": {
       "model_id": "7b3f1c2332b94f9da97ef5a50670f989",
       "version_major": 2,
       "version_minor": 0
      },
      "text/plain": [
       "HBox(children=(IntProgress(value=0, max=10), HTML(value='')))"
      ]
     },
     "metadata": {},
     "output_type": "display_data"
    },
    {
     "name": "stdout",
     "output_type": "stream",
     "text": [
      "\n",
      "Doing now following eopatches: ['3306_maxcc_0.05_x-6_y-130', '3307_maxcc_0.05_x-6_y-131', '3308_maxcc_0.05_x-6_y-132', '3309_maxcc_0.05_x-6_y-133', '3310_maxcc_0.05_x-6_y-134', '3311_maxcc_0.05_x-6_y-135', '3312_maxcc_0.05_x-6_y-136', '3313_maxcc_0.05_x-6_y-137', '3314_maxcc_0.05_x-6_y-138', '3315_maxcc_0.05_x-6_y-139', '3316_maxcc_0.05_x-6_y-140']\n"
     ]
    },
    {
     "data": {
      "application/vnd.jupyter.widget-view+json": {
       "model_id": "9518d1fa6a3b4a5691f4366826803757",
       "version_major": 2,
       "version_minor": 0
      },
      "text/plain": [
       "HBox(children=(IntProgress(value=0, max=11), HTML(value='')))"
      ]
     },
     "metadata": {},
     "output_type": "display_data"
    },
    {
     "name": "stdout",
     "output_type": "stream",
     "text": [
      "\n",
      "Doing now following eopatches: ['3469_maxcc_0.05_x-7_y-130', '3470_maxcc_0.05_x-7_y-131', '3471_maxcc_0.05_x-7_y-132', '3472_maxcc_0.05_x-7_y-133', '3473_maxcc_0.05_x-7_y-134', '3474_maxcc_0.05_x-7_y-135', '3475_maxcc_0.05_x-7_y-136', '3476_maxcc_0.05_x-7_y-137', '3477_maxcc_0.05_x-7_y-138', '3478_maxcc_0.05_x-7_y-139', '3479_maxcc_0.05_x-7_y-140']\n"
     ]
    },
    {
     "data": {
      "application/vnd.jupyter.widget-view+json": {
       "model_id": "a770dc15e4c047b5a2bf9bf57a992431",
       "version_major": 2,
       "version_minor": 0
      },
      "text/plain": [
       "HBox(children=(IntProgress(value=0, max=11), HTML(value='')))"
      ]
     },
     "metadata": {},
     "output_type": "display_data"
    },
    {
     "name": "stdout",
     "output_type": "stream",
     "text": [
      "\n",
      "Processing EOPatches from: ('2014-05-01', '2014-10-31')\n",
      "Reading EOPatches from: ../../data/EOPatches/LANDSAT_8/UPE_PROMICE/UTM_22N/2014_05-2014_10/\n",
      "Doing now following eopatches: ['2969_maxcc_0.05_x-3_y-130', '2970_maxcc_0.05_x-3_y-131', '2971_maxcc_0.05_x-3_y-132', '2972_maxcc_0.05_x-3_y-133', '2973_maxcc_0.05_x-3_y-134', '2974_maxcc_0.05_x-3_y-135', '2975_maxcc_0.05_x-3_y-136', '2976_maxcc_0.05_x-3_y-137', '2977_maxcc_0.05_x-3_y-138', '2978_maxcc_0.05_x-3_y-139', '2979_maxcc_0.05_x-3_y-140']\n"
     ]
    },
    {
     "data": {
      "application/vnd.jupyter.widget-view+json": {
       "model_id": "697795454c404b29b1f58e21ad303a1a",
       "version_major": 2,
       "version_minor": 0
      },
      "text/plain": [
       "HBox(children=(IntProgress(value=0, max=9), HTML(value='')))"
      ]
     },
     "metadata": {},
     "output_type": "display_data"
    },
    {
     "name": "stdout",
     "output_type": "stream",
     "text": [
      "\n",
      "Doing now following eopatches: ['3059_maxcc_0.05_x-4_y-130', '3060_maxcc_0.05_x-4_y-131', '3061_maxcc_0.05_x-4_y-132', '3062_maxcc_0.05_x-4_y-133', '3063_maxcc_0.05_x-4_y-134', '3064_maxcc_0.05_x-4_y-135', '3065_maxcc_0.05_x-4_y-136', '3066_maxcc_0.05_x-4_y-137', '3067_maxcc_0.05_x-4_y-138', '3068_maxcc_0.05_x-4_y-139', '3069_maxcc_0.05_x-4_y-140']\n"
     ]
    },
    {
     "data": {
      "application/vnd.jupyter.widget-view+json": {
       "model_id": "0e09b7aeeb4a46ceb252e6854ad75be2",
       "version_major": 2,
       "version_minor": 0
      },
      "text/plain": [
       "HBox(children=(IntProgress(value=0, max=9), HTML(value='')))"
      ]
     },
     "metadata": {},
     "output_type": "display_data"
    },
    {
     "name": "stdout",
     "output_type": "stream",
     "text": [
      "\n",
      "Doing now following eopatches: ['3172_maxcc_0.05_x-5_y-130', '3173_maxcc_0.05_x-5_y-131', '3174_maxcc_0.05_x-5_y-132', '3175_maxcc_0.05_x-5_y-133', '3176_maxcc_0.05_x-5_y-134', '3177_maxcc_0.05_x-5_y-135', '3178_maxcc_0.05_x-5_y-136', '3179_maxcc_0.05_x-5_y-137', '3180_maxcc_0.05_x-5_y-138', '3181_maxcc_0.05_x-5_y-139', '3182_maxcc_0.05_x-5_y-140']\n"
     ]
    },
    {
     "data": {
      "application/vnd.jupyter.widget-view+json": {
       "model_id": "e6da5934786a43278ad7bcd615e9d99a",
       "version_major": 2,
       "version_minor": 0
      },
      "text/plain": [
       "HBox(children=(IntProgress(value=0, max=10), HTML(value='')))"
      ]
     },
     "metadata": {},
     "output_type": "display_data"
    },
    {
     "name": "stdout",
     "output_type": "stream",
     "text": [
      "\n",
      "Doing now following eopatches: ['3306_maxcc_0.05_x-6_y-130', '3307_maxcc_0.05_x-6_y-131', '3308_maxcc_0.05_x-6_y-132', '3309_maxcc_0.05_x-6_y-133', '3310_maxcc_0.05_x-6_y-134', '3311_maxcc_0.05_x-6_y-135', '3312_maxcc_0.05_x-6_y-136', '3313_maxcc_0.05_x-6_y-137', '3314_maxcc_0.05_x-6_y-138', '3315_maxcc_0.05_x-6_y-139', '3316_maxcc_0.05_x-6_y-140']\n"
     ]
    },
    {
     "data": {
      "application/vnd.jupyter.widget-view+json": {
       "model_id": "d08646d41f914f819abbc525de9025e3",
       "version_major": 2,
       "version_minor": 0
      },
      "text/plain": [
       "HBox(children=(IntProgress(value=0, max=11), HTML(value='')))"
      ]
     },
     "metadata": {},
     "output_type": "display_data"
    },
    {
     "name": "stdout",
     "output_type": "stream",
     "text": [
      "\n",
      "Doing now following eopatches: ['3469_maxcc_0.05_x-7_y-130', '3470_maxcc_0.05_x-7_y-131', '3471_maxcc_0.05_x-7_y-132', '3472_maxcc_0.05_x-7_y-133', '3473_maxcc_0.05_x-7_y-134', '3474_maxcc_0.05_x-7_y-135', '3475_maxcc_0.05_x-7_y-136', '3476_maxcc_0.05_x-7_y-137', '3477_maxcc_0.05_x-7_y-138', '3478_maxcc_0.05_x-7_y-139', '3479_maxcc_0.05_x-7_y-140']\n"
     ]
    },
    {
     "data": {
      "application/vnd.jupyter.widget-view+json": {
       "model_id": "218efebc0c03433eb6e1ebbceb5d6a90",
       "version_major": 2,
       "version_minor": 0
      },
      "text/plain": [
       "HBox(children=(IntProgress(value=0, max=11), HTML(value='')))"
      ]
     },
     "metadata": {},
     "output_type": "display_data"
    },
    {
     "name": "stdout",
     "output_type": "stream",
     "text": [
      "\n",
      "Processing EOPatches from: ('2015-05-01', '2015-10-31')\n",
      "Reading EOPatches from: ../../data/EOPatches/LANDSAT_8/UPE_PROMICE/UTM_22N/2015_05-2015_10/\n",
      "Doing now following eopatches: ['2969_maxcc_0.05_x-3_y-130', '2970_maxcc_0.05_x-3_y-131', '2971_maxcc_0.05_x-3_y-132', '2972_maxcc_0.05_x-3_y-133', '2973_maxcc_0.05_x-3_y-134', '2974_maxcc_0.05_x-3_y-135', '2975_maxcc_0.05_x-3_y-136', '2976_maxcc_0.05_x-3_y-137', '2977_maxcc_0.05_x-3_y-138', '2978_maxcc_0.05_x-3_y-139', '2979_maxcc_0.05_x-3_y-140']\n"
     ]
    },
    {
     "data": {
      "application/vnd.jupyter.widget-view+json": {
       "model_id": "d5f1c0e0d21a430fa50b7fff35262a4e",
       "version_major": 2,
       "version_minor": 0
      },
      "text/plain": [
       "HBox(children=(IntProgress(value=0, max=9), HTML(value='')))"
      ]
     },
     "metadata": {},
     "output_type": "display_data"
    },
    {
     "name": "stdout",
     "output_type": "stream",
     "text": [
      "\n",
      "Doing now following eopatches: ['3059_maxcc_0.05_x-4_y-130', '3060_maxcc_0.05_x-4_y-131', '3061_maxcc_0.05_x-4_y-132', '3062_maxcc_0.05_x-4_y-133', '3063_maxcc_0.05_x-4_y-134', '3064_maxcc_0.05_x-4_y-135', '3065_maxcc_0.05_x-4_y-136', '3066_maxcc_0.05_x-4_y-137', '3067_maxcc_0.05_x-4_y-138', '3068_maxcc_0.05_x-4_y-139', '3069_maxcc_0.05_x-4_y-140']\n"
     ]
    },
    {
     "data": {
      "application/vnd.jupyter.widget-view+json": {
       "model_id": "88ee1f21f2a448fa80fa82b62e4efd6a",
       "version_major": 2,
       "version_minor": 0
      },
      "text/plain": [
       "HBox(children=(IntProgress(value=0, max=9), HTML(value='')))"
      ]
     },
     "metadata": {},
     "output_type": "display_data"
    },
    {
     "name": "stdout",
     "output_type": "stream",
     "text": [
      "\n",
      "Doing now following eopatches: ['3172_maxcc_0.05_x-5_y-130', '3173_maxcc_0.05_x-5_y-131', '3174_maxcc_0.05_x-5_y-132', '3175_maxcc_0.05_x-5_y-133', '3176_maxcc_0.05_x-5_y-134', '3177_maxcc_0.05_x-5_y-135', '3178_maxcc_0.05_x-5_y-136', '3179_maxcc_0.05_x-5_y-137', '3180_maxcc_0.05_x-5_y-138', '3181_maxcc_0.05_x-5_y-139', '3182_maxcc_0.05_x-5_y-140']\n"
     ]
    },
    {
     "data": {
      "application/vnd.jupyter.widget-view+json": {
       "model_id": "01bec53ceb4242d19d2e93886843fe59",
       "version_major": 2,
       "version_minor": 0
      },
      "text/plain": [
       "HBox(children=(IntProgress(value=0, max=10), HTML(value='')))"
      ]
     },
     "metadata": {},
     "output_type": "display_data"
    },
    {
     "name": "stdout",
     "output_type": "stream",
     "text": [
      "\n",
      "Doing now following eopatches: ['3306_maxcc_0.05_x-6_y-130', '3307_maxcc_0.05_x-6_y-131', '3308_maxcc_0.05_x-6_y-132', '3309_maxcc_0.05_x-6_y-133', '3310_maxcc_0.05_x-6_y-134', '3311_maxcc_0.05_x-6_y-135', '3312_maxcc_0.05_x-6_y-136', '3313_maxcc_0.05_x-6_y-137', '3314_maxcc_0.05_x-6_y-138', '3315_maxcc_0.05_x-6_y-139', '3316_maxcc_0.05_x-6_y-140']\n"
     ]
    },
    {
     "data": {
      "application/vnd.jupyter.widget-view+json": {
       "model_id": "3db5320a2d2a4addbd5fa26b7756a68a",
       "version_major": 2,
       "version_minor": 0
      },
      "text/plain": [
       "HBox(children=(IntProgress(value=0, max=11), HTML(value='')))"
      ]
     },
     "metadata": {},
     "output_type": "display_data"
    },
    {
     "name": "stdout",
     "output_type": "stream",
     "text": [
      "\n",
      "Doing now following eopatches: ['3469_maxcc_0.05_x-7_y-130', '3470_maxcc_0.05_x-7_y-131', '3471_maxcc_0.05_x-7_y-132', '3472_maxcc_0.05_x-7_y-133', '3473_maxcc_0.05_x-7_y-134', '3474_maxcc_0.05_x-7_y-135', '3475_maxcc_0.05_x-7_y-136', '3476_maxcc_0.05_x-7_y-137', '3477_maxcc_0.05_x-7_y-138', '3478_maxcc_0.05_x-7_y-139', '3479_maxcc_0.05_x-7_y-140']\n"
     ]
    },
    {
     "data": {
      "application/vnd.jupyter.widget-view+json": {
       "model_id": "50e1644b7a9a4639a6826d5b495aafbd",
       "version_major": 2,
       "version_minor": 0
      },
      "text/plain": [
       "HBox(children=(IntProgress(value=0, max=11), HTML(value='')))"
      ]
     },
     "metadata": {},
     "output_type": "display_data"
    },
    {
     "name": "stdout",
     "output_type": "stream",
     "text": [
      "\n",
      "Processing EOPatches from: ('2016-05-01', '2016-10-31')\n",
      "Reading EOPatches from: ../../data/EOPatches/LANDSAT_8/UPE_PROMICE/UTM_22N/2016_05-2016_10/\n",
      "Doing now following eopatches: ['2969_maxcc_0.05_x-3_y-130', '2970_maxcc_0.05_x-3_y-131', '2971_maxcc_0.05_x-3_y-132', '2972_maxcc_0.05_x-3_y-133', '2974_maxcc_0.05_x-3_y-135', '2975_maxcc_0.05_x-3_y-136', '2976_maxcc_0.05_x-3_y-137', '2977_maxcc_0.05_x-3_y-138', '2978_maxcc_0.05_x-3_y-139', '2979_maxcc_0.05_x-3_y-140']\n"
     ]
    },
    {
     "data": {
      "application/vnd.jupyter.widget-view+json": {
       "model_id": "67b1abc889aa49ccacfeeec79af9f4e8",
       "version_major": 2,
       "version_minor": 0
      },
      "text/plain": [
       "HBox(children=(IntProgress(value=0, max=8), HTML(value='')))"
      ]
     },
     "metadata": {},
     "output_type": "display_data"
    },
    {
     "name": "stdout",
     "output_type": "stream",
     "text": [
      "\n",
      "Doing now following eopatches: ['3059_maxcc_0.05_x-4_y-130', '3060_maxcc_0.05_x-4_y-131', '3061_maxcc_0.05_x-4_y-132', '3062_maxcc_0.05_x-4_y-133', '3063_maxcc_0.05_x-4_y-134', '3064_maxcc_0.05_x-4_y-135', '3065_maxcc_0.05_x-4_y-136', '3066_maxcc_0.05_x-4_y-137', '3067_maxcc_0.05_x-4_y-138', '3068_maxcc_0.05_x-4_y-139', '3069_maxcc_0.05_x-4_y-140']\n",
      "OS error: Not a gzipped file (b'\\x00\\x00')\n",
      "while trying to load:  ../../data/EOPatches/LANDSAT_8/UPE_PROMICE/UTM_22N/2016_05-2016_10/3066_maxcc_0.05_x-4_y-137\n",
      "OS error: Not a gzipped file (b'\\x00\\x00')\n",
      "while trying to load:  ../../data/EOPatches/LANDSAT_8/UPE_PROMICE/UTM_22N/2016_05-2016_10/3067_maxcc_0.05_x-4_y-138\n"
     ]
    },
    {
     "data": {
      "application/vnd.jupyter.widget-view+json": {
       "model_id": "01ec8a3d217147b1b4739b9582f0ef2c",
       "version_major": 2,
       "version_minor": 0
      },
      "text/plain": [
       "HBox(children=(IntProgress(value=0, max=7), HTML(value='')))"
      ]
     },
     "metadata": {},
     "output_type": "display_data"
    },
    {
     "name": "stdout",
     "output_type": "stream",
     "text": [
      "\n",
      "Doing now following eopatches: ['3172_maxcc_0.05_x-5_y-130', '3173_maxcc_0.05_x-5_y-131', '3174_maxcc_0.05_x-5_y-132', '3175_maxcc_0.05_x-5_y-133', '3176_maxcc_0.05_x-5_y-134', '3177_maxcc_0.05_x-5_y-135', '3178_maxcc_0.05_x-5_y-136', '3179_maxcc_0.05_x-5_y-137', '3180_maxcc_0.05_x-5_y-138', '3181_maxcc_0.05_x-5_y-139', '3182_maxcc_0.05_x-5_y-140']\n"
     ]
    },
    {
     "data": {
      "application/vnd.jupyter.widget-view+json": {
       "model_id": "5323f37321f74baa9748b1f4d06c00e8",
       "version_major": 2,
       "version_minor": 0
      },
      "text/plain": [
       "HBox(children=(IntProgress(value=0, max=10), HTML(value='')))"
      ]
     },
     "metadata": {},
     "output_type": "display_data"
    },
    {
     "name": "stdout",
     "output_type": "stream",
     "text": [
      "\n",
      "Doing now following eopatches: ['3306_maxcc_0.05_x-6_y-130', '3307_maxcc_0.05_x-6_y-131', '3308_maxcc_0.05_x-6_y-132', '3309_maxcc_0.05_x-6_y-133', '3310_maxcc_0.05_x-6_y-134', '3311_maxcc_0.05_x-6_y-135', '3312_maxcc_0.05_x-6_y-136', '3313_maxcc_0.05_x-6_y-137', '3314_maxcc_0.05_x-6_y-138', '3315_maxcc_0.05_x-6_y-139', '3316_maxcc_0.05_x-6_y-140']\n"
     ]
    },
    {
     "data": {
      "application/vnd.jupyter.widget-view+json": {
       "model_id": "d2676152be7d4aaea6bc964a9dd2e0f5",
       "version_major": 2,
       "version_minor": 0
      },
      "text/plain": [
       "HBox(children=(IntProgress(value=0, max=11), HTML(value='')))"
      ]
     },
     "metadata": {},
     "output_type": "display_data"
    },
    {
     "name": "stdout",
     "output_type": "stream",
     "text": [
      "\n",
      "Doing now following eopatches: ['3469_maxcc_0.05_x-7_y-130', '3470_maxcc_0.05_x-7_y-131', '3471_maxcc_0.05_x-7_y-132', '3472_maxcc_0.05_x-7_y-133', '3473_maxcc_0.05_x-7_y-134', '3474_maxcc_0.05_x-7_y-135', '3475_maxcc_0.05_x-7_y-136', '3476_maxcc_0.05_x-7_y-137', '3477_maxcc_0.05_x-7_y-138', '3478_maxcc_0.05_x-7_y-139', '3479_maxcc_0.05_x-7_y-140']\n"
     ]
    },
    {
     "data": {
      "application/vnd.jupyter.widget-view+json": {
       "model_id": "e510e2cf88724b4e94e9ceecad0071ad",
       "version_major": 2,
       "version_minor": 0
      },
      "text/plain": [
       "HBox(children=(IntProgress(value=0, max=11), HTML(value='')))"
      ]
     },
     "metadata": {},
     "output_type": "display_data"
    },
    {
     "name": "stdout",
     "output_type": "stream",
     "text": [
      "\n",
      "Processing EOPatches from: ('2017-05-01', '2017-10-31')\n",
      "Reading EOPatches from: ../../data/EOPatches/LANDSAT_8/UPE_PROMICE/UTM_22N/2017_05-2017_10/\n",
      "Doing now following eopatches: ['2969_maxcc_0.05_x-3_y-130', '2970_maxcc_0.05_x-3_y-131', '2971_maxcc_0.05_x-3_y-132', '2972_maxcc_0.05_x-3_y-133', '2973_maxcc_0.05_x-3_y-134', '2974_maxcc_0.05_x-3_y-135', '2975_maxcc_0.05_x-3_y-136', '2976_maxcc_0.05_x-3_y-137', '2977_maxcc_0.05_x-3_y-138', '2978_maxcc_0.05_x-3_y-139', '2979_maxcc_0.05_x-3_y-140']\n"
     ]
    },
    {
     "data": {
      "application/vnd.jupyter.widget-view+json": {
       "model_id": "788ee67c7af2416c8b920ba6aca819bc",
       "version_major": 2,
       "version_minor": 0
      },
      "text/plain": [
       "HBox(children=(IntProgress(value=0, max=9), HTML(value='')))"
      ]
     },
     "metadata": {},
     "output_type": "display_data"
    },
    {
     "name": "stdout",
     "output_type": "stream",
     "text": [
      "\n",
      "Doing now following eopatches: ['3059_maxcc_0.05_x-4_y-130', '3060_maxcc_0.05_x-4_y-131', '3061_maxcc_0.05_x-4_y-132', '3062_maxcc_0.05_x-4_y-133', '3063_maxcc_0.05_x-4_y-134', '3064_maxcc_0.05_x-4_y-135', '3065_maxcc_0.05_x-4_y-136', '3066_maxcc_0.05_x-4_y-137', '3067_maxcc_0.05_x-4_y-138', '3068_maxcc_0.05_x-4_y-139', '3069_maxcc_0.05_x-4_y-140']\n"
     ]
    },
    {
     "data": {
      "application/vnd.jupyter.widget-view+json": {
       "model_id": "025dd7f030da4793b545c8a3b67d449a",
       "version_major": 2,
       "version_minor": 0
      },
      "text/plain": [
       "HBox(children=(IntProgress(value=0, max=9), HTML(value='')))"
      ]
     },
     "metadata": {},
     "output_type": "display_data"
    },
    {
     "name": "stdout",
     "output_type": "stream",
     "text": [
      "\n",
      "Doing now following eopatches: ['3172_maxcc_0.05_x-5_y-130', '3173_maxcc_0.05_x-5_y-131', '3174_maxcc_0.05_x-5_y-132', '3175_maxcc_0.05_x-5_y-133', '3176_maxcc_0.05_x-5_y-134', '3177_maxcc_0.05_x-5_y-135', '3178_maxcc_0.05_x-5_y-136', '3179_maxcc_0.05_x-5_y-137', '3180_maxcc_0.05_x-5_y-138', '3181_maxcc_0.05_x-5_y-139', '3182_maxcc_0.05_x-5_y-140']\n"
     ]
    },
    {
     "data": {
      "application/vnd.jupyter.widget-view+json": {
       "model_id": "3a882cff4cbe43e8ae1db67834f1a0f6",
       "version_major": 2,
       "version_minor": 0
      },
      "text/plain": [
       "HBox(children=(IntProgress(value=0, max=10), HTML(value='')))"
      ]
     },
     "metadata": {},
     "output_type": "display_data"
    },
    {
     "name": "stdout",
     "output_type": "stream",
     "text": [
      "\n",
      "Doing now following eopatches: ['3306_maxcc_0.05_x-6_y-130', '3307_maxcc_0.05_x-6_y-131', '3308_maxcc_0.05_x-6_y-132', '3309_maxcc_0.05_x-6_y-133', '3310_maxcc_0.05_x-6_y-134', '3311_maxcc_0.05_x-6_y-135', '3312_maxcc_0.05_x-6_y-136', '3313_maxcc_0.05_x-6_y-137', '3314_maxcc_0.05_x-6_y-138', '3315_maxcc_0.05_x-6_y-139', '3316_maxcc_0.05_x-6_y-140']\n"
     ]
    },
    {
     "data": {
      "application/vnd.jupyter.widget-view+json": {
       "model_id": "92a910cec4694bb0b4537790d691dd18",
       "version_major": 2,
       "version_minor": 0
      },
      "text/plain": [
       "HBox(children=(IntProgress(value=0, max=11), HTML(value='')))"
      ]
     },
     "metadata": {},
     "output_type": "display_data"
    },
    {
     "name": "stdout",
     "output_type": "stream",
     "text": [
      "\n",
      "Doing now following eopatches: ['3469_maxcc_0.05_x-7_y-130', '3470_maxcc_0.05_x-7_y-131', '3471_maxcc_0.05_x-7_y-132', '3472_maxcc_0.05_x-7_y-133', '3473_maxcc_0.05_x-7_y-134', '3474_maxcc_0.05_x-7_y-135', '3475_maxcc_0.05_x-7_y-136', '3476_maxcc_0.05_x-7_y-137', '3477_maxcc_0.05_x-7_y-138', '3478_maxcc_0.05_x-7_y-139', '3479_maxcc_0.05_x-7_y-140']\n"
     ]
    },
    {
     "data": {
      "application/vnd.jupyter.widget-view+json": {
       "model_id": "fe852402486e414da9496558d980ce59",
       "version_major": 2,
       "version_minor": 0
      },
      "text/plain": [
       "HBox(children=(IntProgress(value=0, max=11), HTML(value='')))"
      ]
     },
     "metadata": {},
     "output_type": "display_data"
    },
    {
     "name": "stdout",
     "output_type": "stream",
     "text": [
      "\n",
      "Processing EOPatches from: ('2018-05-01', '2018-10-31')\n",
      "Reading EOPatches from: ../../data/EOPatches/LANDSAT_8/UPE_PROMICE/UTM_22N/2018_05-2018_10/\n",
      "Doing now following eopatches: ['2969_maxcc_0.05_x-3_y-130', '2970_maxcc_0.05_x-3_y-131', '2971_maxcc_0.05_x-3_y-132', '2972_maxcc_0.05_x-3_y-133', '2973_maxcc_0.05_x-3_y-134', '2974_maxcc_0.05_x-3_y-135', '2975_maxcc_0.05_x-3_y-136', '2976_maxcc_0.05_x-3_y-137', '2977_maxcc_0.05_x-3_y-138', '2978_maxcc_0.05_x-3_y-139', '2979_maxcc_0.05_x-3_y-140']\n"
     ]
    },
    {
     "data": {
      "application/vnd.jupyter.widget-view+json": {
       "model_id": "03ce240ecf6840ba8be4ed5ce2633ec6",
       "version_major": 2,
       "version_minor": 0
      },
      "text/plain": [
       "HBox(children=(IntProgress(value=0, max=9), HTML(value='')))"
      ]
     },
     "metadata": {},
     "output_type": "display_data"
    },
    {
     "name": "stdout",
     "output_type": "stream",
     "text": [
      "\n",
      "Doing now following eopatches: ['3059_maxcc_0.05_x-4_y-130', '3060_maxcc_0.05_x-4_y-131', '3061_maxcc_0.05_x-4_y-132', '3062_maxcc_0.05_x-4_y-133', '3063_maxcc_0.05_x-4_y-134', '3064_maxcc_0.05_x-4_y-135', '3065_maxcc_0.05_x-4_y-136', '3066_maxcc_0.05_x-4_y-137', '3067_maxcc_0.05_x-4_y-138', '3068_maxcc_0.05_x-4_y-139', '3069_maxcc_0.05_x-4_y-140']\n"
     ]
    },
    {
     "data": {
      "application/vnd.jupyter.widget-view+json": {
       "model_id": "671eac0ec2204874a7742788d13b58fc",
       "version_major": 2,
       "version_minor": 0
      },
      "text/plain": [
       "HBox(children=(IntProgress(value=0, max=9), HTML(value='')))"
      ]
     },
     "metadata": {},
     "output_type": "display_data"
    },
    {
     "name": "stdout",
     "output_type": "stream",
     "text": [
      "\n",
      "Doing now following eopatches: ['3172_maxcc_0.05_x-5_y-130', '3173_maxcc_0.05_x-5_y-131', '3174_maxcc_0.05_x-5_y-132', '3175_maxcc_0.05_x-5_y-133', '3176_maxcc_0.05_x-5_y-134', '3177_maxcc_0.05_x-5_y-135', '3178_maxcc_0.05_x-5_y-136', '3179_maxcc_0.05_x-5_y-137', '3180_maxcc_0.05_x-5_y-138', '3181_maxcc_0.05_x-5_y-139', '3182_maxcc_0.05_x-5_y-140']\n"
     ]
    },
    {
     "data": {
      "application/vnd.jupyter.widget-view+json": {
       "model_id": "d453ebdee6294d7896752147d144521f",
       "version_major": 2,
       "version_minor": 0
      },
      "text/plain": [
       "HBox(children=(IntProgress(value=0, max=10), HTML(value='')))"
      ]
     },
     "metadata": {},
     "output_type": "display_data"
    },
    {
     "name": "stdout",
     "output_type": "stream",
     "text": [
      "\n",
      "Doing now following eopatches: ['3306_maxcc_0.05_x-6_y-130', '3307_maxcc_0.05_x-6_y-131', '3308_maxcc_0.05_x-6_y-132', '3309_maxcc_0.05_x-6_y-133', '3310_maxcc_0.05_x-6_y-134', '3311_maxcc_0.05_x-6_y-135', '3312_maxcc_0.05_x-6_y-136', '3313_maxcc_0.05_x-6_y-137', '3314_maxcc_0.05_x-6_y-138', '3315_maxcc_0.05_x-6_y-139', '3316_maxcc_0.05_x-6_y-140']\n"
     ]
    },
    {
     "data": {
      "application/vnd.jupyter.widget-view+json": {
       "model_id": "b1cce68777c54c7fa6dc56a820636135",
       "version_major": 2,
       "version_minor": 0
      },
      "text/plain": [
       "HBox(children=(IntProgress(value=0, max=11), HTML(value='')))"
      ]
     },
     "metadata": {},
     "output_type": "display_data"
    },
    {
     "name": "stdout",
     "output_type": "stream",
     "text": [
      "\n",
      "Doing now following eopatches: ['3469_maxcc_0.05_x-7_y-130', '3470_maxcc_0.05_x-7_y-131', '3471_maxcc_0.05_x-7_y-132', '3472_maxcc_0.05_x-7_y-133', '3473_maxcc_0.05_x-7_y-134', '3474_maxcc_0.05_x-7_y-135', '3475_maxcc_0.05_x-7_y-136', '3476_maxcc_0.05_x-7_y-137', '3477_maxcc_0.05_x-7_y-138', '3478_maxcc_0.05_x-7_y-139', '3479_maxcc_0.05_x-7_y-140']\n"
     ]
    },
    {
     "data": {
      "application/vnd.jupyter.widget-view+json": {
       "model_id": "5a6498823fcb4bbb8551f62ed811cce2",
       "version_major": 2,
       "version_minor": 0
      },
      "text/plain": [
       "HBox(children=(IntProgress(value=0, max=11), HTML(value='')))"
      ]
     },
     "metadata": {},
     "output_type": "display_data"
    },
    {
     "name": "stdout",
     "output_type": "stream",
     "text": [
      "\n",
      "Processing EOPatches from: ('2019-05-01', '2019-10-31')\n",
      "Reading EOPatches from: ../../data/EOPatches/LANDSAT_8/UPE_PROMICE/UTM_22N/2019_05-2019_10/\n",
      "Doing now following eopatches: ['2969_maxcc_0.05_x-3_y-130', '2970_maxcc_0.05_x-3_y-131', '2971_maxcc_0.05_x-3_y-132', '2972_maxcc_0.05_x-3_y-133', '2973_maxcc_0.05_x-3_y-134', '2974_maxcc_0.05_x-3_y-135', '2975_maxcc_0.05_x-3_y-136', '2976_maxcc_0.05_x-3_y-137', '2977_maxcc_0.05_x-3_y-138', '2978_maxcc_0.05_x-3_y-139', '2979_maxcc_0.05_x-3_y-140']\n"
     ]
    },
    {
     "data": {
      "application/vnd.jupyter.widget-view+json": {
       "model_id": "45eac59809c84192abfca8abaf17cea4",
       "version_major": 2,
       "version_minor": 0
      },
      "text/plain": [
       "HBox(children=(IntProgress(value=0, max=9), HTML(value='')))"
      ]
     },
     "metadata": {},
     "output_type": "display_data"
    },
    {
     "name": "stdout",
     "output_type": "stream",
     "text": [
      "\n",
      "Doing now following eopatches: ['3059_maxcc_0.05_x-4_y-130', '3060_maxcc_0.05_x-4_y-131', '3061_maxcc_0.05_x-4_y-132', '3062_maxcc_0.05_x-4_y-133', '3063_maxcc_0.05_x-4_y-134', '3064_maxcc_0.05_x-4_y-135', '3065_maxcc_0.05_x-4_y-136', '3066_maxcc_0.05_x-4_y-137', '3067_maxcc_0.05_x-4_y-138', '3068_maxcc_0.05_x-4_y-139', '3069_maxcc_0.05_x-4_y-140']\n"
     ]
    },
    {
     "data": {
      "application/vnd.jupyter.widget-view+json": {
       "model_id": "f27fbd6329b74819b6df200f5e0cc6fb",
       "version_major": 2,
       "version_minor": 0
      },
      "text/plain": [
       "HBox(children=(IntProgress(value=0, max=9), HTML(value='')))"
      ]
     },
     "metadata": {},
     "output_type": "display_data"
    },
    {
     "name": "stdout",
     "output_type": "stream",
     "text": [
      "\n",
      "Doing now following eopatches: ['3172_maxcc_0.05_x-5_y-130', '3173_maxcc_0.05_x-5_y-131', '3174_maxcc_0.05_x-5_y-132', '3175_maxcc_0.05_x-5_y-133', '3176_maxcc_0.05_x-5_y-134', '3177_maxcc_0.05_x-5_y-135', '3178_maxcc_0.05_x-5_y-136', '3179_maxcc_0.05_x-5_y-137', '3180_maxcc_0.05_x-5_y-138', '3181_maxcc_0.05_x-5_y-139', '3182_maxcc_0.05_x-5_y-140']\n"
     ]
    },
    {
     "data": {
      "application/vnd.jupyter.widget-view+json": {
       "model_id": "5a5914efcd154af4992e45767e2aa1eb",
       "version_major": 2,
       "version_minor": 0
      },
      "text/plain": [
       "HBox(children=(IntProgress(value=0, max=10), HTML(value='')))"
      ]
     },
     "metadata": {},
     "output_type": "display_data"
    },
    {
     "name": "stdout",
     "output_type": "stream",
     "text": [
      "\n",
      "Doing now following eopatches: ['3306_maxcc_0.05_x-6_y-130', '3307_maxcc_0.05_x-6_y-131', '3308_maxcc_0.05_x-6_y-132', '3309_maxcc_0.05_x-6_y-133', '3310_maxcc_0.05_x-6_y-134', '3311_maxcc_0.05_x-6_y-135', '3312_maxcc_0.05_x-6_y-136', '3313_maxcc_0.05_x-6_y-137', '3314_maxcc_0.05_x-6_y-138', '3315_maxcc_0.05_x-6_y-139', '3316_maxcc_0.05_x-6_y-140']\n"
     ]
    },
    {
     "data": {
      "application/vnd.jupyter.widget-view+json": {
       "model_id": "2ea03fec730746c1895424b3f79ddf00",
       "version_major": 2,
       "version_minor": 0
      },
      "text/plain": [
       "HBox(children=(IntProgress(value=0, max=11), HTML(value='')))"
      ]
     },
     "metadata": {},
     "output_type": "display_data"
    },
    {
     "name": "stdout",
     "output_type": "stream",
     "text": [
      "\n",
      "Doing now following eopatches: ['3469_maxcc_0.05_x-7_y-130', '3470_maxcc_0.05_x-7_y-131', '3471_maxcc_0.05_x-7_y-132', '3472_maxcc_0.05_x-7_y-133', '3473_maxcc_0.05_x-7_y-134', '3474_maxcc_0.05_x-7_y-135', '3475_maxcc_0.05_x-7_y-136', '3476_maxcc_0.05_x-7_y-137', '3477_maxcc_0.05_x-7_y-138', '3478_maxcc_0.05_x-7_y-139', '3479_maxcc_0.05_x-7_y-140']\n"
     ]
    },
    {
     "data": {
      "application/vnd.jupyter.widget-view+json": {
       "model_id": "39b9b9a3096d4525a73fb4cc60ab669d",
       "version_major": 2,
       "version_minor": 0
      },
      "text/plain": [
       "HBox(children=(IntProgress(value=0, max=11), HTML(value='')))"
      ]
     },
     "metadata": {},
     "output_type": "display_data"
    },
    {
     "name": "stdout",
     "output_type": "stream",
     "text": [
      "\n",
      "Wall time: 49min 3s\n"
     ]
    }
   ],
   "source": [
    "%%time\n",
    "\n",
    "for date_range in site.DATE_RANGES_LANDSAT_8:\n",
    "    print('Processing EOPatches from:', date_range )\n",
    "    eopatches_filepath = io_utils.get_eopatches_dir(site.DATA_PRODUCTS[1], site.SITE_NAME, site.AVAILABLE_CRSs[0], date_range)\n",
    "    print('Reading EOPatches from:', eopatches_filepath )\n",
    "    # TASK TO LOAD AND SAVE EXISTING EOPATCHES HAS TO BE CREATED YEARLY (different directories)\n",
    "    load_eotask = LoadTask(eopatches_filepath)\n",
    "    \n",
    "    path_out_sampled = eopatches_filepath[:-1]+ dataset_file_name\n",
    "    if not os.path.isdir(path_out_sampled):\n",
    "        os.makedirs(path_out_sampled)\n",
    "    save_eotask = SaveTask(path_out_sampled, overwrite_permission=OverwritePermission.OVERWRITE_PATCH, compress_level=1)\n",
    "    \n",
    "    #save_eotask = SaveTask(eopatches_filepath, overwrite_permission=OverwritePermission.OVERWRITE_PATCH, compress_level=1)\n",
    "    \n",
    "    \n",
    "    # Define the workflow\n",
    "    workflow = LinearWorkflow(\n",
    "    load_eotask,\n",
    "    filter_ultimate_mask_eotask,\n",
    "    filter_by_minimum_water_count_eotask,\n",
    "    spatial_sampling_eotask,\n",
    "    save_eotask\n",
    "    )\n",
    "    \n",
    "    list_of_available_patches = io_utils.get_list_of_eopatches(eopatches_filepath)\n",
    "    list_in_chunks = io_utils.chunkIt(list_of_available_patches, 5 )\n",
    "    for chunk in list_in_chunks:\n",
    "        print('Doing now following eopatches:', chunk )\n",
    "        execution_args = []\n",
    "        for eopatch_name in chunk:\n",
    "            try: \n",
    "                eo_patch_test = EOPatch.load(eopatches_filepath+eopatch_name)\n",
    "            except OSError as err:\n",
    "                print(\"OS error: {0}\".format(err)) \n",
    "                print(\"while trying to load:  {0}\".format(eopatches_filepath+eopatch_name)) \n",
    "                continue\n",
    "            # eo_patch based filter to get rif of eopatches with high variance in digital elevation model\n",
    "            # first we would have to calculation hillshade to exlcude the shades from te pictures\n",
    "            # threshold 125 was selected based on the distribution of std\n",
    "            if eo_patch_test.meta_info['DEM_RAW_STD'] > dem_std_threshold:\n",
    "                continue\n",
    "                \n",
    "            execution_args.append({\n",
    "            load_eotask: {'eopatch_folder': eopatch_name},\n",
    "            save_eotask: {'eopatch_folder': eopatch_name}\n",
    "            })\n",
    "                                     \n",
    "        executor = EOExecutor(workflow, execution_args, save_logs=True)\n",
    "        executor.run(workers=None, multiprocess=False)\n",
    "        executor.make_report()"
   ]
  },
  {
   "cell_type": "markdown",
   "metadata": {},
   "source": [
    "#### 4. Inspect data\n",
    "load eopatch and check how does it look like"
   ]
  },
  {
   "cell_type": "code",
   "execution_count": 18,
   "metadata": {},
   "outputs": [
    {
     "name": "stdout",
     "output_type": "stream",
     "text": [
      "../../data/EOPatches/LANDSAT_8/UPE_PROMICE/UTM_22N/2019_05-2019_10_sptl_smpl_20000_pr_patch_blanced_only_wat_1_min_wat_50/\n"
     ]
    },
    {
     "data": {
      "text/plain": [
       "EOPatch(\n",
       "  data: {\n",
       "    DATASET_CLD_200_dil_6_str2_SAMPLED: numpy.ndarray(shape=(1, 20000, 1, 11), dtype=float32)\n",
       "  }\n",
       "  mask: {\n",
       "    WATER_MASK_ST_025_SAMPLED: numpy.ndarray(shape=(1, 20000, 1, 1), dtype=bool)\n",
       "  }\n",
       "  scalar: {}\n",
       "  label: {}\n",
       "  vector: {}\n",
       "  data_timeless: {}\n",
       "  mask_timeless: {}\n",
       "  scalar_timeless: {}\n",
       "  label_timeless: {}\n",
       "  vector_timeless: {}\n",
       "  meta_info: {\n",
       "    DEM_RAW_AVG: 1668.2764\n",
       "    DEM_RAW_MAX: 1792.0\n",
       "    DEM_RAW_MED: 1670.0\n",
       "    DEM_RAW_MIN: 1461.0\n",
       "    DEM_RAW_STD: 74.915634\n",
       "    DEM_RAW_VAR: 5612.3525\n",
       "    index_x: 7\n",
       "    index_y: 130\n",
       "    maxcc: '0.05'\n",
       "    patch_index: 3469\n",
       "    service_type: 'wcs'\n",
       "    site_name: 'UPE_PROMICE'\n",
       "    size_x: '30m'\n",
       "    size_y: '30m'\n",
       "    time_difference: datetime.timedelta(seconds=7200)\n",
       "    time_interval: ('2019-05-01', '2019-10-31')\n",
       "  }\n",
       "  bbox: BBox(((440000.0, 8030000.0), (450000.0, 8040000.0)), crs=EPSG:32622)\n",
       "  timestamp: [datetime.datetime(2019, 8, 3, 15, 42, 44)]\n",
       ")"
      ]
     },
     "execution_count": 18,
     "metadata": {},
     "output_type": "execute_result"
    }
   ],
   "source": [
    "file_patch = path_out_sampled\n",
    "print(file_patch)\n",
    "\n",
    "exemplary_landsat_1 = EOPatch.load(file_patch+'3469_maxcc_0.05_x-7_y-130')\n",
    "exemplary_landsat_1"
   ]
  },
  {
   "cell_type": "code",
   "execution_count": 40,
   "metadata": {},
   "outputs": [
    {
     "name": "stdout",
     "output_type": "stream",
     "text": [
      "../../data/EOPatches/LANDSAT_8/UPE_PROMICE/UTM_22N/2019_05-2019_10_sptl_smpl_25k_pr_pic_ref_1_2_min_wat_25\n"
     ]
    }
   ],
   "source": [
    "print(path_out_sampled )"
   ]
  },
  {
   "cell_type": "code",
   "execution_count": null,
   "metadata": {},
   "outputs": [],
   "source": []
  }
 ],
 "metadata": {
  "kernelspec": {
   "display_name": "Python 3",
   "language": "python",
   "name": "python3"
  },
  "language_info": {
   "codemirror_mode": {
    "name": "ipython",
    "version": 3
   },
   "file_extension": ".py",
   "mimetype": "text/x-python",
   "name": "python",
   "nbconvert_exporter": "python",
   "pygments_lexer": "ipython3",
   "version": "3.7.3"
  }
 },
 "nbformat": 4,
 "nbformat_minor": 2
}
