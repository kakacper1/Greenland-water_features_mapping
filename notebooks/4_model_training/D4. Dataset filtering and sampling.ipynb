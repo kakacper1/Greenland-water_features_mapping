{
 "cells": [
  {
   "cell_type": "markdown",
   "metadata": {},
   "source": [
    "## D4. Dataset filtering and sampling"
   ]
  },
  {
   "cell_type": "markdown",
   "metadata": {},
   "source": [
    "#### 0. Load required libraries, site dependant constants and utility functions."
   ]
  },
  {
   "cell_type": "code",
   "execution_count": 84,
   "metadata": {},
   "outputs": [],
   "source": [
    "import os\n",
    "from os import listdir\n",
    "from os.path import isfile, join\n",
    "import numpy as np\n",
    "import seaborn as sns\n",
    "import datetime\n",
    "from os import listdir\n",
    "from os.path import isfile, join\n",
    "\n",
    "# EOLearn libraries:\n",
    "from eolearn.core import EOTask, EOPatch, LinearWorkflow, LoadTask, SaveTask, FeatureType, EOExecutor\n",
    "from eolearn.core import OverwritePermission\n",
    "from eolearn.features.feature_manipulation import SimpleFilterTask\n",
    "from eolearn.geometry.sampling import PointSamplingTask\n",
    "\n",
    "# Add to python path parent dictionary\n",
    "import sys\n",
    "sys.path.append(\"../../\")\n",
    "\n",
    "# load site dependant constants (HERE YOU CAN CHOOSE DIFFERENT LOCATION)\n",
    "from aoi_sites import upe_promice_area as site\n",
    "\n",
    "# load utility functions\n",
    "from utils import io_functions as io_utils\n",
    "from utils import plot_functions as plot_utils"
   ]
  },
  {
   "cell_type": "markdown",
   "metadata": {},
   "source": [
    "#### 1. Define  EOTASKs"
   ]
  },
  {
   "cell_type": "code",
   "execution_count": 85,
   "metadata": {},
   "outputs": [],
   "source": [
    "\"\"\" Predicate that defines if a frame from EOPatch's time-series is valid or not.\n",
    "Frame is valid, if the valid mask fraction is below the specified threshold.\"\"\"    \n",
    "\n",
    "class InvalidDataFractionPredicate:\n",
    "    def __init__(self, threshold):\n",
    "        self.threshold = threshold\n",
    "        \n",
    "    def __call__(self, array):\n",
    "        mask_coverage = np.sum(array.astype(np.uint8)) / np.prod(array.shape)\n",
    "        return mask_coverage < self.threshold\n",
    "    \n",
    "\"\"\" Predicate that defines if a frame from EOPatch's time-series is valid or not.\n",
    "Frame is valid, if minimum extracted water feature exceeds the specified threshold.\"\"\"    \n",
    "\n",
    "class MinimumWaterFeaturePredicate:\n",
    "    def __init__(self, minimum_water_feature_count = 139 ): # 139 bc it is same what 0,125 km2\n",
    "        self.minimum_water_feature_count = minimum_water_feature_count\n",
    "        \n",
    "    def __call__(self, array):\n",
    "        cur_patch_water_feature_count = np.sum(array.astype(np.uint8))\n",
    "        return self.minimum_water_feature_count <= cur_patch_water_feature_count    \n"
   ]
  },
  {
   "cell_type": "markdown",
   "metadata": {},
   "source": [
    "#### History:\n",
    "1. min wat - 5 , sam 100 - 8% of water\n",
    "2. min wat- 5 , sam 200 - 8% of water\n",
    "3. min wat- 5 , sam 20000 - 8% of water\n",
    "4. min wat- 25 , sam 20000"
   ]
  },
  {
   "cell_type": "code",
   "execution_count": 86,
   "metadata": {},
   "outputs": [],
   "source": [
    "# Defire filter eo_tasks,\n",
    "min_wat_threshold = 25\n",
    "max_cld_threshold = 0.01\n",
    "dem_std_threshold = 125\n",
    "n_samples = 20000 # no. of pixels to sample   50 000 / 110 224 = 0.45362171577 , every second pixel will be taken into account\n",
    "dataset_file_name = '_sptl_smpl_20000_pr_patch_blanced_0_1_min_wat_25/'\n",
    "# Define what kind of feature are going to be used:\n",
    "ref_labels = list(range(0,2)) # reference labels to take into account when sampling - \n",
    "                            # -1 - never to take - frame mask,  0 - never considered as water, 1, considered once or more\n",
    "\n",
    "invalid_data_predicate = InvalidDataFractionPredicate(max_cld_threshold)\n",
    "filter_ultimate_mask_eotask = SimpleFilterTask((FeatureType.MASK, 'INVALID_DATA_MASK_CLD_150_STR2-IS_LDS-IS_MDS'), invalid_data_predicate)\n",
    "\n",
    "minimum_water_predicate  = MinimumWaterFeaturePredicate(min_wat_threshold)\n",
    "filter_by_minimum_water_count_eotask = SimpleFilterTask((FeatureType.MASK, 'WATER_MASK_ST_025'), minimum_water_predicate)"
   ]
  },
  {
   "cell_type": "code",
   "execution_count": 87,
   "metadata": {},
   "outputs": [
    {
     "name": "stdout",
     "output_type": "stream",
     "text": [
      "Loaded from ../../data/EOPatches/LANDSAT_8/UPE_PROMICE/UTM_22N/2013_05-2013_10/3069_maxcc_0.05_x-4_y-140\n"
     ]
    },
    {
     "data": {
      "text/plain": [
       "EOPatch(\n",
       "  data: {\n",
       "    DATASET_CLD_200_dil_6_str2: numpy.ndarray(shape=(7, 333, 333, 11), dtype=float32)\n",
       "    LANDSAT_EUC_NORM_RAW_BANDS: numpy.ndarray(shape=(7, 333, 333, 1), dtype=float32)\n",
       "    LANDSAT_NDWI: numpy.ndarray(shape=(7, 333, 333, 1), dtype=float32)\n",
       "    LANDSAT_NDWI_GREEN_NIR: numpy.ndarray(shape=(7, 333, 333, 1), dtype=float32)\n",
       "    LANDSAT_NDWI_ICE: numpy.ndarray(shape=(7, 333, 333, 1), dtype=float32)\n",
       "    LANDSAT_NDWI_NIR_SWIR_1: numpy.ndarray(shape=(7, 333, 333, 1), dtype=float32)\n",
       "    LANDSAT_NDWI_NIR_SWIR_2: numpy.ndarray(shape=(7, 333, 333, 1), dtype=float32)\n",
       "    LANDSAT_QA_LAYERS: numpy.ndarray(shape=(7, 333, 333, 5), dtype=float32)\n",
       "    LANDSAT_RAW_BANDS: numpy.ndarray(shape=(7, 333, 333, 11), dtype=float32)\n",
       "    MODIS_EUC_NORM_RAW_BANDS: numpy.ndarray(shape=(7, 333, 333, 1), dtype=float32)\n",
       "    MODIS_NDWI: numpy.ndarray(shape=(7, 333, 333, 1), dtype=float32)\n",
       "    MODIS_NRB: numpy.ndarray(shape=(7, 333, 333, 1), dtype=float32)\n",
       "    MODIS_RAW_BANDS_DAY_0: numpy.ndarray(shape=(7, 333, 333, 7), dtype=float32)\n",
       "    MODIS_RAW_BANDS_DAY_AFTER: numpy.ndarray(shape=(7, 333, 333, 7), dtype=float32)\n",
       "    MODIS_RAW_BANDS_DAY_BEFORE: numpy.ndarray(shape=(7, 333, 333, 7), dtype=float32)\n",
       "  }\n",
       "  mask: {\n",
       "    CLOUD_MASK_SWIR-1_090: numpy.ndarray(shape=(7, 333, 333, 1), dtype=bool)\n",
       "    CLOUD_MASK_SWIR-1_100: numpy.ndarray(shape=(7, 333, 333, 1), dtype=bool)\n",
       "    CLOUD_MASK_SWIR-1_100_dil_6_str1: numpy.ndarray(shape=(7, 333, 333, 1), dtype=bool)\n",
       "    CLOUD_MASK_SWIR-1_100_dil_6_str2: numpy.ndarray(shape=(7, 333, 333, 1), dtype=bool)\n",
       "    CLOUD_MASK_SWIR-1_150: numpy.ndarray(shape=(7, 333, 333, 1), dtype=bool)\n",
       "    CLOUD_MASK_SWIR-1_150_dil_6_str1: numpy.ndarray(shape=(7, 333, 333, 1), dtype=bool)\n",
       "    CLOUD_MASK_SWIR-1_150_dil_6_str2: numpy.ndarray(shape=(7, 333, 333, 1), dtype=bool)\n",
       "    CLOUD_MASK_SWIR-1_200: numpy.ndarray(shape=(7, 333, 333, 1), dtype=bool)\n",
       "    CLOUD_MASK_SWIR-1_200_dil_6_str1: numpy.ndarray(shape=(7, 333, 333, 1), dtype=bool)\n",
       "    CLOUD_MASK_SWIR-1_200_dil_6_str2: numpy.ndarray(shape=(7, 333, 333, 1), dtype=bool)\n",
       "    CLOUD_MASK_SWIR-1_300: numpy.ndarray(shape=(7, 333, 333, 1), dtype=bool)\n",
       "    CLOUD_MASK_SWIR-1_300_dil_10_str2: numpy.ndarray(shape=(7, 333, 333, 1), dtype=bool)\n",
       "    CLOUD_MASK_SWIR-1_300_dil_6_str1: numpy.ndarray(shape=(7, 333, 333, 1), dtype=bool)\n",
       "    CLOUD_MASK_SWIR-1_300_dil_6_str2: numpy.ndarray(shape=(7, 333, 333, 1), dtype=bool)\n",
       "    INVALID_DATA_MASK_CLD_150_STR1-IS_LDS-IS_MDS: numpy.ndarray(shape=(7, 333, 333, 1), dtype=bool)\n",
       "    INVALID_DATA_MASK_CLD_150_STR2-IS_LDS-IS_MDS: numpy.ndarray(shape=(7, 333, 333, 1), dtype=bool)\n",
       "    INVALID_DATA_MASK_CLD_200_STR2-IS_LDS-IS_MDS: numpy.ndarray(shape=(7, 333, 333, 1), dtype=bool)\n",
       "    IS_DATA: numpy.ndarray(shape=(7, 333, 333, 1), dtype=bool)\n",
       "    MODIS_IS_DATA_DAY_0: numpy.ndarray(shape=(7, 333, 333, 1), dtype=bool)\n",
       "    MODIS_IS_DATA_DAY_AFTER: numpy.ndarray(shape=(7, 333, 333, 1), dtype=bool)\n",
       "    MODIS_IS_DATA_DAY_BEFORE: numpy.ndarray(shape=(7, 333, 333, 1), dtype=bool)\n",
       "    WATER_MASK_ICE_ST_010: numpy.ndarray(shape=(7, 333, 333, 1), dtype=bool)\n",
       "    WATER_MASK_ICE_ST_015: numpy.ndarray(shape=(7, 333, 333, 1), dtype=bool)\n",
       "    WATER_MASK_ICE_ST_020: numpy.ndarray(shape=(7, 333, 333, 1), dtype=bool)\n",
       "    WATER_MASK_ICE_ST_025: numpy.ndarray(shape=(7, 333, 333, 1), dtype=bool)\n",
       "    WATER_MASK_ICE_ST_030: numpy.ndarray(shape=(7, 333, 333, 1), dtype=bool)\n",
       "    WATER_MASK_ST_010: numpy.ndarray(shape=(7, 333, 333, 1), dtype=bool)\n",
       "    WATER_MASK_ST_015: numpy.ndarray(shape=(7, 333, 333, 1), dtype=bool)\n",
       "    WATER_MASK_ST_020: numpy.ndarray(shape=(7, 333, 333, 1), dtype=bool)\n",
       "    WATER_MASK_ST_025: numpy.ndarray(shape=(7, 333, 333, 1), dtype=bool)\n",
       "    WATER_MASK_ST_030: numpy.ndarray(shape=(7, 333, 333, 1), dtype=bool)\n",
       "  }\n",
       "  scalar: {}\n",
       "  label: {}\n",
       "  vector: {}\n",
       "  data_timeless: {\n",
       "    DEM_RAW_LAYER: numpy.ndarray(shape=(333, 333, 1), dtype=float32)\n",
       "    DEM_SLOPE_LAYER: numpy.ndarray(shape=(333, 333, 1), dtype=float32)\n",
       "  }\n",
       "  mask_timeless: {\n",
       "    CLOUD_MASK_SWIR-1_150_dil_6_str2_COUNT: numpy.ndarray(shape=(333, 333, 1), dtype=int64)\n",
       "    DEM_SLOPE_MASK: numpy.ndarray(shape=(333, 333, 1), dtype=bool)\n",
       "    IS_DATA_COUNT: numpy.ndarray(shape=(333, 333, 1), dtype=int64)\n",
       "    LANDSAT_QA_CIRRUS_COUNT: numpy.ndarray(shape=(333, 333, 1), dtype=int64)\n",
       "    LANDSAT_QA_CLOUDS_SHADOW_COUNT: numpy.ndarray(shape=(333, 333, 1), dtype=int64)\n",
       "    LANDSAT_QA_CLOUD_AND_AROUND_COUNT: numpy.ndarray(shape=(333, 333, 1), dtype=int64)\n",
       "    LANDSAT_QA_CLOUD_COUNT: numpy.ndarray(shape=(333, 333, 1), dtype=int64)\n",
       "    LANDSAT_QA_SNOW_ICE_COUNT: numpy.ndarray(shape=(333, 333, 1), dtype=int64)\n",
       "    MODIS_IS_DATA_DAY_0_COUNT: numpy.ndarray(shape=(333, 333, 1), dtype=int64)\n",
       "    WATER_MASK_ST_025_COUNT: numpy.ndarray(shape=(333, 333, 1), dtype=int64)\n",
       "    WATER_MASK_ST_025_COUNT_FR_1: numpy.ndarray(shape=(333, 333, 1), dtype=int32)\n",
       "    WATER_MASK_ST_025_FR_1_MAPPED_1: numpy.ndarray(shape=(333, 333, 1), dtype=int32)\n",
       "    WATER_MASK_ST_025_FR_1_MAPPED_2: numpy.ndarray(shape=(333, 333, 1), dtype=int32)\n",
       "    WATER_MASK_ST_025_FR_1_MAPPED_3: numpy.ndarray(shape=(333, 333, 1), dtype=int32)\n",
       "    WATER_MASK_ST_025_FR_1_MAPPED_4: numpy.ndarray(shape=(333, 333, 1), dtype=int32)\n",
       "    WATER_MASK_ST_025_FR_1_MAPPED_5: numpy.ndarray(shape=(333, 333, 1), dtype=int32)\n",
       "  }\n",
       "  scalar_timeless: {\n",
       "    COVERAGE_CLD_150_STR1-IS_LDS-IS_MDS: numpy.ndarray(shape=(7,), dtype=float64)\n",
       "    COVERAGE_CLD_150_STR2-IS_LDS-IS_MDS: numpy.ndarray(shape=(7,), dtype=float64)\n",
       "    COVERAGE_CLD_200_STR2-IS_LDS-IS_MDS: numpy.ndarray(shape=(7,), dtype=float64)\n",
       "    WATER_MASK_ICE_ST_025_COVERAGE: numpy.ndarray(shape=(7,), dtype=uint32)\n",
       "    WATER_MASK_ST_010_COVERAGE: numpy.ndarray(shape=(7,), dtype=uint32)\n",
       "    WATER_MASK_ST_025_COVERAGE: numpy.ndarray(shape=(7,), dtype=uint32)\n",
       "  }\n",
       "  label_timeless: {}\n",
       "  vector_timeless: {}\n",
       "  meta_info: {\n",
       "    DEM_RAW_AVG: 1200.0557\n",
       "    DEM_RAW_MAX: 1303.0\n",
       "    DEM_RAW_MED: 1200.0\n",
       "    DEM_RAW_MIN: 1089.0\n",
       "    DEM_RAW_STD: 39.861797\n",
       "    DEM_RAW_VAR: 1588.9629\n",
       "    index_x: 4\n",
       "    index_y: 140\n",
       "    maxcc: '0.05'\n",
       "    patch_index: 3069\n",
       "    service_type: 'wcs'\n",
       "    site_name: 'UPE_PROMICE'\n",
       "    size_x: '30m'\n",
       "    size_y: '30m'\n",
       "    time_difference: datetime.timedelta(seconds=7200)\n",
       "    time_interval: ('2013-05-01', '2013-10-31')\n",
       "  }\n",
       "  bbox: BBox(((410000.0, 8130000.0), (420000.0, 8140000.0)), crs=EPSG:32622)\n",
       "  timestamp: [datetime.datetime(2013, 5, 23, 15, 38, 32), ..., datetime.datetime(2013, 10, 7, 15, 32, 12)], length=7\n",
       ")"
      ]
     },
     "execution_count": 87,
     "metadata": {},
     "output_type": "execute_result"
    }
   ],
   "source": [
    "eo_patch = io_utils.load_exemplary_eopatch(date_range = site.DATE_RANGES_LANDSAT_8[0], patch_id=6, random_choice=True)\n",
    "eo_patch"
   ]
  },
  {
   "cell_type": "code",
   "execution_count": 88,
   "metadata": {},
   "outputs": [
    {
     "data": {
      "text/plain": [
       "array([  0, 223,   0,   0,   0,   0,   0], dtype=uint32)"
      ]
     },
     "execution_count": 88,
     "metadata": {},
     "output_type": "execute_result"
    }
   ],
   "source": [
    "eo_patch.scalar_timeless['WATER_MASK_ST_025_COVERAGE']"
   ]
  },
  {
   "cell_type": "code",
   "execution_count": 89,
   "metadata": {},
   "outputs": [
    {
     "data": {
      "text/plain": [
       "EOPatch(\n",
       "  data: {\n",
       "    DATASET_CLD_200_dil_6_str2: numpy.ndarray(shape=(1, 333, 333, 11), dtype=float32)\n",
       "    LANDSAT_EUC_NORM_RAW_BANDS: numpy.ndarray(shape=(1, 333, 333, 1), dtype=float32)\n",
       "    LANDSAT_NDWI: numpy.ndarray(shape=(1, 333, 333, 1), dtype=float32)\n",
       "    LANDSAT_NDWI_GREEN_NIR: numpy.ndarray(shape=(1, 333, 333, 1), dtype=float32)\n",
       "    LANDSAT_NDWI_ICE: numpy.ndarray(shape=(1, 333, 333, 1), dtype=float32)\n",
       "    LANDSAT_NDWI_NIR_SWIR_1: numpy.ndarray(shape=(1, 333, 333, 1), dtype=float32)\n",
       "    LANDSAT_NDWI_NIR_SWIR_2: numpy.ndarray(shape=(1, 333, 333, 1), dtype=float32)\n",
       "    LANDSAT_QA_LAYERS: numpy.ndarray(shape=(1, 333, 333, 5), dtype=float32)\n",
       "    LANDSAT_RAW_BANDS: numpy.ndarray(shape=(1, 333, 333, 11), dtype=float32)\n",
       "    MODIS_EUC_NORM_RAW_BANDS: numpy.ndarray(shape=(1, 333, 333, 1), dtype=float32)\n",
       "    MODIS_NDWI: numpy.ndarray(shape=(1, 333, 333, 1), dtype=float32)\n",
       "    MODIS_NRB: numpy.ndarray(shape=(1, 333, 333, 1), dtype=float32)\n",
       "    MODIS_RAW_BANDS_DAY_0: numpy.ndarray(shape=(1, 333, 333, 7), dtype=float32)\n",
       "    MODIS_RAW_BANDS_DAY_AFTER: numpy.ndarray(shape=(1, 333, 333, 7), dtype=float32)\n",
       "    MODIS_RAW_BANDS_DAY_BEFORE: numpy.ndarray(shape=(1, 333, 333, 7), dtype=float32)\n",
       "  }\n",
       "  mask: {\n",
       "    CLOUD_MASK_SWIR-1_090: numpy.ndarray(shape=(1, 333, 333, 1), dtype=bool)\n",
       "    CLOUD_MASK_SWIR-1_100: numpy.ndarray(shape=(1, 333, 333, 1), dtype=bool)\n",
       "    CLOUD_MASK_SWIR-1_100_dil_6_str1: numpy.ndarray(shape=(1, 333, 333, 1), dtype=bool)\n",
       "    CLOUD_MASK_SWIR-1_100_dil_6_str2: numpy.ndarray(shape=(1, 333, 333, 1), dtype=bool)\n",
       "    CLOUD_MASK_SWIR-1_150: numpy.ndarray(shape=(1, 333, 333, 1), dtype=bool)\n",
       "    CLOUD_MASK_SWIR-1_150_dil_6_str1: numpy.ndarray(shape=(1, 333, 333, 1), dtype=bool)\n",
       "    CLOUD_MASK_SWIR-1_150_dil_6_str2: numpy.ndarray(shape=(1, 333, 333, 1), dtype=bool)\n",
       "    CLOUD_MASK_SWIR-1_200: numpy.ndarray(shape=(1, 333, 333, 1), dtype=bool)\n",
       "    CLOUD_MASK_SWIR-1_200_dil_6_str1: numpy.ndarray(shape=(1, 333, 333, 1), dtype=bool)\n",
       "    CLOUD_MASK_SWIR-1_200_dil_6_str2: numpy.ndarray(shape=(1, 333, 333, 1), dtype=bool)\n",
       "    CLOUD_MASK_SWIR-1_300: numpy.ndarray(shape=(1, 333, 333, 1), dtype=bool)\n",
       "    CLOUD_MASK_SWIR-1_300_dil_10_str2: numpy.ndarray(shape=(1, 333, 333, 1), dtype=bool)\n",
       "    CLOUD_MASK_SWIR-1_300_dil_6_str1: numpy.ndarray(shape=(1, 333, 333, 1), dtype=bool)\n",
       "    CLOUD_MASK_SWIR-1_300_dil_6_str2: numpy.ndarray(shape=(1, 333, 333, 1), dtype=bool)\n",
       "    INVALID_DATA_MASK_CLD_150_STR1-IS_LDS-IS_MDS: numpy.ndarray(shape=(1, 333, 333, 1), dtype=bool)\n",
       "    INVALID_DATA_MASK_CLD_150_STR2-IS_LDS-IS_MDS: numpy.ndarray(shape=(1, 333, 333, 1), dtype=bool)\n",
       "    INVALID_DATA_MASK_CLD_200_STR2-IS_LDS-IS_MDS: numpy.ndarray(shape=(1, 333, 333, 1), dtype=bool)\n",
       "    IS_DATA: numpy.ndarray(shape=(1, 333, 333, 1), dtype=bool)\n",
       "    MODIS_IS_DATA_DAY_0: numpy.ndarray(shape=(1, 333, 333, 1), dtype=bool)\n",
       "    MODIS_IS_DATA_DAY_AFTER: numpy.ndarray(shape=(1, 333, 333, 1), dtype=bool)\n",
       "    MODIS_IS_DATA_DAY_BEFORE: numpy.ndarray(shape=(1, 333, 333, 1), dtype=bool)\n",
       "    WATER_MASK_ICE_ST_010: numpy.ndarray(shape=(1, 333, 333, 1), dtype=bool)\n",
       "    WATER_MASK_ICE_ST_015: numpy.ndarray(shape=(1, 333, 333, 1), dtype=bool)\n",
       "    WATER_MASK_ICE_ST_020: numpy.ndarray(shape=(1, 333, 333, 1), dtype=bool)\n",
       "    WATER_MASK_ICE_ST_025: numpy.ndarray(shape=(1, 333, 333, 1), dtype=bool)\n",
       "    WATER_MASK_ICE_ST_030: numpy.ndarray(shape=(1, 333, 333, 1), dtype=bool)\n",
       "    WATER_MASK_ST_010: numpy.ndarray(shape=(1, 333, 333, 1), dtype=bool)\n",
       "    WATER_MASK_ST_015: numpy.ndarray(shape=(1, 333, 333, 1), dtype=bool)\n",
       "    WATER_MASK_ST_020: numpy.ndarray(shape=(1, 333, 333, 1), dtype=bool)\n",
       "    WATER_MASK_ST_025: numpy.ndarray(shape=(1, 333, 333, 1), dtype=bool)\n",
       "    WATER_MASK_ST_030: numpy.ndarray(shape=(1, 333, 333, 1), dtype=bool)\n",
       "  }\n",
       "  scalar: {}\n",
       "  label: {}\n",
       "  vector: {}\n",
       "  data_timeless: {\n",
       "    DEM_RAW_LAYER: numpy.ndarray(shape=(333, 333, 1), dtype=float32)\n",
       "    DEM_SLOPE_LAYER: numpy.ndarray(shape=(333, 333, 1), dtype=float32)\n",
       "  }\n",
       "  mask_timeless: {\n",
       "    CLOUD_MASK_SWIR-1_150_dil_6_str2_COUNT: numpy.ndarray(shape=(333, 333, 1), dtype=int64)\n",
       "    DEM_SLOPE_MASK: numpy.ndarray(shape=(333, 333, 1), dtype=bool)\n",
       "    IS_DATA_COUNT: numpy.ndarray(shape=(333, 333, 1), dtype=int64)\n",
       "    LANDSAT_QA_CIRRUS_COUNT: numpy.ndarray(shape=(333, 333, 1), dtype=int64)\n",
       "    LANDSAT_QA_CLOUDS_SHADOW_COUNT: numpy.ndarray(shape=(333, 333, 1), dtype=int64)\n",
       "    LANDSAT_QA_CLOUD_AND_AROUND_COUNT: numpy.ndarray(shape=(333, 333, 1), dtype=int64)\n",
       "    LANDSAT_QA_CLOUD_COUNT: numpy.ndarray(shape=(333, 333, 1), dtype=int64)\n",
       "    LANDSAT_QA_SNOW_ICE_COUNT: numpy.ndarray(shape=(333, 333, 1), dtype=int64)\n",
       "    MODIS_IS_DATA_DAY_0_COUNT: numpy.ndarray(shape=(333, 333, 1), dtype=int64)\n",
       "    WATER_MASK_ST_025_COUNT: numpy.ndarray(shape=(333, 333, 1), dtype=int64)\n",
       "    WATER_MASK_ST_025_COUNT_FR_1: numpy.ndarray(shape=(333, 333, 1), dtype=int32)\n",
       "    WATER_MASK_ST_025_FR_1_MAPPED_1: numpy.ndarray(shape=(333, 333, 1), dtype=int32)\n",
       "    WATER_MASK_ST_025_FR_1_MAPPED_2: numpy.ndarray(shape=(333, 333, 1), dtype=int32)\n",
       "    WATER_MASK_ST_025_FR_1_MAPPED_3: numpy.ndarray(shape=(333, 333, 1), dtype=int32)\n",
       "    WATER_MASK_ST_025_FR_1_MAPPED_4: numpy.ndarray(shape=(333, 333, 1), dtype=int32)\n",
       "    WATER_MASK_ST_025_FR_1_MAPPED_5: numpy.ndarray(shape=(333, 333, 1), dtype=int32)\n",
       "  }\n",
       "  scalar_timeless: {\n",
       "    COVERAGE_CLD_150_STR1-IS_LDS-IS_MDS: numpy.ndarray(shape=(7,), dtype=float64)\n",
       "    COVERAGE_CLD_150_STR2-IS_LDS-IS_MDS: numpy.ndarray(shape=(7,), dtype=float64)\n",
       "    COVERAGE_CLD_200_STR2-IS_LDS-IS_MDS: numpy.ndarray(shape=(7,), dtype=float64)\n",
       "    WATER_MASK_ICE_ST_025_COVERAGE: numpy.ndarray(shape=(7,), dtype=uint32)\n",
       "    WATER_MASK_ST_010_COVERAGE: numpy.ndarray(shape=(7,), dtype=uint32)\n",
       "    WATER_MASK_ST_025_COVERAGE: numpy.ndarray(shape=(7,), dtype=uint32)\n",
       "  }\n",
       "  label_timeless: {}\n",
       "  vector_timeless: {}\n",
       "  meta_info: {\n",
       "    DEM_RAW_AVG: 1200.0557\n",
       "    DEM_RAW_MAX: 1303.0\n",
       "    DEM_RAW_MED: 1200.0\n",
       "    DEM_RAW_MIN: 1089.0\n",
       "    DEM_RAW_STD: 39.861797\n",
       "    DEM_RAW_VAR: 1588.9629\n",
       "    index_x: 4\n",
       "    index_y: 140\n",
       "    maxcc: '0.05'\n",
       "    patch_index: 3069\n",
       "    service_type: 'wcs'\n",
       "    site_name: 'UPE_PROMICE'\n",
       "    size_x: '30m'\n",
       "    size_y: '30m'\n",
       "    time_difference: datetime.timedelta(seconds=7200)\n",
       "    time_interval: ('2013-05-01', '2013-10-31')\n",
       "  }\n",
       "  bbox: BBox(((410000.0, 8130000.0), (420000.0, 8140000.0)), crs=EPSG:32622)\n",
       "  timestamp: [datetime.datetime(2013, 8, 20, 15, 32, 20)]\n",
       ")"
      ]
     },
     "execution_count": 89,
     "metadata": {},
     "output_type": "execute_result"
    }
   ],
   "source": [
    "filter_by_minimum_water_count_eotask.execute(eo_patch)"
   ]
  },
  {
   "cell_type": "code",
   "execution_count": 90,
   "metadata": {},
   "outputs": [],
   "source": [
    "# TASK FOR SPATIAL SAMPLING\n",
    "# Uniformly sample about pixels from patches\n",
    "\n",
    "\n",
    "spatial_sampling_eotask = PointSamplingTask(\n",
    "    n_samples=n_samples, \n",
    "    ref_mask_feature='WATER_MASK_ST_025_FR_1_MAPPED_1', \n",
    "    ref_labels=ref_labels,\n",
    "    even_sampling=True,\n",
    "    return_new_eopatch=True,\n",
    "    sample_features=[  # tag fields to sample\n",
    "        (FeatureType.DATA, 'DATASET_CLD_200_dil_6_str2'),\n",
    "        (FeatureType.MASK, 'WATER_MASK_ST_025')\n",
    "    ])"
   ]
  },
  {
   "cell_type": "code",
   "execution_count": 91,
   "metadata": {},
   "outputs": [
    {
     "name": "stdout",
     "output_type": "stream",
     "text": [
      "Processing EOPatches from: ('2013-05-01', '2013-10-31')\n",
      "Reading EOPatches from: ../../data/EOPatches/LANDSAT_8/UPE_PROMICE/UTM_22N/2013_05-2013_10/\n",
      "Doing now following eopatches: ['2969_maxcc_0.05_x-3_y-130', '2970_maxcc_0.05_x-3_y-131', '2971_maxcc_0.05_x-3_y-132', '2972_maxcc_0.05_x-3_y-133', '2973_maxcc_0.05_x-3_y-134', '2974_maxcc_0.05_x-3_y-135', '2975_maxcc_0.05_x-3_y-136', '2976_maxcc_0.05_x-3_y-137', '2977_maxcc_0.05_x-3_y-138', '2978_maxcc_0.05_x-3_y-139', '2979_maxcc_0.05_x-3_y-140']\n"
     ]
    },
    {
     "data": {
      "application/vnd.jupyter.widget-view+json": {
       "model_id": "b0c514bf940b4efe8d300feab57b36c3",
       "version_major": 2,
       "version_minor": 0
      },
      "text/plain": [
       "HBox(children=(IntProgress(value=0, max=9), HTML(value='')))"
      ]
     },
     "metadata": {},
     "output_type": "display_data"
    },
    {
     "name": "stdout",
     "output_type": "stream",
     "text": [
      "\n",
      "Doing now following eopatches: ['3059_maxcc_0.05_x-4_y-130', '3060_maxcc_0.05_x-4_y-131', '3061_maxcc_0.05_x-4_y-132', '3062_maxcc_0.05_x-4_y-133', '3063_maxcc_0.05_x-4_y-134', '3064_maxcc_0.05_x-4_y-135', '3065_maxcc_0.05_x-4_y-136', '3066_maxcc_0.05_x-4_y-137', '3067_maxcc_0.05_x-4_y-138', '3068_maxcc_0.05_x-4_y-139', '3069_maxcc_0.05_x-4_y-140']\n"
     ]
    },
    {
     "data": {
      "application/vnd.jupyter.widget-view+json": {
       "model_id": "b020bb30e85b48e0ae308f699512a33e",
       "version_major": 2,
       "version_minor": 0
      },
      "text/plain": [
       "HBox(children=(IntProgress(value=0, max=9), HTML(value='')))"
      ]
     },
     "metadata": {},
     "output_type": "display_data"
    },
    {
     "name": "stdout",
     "output_type": "stream",
     "text": [
      "\n",
      "Doing now following eopatches: ['3172_maxcc_0.05_x-5_y-130', '3173_maxcc_0.05_x-5_y-131', '3174_maxcc_0.05_x-5_y-132', '3175_maxcc_0.05_x-5_y-133', '3176_maxcc_0.05_x-5_y-134', '3177_maxcc_0.05_x-5_y-135', '3178_maxcc_0.05_x-5_y-136', '3179_maxcc_0.05_x-5_y-137', '3180_maxcc_0.05_x-5_y-138', '3181_maxcc_0.05_x-5_y-139', '3182_maxcc_0.05_x-5_y-140']\n"
     ]
    },
    {
     "data": {
      "application/vnd.jupyter.widget-view+json": {
       "model_id": "2c75099a26a04327abd7847f86043a97",
       "version_major": 2,
       "version_minor": 0
      },
      "text/plain": [
       "HBox(children=(IntProgress(value=0, max=10), HTML(value='')))"
      ]
     },
     "metadata": {},
     "output_type": "display_data"
    },
    {
     "name": "stdout",
     "output_type": "stream",
     "text": [
      "\n",
      "Doing now following eopatches: ['3306_maxcc_0.05_x-6_y-130', '3307_maxcc_0.05_x-6_y-131', '3308_maxcc_0.05_x-6_y-132', '3309_maxcc_0.05_x-6_y-133', '3310_maxcc_0.05_x-6_y-134', '3311_maxcc_0.05_x-6_y-135', '3312_maxcc_0.05_x-6_y-136', '3313_maxcc_0.05_x-6_y-137', '3314_maxcc_0.05_x-6_y-138', '3315_maxcc_0.05_x-6_y-139', '3316_maxcc_0.05_x-6_y-140']\n"
     ]
    },
    {
     "data": {
      "application/vnd.jupyter.widget-view+json": {
       "model_id": "900ef5190e924b50aacb84d5c48d9ae5",
       "version_major": 2,
       "version_minor": 0
      },
      "text/plain": [
       "HBox(children=(IntProgress(value=0, max=11), HTML(value='')))"
      ]
     },
     "metadata": {},
     "output_type": "display_data"
    },
    {
     "name": "stdout",
     "output_type": "stream",
     "text": [
      "\n",
      "Doing now following eopatches: ['3469_maxcc_0.05_x-7_y-130', '3470_maxcc_0.05_x-7_y-131', '3471_maxcc_0.05_x-7_y-132', '3472_maxcc_0.05_x-7_y-133', '3473_maxcc_0.05_x-7_y-134', '3474_maxcc_0.05_x-7_y-135', '3475_maxcc_0.05_x-7_y-136', '3476_maxcc_0.05_x-7_y-137', '3477_maxcc_0.05_x-7_y-138', '3478_maxcc_0.05_x-7_y-139', '3479_maxcc_0.05_x-7_y-140']\n"
     ]
    },
    {
     "data": {
      "application/vnd.jupyter.widget-view+json": {
       "model_id": "76c0b56354e14d24a12840bdaa4927d7",
       "version_major": 2,
       "version_minor": 0
      },
      "text/plain": [
       "HBox(children=(IntProgress(value=0, max=11), HTML(value='')))"
      ]
     },
     "metadata": {},
     "output_type": "display_data"
    },
    {
     "name": "stdout",
     "output_type": "stream",
     "text": [
      "\n",
      "Processing EOPatches from: ('2014-05-01', '2014-10-31')\n",
      "Reading EOPatches from: ../../data/EOPatches/LANDSAT_8/UPE_PROMICE/UTM_22N/2014_05-2014_10/\n",
      "Doing now following eopatches: ['2969_maxcc_0.05_x-3_y-130', '2970_maxcc_0.05_x-3_y-131', '2971_maxcc_0.05_x-3_y-132', '2972_maxcc_0.05_x-3_y-133', '2973_maxcc_0.05_x-3_y-134', '2974_maxcc_0.05_x-3_y-135', '2975_maxcc_0.05_x-3_y-136', '2976_maxcc_0.05_x-3_y-137', '2977_maxcc_0.05_x-3_y-138', '2978_maxcc_0.05_x-3_y-139', '2979_maxcc_0.05_x-3_y-140']\n"
     ]
    },
    {
     "data": {
      "application/vnd.jupyter.widget-view+json": {
       "model_id": "4fa8f9f9192949549fc555cd1bb6e3c8",
       "version_major": 2,
       "version_minor": 0
      },
      "text/plain": [
       "HBox(children=(IntProgress(value=0, max=9), HTML(value='')))"
      ]
     },
     "metadata": {},
     "output_type": "display_data"
    },
    {
     "name": "stdout",
     "output_type": "stream",
     "text": [
      "\n",
      "Doing now following eopatches: ['3059_maxcc_0.05_x-4_y-130', '3060_maxcc_0.05_x-4_y-131', '3061_maxcc_0.05_x-4_y-132', '3062_maxcc_0.05_x-4_y-133', '3063_maxcc_0.05_x-4_y-134', '3064_maxcc_0.05_x-4_y-135', '3065_maxcc_0.05_x-4_y-136', '3066_maxcc_0.05_x-4_y-137', '3067_maxcc_0.05_x-4_y-138', '3068_maxcc_0.05_x-4_y-139', '3069_maxcc_0.05_x-4_y-140']\n"
     ]
    },
    {
     "data": {
      "application/vnd.jupyter.widget-view+json": {
       "model_id": "f1e893fffd26453daa1e69903d029962",
       "version_major": 2,
       "version_minor": 0
      },
      "text/plain": [
       "HBox(children=(IntProgress(value=0, max=9), HTML(value='')))"
      ]
     },
     "metadata": {},
     "output_type": "display_data"
    },
    {
     "name": "stdout",
     "output_type": "stream",
     "text": [
      "\n",
      "Doing now following eopatches: ['3172_maxcc_0.05_x-5_y-130', '3173_maxcc_0.05_x-5_y-131', '3174_maxcc_0.05_x-5_y-132', '3175_maxcc_0.05_x-5_y-133', '3176_maxcc_0.05_x-5_y-134', '3177_maxcc_0.05_x-5_y-135', '3178_maxcc_0.05_x-5_y-136', '3179_maxcc_0.05_x-5_y-137', '3180_maxcc_0.05_x-5_y-138', '3181_maxcc_0.05_x-5_y-139', '3182_maxcc_0.05_x-5_y-140']\n"
     ]
    },
    {
     "data": {
      "application/vnd.jupyter.widget-view+json": {
       "model_id": "b36c19a34fb548ff9d26e8896afa3d67",
       "version_major": 2,
       "version_minor": 0
      },
      "text/plain": [
       "HBox(children=(IntProgress(value=0, max=10), HTML(value='')))"
      ]
     },
     "metadata": {},
     "output_type": "display_data"
    },
    {
     "name": "stdout",
     "output_type": "stream",
     "text": [
      "\n",
      "Doing now following eopatches: ['3306_maxcc_0.05_x-6_y-130', '3307_maxcc_0.05_x-6_y-131', '3308_maxcc_0.05_x-6_y-132', '3309_maxcc_0.05_x-6_y-133', '3310_maxcc_0.05_x-6_y-134', '3311_maxcc_0.05_x-6_y-135', '3312_maxcc_0.05_x-6_y-136', '3313_maxcc_0.05_x-6_y-137', '3314_maxcc_0.05_x-6_y-138', '3315_maxcc_0.05_x-6_y-139', '3316_maxcc_0.05_x-6_y-140']\n"
     ]
    },
    {
     "data": {
      "application/vnd.jupyter.widget-view+json": {
       "model_id": "e2228b06e3ad43fb81c169486f94826d",
       "version_major": 2,
       "version_minor": 0
      },
      "text/plain": [
       "HBox(children=(IntProgress(value=0, max=11), HTML(value='')))"
      ]
     },
     "metadata": {},
     "output_type": "display_data"
    },
    {
     "name": "stdout",
     "output_type": "stream",
     "text": [
      "\n",
      "Doing now following eopatches: ['3469_maxcc_0.05_x-7_y-130', '3470_maxcc_0.05_x-7_y-131', '3471_maxcc_0.05_x-7_y-132', '3472_maxcc_0.05_x-7_y-133', '3473_maxcc_0.05_x-7_y-134', '3474_maxcc_0.05_x-7_y-135', '3475_maxcc_0.05_x-7_y-136', '3476_maxcc_0.05_x-7_y-137', '3477_maxcc_0.05_x-7_y-138', '3478_maxcc_0.05_x-7_y-139', '3479_maxcc_0.05_x-7_y-140']\n"
     ]
    },
    {
     "data": {
      "application/vnd.jupyter.widget-view+json": {
       "model_id": "c0bc2a63ed444cd8b889eaaf8903fa04",
       "version_major": 2,
       "version_minor": 0
      },
      "text/plain": [
       "HBox(children=(IntProgress(value=0, max=11), HTML(value='')))"
      ]
     },
     "metadata": {},
     "output_type": "display_data"
    },
    {
     "name": "stdout",
     "output_type": "stream",
     "text": [
      "\n",
      "Processing EOPatches from: ('2015-05-01', '2015-10-31')\n",
      "Reading EOPatches from: ../../data/EOPatches/LANDSAT_8/UPE_PROMICE/UTM_22N/2015_05-2015_10/\n",
      "Doing now following eopatches: ['2969_maxcc_0.05_x-3_y-130', '2970_maxcc_0.05_x-3_y-131', '2971_maxcc_0.05_x-3_y-132', '2972_maxcc_0.05_x-3_y-133', '2973_maxcc_0.05_x-3_y-134', '2974_maxcc_0.05_x-3_y-135', '2975_maxcc_0.05_x-3_y-136', '2976_maxcc_0.05_x-3_y-137', '2977_maxcc_0.05_x-3_y-138', '2978_maxcc_0.05_x-3_y-139', '2979_maxcc_0.05_x-3_y-140']\n"
     ]
    },
    {
     "data": {
      "application/vnd.jupyter.widget-view+json": {
       "model_id": "e498d8bff97646c18b94c4dbfce4e61d",
       "version_major": 2,
       "version_minor": 0
      },
      "text/plain": [
       "HBox(children=(IntProgress(value=0, max=9), HTML(value='')))"
      ]
     },
     "metadata": {},
     "output_type": "display_data"
    },
    {
     "name": "stdout",
     "output_type": "stream",
     "text": [
      "\n",
      "Doing now following eopatches: ['3059_maxcc_0.05_x-4_y-130', '3060_maxcc_0.05_x-4_y-131', '3061_maxcc_0.05_x-4_y-132', '3062_maxcc_0.05_x-4_y-133', '3063_maxcc_0.05_x-4_y-134', '3064_maxcc_0.05_x-4_y-135', '3065_maxcc_0.05_x-4_y-136', '3066_maxcc_0.05_x-4_y-137', '3067_maxcc_0.05_x-4_y-138', '3068_maxcc_0.05_x-4_y-139', '3069_maxcc_0.05_x-4_y-140']\n"
     ]
    },
    {
     "data": {
      "application/vnd.jupyter.widget-view+json": {
       "model_id": "3318f23d0f104a3583fac56c987cecbe",
       "version_major": 2,
       "version_minor": 0
      },
      "text/plain": [
       "HBox(children=(IntProgress(value=0, max=9), HTML(value='')))"
      ]
     },
     "metadata": {},
     "output_type": "display_data"
    },
    {
     "name": "stdout",
     "output_type": "stream",
     "text": [
      "\n",
      "Doing now following eopatches: ['3172_maxcc_0.05_x-5_y-130', '3173_maxcc_0.05_x-5_y-131', '3174_maxcc_0.05_x-5_y-132', '3175_maxcc_0.05_x-5_y-133', '3176_maxcc_0.05_x-5_y-134', '3177_maxcc_0.05_x-5_y-135', '3178_maxcc_0.05_x-5_y-136', '3179_maxcc_0.05_x-5_y-137', '3180_maxcc_0.05_x-5_y-138', '3181_maxcc_0.05_x-5_y-139', '3182_maxcc_0.05_x-5_y-140']\n"
     ]
    },
    {
     "data": {
      "application/vnd.jupyter.widget-view+json": {
       "model_id": "dea603c896574678855ef3104c291aba",
       "version_major": 2,
       "version_minor": 0
      },
      "text/plain": [
       "HBox(children=(IntProgress(value=0, max=10), HTML(value='')))"
      ]
     },
     "metadata": {},
     "output_type": "display_data"
    },
    {
     "name": "stdout",
     "output_type": "stream",
     "text": [
      "\n",
      "Doing now following eopatches: ['3306_maxcc_0.05_x-6_y-130', '3307_maxcc_0.05_x-6_y-131', '3308_maxcc_0.05_x-6_y-132', '3309_maxcc_0.05_x-6_y-133', '3310_maxcc_0.05_x-6_y-134', '3311_maxcc_0.05_x-6_y-135', '3312_maxcc_0.05_x-6_y-136', '3313_maxcc_0.05_x-6_y-137', '3314_maxcc_0.05_x-6_y-138', '3315_maxcc_0.05_x-6_y-139', '3316_maxcc_0.05_x-6_y-140']\n"
     ]
    },
    {
     "data": {
      "application/vnd.jupyter.widget-view+json": {
       "model_id": "bebacfdfb4c948eca5365bd8c948f8eb",
       "version_major": 2,
       "version_minor": 0
      },
      "text/plain": [
       "HBox(children=(IntProgress(value=0, max=11), HTML(value='')))"
      ]
     },
     "metadata": {},
     "output_type": "display_data"
    },
    {
     "name": "stdout",
     "output_type": "stream",
     "text": [
      "\n",
      "Doing now following eopatches: ['3469_maxcc_0.05_x-7_y-130', '3470_maxcc_0.05_x-7_y-131', '3471_maxcc_0.05_x-7_y-132', '3472_maxcc_0.05_x-7_y-133', '3473_maxcc_0.05_x-7_y-134', '3474_maxcc_0.05_x-7_y-135', '3475_maxcc_0.05_x-7_y-136', '3476_maxcc_0.05_x-7_y-137', '3477_maxcc_0.05_x-7_y-138', '3478_maxcc_0.05_x-7_y-139', '3479_maxcc_0.05_x-7_y-140']\n"
     ]
    },
    {
     "data": {
      "application/vnd.jupyter.widget-view+json": {
       "model_id": "3a081301c99c4f6e89c67cdf2ac97bdb",
       "version_major": 2,
       "version_minor": 0
      },
      "text/plain": [
       "HBox(children=(IntProgress(value=0, max=11), HTML(value='')))"
      ]
     },
     "metadata": {},
     "output_type": "display_data"
    },
    {
     "name": "stdout",
     "output_type": "stream",
     "text": [
      "\n",
      "Processing EOPatches from: ('2016-05-01', '2016-10-31')\n",
      "Reading EOPatches from: ../../data/EOPatches/LANDSAT_8/UPE_PROMICE/UTM_22N/2016_05-2016_10/\n",
      "Doing now following eopatches: ['2969_maxcc_0.05_x-3_y-130', '2970_maxcc_0.05_x-3_y-131', '2971_maxcc_0.05_x-3_y-132', '2972_maxcc_0.05_x-3_y-133', '2973_maxcc_0.05_x-3_y-134', '2974_maxcc_0.05_x-3_y-135', '2975_maxcc_0.05_x-3_y-136', '2976_maxcc_0.05_x-3_y-137', '2977_maxcc_0.05_x-3_y-138', '2978_maxcc_0.05_x-3_y-139', '2979_maxcc_0.05_x-3_y-140']\n"
     ]
    },
    {
     "data": {
      "application/vnd.jupyter.widget-view+json": {
       "model_id": "6f0ef066a03745a59d0b84cdfa353247",
       "version_major": 2,
       "version_minor": 0
      },
      "text/plain": [
       "HBox(children=(IntProgress(value=0, max=9), HTML(value='')))"
      ]
     },
     "metadata": {},
     "output_type": "display_data"
    },
    {
     "name": "stdout",
     "output_type": "stream",
     "text": [
      "\n",
      "Doing now following eopatches: ['3059_maxcc_0.05_x-4_y-130', '3060_maxcc_0.05_x-4_y-131', '3061_maxcc_0.05_x-4_y-132', '3062_maxcc_0.05_x-4_y-133', '3063_maxcc_0.05_x-4_y-134', '3064_maxcc_0.05_x-4_y-135', '3065_maxcc_0.05_x-4_y-136', '3066_maxcc_0.05_x-4_y-137', '3067_maxcc_0.05_x-4_y-138', '3068_maxcc_0.05_x-4_y-139', '3069_maxcc_0.05_x-4_y-140']\n"
     ]
    },
    {
     "data": {
      "application/vnd.jupyter.widget-view+json": {
       "model_id": "8d0a4d5b285f4cf1a4387129e76c2547",
       "version_major": 2,
       "version_minor": 0
      },
      "text/plain": [
       "HBox(children=(IntProgress(value=0, max=9), HTML(value='')))"
      ]
     },
     "metadata": {},
     "output_type": "display_data"
    },
    {
     "name": "stdout",
     "output_type": "stream",
     "text": [
      "\n",
      "Doing now following eopatches: ['3172_maxcc_0.05_x-5_y-130', '3173_maxcc_0.05_x-5_y-131', '3174_maxcc_0.05_x-5_y-132', '3175_maxcc_0.05_x-5_y-133', '3176_maxcc_0.05_x-5_y-134', '3177_maxcc_0.05_x-5_y-135', '3178_maxcc_0.05_x-5_y-136', '3179_maxcc_0.05_x-5_y-137', '3180_maxcc_0.05_x-5_y-138', '3181_maxcc_0.05_x-5_y-139', '3182_maxcc_0.05_x-5_y-140']\n"
     ]
    },
    {
     "data": {
      "application/vnd.jupyter.widget-view+json": {
       "model_id": "88fdf4edc0134171883ea0f8414c63c0",
       "version_major": 2,
       "version_minor": 0
      },
      "text/plain": [
       "HBox(children=(IntProgress(value=0, max=10), HTML(value='')))"
      ]
     },
     "metadata": {},
     "output_type": "display_data"
    },
    {
     "name": "stdout",
     "output_type": "stream",
     "text": [
      "\n",
      "Doing now following eopatches: ['3306_maxcc_0.05_x-6_y-130', '3307_maxcc_0.05_x-6_y-131', '3308_maxcc_0.05_x-6_y-132', '3309_maxcc_0.05_x-6_y-133', '3310_maxcc_0.05_x-6_y-134', '3311_maxcc_0.05_x-6_y-135', '3312_maxcc_0.05_x-6_y-136', '3313_maxcc_0.05_x-6_y-137', '3314_maxcc_0.05_x-6_y-138', '3315_maxcc_0.05_x-6_y-139', '3316_maxcc_0.05_x-6_y-140']\n"
     ]
    },
    {
     "data": {
      "application/vnd.jupyter.widget-view+json": {
       "model_id": "91db5481f5624a9880ce995775412a28",
       "version_major": 2,
       "version_minor": 0
      },
      "text/plain": [
       "HBox(children=(IntProgress(value=0, max=11), HTML(value='')))"
      ]
     },
     "metadata": {},
     "output_type": "display_data"
    },
    {
     "name": "stdout",
     "output_type": "stream",
     "text": [
      "\n",
      "Doing now following eopatches: ['3469_maxcc_0.05_x-7_y-130', '3470_maxcc_0.05_x-7_y-131', '3471_maxcc_0.05_x-7_y-132', '3472_maxcc_0.05_x-7_y-133', '3473_maxcc_0.05_x-7_y-134', '3474_maxcc_0.05_x-7_y-135', '3475_maxcc_0.05_x-7_y-136', '3476_maxcc_0.05_x-7_y-137', '3477_maxcc_0.05_x-7_y-138', '3478_maxcc_0.05_x-7_y-139', '3479_maxcc_0.05_x-7_y-140']\n"
     ]
    },
    {
     "data": {
      "application/vnd.jupyter.widget-view+json": {
       "model_id": "f1329c78579c4d76b046cd28e7d794e3",
       "version_major": 2,
       "version_minor": 0
      },
      "text/plain": [
       "HBox(children=(IntProgress(value=0, max=11), HTML(value='')))"
      ]
     },
     "metadata": {},
     "output_type": "display_data"
    },
    {
     "name": "stdout",
     "output_type": "stream",
     "text": [
      "\n",
      "Processing EOPatches from: ('2017-05-01', '2017-10-31')\n",
      "Reading EOPatches from: ../../data/EOPatches/LANDSAT_8/UPE_PROMICE/UTM_22N/2017_05-2017_10/\n",
      "Doing now following eopatches: ['2969_maxcc_0.05_x-3_y-130', '2970_maxcc_0.05_x-3_y-131', '2971_maxcc_0.05_x-3_y-132', '2972_maxcc_0.05_x-3_y-133', '2973_maxcc_0.05_x-3_y-134', '2974_maxcc_0.05_x-3_y-135', '2975_maxcc_0.05_x-3_y-136', '2976_maxcc_0.05_x-3_y-137', '2977_maxcc_0.05_x-3_y-138', '2978_maxcc_0.05_x-3_y-139', '2979_maxcc_0.05_x-3_y-140']\n"
     ]
    },
    {
     "data": {
      "application/vnd.jupyter.widget-view+json": {
       "model_id": "a8fa163f2d3f43ce92d3f218ade11919",
       "version_major": 2,
       "version_minor": 0
      },
      "text/plain": [
       "HBox(children=(IntProgress(value=0, max=9), HTML(value='')))"
      ]
     },
     "metadata": {},
     "output_type": "display_data"
    },
    {
     "name": "stdout",
     "output_type": "stream",
     "text": [
      "\n",
      "Doing now following eopatches: ['3059_maxcc_0.05_x-4_y-130', '3060_maxcc_0.05_x-4_y-131', '3061_maxcc_0.05_x-4_y-132', '3062_maxcc_0.05_x-4_y-133', '3063_maxcc_0.05_x-4_y-134', '3064_maxcc_0.05_x-4_y-135', '3065_maxcc_0.05_x-4_y-136', '3066_maxcc_0.05_x-4_y-137', '3067_maxcc_0.05_x-4_y-138', '3068_maxcc_0.05_x-4_y-139', '3069_maxcc_0.05_x-4_y-140']\n"
     ]
    },
    {
     "data": {
      "application/vnd.jupyter.widget-view+json": {
       "model_id": "4287f185d28f4c879e3cb4fc8b9ef8da",
       "version_major": 2,
       "version_minor": 0
      },
      "text/plain": [
       "HBox(children=(IntProgress(value=0, max=9), HTML(value='')))"
      ]
     },
     "metadata": {},
     "output_type": "display_data"
    },
    {
     "name": "stdout",
     "output_type": "stream",
     "text": [
      "\n",
      "Doing now following eopatches: ['3172_maxcc_0.05_x-5_y-130', '3173_maxcc_0.05_x-5_y-131', '3174_maxcc_0.05_x-5_y-132', '3175_maxcc_0.05_x-5_y-133', '3176_maxcc_0.05_x-5_y-134', '3177_maxcc_0.05_x-5_y-135', '3178_maxcc_0.05_x-5_y-136', '3179_maxcc_0.05_x-5_y-137', '3180_maxcc_0.05_x-5_y-138', '3181_maxcc_0.05_x-5_y-139', '3182_maxcc_0.05_x-5_y-140']\n"
     ]
    },
    {
     "data": {
      "application/vnd.jupyter.widget-view+json": {
       "model_id": "c3e42f44dec44633b3e495caee89bf6c",
       "version_major": 2,
       "version_minor": 0
      },
      "text/plain": [
       "HBox(children=(IntProgress(value=0, max=10), HTML(value='')))"
      ]
     },
     "metadata": {},
     "output_type": "display_data"
    },
    {
     "name": "stdout",
     "output_type": "stream",
     "text": [
      "\n",
      "Doing now following eopatches: ['3306_maxcc_0.05_x-6_y-130', '3307_maxcc_0.05_x-6_y-131', '3308_maxcc_0.05_x-6_y-132', '3309_maxcc_0.05_x-6_y-133', '3310_maxcc_0.05_x-6_y-134', '3311_maxcc_0.05_x-6_y-135', '3312_maxcc_0.05_x-6_y-136', '3313_maxcc_0.05_x-6_y-137', '3314_maxcc_0.05_x-6_y-138', '3315_maxcc_0.05_x-6_y-139', '3316_maxcc_0.05_x-6_y-140']\n"
     ]
    },
    {
     "data": {
      "application/vnd.jupyter.widget-view+json": {
       "model_id": "456dd71142544ce38ef5cd53460f2de3",
       "version_major": 2,
       "version_minor": 0
      },
      "text/plain": [
       "HBox(children=(IntProgress(value=0, max=11), HTML(value='')))"
      ]
     },
     "metadata": {},
     "output_type": "display_data"
    },
    {
     "name": "stdout",
     "output_type": "stream",
     "text": [
      "\n",
      "Doing now following eopatches: ['3469_maxcc_0.05_x-7_y-130', '3470_maxcc_0.05_x-7_y-131', '3471_maxcc_0.05_x-7_y-132', '3472_maxcc_0.05_x-7_y-133', '3473_maxcc_0.05_x-7_y-134', '3474_maxcc_0.05_x-7_y-135', '3475_maxcc_0.05_x-7_y-136', '3476_maxcc_0.05_x-7_y-137', '3477_maxcc_0.05_x-7_y-138', '3478_maxcc_0.05_x-7_y-139', '3479_maxcc_0.05_x-7_y-140']\n"
     ]
    },
    {
     "data": {
      "application/vnd.jupyter.widget-view+json": {
       "model_id": "0a89d3aff6454ee0b7570ce1fe3b4076",
       "version_major": 2,
       "version_minor": 0
      },
      "text/plain": [
       "HBox(children=(IntProgress(value=0, max=11), HTML(value='')))"
      ]
     },
     "metadata": {},
     "output_type": "display_data"
    },
    {
     "name": "stdout",
     "output_type": "stream",
     "text": [
      "\n",
      "Processing EOPatches from: ('2018-05-01', '2018-10-31')\n",
      "Reading EOPatches from: ../../data/EOPatches/LANDSAT_8/UPE_PROMICE/UTM_22N/2018_05-2018_10/\n",
      "Doing now following eopatches: ['2969_maxcc_0.05_x-3_y-130', '2970_maxcc_0.05_x-3_y-131', '2971_maxcc_0.05_x-3_y-132', '2972_maxcc_0.05_x-3_y-133', '2973_maxcc_0.05_x-3_y-134', '2974_maxcc_0.05_x-3_y-135', '2975_maxcc_0.05_x-3_y-136', '2976_maxcc_0.05_x-3_y-137', '2977_maxcc_0.05_x-3_y-138', '2978_maxcc_0.05_x-3_y-139', '2979_maxcc_0.05_x-3_y-140']\n"
     ]
    },
    {
     "data": {
      "application/vnd.jupyter.widget-view+json": {
       "model_id": "bb5d121542ef41a3bbf4053732ff5bde",
       "version_major": 2,
       "version_minor": 0
      },
      "text/plain": [
       "HBox(children=(IntProgress(value=0, max=9), HTML(value='')))"
      ]
     },
     "metadata": {},
     "output_type": "display_data"
    },
    {
     "name": "stdout",
     "output_type": "stream",
     "text": [
      "\n",
      "Doing now following eopatches: ['3059_maxcc_0.05_x-4_y-130', '3060_maxcc_0.05_x-4_y-131', '3061_maxcc_0.05_x-4_y-132', '3062_maxcc_0.05_x-4_y-133', '3063_maxcc_0.05_x-4_y-134', '3064_maxcc_0.05_x-4_y-135', '3065_maxcc_0.05_x-4_y-136', '3066_maxcc_0.05_x-4_y-137', '3067_maxcc_0.05_x-4_y-138', '3068_maxcc_0.05_x-4_y-139', '3069_maxcc_0.05_x-4_y-140']\n"
     ]
    },
    {
     "data": {
      "application/vnd.jupyter.widget-view+json": {
       "model_id": "9ecee1bd832946b8bca5c22d9c2cbbd2",
       "version_major": 2,
       "version_minor": 0
      },
      "text/plain": [
       "HBox(children=(IntProgress(value=0, max=9), HTML(value='')))"
      ]
     },
     "metadata": {},
     "output_type": "display_data"
    },
    {
     "name": "stdout",
     "output_type": "stream",
     "text": [
      "\n",
      "Doing now following eopatches: ['3172_maxcc_0.05_x-5_y-130', '3173_maxcc_0.05_x-5_y-131', '3174_maxcc_0.05_x-5_y-132', '3175_maxcc_0.05_x-5_y-133', '3176_maxcc_0.05_x-5_y-134', '3177_maxcc_0.05_x-5_y-135', '3178_maxcc_0.05_x-5_y-136', '3179_maxcc_0.05_x-5_y-137', '3180_maxcc_0.05_x-5_y-138', '3181_maxcc_0.05_x-5_y-139', '3182_maxcc_0.05_x-5_y-140']\n"
     ]
    },
    {
     "data": {
      "application/vnd.jupyter.widget-view+json": {
       "model_id": "0493bbabacaa4a7ebc90075dded55620",
       "version_major": 2,
       "version_minor": 0
      },
      "text/plain": [
       "HBox(children=(IntProgress(value=0, max=10), HTML(value='')))"
      ]
     },
     "metadata": {},
     "output_type": "display_data"
    },
    {
     "name": "stdout",
     "output_type": "stream",
     "text": [
      "\n",
      "Doing now following eopatches: ['3306_maxcc_0.05_x-6_y-130', '3307_maxcc_0.05_x-6_y-131', '3308_maxcc_0.05_x-6_y-132', '3309_maxcc_0.05_x-6_y-133', '3310_maxcc_0.05_x-6_y-134', '3311_maxcc_0.05_x-6_y-135', '3312_maxcc_0.05_x-6_y-136', '3313_maxcc_0.05_x-6_y-137', '3314_maxcc_0.05_x-6_y-138', '3315_maxcc_0.05_x-6_y-139', '3316_maxcc_0.05_x-6_y-140']\n"
     ]
    },
    {
     "data": {
      "application/vnd.jupyter.widget-view+json": {
       "model_id": "43441e8f89b94159889fe00e20e1c7d6",
       "version_major": 2,
       "version_minor": 0
      },
      "text/plain": [
       "HBox(children=(IntProgress(value=0, max=11), HTML(value='')))"
      ]
     },
     "metadata": {},
     "output_type": "display_data"
    },
    {
     "name": "stdout",
     "output_type": "stream",
     "text": [
      "\n",
      "Doing now following eopatches: ['3469_maxcc_0.05_x-7_y-130', '3470_maxcc_0.05_x-7_y-131', '3471_maxcc_0.05_x-7_y-132', '3472_maxcc_0.05_x-7_y-133', '3473_maxcc_0.05_x-7_y-134', '3474_maxcc_0.05_x-7_y-135', '3475_maxcc_0.05_x-7_y-136', '3476_maxcc_0.05_x-7_y-137', '3477_maxcc_0.05_x-7_y-138', '3478_maxcc_0.05_x-7_y-139', '3479_maxcc_0.05_x-7_y-140']\n"
     ]
    },
    {
     "data": {
      "application/vnd.jupyter.widget-view+json": {
       "model_id": "f37427c9436d4076a5e60ce6a56173f1",
       "version_major": 2,
       "version_minor": 0
      },
      "text/plain": [
       "HBox(children=(IntProgress(value=0, max=11), HTML(value='')))"
      ]
     },
     "metadata": {},
     "output_type": "display_data"
    },
    {
     "name": "stdout",
     "output_type": "stream",
     "text": [
      "\n",
      "Processing EOPatches from: ('2019-05-01', '2019-10-31')\n",
      "Reading EOPatches from: ../../data/EOPatches/LANDSAT_8/UPE_PROMICE/UTM_22N/2019_05-2019_10/\n",
      "Doing now following eopatches: ['2969_maxcc_0.05_x-3_y-130', '2970_maxcc_0.05_x-3_y-131', '2971_maxcc_0.05_x-3_y-132', '2972_maxcc_0.05_x-3_y-133', '2973_maxcc_0.05_x-3_y-134', '2974_maxcc_0.05_x-3_y-135', '2975_maxcc_0.05_x-3_y-136', '2976_maxcc_0.05_x-3_y-137', '2977_maxcc_0.05_x-3_y-138', '2978_maxcc_0.05_x-3_y-139', '2979_maxcc_0.05_x-3_y-140']\n"
     ]
    },
    {
     "data": {
      "application/vnd.jupyter.widget-view+json": {
       "model_id": "a73ed74f449b4f949f4e01ae582b7b1b",
       "version_major": 2,
       "version_minor": 0
      },
      "text/plain": [
       "HBox(children=(IntProgress(value=0, max=9), HTML(value='')))"
      ]
     },
     "metadata": {},
     "output_type": "display_data"
    },
    {
     "name": "stdout",
     "output_type": "stream",
     "text": [
      "\n",
      "Doing now following eopatches: ['3059_maxcc_0.05_x-4_y-130', '3060_maxcc_0.05_x-4_y-131', '3061_maxcc_0.05_x-4_y-132', '3062_maxcc_0.05_x-4_y-133', '3063_maxcc_0.05_x-4_y-134', '3064_maxcc_0.05_x-4_y-135', '3065_maxcc_0.05_x-4_y-136', '3066_maxcc_0.05_x-4_y-137', '3067_maxcc_0.05_x-4_y-138', '3068_maxcc_0.05_x-4_y-139', '3069_maxcc_0.05_x-4_y-140']\n"
     ]
    },
    {
     "data": {
      "application/vnd.jupyter.widget-view+json": {
       "model_id": "6e505ee588c54ff09e001eee05f1bf4d",
       "version_major": 2,
       "version_minor": 0
      },
      "text/plain": [
       "HBox(children=(IntProgress(value=0, max=9), HTML(value='')))"
      ]
     },
     "metadata": {},
     "output_type": "display_data"
    },
    {
     "name": "stdout",
     "output_type": "stream",
     "text": [
      "\n",
      "Doing now following eopatches: ['3172_maxcc_0.05_x-5_y-130', '3173_maxcc_0.05_x-5_y-131', '3174_maxcc_0.05_x-5_y-132', '3175_maxcc_0.05_x-5_y-133', '3176_maxcc_0.05_x-5_y-134', '3177_maxcc_0.05_x-5_y-135', '3178_maxcc_0.05_x-5_y-136', '3179_maxcc_0.05_x-5_y-137', '3180_maxcc_0.05_x-5_y-138', '3181_maxcc_0.05_x-5_y-139', '3182_maxcc_0.05_x-5_y-140']\n"
     ]
    },
    {
     "data": {
      "application/vnd.jupyter.widget-view+json": {
       "model_id": "064bbef0d60e44ebae7d25514656fb69",
       "version_major": 2,
       "version_minor": 0
      },
      "text/plain": [
       "HBox(children=(IntProgress(value=0, max=10), HTML(value='')))"
      ]
     },
     "metadata": {},
     "output_type": "display_data"
    },
    {
     "name": "stdout",
     "output_type": "stream",
     "text": [
      "\n",
      "Doing now following eopatches: ['3306_maxcc_0.05_x-6_y-130', '3307_maxcc_0.05_x-6_y-131', '3308_maxcc_0.05_x-6_y-132', '3309_maxcc_0.05_x-6_y-133', '3310_maxcc_0.05_x-6_y-134', '3311_maxcc_0.05_x-6_y-135', '3312_maxcc_0.05_x-6_y-136', '3313_maxcc_0.05_x-6_y-137', '3314_maxcc_0.05_x-6_y-138', '3315_maxcc_0.05_x-6_y-139', '3316_maxcc_0.05_x-6_y-140']\n"
     ]
    },
    {
     "data": {
      "application/vnd.jupyter.widget-view+json": {
       "model_id": "b23aedd93eb2457a8115567e1bc46a73",
       "version_major": 2,
       "version_minor": 0
      },
      "text/plain": [
       "HBox(children=(IntProgress(value=0, max=11), HTML(value='')))"
      ]
     },
     "metadata": {},
     "output_type": "display_data"
    },
    {
     "name": "stdout",
     "output_type": "stream",
     "text": [
      "\n",
      "Doing now following eopatches: ['3469_maxcc_0.05_x-7_y-130', '3470_maxcc_0.05_x-7_y-131', '3471_maxcc_0.05_x-7_y-132', '3472_maxcc_0.05_x-7_y-133', '3473_maxcc_0.05_x-7_y-134', '3474_maxcc_0.05_x-7_y-135', '3475_maxcc_0.05_x-7_y-136', '3476_maxcc_0.05_x-7_y-137', '3477_maxcc_0.05_x-7_y-138', '3478_maxcc_0.05_x-7_y-139', '3479_maxcc_0.05_x-7_y-140']\n"
     ]
    },
    {
     "data": {
      "application/vnd.jupyter.widget-view+json": {
       "model_id": "fb6b5e80428940fb9d07674604a1fb52",
       "version_major": 2,
       "version_minor": 0
      },
      "text/plain": [
       "HBox(children=(IntProgress(value=0, max=11), HTML(value='')))"
      ]
     },
     "metadata": {},
     "output_type": "display_data"
    },
    {
     "name": "stdout",
     "output_type": "stream",
     "text": [
      "\n",
      "Wall time: 29min 2s\n"
     ]
    }
   ],
   "source": [
    "%%time\n",
    "\n",
    "for date_range in site.DATE_RANGES_LANDSAT_8:\n",
    "    print('Processing EOPatches from:', date_range )\n",
    "    eopatches_filepath = io_utils.get_eopatches_dir(site.DATA_PRODUCTS[1], site.SITE_NAME, site.AVAILABLE_CRSs[0], date_range)\n",
    "    print('Reading EOPatches from:', eopatches_filepath )\n",
    "    # TASK TO LOAD AND SAVE EXISTING EOPATCHES HAS TO BE CREATED YEARLY (different directories)\n",
    "    load_eotask = LoadTask(eopatches_filepath)\n",
    "    \n",
    "    path_out_sampled = eopatches_filepath[:-1]+ dataset_file_name\n",
    "    if not os.path.isdir(path_out_sampled):\n",
    "        os.makedirs(path_out_sampled)\n",
    "    save_eotask = SaveTask(path_out_sampled, overwrite_permission=OverwritePermission.OVERWRITE_PATCH, compress_level=1)\n",
    "    \n",
    "    #save_eotask = SaveTask(eopatches_filepath, overwrite_permission=OverwritePermission.OVERWRITE_PATCH, compress_level=1)\n",
    "    \n",
    "    \n",
    "    # Define the workflow\n",
    "    workflow = LinearWorkflow(\n",
    "    load_eotask,\n",
    "    filter_ultimate_mask_eotask,\n",
    "    filter_by_minimum_water_count_eotask,\n",
    "    spatial_sampling_eotask,\n",
    "    save_eotask\n",
    "    )\n",
    "    \n",
    "    list_of_available_patches = io_utils.get_list_of_eopatches(eopatches_filepath)\n",
    "    list_in_chunks = io_utils.chunkIt(list_of_available_patches, 5 )\n",
    "    for chunk in list_in_chunks:\n",
    "        print('Doing now following eopatches:', chunk )\n",
    "        execution_args = []\n",
    "        for eopatch_name in chunk:\n",
    "            eo_patch_test = EOPatch.load(eopatches_filepath+eopatch_name)\n",
    "            \n",
    "            # eo_patch based filter to get rif of eopatches with high variance in digital elevation model\n",
    "            # first we would have to calculation hillshade to exlcude the shades from te pictures\n",
    "            # threshold 125 was selected based on the distribution of std\n",
    "            if eo_patch_test.meta_info['DEM_RAW_STD'] > dem_std_threshold:\n",
    "                continue\n",
    "                \n",
    "            execution_args.append({\n",
    "            load_eotask: {'eopatch_folder': eopatch_name},\n",
    "            save_eotask: {'eopatch_folder': eopatch_name}\n",
    "            })\n",
    "                                       \n",
    "        executor = EOExecutor(workflow, execution_args, save_logs=True)\n",
    "        executor.run(workers=None, multiprocess=False)\n",
    "\n",
    "        executor.make_report()"
   ]
  },
  {
   "cell_type": "markdown",
   "metadata": {},
   "source": [
    "#### 4. Inspect data\n",
    "load eopatch and check how does it look like"
   ]
  },
  {
   "cell_type": "code",
   "execution_count": 92,
   "metadata": {},
   "outputs": [
    {
     "name": "stdout",
     "output_type": "stream",
     "text": [
      "../../data/EOPatches/LANDSAT_8/UPE_PROMICE/UTM_22N/2019_05-2019_10_sptl_smpl_20000_pr_patch_blanced_0_1_min_wat_25/\n"
     ]
    },
    {
     "data": {
      "text/plain": [
       "EOPatch(\n",
       "  data: {\n",
       "    DATASET_CLD_200_dil_6_str2_SAMPLED: numpy.ndarray(shape=(1, 20000, 1, 11), dtype=float32)\n",
       "  }\n",
       "  mask: {\n",
       "    WATER_MASK_ST_025_SAMPLED: numpy.ndarray(shape=(1, 20000, 1, 1), dtype=bool)\n",
       "  }\n",
       "  scalar: {}\n",
       "  label: {}\n",
       "  vector: {}\n",
       "  data_timeless: {}\n",
       "  mask_timeless: {}\n",
       "  scalar_timeless: {}\n",
       "  label_timeless: {}\n",
       "  vector_timeless: {}\n",
       "  meta_info: {\n",
       "    DEM_RAW_AVG: 1668.2764\n",
       "    DEM_RAW_MAX: 1792.0\n",
       "    DEM_RAW_MED: 1670.0\n",
       "    DEM_RAW_MIN: 1461.0\n",
       "    DEM_RAW_STD: 74.915634\n",
       "    DEM_RAW_VAR: 5612.3525\n",
       "    index_x: 7\n",
       "    index_y: 130\n",
       "    maxcc: '0.05'\n",
       "    patch_index: 3469\n",
       "    service_type: 'wcs'\n",
       "    site_name: 'UPE_PROMICE'\n",
       "    size_x: '30m'\n",
       "    size_y: '30m'\n",
       "    time_difference: datetime.timedelta(seconds=7200)\n",
       "    time_interval: ('2019-05-01', '2019-10-31')\n",
       "  }\n",
       "  bbox: BBox(((440000.0, 8030000.0), (450000.0, 8040000.0)), crs=EPSG:32622)\n",
       "  timestamp: [datetime.datetime(2019, 8, 3, 15, 42, 44)]\n",
       ")"
      ]
     },
     "execution_count": 92,
     "metadata": {},
     "output_type": "execute_result"
    }
   ],
   "source": [
    "file_patch = path_out_sampled\n",
    "print(file_patch)\n",
    "\n",
    "exemplary_landsat_1 = EOPatch.load(file_patch+'3469_maxcc_0.05_x-7_y-130')\n",
    "exemplary_landsat_1"
   ]
  },
  {
   "cell_type": "code",
   "execution_count": 93,
   "metadata": {},
   "outputs": [
    {
     "name": "stdout",
     "output_type": "stream",
     "text": [
      "../../data/EOPatches/LANDSAT_8/UPE_PROMICE/UTM_22N/2019_05-2019_10_sptl_smpl_20000_pr_patch_blanced_0_1_min_wat_25/\n"
     ]
    }
   ],
   "source": [
    "print(path_out_sampled )"
   ]
  }
 ],
 "metadata": {
  "kernelspec": {
   "display_name": "Python 3",
   "language": "python",
   "name": "python3"
  },
  "language_info": {
   "codemirror_mode": {
    "name": "ipython",
    "version": 3
   },
   "file_extension": ".py",
   "mimetype": "text/x-python",
   "name": "python",
   "nbconvert_exporter": "python",
   "pygments_lexer": "ipython3",
   "version": "3.7.3"
  }
 },
 "nbformat": 4,
 "nbformat_minor": 2
}
